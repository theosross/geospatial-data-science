{
 "cells": [
  {
   "cell_type": "markdown",
   "id": "adfba093",
   "metadata": {},
   "source": [
    "## Lab 6: Getting started on final projects\n",
    "\n",
    "**Objectives:**\n",
    "   * Form teams and decide team leader\n",
    "   * Create a new GitHub repository\n",
    "   * Prepare basic outline of project\n"
   ]
  },
  {
   "cell_type": "markdown",
   "id": "819cf18e",
   "metadata": {},
   "source": [
    "### Team leader: make a new Github repository\n",
    "\n",
    "If you’re working in a group, pick a **project lead** to initiate and manage the repo. \n",
    "\n",
    "\n",
    "* Go to: https://github.com/\n",
    "\n",
    "\n",
    "\n",
    "* Click the big green **New** button and follow instructions on the left side of page. Come up with a clever, descriptive repo name - try to avoid names like \"finalproject\", which won't make it very searchable. \n",
    "\n",
    "\n",
    "\n",
    "* Set the access to **Public** (so other students can follow progress).\n",
    "\n",
    "\n",
    "\n",
    "* Select to include a `README.md` and include a `.gitignore` file with a `Python` template.\n",
    "\n",
    "\n",
    "Don’t stress too much about the specifics of the repo - these are not permanent, and you can always change repo names, or start over entirely (just copy and add existing files as a first commit). One of the goals here is to gain more experience using `git` for collaborative work and, early on, you're inevitably going to make some mistakes."
   ]
  },
  {
   "cell_type": "markdown",
   "id": "24a3571c",
   "metadata": {},
   "source": [
    "### Team leader: add other team members to repository\n",
    "\n",
    "The team leader now needs to add the others as collaborators and make sure they have permission to access and commit. \n",
    "\n",
    "* Click **Settings** --> **Collaborators** from menu on the left\n",
    "\n",
    "\n",
    "* Click the big green **Add people** button and add the other team members using their **GitHub usernames**"
   ]
  },
  {
   "cell_type": "markdown",
   "id": "3859c435",
   "metadata": {},
   "source": [
    "### Clone repository locally\n",
    "\n",
    "We will now clone our new repository, just like we did with the course page at the start of the quarter. Command line users should open a terminal, navigate to a folder where they keep their work, and run:\n",
    "\n",
    "`git clone https://github.com/<your-username>/<project-repo-name>`\n",
    "    \n",
    "Where ```<your_username>``` is your GitHub username and ```<project-repo-name>``` is the name of your new repo. \n",
    "\n",
    "In GitHub Desktop, click **Clone a repository from the Internet**, enter `https://github.com/<your-username>/<project-repo-name>` as the **URL**, choose a **local path** where you keep your coursework (e.g. `C:\\Users\\your_name\\Documents`) and click **Clone**."
   ]
  },
  {
   "cell_type": "markdown",
   "id": "aa6db1d5",
   "metadata": {},
   "source": [
    "###  Some tips for collaborating on group project\n",
    "\n",
    "The best practice is to **avoid** situations where two people are independently **working on the same script**. When trying to push/pull changes to/from same origin branch, there will inevitably be **merge conflicts** that can be messy to untangle.\n",
    "\n",
    "Collaboration can be a bit more complicated with Jupyter notebooks since running cells in the notebook will change execution count and output, even if the code and content appear identical. We recommend writing scripts in `Spyder`. \n",
    "\n",
    "General recommendation - **split up** the project into multiple **smaller scipts**, and have each person work on different components. For example, you could have one script that ingests files, reduces/manipulates the data (e.g., reprojection), then writes new files out to disk in \"analysis-ready\" format. Then a second notebook reads in those data and does some analysis, creates some plots, etc. If you can pass things back and forth between group members like this, you'll avoid conflicts.\n",
    "\n",
    "Alternatively, each team member can create separate notebooks with different filenames that both live in the shared repo. When another team member does some work and commits their notebook to the shared repo, you can can **pull changes**, open their notebook, select relevant cells, copy and paste into your notebook. One simple option with this model is for each group member to create and maintain a subdirectory within the repo where they will stage and modify their own notebooks for their component of the project.\n",
    "\n",
    "If you feel comfortable with git/github, you can also use a more standard git branching workflow (e.g. https://icesat-2hackweek.github.io/learning-resources/projects/example_workflow/. "
   ]
  },
  {
   "cell_type": "markdown",
   "id": "5f9d5a71",
   "metadata": {},
   "source": [
    "### Prepare a README\n",
    "\n",
    "The `README.md` file in your new repo will serve as the landing page for your project. You can continue to update as your project evolves, but for now, please prepare a basic project outline. Review the [markdown cheat sheet](https://www.markdownguide.org/basic-syntax/) and use some basic headings, bulleted/numbered lists, and other formatting to organize your outline.\n",
    "\n",
    "Please include the following:\n",
    "\n",
    "* Project Title\n",
    "* Name(s) of individual or team members\n",
    "* Short 1-2 sentence summary\n",
    "* Problem statement, question(s) and/or objective(s)\n",
    "* Datasets you will use (with links, if available)\n",
    "* Tools/packages you’ll need\n",
    "* Planned methodology/approach\n",
    "* Expected outcomes\n",
    "* Any other relevant information, images/tables, references, etc.\n",
    "* References\n",
    "\n",
    "That may sound like a lot, but some of these items should only be 1-2 sentences, others can be short lists. Consider this the start of your final report."
   ]
  },
  {
   "cell_type": "markdown",
   "id": "3a0a560c",
   "metadata": {},
   "source": [
    "We would like to see at least one commit from each group member at this phase of the project, even if it is as simple as everyone using the Github interface to edit the `README.md` file and add their name. There are many approaches to collaborative group/team development using git/Github and no \"right\" way."
   ]
  },
  {
   "cell_type": "markdown",
   "id": "230acd24",
   "metadata": {},
   "source": [
    "### Create a new Slack channel for discussion:\n",
    "\n",
    "* Click **\"+\"** icon next to **Channels** list in the Slack sidebar -> **\"Create a channel\"**\n",
    "* Add your project name\n",
    "* Invite your team members Slack members"
   ]
  },
  {
   "cell_type": "code",
   "execution_count": null,
   "id": "262c54a3",
   "metadata": {},
   "outputs": [],
   "source": []
  }
 ],
 "metadata": {
  "kernelspec": {
   "display_name": "Python 3 (ipykernel)",
   "language": "python",
   "name": "python3"
  },
  "language_info": {
   "codemirror_mode": {
    "name": "ipython",
    "version": 3
   },
   "file_extension": ".py",
   "mimetype": "text/x-python",
   "name": "python",
   "nbconvert_exporter": "python",
   "pygments_lexer": "ipython3",
   "version": "3.8.12"
  }
 },
 "nbformat": 4,
 "nbformat_minor": 5
}
