{
 "cells": [
  {
   "cell_type": "markdown",
   "id": "adfba093",
   "metadata": {},
   "source": [
    "## Lab 6: Collaborating on GitHub\n",
    "\n",
    "**Objectives:**\n",
    "   * Form teams and designate a team leader\n",
    "   \n",
    "   \n",
    "   * Create a new GitHub repository for final project\n",
    "   \n",
    "   \n",
    "   * Choose a GitHub workflow that works for all team members\n",
    "  \n",
    "\n",
    "   * Prepare and submit an outline of your group's final project"
   ]
  },
  {
   "cell_type": "markdown",
   "id": "819cf18e",
   "metadata": {},
   "source": [
    "### Team leader: make a new Github repository\n",
    "\n",
    "If you’re working in a group, pick a **project lead** to initiate and manage the repo. \n",
    "\n",
    "\n",
    "* Go to: https://github.com/\n",
    "\n",
    "\n",
    "\n",
    "* Click the big green **New** button and follow instructions on the left side of page. Come up with a clever, descriptive repo name - try to avoid names like \"finalproject\", which won't make it very searchable. \n",
    "\n",
    "\n",
    "\n",
    "* Set the access to **Public** (so other students can follow progress).\n",
    "\n",
    "\n",
    "\n",
    "* Select to include a `README.md` and include a `.gitignore` file with a `Python` template.\n",
    "\n",
    "\n",
    "Don’t stress too much about the specifics of the repo - these are not permanent, and you can always change repo names, or start over entirely (just copy and add existing files as a first commit). One of the goals here is to gain more experience using `git` for collaborative work and, early on, you're inevitably going to make some mistakes."
   ]
  },
  {
   "cell_type": "markdown",
   "id": "24a3571c",
   "metadata": {},
   "source": [
    "### Team leader: add other team members to repository\n",
    "\n",
    "The team leader now needs to add the others as collaborators and make sure they have permission to access and commit. \n",
    "\n",
    "* Click **Settings** --> **Collaborators** from menu on the left\n",
    "\n",
    "\n",
    "* Click the big green **Add people** button and add the other team members using their **GitHub usernames**"
   ]
  },
  {
   "cell_type": "markdown",
   "id": "e5c3e664",
   "metadata": {},
   "source": [
    "### Everyone: clone repository\n",
    "\n",
    "All team members should now go to GitHub Desktop, click **File** --> **Clone repository...**, enter `https://github.com/<team-leader-username>/<project-repo-name>` as the **URL** where ```<team-leader-username>``` is the **team leader's** GitHub username and ```<project-repo-name>``` is the name of the new project repo. \n",
    "\n",
    "Choose a **Local path** where you keep your coursework (e.g. `C:\\Users\\your_name\\Documents`) and click **Clone**.\n",
    "\n",
    "Notice that in the top left that **Current repository** is now set to `project-repo-name`. Depending on if we're working on our projects or lab assignments, we'll need to switch between this and `geospatial-data-science`."
   ]
  },
  {
   "cell_type": "markdown",
   "id": "4baecb9b",
   "metadata": {},
   "source": [
    "------\n",
    "\n",
    "### Create a new Slack channel for discussion:\n",
    "\n",
    "* Click **\"+\"** icon next to **Channels** list in the Slack sidebar -> **\"Create a channel\"**\n",
    "* Add your project name\n",
    "* Invite your team members Slack members\n",
    "\n",
    "--------"
   ]
  },
  {
   "cell_type": "markdown",
   "id": "4bd29640",
   "metadata": {},
   "source": [
    "## Centralized workflow in GitHub Desktop\n",
    "\n",
    "* To contribute to the repo, **team members** should make a new file called `README_XX.md` where `XX` are the initials of the team member. \n",
    "\n",
    "\n",
    "* When the team member is finished with thir edits to `README_XX.md`, they can go to **GitHub Desktop**, include a **Summary** of the changes, **Commit to main** and then click **Push origin** button.\n",
    "\n",
    "\n",
    "* **Team leader** can then go to **GitHub Desktop**, click **Fetch origin** and **Pull origin** to retrieve the changes that the team members made to their local environment. \n",
    "\n",
    "\n",
    "* **Team leader** can then add useful text from `README_XX.md` to the main file (e.g. `README.md`). Once they are finished they can **delete** `README_XX.md`, go to **GitHub Desktop**, include a **Summary** of the changes, click **Commit to main** and then **Push origin** button.\n",
    "\n",
    "\n",
    "* **Team members** can then go to **GitHub Desktop**, click **Fetch origin** and **Pull origin** to retrieve the changes that the team leader made. Repeat the steps above to contribute to the project.\n",
    "\n"
   ]
  },
  {
   "cell_type": "markdown",
   "id": "18ef10b6",
   "metadata": {},
   "source": [
    "----------\n",
    "\n",
    "### Some tips for the centralized workflow\n",
    "\n",
    "* Only the team leader should edit the main files (e.g. `README.md`)\n",
    "\n",
    "\n",
    "* Team members should edit their own versions (e.g. `README_XX.md`)\n",
    "\n",
    "\n",
    "* **Fetch** and **pull** regularly to avoid conflicts\n",
    "\n",
    "\n",
    "---------"
   ]
  },
  {
   "cell_type": "markdown",
   "id": "f7524a20",
   "metadata": {},
   "source": [
    "## Feature branch workflow in GitHub Desktop\n",
    "\n",
    "If you feel comfortable with `GitHub`, you are welcome to use a more standard branching workflow.\n",
    "\n",
    "\n",
    "### Workflow \n",
    "\n",
    "* In GitHub Desktop, **all team members** should create a their own branch by clicking the drop-down menu called **Current branch**, typing a name for their branch (e.g. `xx_branch`), click the big blue **Create new branch** button and **Create branch**\n",
    "\n",
    "\n",
    "* All team members should publish `xx_branch` to main repo by clicking the big blue **Publish branch** button\n",
    "\n",
    "\n",
    "* All team members can make changes to `README.md`. Once they are finished, go back to **GitHub Desktop**, include a **Summary** of the changes, click **Commit to `xx_branch`** and then **Push origin** button.\n",
    "\n",
    "\n",
    "* In GitHub Desktop, click the big blue **Create Pull Request** button which should take you to GitHub.com where you can click **Create pull request**.\n",
    "\n",
    "\n",
    "* The **team leader** can then go to `https://github.com/<team-leader-username>/<project-repo-name>`, click **Pull requests** from the top menu, click on the open pull request. If there are no conflicts, the team leader can click **Merge pull request** and **Confirm merge**.\n",
    "\n",
    "\n",
    "* The `README.md` should now be updated on the `main` branch. \n",
    "\n",
    "\n",
    "* Once your changes have been incorpotated in the `main` branch it is good practice to clean up your repository by **deleting** the old branch (e.g. `xx_branch`).\n",
    " \n",
    "\n",
    "* Before starting new work, **all team members** should first click the **Fetch origin** button to check for new changes. \n",
    "\n",
    "\n",
    "* Repeat the steps above to contribute to the project."
   ]
  },
  {
   "cell_type": "markdown",
   "id": "e348344f",
   "metadata": {},
   "source": [
    "-------------\n",
    "\n",
    "### Some tips for the feature branch workflow\n",
    "\n",
    "\n",
    "* Remember to **stay** on your own branch\n",
    "\n",
    "\n",
    "* Remember to **fetch** changes before making a new branch and starting work\n",
    "\n",
    "\n",
    "* If the changes in your branch conflict with another team member's branch, you can still **Create a pull request**. The **team leader** should click **Resolve conflicts**, decide what to keep and what discard and click **Mark as resolved** and **Commit merge**. The team leader can then click **Merge pull request** and **Confirm merge**\n",
    "\n",
    "--------"
   ]
  },
  {
   "cell_type": "markdown",
   "id": "8144b0f9",
   "metadata": {},
   "source": [
    "## Feature branch workflow in command line\n",
    "\n",
    "It seems like most people in the class are using GitHub Desktop. But if your team would like to use the command line, the steps are basically the same. There are some useful instructions here: https://icesat-2hackweek.github.io/learning-resources/projects/example_workflow/ and https://blog.scottlowe.org/2015/01/27/using-fork-branch-git-workflow/. The instructor and TA would also be happy to help get a workflow started. "
   ]
  },
  {
   "cell_type": "markdown",
   "id": "790bc64b",
   "metadata": {},
   "source": [
    "###  Some tips for collaborating on group project\n",
    "\n",
    "Best practice for collaborating on GitHub is to **avoid** situations where two people are independently **working on the same script**. When trying to push/pull changes to/from same origin branch, there will inevitably be **merge conflicts** that can be messy to untangle.\n",
    "\n",
    "Collaboration is also a little more complicated with `Jupyter Notebooks` since running cells in the notebook will change execution count and output, even if the code and content appear identical. You are welcome to use other programs to write scripts (e.g. `Jupyter Lab`). \n",
    "\n",
    "General recommendation - **split up** the project into multiple **smaller scipts**, and have each person work on different components. For example, you could have one script that ingests files, reduces/manipulates the data (e.g., reprojection), then writes new files out to disk in \"analysis-ready\" format. Then a second notebook reads in those data and does some analysis, creates some plots, etc. If you can pass things back and forth between group members like this, you'll avoid conflicts."
   ]
  },
  {
   "cell_type": "markdown",
   "id": "ae563398",
   "metadata": {},
   "source": [
    "## Task 1: prepare a README (40 points)\n",
    "\n",
    "The `README.md` file in your new repo will serve as the landing page for your project. You can continue to update it as your project evolves, but for now, please prepare a basic project outline.  \n",
    "\n",
    "Review the [markdown cheat sheet](https://www.markdownguide.org/basic-syntax/) and use some basic headings, bulleted/numbered lists, and other formatting to organize your outline. We recommend using a **markdown editor** such as [MacDown](https://macdown.uranusjr.com/) for MacOS or [Ghostwriter](https://wereturtle.github.io/ghostwriter/download.html) for Windows.\n",
    "\n",
    "Please include the following in `README.md`:\n",
    "\n",
    "* Project Title\n",
    "* Name(s) of individual or team members\n",
    "* Short 1-2 sentence summary\n",
    "* Problem statement, question(s) and/or objective(s)\n",
    "* Datasets you will use (with links, if available)\n",
    "* Tools/packages you’ll need\n",
    "* Planned methodology/approach\n",
    "* Expected outcomes\n",
    "* Any other relevant information, images/tables, references, etc.\n",
    "* References\n",
    "\n",
    "That may sound like a lot, but some of these items should only be 1-2 sentences, others can be short lists. Consider this the start of your final report. \n",
    "\n",
    "We would like to see at **least one commit** from **each group member** at this phase of the project, even if it is as simple as adding their name to the `README.md` file. "
   ]
  },
  {
   "cell_type": "markdown",
   "id": "ffb02239",
   "metadata": {},
   "source": [
    "## Task 2: push all changes to GitHub and submit README as a pdf to Canvas (10 points)\n",
    "\n",
    "The markdown editors should be able to export `.md` files as `.pdf`"
   ]
  },
  {
   "cell_type": "markdown",
   "id": "a5257776",
   "metadata": {},
   "source": [
    "### Some notes for final projects\n",
    "\n",
    "\n",
    "* Start early! \n",
    "\n",
    "\n",
    "* Create subdirectories in your repo to store:\n",
    "    * **notebooks** - contains scripts to complete project\n",
    "    * **data** - contains small amount of data such as output of analyses. Just make sure filesizes are <20 MB and total number of files (<20 MB) is limited. Best practice is to store and share data on **Dropbox**. \n",
    "    * **doc** - for any additional documentation, static images/figures that you want to include in notebooks or markdown files, etc.\n",
    "\n",
    "\n",
    "* Start adding and developing notebooks, code, markdown files, etc.\n",
    "\n",
    "\n",
    "* Start with limited test case(s) for initial development and exploration:\n",
    "    * Extract a small region of a large raster\n",
    "    * If you need the entire raster, start with a downsampled version, then when you're happy with methods, run for native resolution\n",
    "    * Start with a single timestep or subset of timesteps for time series analysis\n",
    "\n",
    "\n",
    "* Don’t add unnecessary files to your repo (careful with `git add/commit`)\n",
    "\n",
    "\n",
    "* Commit **early**, commit **often**"
   ]
  }
 ],
 "metadata": {
  "kernelspec": {
   "display_name": "Python 3 (ipykernel)",
   "language": "python",
   "name": "python3"
  },
  "language_info": {
   "codemirror_mode": {
    "name": "ipython",
    "version": 3
   },
   "file_extension": ".py",
   "mimetype": "text/x-python",
   "name": "python",
   "nbconvert_exporter": "python",
   "pygments_lexer": "ipython3",
   "version": "3.9.7"
  }
 },
 "nbformat": 4,
 "nbformat_minor": 5
}
