{
 "cells": [
  {
   "cell_type": "code",
   "execution_count": 3,
   "id": "08777467",
   "metadata": {},
   "outputs": [
    {
     "name": "stdout",
     "output_type": "stream",
     "text": [
      "10.0\n"
     ]
    }
   ],
   "source": [
    "import numpy as np\n",
    "a = 90\n",
    "b = 9\n",
    "c = np.divide(a, b)\n",
    "print(c)"
   ]
  },
  {
   "cell_type": "markdown",
   "id": "f53a0d04",
   "metadata": {},
   "source": [
    "This is **Stockholm, Sweden**. *One of my favorite cities that I have visited*.\n",
    "\n",
    "[Here](https://trinitytravel.gr/wp-content/uploads/2020/10/STOCKHOLM-1-1200x675.jpg) is a link to the image.\n",
    "\n",
    "![Stockholm, Sweden](Stockholm.jpg)"
   ]
  }
 ],
 "metadata": {
  "kernelspec": {
   "display_name": "Python 3 (ipykernel)",
   "language": "python",
   "name": "python3"
  },
  "language_info": {
   "codemirror_mode": {
    "name": "ipython",
    "version": 3
   },
   "file_extension": ".py",
   "mimetype": "text/x-python",
   "name": "python",
   "nbconvert_exporter": "python",
   "pygments_lexer": "ipython3",
   "version": "3.8.12"
  }
 },
 "nbformat": 4,
 "nbformat_minor": 5
}
