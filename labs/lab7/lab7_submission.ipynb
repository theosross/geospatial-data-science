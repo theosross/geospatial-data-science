{
 "cells": [
  {
   "cell_type": "markdown",
   "id": "b380b672",
   "metadata": {},
   "source": [
    "## Question 1"
   ]
  },
  {
   "cell_type": "code",
   "execution_count": 1,
   "id": "75753246",
   "metadata": {
    "scrolled": true
   },
   "outputs": [
    {
     "name": "stdout",
     "output_type": "stream",
     "text": [
      "Requirement already satisfied: dataretrieval in c:\\users\\theoh\\anaconda3\\envs\\lab7\\lib\\site-packages (0.7)\n",
      "Requirement already satisfied: requests in c:\\users\\theoh\\anaconda3\\envs\\lab7\\lib\\site-packages (from dataretrieval) (2.27.1)\n",
      "Requirement already satisfied: pandas in c:\\users\\theoh\\anaconda3\\envs\\lab7\\lib\\site-packages (from dataretrieval) (1.4.1)\n",
      "Requirement already satisfied: python-dateutil>=2.8.1 in c:\\users\\theoh\\anaconda3\\envs\\lab7\\lib\\site-packages (from pandas->dataretrieval) (2.8.2)\n",
      "Requirement already satisfied: numpy>=1.21.0 in c:\\users\\theoh\\anaconda3\\envs\\lab7\\lib\\site-packages (from pandas->dataretrieval) (1.22.2)\n",
      "Requirement already satisfied: pytz>=2020.1 in c:\\users\\theoh\\anaconda3\\envs\\lab7\\lib\\site-packages (from pandas->dataretrieval) (2021.3)\n",
      "Requirement already satisfied: urllib3<1.27,>=1.21.1 in c:\\users\\theoh\\anaconda3\\envs\\lab7\\lib\\site-packages (from requests->dataretrieval) (1.26.8)\n",
      "Requirement already satisfied: idna<4,>=2.5 in c:\\users\\theoh\\anaconda3\\envs\\lab7\\lib\\site-packages (from requests->dataretrieval) (3.3)\n",
      "Requirement already satisfied: charset-normalizer~=2.0.0 in c:\\users\\theoh\\anaconda3\\envs\\lab7\\lib\\site-packages (from requests->dataretrieval) (2.0.12)\n",
      "Requirement already satisfied: certifi>=2017.4.17 in c:\\users\\theoh\\anaconda3\\envs\\lab7\\lib\\site-packages (from requests->dataretrieval) (2021.10.8)\n",
      "Requirement already satisfied: six>=1.5 in c:\\users\\theoh\\anaconda3\\envs\\lab7\\lib\\site-packages (from python-dateutil>=2.8.1->pandas->dataretrieval) (1.16.0)\n"
     ]
    }
   ],
   "source": [
    "# Install package for obtaining USGS streamflow data\n",
    "!pip install -U dataretrieval"
   ]
  },
  {
   "cell_type": "code",
   "execution_count": 2,
   "id": "6611e5c6",
   "metadata": {},
   "outputs": [
    {
     "data": {
      "text/html": [
       "<div>\n",
       "<style scoped>\n",
       "    .dataframe tbody tr th:only-of-type {\n",
       "        vertical-align: middle;\n",
       "    }\n",
       "\n",
       "    .dataframe tbody tr th {\n",
       "        vertical-align: top;\n",
       "    }\n",
       "\n",
       "    .dataframe thead th {\n",
       "        text-align: right;\n",
       "    }\n",
       "</style>\n",
       "<table border=\"1\" class=\"dataframe\">\n",
       "  <thead>\n",
       "    <tr style=\"text-align: right;\">\n",
       "      <th></th>\n",
       "      <th>00060_Mean</th>\n",
       "      <th>00060_Mean_cd</th>\n",
       "      <th>site_no</th>\n",
       "      <th>00065_Mean</th>\n",
       "      <th>00065_Mean_cd</th>\n",
       "    </tr>\n",
       "    <tr>\n",
       "      <th>datetime</th>\n",
       "      <th></th>\n",
       "      <th></th>\n",
       "      <th></th>\n",
       "      <th></th>\n",
       "      <th></th>\n",
       "    </tr>\n",
       "  </thead>\n",
       "  <tbody>\n",
       "    <tr>\n",
       "      <th>2021-01-01 00:00:00+00:00</th>\n",
       "      <td>2040.0</td>\n",
       "      <td>A</td>\n",
       "      <td>02087183</td>\n",
       "      <td>3.01</td>\n",
       "      <td>A</td>\n",
       "    </tr>\n",
       "    <tr>\n",
       "      <th>2021-01-02 00:00:00+00:00</th>\n",
       "      <td>2040.0</td>\n",
       "      <td>A</td>\n",
       "      <td>02087183</td>\n",
       "      <td>3.01</td>\n",
       "      <td>A</td>\n",
       "    </tr>\n",
       "    <tr>\n",
       "      <th>2021-01-03 00:00:00+00:00</th>\n",
       "      <td>2060.0</td>\n",
       "      <td>A</td>\n",
       "      <td>02087183</td>\n",
       "      <td>3.02</td>\n",
       "      <td>A</td>\n",
       "    </tr>\n",
       "    <tr>\n",
       "      <th>2021-01-04 00:00:00+00:00</th>\n",
       "      <td>2090.0</td>\n",
       "      <td>A</td>\n",
       "      <td>02087183</td>\n",
       "      <td>3.03</td>\n",
       "      <td>A</td>\n",
       "    </tr>\n",
       "    <tr>\n",
       "      <th>2021-01-05 00:00:00+00:00</th>\n",
       "      <td>2890.0</td>\n",
       "      <td>A</td>\n",
       "      <td>02087183</td>\n",
       "      <td>3.33</td>\n",
       "      <td>A</td>\n",
       "    </tr>\n",
       "  </tbody>\n",
       "</table>\n",
       "</div>"
      ],
      "text/plain": [
       "                           00060_Mean 00060_Mean_cd   site_no  00065_Mean  \\\n",
       "datetime                                                                    \n",
       "2021-01-01 00:00:00+00:00      2040.0             A  02087183        3.01   \n",
       "2021-01-02 00:00:00+00:00      2040.0             A  02087183        3.01   \n",
       "2021-01-03 00:00:00+00:00      2060.0             A  02087183        3.02   \n",
       "2021-01-04 00:00:00+00:00      2090.0             A  02087183        3.03   \n",
       "2021-01-05 00:00:00+00:00      2890.0             A  02087183        3.33   \n",
       "\n",
       "                          00065_Mean_cd  \n",
       "datetime                                 \n",
       "2021-01-01 00:00:00+00:00             A  \n",
       "2021-01-02 00:00:00+00:00             A  \n",
       "2021-01-03 00:00:00+00:00             A  \n",
       "2021-01-04 00:00:00+00:00             A  \n",
       "2021-01-05 00:00:00+00:00             A  "
      ]
     },
     "execution_count": 2,
     "metadata": {},
     "output_type": "execute_result"
    }
   ],
   "source": [
    "# Import the functions for downloading data from NWIS\n",
    "import dataretrieval.nwis as nwis\n",
    "\n",
    "# Specify the USGS site code\n",
    "site = '02087183'\n",
    "\n",
    "# Get instantaneous values (iv)\n",
    "df = nwis.get_record(sites=site, service='dv', start='2021-01-01', end='2021-12-31')\n",
    "df.head()"
   ]
  },
  {
   "cell_type": "code",
   "execution_count": 3,
   "id": "024c7ba4",
   "metadata": {},
   "outputs": [
    {
     "data": {
      "text/plain": [
       "<AxesSubplot:xlabel='datetime'>"
      ]
     },
     "execution_count": 3,
     "metadata": {},
     "output_type": "execute_result"
    },
    {
     "data": {
      "image/png": "[encoded data removed]",
      "text/plain": [
       "<Figure size 432x288 with 1 Axes>"
      ]
     },
     "metadata": {
      "needs_background": "light"
     },
     "output_type": "display_data"
    }
   ],
   "source": [
    "# Simple plot\n",
    "df['00060_Mean'].plot()"
   ]
  },
  {
   "cell_type": "markdown",
   "id": "b50db9cc",
   "metadata": {},
   "source": [
    "The above figure shows daily discharge, in cubic feet per second, for the year of 2021 at a gage below the dam at Falls Lake in North Carolina."
   ]
  },
  {
   "cell_type": "markdown",
   "id": "f42608ee",
   "metadata": {},
   "source": [
    "## Question 2"
   ]
  },
  {
   "cell_type": "code",
   "execution_count": 4,
   "id": "1e628199",
   "metadata": {},
   "outputs": [],
   "source": [
    "neuse = nwis.get_record(sites='02091814', service='dv', start='2020-10-01', end='2021-09-30')"
   ]
  },
  {
   "cell_type": "code",
   "execution_count": 5,
   "id": "a35ff83d",
   "metadata": {},
   "outputs": [
    {
     "data": {
      "text/plain": [
       "7583"
      ]
     },
     "execution_count": 5,
     "metadata": {},
     "output_type": "execute_result"
    }
   ],
   "source": [
    "int(neuse['00060_Mean'].mean())"
   ]
  },
  {
   "cell_type": "markdown",
   "id": "8ab78aec",
   "metadata": {},
   "source": [
    "Mean daily discharge between 10-01-2020 and 09-30-2021 on the Neuse River in NC"
   ]
  },
  {
   "cell_type": "code",
   "execution_count": 6,
   "id": "5b2b88f6",
   "metadata": {},
   "outputs": [],
   "source": [
    "colorado = nwis.get_record(sites='09429490', service='dv', start='2020-10-01', end='2021-09-30')"
   ]
  },
  {
   "cell_type": "code",
   "execution_count": 7,
   "id": "3b0bcb8b",
   "metadata": {},
   "outputs": [
    {
     "data": {
      "text/plain": [
       "7643"
      ]
     },
     "execution_count": 7,
     "metadata": {},
     "output_type": "execute_result"
    }
   ],
   "source": [
    "int(colorado['00060_Mean'].mean())"
   ]
  },
  {
   "cell_type": "markdown",
   "id": "9dcc7dc7",
   "metadata": {},
   "source": [
    "Mean daily discharge between 10-01-2020 and 09-30-2021 on the Colorado River in CA-AZ"
   ]
  },
  {
   "cell_type": "code",
   "execution_count": 8,
   "id": "5ef7d3df",
   "metadata": {},
   "outputs": [],
   "source": [
    "willamette = nwis.get_record(sites='14166000', service='dv', start='2020-10-01', end='2021-09-30')"
   ]
  },
  {
   "cell_type": "code",
   "execution_count": 9,
   "id": "4b4b0dc9",
   "metadata": {},
   "outputs": [
    {
     "data": {
      "text/plain": [
       "8429"
      ]
     },
     "execution_count": 9,
     "metadata": {},
     "output_type": "execute_result"
    }
   ],
   "source": [
    "int(willamette['00060_Mean'].mean())"
   ]
  },
  {
   "cell_type": "markdown",
   "id": "5fd86b3f",
   "metadata": {},
   "source": [
    "Mean daily discharge between 10-01-2020 and 09-30-2021 on the Willammette River in OR"
   ]
  },
  {
   "cell_type": "markdown",
   "id": "00017f16",
   "metadata": {},
   "source": [
    "<table>\n",
    "    <tr>\n",
    "        <th>site name</th>\n",
    "        <th>site number</th>\n",
    "        <th>mean daily discharge</th>\n",
    "    </tr>\n",
    "    <tr>\n",
    "        <td>NEUSE RIVER NEAR FORT BARNWELL, NC</td>\n",
    "        <td>02091814</td>\n",
    "        <td>7583</td>\n",
    "    </tr>\n",
    "    <tr>\n",
    "        <td>COLORADO RIVER ABOVE IMPERIAL DAM, AZ-CA</td>\n",
    "        <td>09429490</td>\n",
    "        <td>7643</td>\n",
    "    </tr>\n",
    "    <tr>\n",
    "        <td>WILLAMETTE RIVER AT HARRISBURG, OR</td>\n",
    "        <td>14166000</td>\n",
    "        <td>8429</td>\n",
    "    </tr>\n",
    "</table>"
   ]
  },
  {
   "cell_type": "markdown",
   "id": "a1b70f9b",
   "metadata": {},
   "source": [
    "## Question 3"
   ]
  },
  {
   "cell_type": "code",
   "execution_count": 10,
   "id": "3316dc6b",
   "metadata": {},
   "outputs": [],
   "source": [
    "# Import packages\n",
    "import numpy as np\n",
    "import pandas as pd\n",
    "import folium"
   ]
  },
  {
   "cell_type": "code",
   "execution_count": 11,
   "id": "75ec7a15",
   "metadata": {},
   "outputs": [],
   "source": [
    "# Read HTML table data\n",
    "mountains = pd.read_html('https://en.wikipedia.org/wiki/List_of_mountain_peaks_of_Oregon')"
   ]
  },
  {
   "cell_type": "code",
   "execution_count": 12,
   "id": "6f50d580",
   "metadata": {},
   "outputs": [],
   "source": [
    "# We would like the table that contains the highest summits of Oregon which happens to be the second one\n",
    "mountain_stats = mountains[1]"
   ]
  },
  {
   "cell_type": "code",
   "execution_count": 13,
   "id": "21cd18c2",
   "metadata": {},
   "outputs": [],
   "source": [
    "# Some wrangling\n",
    "mountain_stats['Location'] = mountain_stats['Location'].str.replace(mountain_stats['Location'].loc[0], \"45°22′25″N 121°41′45″W\\ufeff / \\ufeff45.3735°N 121.6959°W\", regex=True)"
   ]
  },
  {
   "cell_type": "code",
   "execution_count": 14,
   "id": "8786947f",
   "metadata": {},
   "outputs": [],
   "source": [
    "# To get these data from every row, we can write a quick for loop\n",
    "coords = []\n",
    "for i in range(len(mountain_stats)):\n",
    "    lat = float(mountain_stats['Location'].iloc[i][27:34])\n",
    "    lon = float(mountain_stats['Location'].iloc[i][37:45]) * -1\n",
    "    coords.append((lat, lon))"
   ]
  },
  {
   "cell_type": "code",
   "execution_count": 15,
   "id": "1e555549",
   "metadata": {},
   "outputs": [
    {
     "data": {
      "text/plain": [
       "[92.2,\n",
       " 77.5,\n",
       " 63.4,\n",
       " 7.0,\n",
       " 1.8,\n",
       " 202.0,\n",
       " 201.0,\n",
       " 9.48,\n",
       " 7.79,\n",
       " 11.84,\n",
       " 111.8,\n",
       " 5.32,\n",
       " 81.1,\n",
       " 5.52,\n",
       " 69.9,\n",
       " 11.02,\n",
       " 74.2,\n",
       " 25.9,\n",
       " 41.4,\n",
       " 45.5,\n",
       " 71.4,\n",
       " 28.1,\n",
       " 12.49,\n",
       " 65.7,\n",
       " 23.7,\n",
       " 53.1,\n",
       " 23.5,\n",
       " 15.98,\n",
       " 10.73,\n",
       " 35.6,\n",
       " 46.5]"
      ]
     },
     "execution_count": 15,
     "metadata": {},
     "output_type": "execute_result"
    }
   ],
   "source": [
    "# Get Isolation data as float\n",
    "isolation = []\n",
    "for i in range(len(mountain_stats)):\n",
    "    iso = float(mountain_stats['Isolation'].iloc[i][:-3])\n",
    "    isolation.append(iso)\n",
    "isolation"
   ]
  },
  {
   "cell_type": "code",
   "execution_count": 16,
   "id": "c48d4aa7",
   "metadata": {},
   "outputs": [
    {
     "data": {
      "text/html": [
       "<div style=\"width:100%;\"><div style=\"position:relative;width:100%;height:0;padding-bottom:60%;\"><span style=\"color:#565656\">Make this Notebook Trusted to load map: File -> Trust Notebook</span><iframe src=\"about:blank\" style=\"position:absolute;width:100%;height:100%;left:0;top:0;border:none !important;\" data-html=%3C%21DOCTYPE%20html%3E%0A%3Chead%3E%20%20%20%20%0A%20%20%20%20%3Cmeta%20http-equiv%3D%22content-type%22%20content%3D%22text/html%3B%20charset%3DUTF-8%22%20/%3E%0A%20%20%20%20%0A%20%20%20%20%20%20%20%20%3Cscript%3E%0A%20%20%20%20%20%20%20%20%20%20%20%20L_NO_TOUCH%20%3D%20false%3B%0A%20%20%20%20%20%20%20%20%20%20%20%20L_DISABLE_3D%20%3D%20false%3B%0A%20%20%20%20%20%20%20%20%3C/script%3E%0A%20%20%20%20%0A%20%20%20%20%3Cstyle%3Ehtml%2C%20body%20%7Bwidth%3A%20100%25%3Bheight%3A%20100%25%3Bmargin%3A%200%3Bpadding%3A%200%3B%7D%3C/style%3E%0A%20%20%20%20%3Cstyle%3E%23map%20%7Bposition%3Aabsolute%3Btop%3A0%3Bbottom%3A0%3Bright%3A0%3Bleft%3A0%3B%7D%3C/style%3E%0A%20%20%20%20%3Cscript%20src%3D%22https%3A//cdn.jsdelivr.net/npm/leaflet%401.6.0/dist/leaflet.js%22%3E%3C/script%3E%0A%20%20%20%20%3Cscript%20src%3D%22https%3A//code.jquery.com/jquery-1.12.4.min.js%22%3E%3C/script%3E%0A%20%20%20%20%3Cscript%20src%3D%22https%3A//maxcdn.bootstrapcdn.com/bootstrap/3.2.0/js/bootstrap.min.js%22%3E%3C/script%3E%0A%20%20%20%20%3Cscript%20src%3D%22https%3A//cdnjs.cloudflare.com/ajax/libs/Leaflet.awesome-markers/2.0.2/leaflet.awesome-markers.js%22%3E%3C/script%3E%0A%20%20%20%20%3Clink%20rel%3D%22stylesheet%22%20href%3D%22https%3A//cdn.jsdelivr.net/npm/leaflet%401.6.0/dist/leaflet.css%22/%3E%0A%20%20%20%20%3Clink%20rel%3D%22stylesheet%22%20href%3D%22https%3A//maxcdn.bootstrapcdn.com/bootstrap/3.2.0/css/bootstrap.min.css%22/%3E%0A%20%20%20%20%3Clink%20rel%3D%22stylesheet%22%20href%3D%22https%3A//maxcdn.bootstrapcdn.com/bootstrap/3.2.0/css/bootstrap-theme.min.css%22/%3E%0A%20%20%20%20%3Clink%20rel%3D%22stylesheet%22%20href%3D%22https%3A//maxcdn.bootstrapcdn.com/font-awesome/4.6.3/css/font-awesome.min.css%22/%3E%0A%20%20%20%20%3Clink%20rel%3D%22stylesheet%22%20href%3D%22https%3A//cdnjs.cloudflare.com/ajax/libs/Leaflet.awesome-markers/2.0.2/leaflet.awesome-markers.css%22/%3E%0A%20%20%20%20%3Clink%20rel%3D%22stylesheet%22%20href%3D%22https%3A//cdn.jsdelivr.net/gh/python-visualization/folium/folium/templates/leaflet.awesome.rotate.min.css%22/%3E%0A%20%20%20%20%0A%20%20%20%20%20%20%20%20%20%20%20%20%3Cmeta%20name%3D%22viewport%22%20content%3D%22width%3Ddevice-width%2C%0A%20%20%20%20%20%20%20%20%20%20%20%20%20%20%20%20initial-scale%3D1.0%2C%20maximum-scale%3D1.0%2C%20user-scalable%3Dno%22%20/%3E%0A%20%20%20%20%20%20%20%20%20%20%20%20%3Cstyle%3E%0A%20%20%20%20%20%20%20%20%20%20%20%20%20%20%20%20%23map_2a68d95aba334e6ebe04ca08d921dc26%20%7B%0A%20%20%20%20%20%20%20%20%20%20%20%20%20%20%20%20%20%20%20%20position%3A%20relative%3B%0A%20%20%20%20%20%20%20%20%20%20%20%20%20%20%20%20%20%20%20%20width%3A%20100.0%25%3B%0A%20%20%20%20%20%20%20%20%20%20%20%20%20%20%20%20%20%20%20%20height%3A%20100.0%25%3B%0A%20%20%20%20%20%20%20%20%20%20%20%20%20%20%20%20%20%20%20%20left%3A%200.0%25%3B%0A%20%20%20%20%20%20%20%20%20%20%20%20%20%20%20%20%20%20%20%20top%3A%200.0%25%3B%0A%20%20%20%20%20%20%20%20%20%20%20%20%20%20%20%20%7D%0A%20%20%20%20%20%20%20%20%20%20%20%20%3C/style%3E%0A%20%20%20%20%20%20%20%20%0A%3C/head%3E%0A%3Cbody%3E%20%20%20%20%0A%20%20%20%20%0A%20%20%20%20%20%20%20%20%20%20%20%20%3Cdiv%20class%3D%22folium-map%22%20id%3D%22map_2a68d95aba334e6ebe04ca08d921dc26%22%20%3E%3C/div%3E%0A%20%20%20%20%20%20%20%20%0A%3C/body%3E%0A%3Cscript%3E%20%20%20%20%0A%20%20%20%20%0A%20%20%20%20%20%20%20%20%20%20%20%20var%20map_2a68d95aba334e6ebe04ca08d921dc26%20%3D%20L.map%28%0A%20%20%20%20%20%20%20%20%20%20%20%20%20%20%20%20%22map_2a68d95aba334e6ebe04ca08d921dc26%22%2C%0A%20%20%20%20%20%20%20%20%20%20%20%20%20%20%20%20%7B%0A%20%20%20%20%20%20%20%20%20%20%20%20%20%20%20%20%20%20%20%20center%3A%20%5B44.0%2C%20-121.0%5D%2C%0A%20%20%20%20%20%20%20%20%20%20%20%20%20%20%20%20%20%20%20%20crs%3A%20L.CRS.EPSG3857%2C%0A%20%20%20%20%20%20%20%20%20%20%20%20%20%20%20%20%20%20%20%20zoom%3A%207%2C%0A%20%20%20%20%20%20%20%20%20%20%20%20%20%20%20%20%20%20%20%20zoomControl%3A%20true%2C%0A%20%20%20%20%20%20%20%20%20%20%20%20%20%20%20%20%20%20%20%20preferCanvas%3A%20false%2C%0A%20%20%20%20%20%20%20%20%20%20%20%20%20%20%20%20%7D%0A%20%20%20%20%20%20%20%20%20%20%20%20%29%3B%0A%0A%20%20%20%20%20%20%20%20%20%20%20%20%0A%0A%20%20%20%20%20%20%20%20%0A%20%20%20%20%0A%20%20%20%20%20%20%20%20%20%20%20%20var%20tile_layer_67ce188f12a04294b3704f9b54b94e30%20%3D%20L.tileLayer%28%0A%20%20%20%20%20%20%20%20%20%20%20%20%20%20%20%20%22https%3A//%7Bs%7D.tile.openstreetmap.org/%7Bz%7D/%7Bx%7D/%7By%7D.png%22%2C%0A%20%20%20%20%20%20%20%20%20%20%20%20%20%20%20%20%7B%22attribution%22%3A%20%22Data%20by%20%5Cu0026copy%3B%20%5Cu003ca%20href%3D%5C%22http%3A//openstreetmap.org%5C%22%5Cu003eOpenStreetMap%5Cu003c/a%5Cu003e%2C%20under%20%5Cu003ca%20href%3D%5C%22http%3A//www.openstreetmap.org/copyright%5C%22%5Cu003eODbL%5Cu003c/a%5Cu003e.%22%2C%20%22detectRetina%22%3A%20false%2C%20%22maxNativeZoom%22%3A%2018%2C%20%22maxZoom%22%3A%2018%2C%20%22minZoom%22%3A%200%2C%20%22noWrap%22%3A%20false%2C%20%22opacity%22%3A%201%2C%20%22subdomains%22%3A%20%22abc%22%2C%20%22tms%22%3A%20false%7D%0A%20%20%20%20%20%20%20%20%20%20%20%20%29.addTo%28map_2a68d95aba334e6ebe04ca08d921dc26%29%3B%0A%20%20%20%20%20%20%20%20%0A%20%20%20%20%0A%20%20%20%20%20%20%20%20%20%20%20%20var%20marker_234dfffe316b4f7cbff4b6958fcaac6e%20%3D%20L.marker%28%0A%20%20%20%20%20%20%20%20%20%20%20%20%20%20%20%20%5B45.3735%2C%20-121.6959%5D%2C%0A%20%20%20%20%20%20%20%20%20%20%20%20%20%20%20%20%7B%7D%0A%20%20%20%20%20%20%20%20%20%20%20%20%29.addTo%28map_2a68d95aba334e6ebe04ca08d921dc26%29%3B%0A%20%20%20%20%20%20%20%20%0A%20%20%20%20%0A%20%20%20%20%20%20%20%20var%20popup_a3adcac51c444b6aa807278eeb970f62%20%3D%20L.popup%28%7B%22maxWidth%22%3A%20%22100%25%22%7D%29%3B%0A%0A%20%20%20%20%20%20%20%20%0A%20%20%20%20%20%20%20%20%20%20%20%20var%20html_4503a0eec1f8474a802d78ec23d2ed46%20%3D%20%24%28%60%3Cdiv%20id%3D%22html_4503a0eec1f8474a802d78ec23d2ed46%22%20style%3D%22width%3A%20100.0%25%3B%20height%3A%20100.0%25%3B%22%3EIsolation%3A%2092.2%3C/div%3E%60%29%5B0%5D%3B%0A%20%20%20%20%20%20%20%20%20%20%20%20popup_a3adcac51c444b6aa807278eeb970f62.setContent%28html_4503a0eec1f8474a802d78ec23d2ed46%29%3B%0A%20%20%20%20%20%20%20%20%0A%0A%20%20%20%20%20%20%20%20marker_234dfffe316b4f7cbff4b6958fcaac6e.bindPopup%28popup_a3adcac51c444b6aa807278eeb970f62%29%0A%20%20%20%20%20%20%20%20%3B%0A%0A%20%20%20%20%20%20%20%20%0A%20%20%20%20%0A%20%20%20%20%0A%20%20%20%20%20%20%20%20%20%20%20%20var%20marker_4dd7778fb54042bbbbf0edc18cfb72da%20%3D%20L.marker%28%0A%20%20%20%20%20%20%20%20%20%20%20%20%20%20%20%20%5B44.6743%2C%20-121.7996%5D%2C%0A%20%20%20%20%20%20%20%20%20%20%20%20%20%20%20%20%7B%7D%0A%20%20%20%20%20%20%20%20%20%20%20%20%29.addTo%28map_2a68d95aba334e6ebe04ca08d921dc26%29%3B%0A%20%20%20%20%20%20%20%20%0A%20%20%20%20%0A%20%20%20%20%20%20%20%20var%20popup_a0c41256edec45cfa14575f21dc58e0e%20%3D%20L.popup%28%7B%22maxWidth%22%3A%20%22100%25%22%7D%29%3B%0A%0A%20%20%20%20%20%20%20%20%0A%20%20%20%20%20%20%20%20%20%20%20%20var%20html_46f99a0010084437a940c36a6f3dc4c4%20%3D%20%24%28%60%3Cdiv%20id%3D%22html_46f99a0010084437a940c36a6f3dc4c4%22%20style%3D%22width%3A%20100.0%25%3B%20height%3A%20100.0%25%3B%22%3EIsolation%3A%2077.5%3C/div%3E%60%29%5B0%5D%3B%0A%20%20%20%20%20%20%20%20%20%20%20%20popup_a0c41256edec45cfa14575f21dc58e0e.setContent%28html_46f99a0010084437a940c36a6f3dc4c4%29%3B%0A%20%20%20%20%20%20%20%20%0A%0A%20%20%20%20%20%20%20%20marker_4dd7778fb54042bbbbf0edc18cfb72da.bindPopup%28popup_a0c41256edec45cfa14575f21dc58e0e%29%0A%20%20%20%20%20%20%20%20%3B%0A%0A%20%20%20%20%20%20%20%20%0A%20%20%20%20%0A%20%20%20%20%0A%20%20%20%20%20%20%20%20%20%20%20%20var%20marker_f2a6f72fb94c4e1f8f2000275b0fab5c%20%3D%20L.marker%28%0A%20%20%20%20%20%20%20%20%20%20%20%20%20%20%20%20%5B44.1035%2C%20-121.7693%5D%2C%0A%20%20%20%20%20%20%20%20%20%20%20%20%20%20%20%20%7B%7D%0A%20%20%20%20%20%20%20%20%20%20%20%20%29.addTo%28map_2a68d95aba334e6ebe04ca08d921dc26%29%3B%0A%20%20%20%20%20%20%20%20%0A%20%20%20%20%0A%20%20%20%20%20%20%20%20var%20popup_a2891cc8aa00410fad6577643f9092a4%20%3D%20L.popup%28%7B%22maxWidth%22%3A%20%22100%25%22%7D%29%3B%0A%0A%20%20%20%20%20%20%20%20%0A%20%20%20%20%20%20%20%20%20%20%20%20var%20html_07b36f80b38849e286047ccb251969db%20%3D%20%24%28%60%3Cdiv%20id%3D%22html_07b36f80b38849e286047ccb251969db%22%20style%3D%22width%3A%20100.0%25%3B%20height%3A%20100.0%25%3B%22%3EIsolation%3A%2063.4%3C/div%3E%60%29%5B0%5D%3B%0A%20%20%20%20%20%20%20%20%20%20%20%20popup_a2891cc8aa00410fad6577643f9092a4.setContent%28html_07b36f80b38849e286047ccb251969db%29%3B%0A%20%20%20%20%20%20%20%20%0A%0A%20%20%20%20%20%20%20%20marker_f2a6f72fb94c4e1f8f2000275b0fab5c.bindPopup%28popup_a2891cc8aa00410fad6577643f9092a4%29%0A%20%20%20%20%20%20%20%20%3B%0A%0A%20%20%20%20%20%20%20%20%0A%20%20%20%20%0A%20%20%20%20%0A%20%20%20%20%20%20%20%20%20%20%20%20var%20marker_3596e36146e348bfbebde8c000cab33f%20%3D%20L.marker%28%0A%20%20%20%20%20%20%20%20%20%20%20%20%20%20%20%20%5B44.1666%2C%20-121.7723%5D%2C%0A%20%20%20%20%20%20%20%20%20%20%20%20%20%20%20%20%7B%7D%0A%20%20%20%20%20%20%20%20%20%20%20%20%29.addTo%28map_2a68d95aba334e6ebe04ca08d921dc26%29%3B%0A%20%20%20%20%20%20%20%20%0A%20%20%20%20%0A%20%20%20%20%20%20%20%20var%20popup_c1160856d6a447bf93e8282820efa487%20%3D%20L.popup%28%7B%22maxWidth%22%3A%20%22100%25%22%7D%29%3B%0A%0A%20%20%20%20%20%20%20%20%0A%20%20%20%20%20%20%20%20%20%20%20%20var%20html_59bf0a0a54d149c9b3812cdcb25e1271%20%3D%20%24%28%60%3Cdiv%20id%3D%22html_59bf0a0a54d149c9b3812cdcb25e1271%22%20style%3D%22width%3A%20100.0%25%3B%20height%3A%20100.0%25%3B%22%3EIsolation%3A%207.0%3C/div%3E%60%29%5B0%5D%3B%0A%20%20%20%20%20%20%20%20%20%20%20%20popup_c1160856d6a447bf93e8282820efa487.setContent%28html_59bf0a0a54d149c9b3812cdcb25e1271%29%3B%0A%20%20%20%20%20%20%20%20%0A%0A%20%20%20%20%20%20%20%20marker_3596e36146e348bfbebde8c000cab33f.bindPopup%28popup_c1160856d6a447bf93e8282820efa487%29%0A%20%20%20%20%20%20%20%20%3B%0A%0A%20%20%20%20%20%20%20%20%0A%20%20%20%20%0A%20%20%20%20%0A%20%20%20%20%20%20%20%20%20%20%20%20var%20marker_892227a7de5a4787803279bcef01c58a%20%3D%20L.marker%28%0A%20%20%20%20%20%20%20%20%20%20%20%20%20%20%20%20%5B44.1483%2C%20-121.784%5D%2C%0A%20%20%20%20%20%20%20%20%20%20%20%20%20%20%20%20%7B%7D%0A%20%20%20%20%20%20%20%20%20%20%20%20%29.addTo%28map_2a68d95aba334e6ebe04ca08d921dc26%29%3B%0A%20%20%20%20%20%20%20%20%0A%20%20%20%20%0A%20%20%20%20%20%20%20%20var%20popup_01bacdbf89214521984af7f0916e7fee%20%3D%20L.popup%28%7B%22maxWidth%22%3A%20%22100%25%22%7D%29%3B%0A%0A%20%20%20%20%20%20%20%20%0A%20%20%20%20%20%20%20%20%20%20%20%20var%20html_6d1b3183e4984ffaaf2ff647a79b6cdf%20%3D%20%24%28%60%3Cdiv%20id%3D%22html_6d1b3183e4984ffaaf2ff647a79b6cdf%22%20style%3D%22width%3A%20100.0%25%3B%20height%3A%20100.0%25%3B%22%3EIsolation%3A%201.8%3C/div%3E%60%29%5B0%5D%3B%0A%20%20%20%20%20%20%20%20%20%20%20%20popup_01bacdbf89214521984af7f0916e7fee.setContent%28html_6d1b3183e4984ffaaf2ff647a79b6cdf%29%3B%0A%20%20%20%20%20%20%20%20%0A%0A%20%20%20%20%20%20%20%20marker_892227a7de5a4787803279bcef01c58a.bindPopup%28popup_01bacdbf89214521984af7f0916e7fee%29%0A%20%20%20%20%20%20%20%20%3B%0A%0A%20%20%20%20%20%20%20%20%0A%20%20%20%20%0A%20%20%20%20%0A%20%20%20%20%20%20%20%20%20%20%20%20var%20marker_e0738d1bcf564b10bd96d9519b6d9ae9%20%3D%20L.marker%28%0A%20%20%20%20%20%20%20%20%20%20%20%20%20%20%20%20%5B45.245%2C%20-117.2929%5D%2C%0A%20%20%20%20%20%20%20%20%20%20%20%20%20%20%20%20%7B%7D%0A%20%20%20%20%20%20%20%20%20%20%20%20%29.addTo%28map_2a68d95aba334e6ebe04ca08d921dc26%29%3B%0A%20%20%20%20%20%20%20%20%0A%20%20%20%20%0A%20%20%20%20%20%20%20%20var%20popup_cfe6ccff50c04e32874900f25a96cdab%20%3D%20L.popup%28%7B%22maxWidth%22%3A%20%22100%25%22%7D%29%3B%0A%0A%20%20%20%20%20%20%20%20%0A%20%20%20%20%20%20%20%20%20%20%20%20var%20html_440f7dfe61064d8da72d56a6bfdd04e5%20%3D%20%24%28%60%3Cdiv%20id%3D%22html_440f7dfe61064d8da72d56a6bfdd04e5%22%20style%3D%22width%3A%20100.0%25%3B%20height%3A%20100.0%25%3B%22%3EIsolation%3A%20202.0%3C/div%3E%60%29%5B0%5D%3B%0A%20%20%20%20%20%20%20%20%20%20%20%20popup_cfe6ccff50c04e32874900f25a96cdab.setContent%28html_440f7dfe61064d8da72d56a6bfdd04e5%29%3B%0A%20%20%20%20%20%20%20%20%0A%0A%20%20%20%20%20%20%20%20marker_e0738d1bcf564b10bd96d9519b6d9ae9.bindPopup%28popup_cfe6ccff50c04e32874900f25a96cdab%29%0A%20%20%20%20%20%20%20%20%3B%0A%0A%20%20%20%20%20%20%20%20%0A%20%20%20%20%0A%20%20%20%20%0A%20%20%20%20%20%20%20%20%20%20%20%20var%20marker_533b559e7748445f9c02771234da6421%20%3D%20L.marker%28%0A%20%20%20%20%20%20%20%20%20%20%20%20%20%20%20%20%5B42.6364%2C%20-118.5767%5D%2C%0A%20%20%20%20%20%20%20%20%20%20%20%20%20%20%20%20%7B%7D%0A%20%20%20%20%20%20%20%20%20%20%20%20%29.addTo%28map_2a68d95aba334e6ebe04ca08d921dc26%29%3B%0A%20%20%20%20%20%20%20%20%0A%20%20%20%20%0A%20%20%20%20%20%20%20%20var%20popup_a46ffd8929bd4d68b181d21a82e80af5%20%3D%20L.popup%28%7B%22maxWidth%22%3A%20%22100%25%22%7D%29%3B%0A%0A%20%20%20%20%20%20%20%20%0A%20%20%20%20%20%20%20%20%20%20%20%20var%20html_13984375762b4ba5a51979bbdf636ae8%20%3D%20%24%28%60%3Cdiv%20id%3D%22html_13984375762b4ba5a51979bbdf636ae8%22%20style%3D%22width%3A%20100.0%25%3B%20height%3A%20100.0%25%3B%22%3EIsolation%3A%20201.0%3C/div%3E%60%29%5B0%5D%3B%0A%20%20%20%20%20%20%20%20%20%20%20%20popup_a46ffd8929bd4d68b181d21a82e80af5.setContent%28html_13984375762b4ba5a51979bbdf636ae8%29%3B%0A%20%20%20%20%20%20%20%20%0A%0A%20%20%20%20%20%20%20%20marker_533b559e7748445f9c02771234da6421.bindPopup%28popup_a46ffd8929bd4d68b181d21a82e80af5%29%0A%20%20%20%20%20%20%20%20%3B%0A%0A%20%20%20%20%20%20%20%20%0A%20%20%20%20%0A%20%20%20%20%0A%20%20%20%20%20%20%20%20%20%20%20%20var%20marker_fd77d7d8615d45cfaace3821fb3e940d%20%3D%20L.marker%28%0A%20%20%20%20%20%20%20%20%20%20%20%20%20%20%20%20%5B45.203%2C%20-117.175%5D%2C%0A%20%20%20%20%20%20%20%20%20%20%20%20%20%20%20%20%7B%7D%0A%20%20%20%20%20%20%20%20%20%20%20%20%29.addTo%28map_2a68d95aba334e6ebe04ca08d921dc26%29%3B%0A%20%20%20%20%20%20%20%20%0A%20%20%20%20%0A%20%20%20%20%20%20%20%20var%20popup_fe7f9bf93a0c4451ac8e5265e17b09e4%20%3D%20L.popup%28%7B%22maxWidth%22%3A%20%22100%25%22%7D%29%3B%0A%0A%20%20%20%20%20%20%20%20%0A%20%20%20%20%20%20%20%20%20%20%20%20var%20html_0be75851d7ba443493c4d2482320aaf8%20%3D%20%24%28%60%3Cdiv%20id%3D%22html_0be75851d7ba443493c4d2482320aaf8%22%20style%3D%22width%3A%20100.0%25%3B%20height%3A%20100.0%25%3B%22%3EIsolation%3A%209.48%3C/div%3E%60%29%5B0%5D%3B%0A%20%20%20%20%20%20%20%20%20%20%20%20popup_fe7f9bf93a0c4451ac8e5265e17b09e4.setContent%28html_0be75851d7ba443493c4d2482320aaf8%29%3B%0A%20%20%20%20%20%20%20%20%0A%0A%20%20%20%20%20%20%20%20marker_fd77d7d8615d45cfaace3821fb3e940d.bindPopup%28popup_fe7f9bf93a0c4451ac8e5265e17b09e4%29%0A%20%20%20%20%20%20%20%20%3B%0A%0A%20%20%20%20%20%20%20%20%0A%20%20%20%20%0A%20%20%20%20%0A%20%20%20%20%20%20%20%20%20%20%20%20var%20marker_09d1046da83e4e438f8f7000b289fbb6%20%3D%20L.marker%28%0A%20%20%20%20%20%20%20%20%20%20%20%20%20%20%20%20%5B45.3046%2C%20-117.3452%5D%2C%0A%20%20%20%20%20%20%20%20%20%20%20%20%20%20%20%20%7B%7D%0A%20%20%20%20%20%20%20%20%20%20%20%20%29.addTo%28map_2a68d95aba334e6ebe04ca08d921dc26%29%3B%0A%20%20%20%20%20%20%20%20%0A%20%20%20%20%0A%20%20%20%20%20%20%20%20var%20popup_52c5e3641a02488e8436d2f31e362377%20%3D%20L.popup%28%7B%22maxWidth%22%3A%20%22100%25%22%7D%29%3B%0A%0A%20%20%20%20%20%20%20%20%0A%20%20%20%20%20%20%20%20%20%20%20%20var%20html_4aa0ab36ab0843c79d74aeb5c88575ab%20%3D%20%24%28%60%3Cdiv%20id%3D%22html_4aa0ab36ab0843c79d74aeb5c88575ab%22%20style%3D%22width%3A%20100.0%25%3B%20height%3A%20100.0%25%3B%22%3EIsolation%3A%207.79%3C/div%3E%60%29%5B0%5D%3B%0A%20%20%20%20%20%20%20%20%20%20%20%20popup_52c5e3641a02488e8436d2f31e362377.setContent%28html_4aa0ab36ab0843c79d74aeb5c88575ab%29%3B%0A%20%20%20%20%20%20%20%20%0A%0A%20%20%20%20%20%20%20%20marker_09d1046da83e4e438f8f7000b289fbb6.bindPopup%28popup_52c5e3641a02488e8436d2f31e362377%29%0A%20%20%20%20%20%20%20%20%3B%0A%0A%20%20%20%20%20%20%20%20%0A%20%20%20%20%0A%20%20%20%20%0A%20%20%20%20%20%20%20%20%20%20%20%20var%20marker_d73a60c865724f50851e465d23c7bc06%20%3D%20L.marker%28%0A%20%20%20%20%20%20%20%20%20%20%20%20%20%20%20%20%5B45.0644%2C%20-117.246%5D%2C%0A%20%20%20%20%20%20%20%20%20%20%20%20%20%20%20%20%7B%7D%0A%20%20%20%20%20%20%20%20%20%20%20%20%29.addTo%28map_2a68d95aba334e6ebe04ca08d921dc26%29%3B%0A%20%20%20%20%20%20%20%20%0A%20%20%20%20%0A%20%20%20%20%20%20%20%20var%20popup_0a5f6a06546d4910883b28909b373d7c%20%3D%20L.popup%28%7B%22maxWidth%22%3A%20%22100%25%22%7D%29%3B%0A%0A%20%20%20%20%20%20%20%20%0A%20%20%20%20%20%20%20%20%20%20%20%20var%20html_4432fcd8bb224b8ba825c2e61c49147d%20%3D%20%24%28%60%3Cdiv%20id%3D%22html_4432fcd8bb224b8ba825c2e61c49147d%22%20style%3D%22width%3A%20100.0%25%3B%20height%3A%20100.0%25%3B%22%3EIsolation%3A%2011.84%3C/div%3E%60%29%5B0%5D%3B%0A%20%20%20%20%20%20%20%20%20%20%20%20popup_0a5f6a06546d4910883b28909b373d7c.setContent%28html_4432fcd8bb224b8ba825c2e61c49147d%29%3B%0A%20%20%20%20%20%20%20%20%0A%0A%20%20%20%20%20%20%20%20marker_d73a60c865724f50851e465d23c7bc06.bindPopup%28popup_0a5f6a06546d4910883b28909b373d7c%29%0A%20%20%20%20%20%20%20%20%3B%0A%0A%20%20%20%20%20%20%20%20%0A%20%20%20%20%0A%20%20%20%20%0A%20%20%20%20%20%20%20%20%20%20%20%20var%20marker_974e4b0cdb964ff2987edb2e1fb748ae%20%3D%20L.marker%28%0A%20%20%20%20%20%20%20%20%20%20%20%20%20%20%20%20%5B42.4445%2C%20-122.3156%5D%2C%0A%20%20%20%20%20%20%20%20%20%20%20%20%20%20%20%20%7B%7D%0A%20%20%20%20%20%20%20%20%20%20%20%20%29.addTo%28map_2a68d95aba334e6ebe04ca08d921dc26%29%3B%0A%20%20%20%20%20%20%20%20%0A%20%20%20%20%0A%20%20%20%20%20%20%20%20var%20popup_9ea635736ad546ef9c2c0ce803f0b3f5%20%3D%20L.popup%28%7B%22maxWidth%22%3A%20%22100%25%22%7D%29%3B%0A%0A%20%20%20%20%20%20%20%20%0A%20%20%20%20%20%20%20%20%20%20%20%20var%20html_f6eef22070854fffadde02f807818e8f%20%3D%20%24%28%60%3Cdiv%20id%3D%22html_f6eef22070854fffadde02f807818e8f%22%20style%3D%22width%3A%20100.0%25%3B%20height%3A%20100.0%25%3B%22%3EIsolation%3A%20111.8%3C/div%3E%60%29%5B0%5D%3B%0A%20%20%20%20%20%20%20%20%20%20%20%20popup_9ea635736ad546ef9c2c0ce803f0b3f5.setContent%28html_f6eef22070854fffadde02f807818e8f%29%3B%0A%20%20%20%20%20%20%20%20%0A%0A%20%20%20%20%20%20%20%20marker_974e4b0cdb964ff2987edb2e1fb748ae.bindPopup%28popup_9ea635736ad546ef9c2c0ce803f0b3f5%29%0A%20%20%20%20%20%20%20%20%3B%0A%0A%20%20%20%20%20%20%20%20%0A%20%20%20%20%0A%20%20%20%20%0A%20%20%20%20%20%20%20%20%20%20%20%20var%20marker_78291fa028354b4ea93bbb2916345bc6%20%3D%20L.marker%28%0A%20%20%20%20%20%20%20%20%20%20%20%20%20%20%20%20%5B45.2223%2C%20-117.3968%5D%2C%0A%20%20%20%20%20%20%20%20%20%20%20%20%20%20%20%20%7B%7D%0A%20%20%20%20%20%20%20%20%20%20%20%20%29.addTo%28map_2a68d95aba334e6ebe04ca08d921dc26%29%3B%0A%20%20%20%20%20%20%20%20%0A%20%20%20%20%0A%20%20%20%20%20%20%20%20var%20popup_6a20f879e74948f8a10286ef90bc67d5%20%3D%20L.popup%28%7B%22maxWidth%22%3A%20%22100%25%22%7D%29%3B%0A%0A%20%20%20%20%20%20%20%20%0A%20%20%20%20%20%20%20%20%20%20%20%20var%20html_f428995fd4ff4fbc8181e448ab740eab%20%3D%20%24%28%60%3Cdiv%20id%3D%22html_f428995fd4ff4fbc8181e448ab740eab%22%20style%3D%22width%3A%20100.0%25%3B%20height%3A%20100.0%25%3B%22%3EIsolation%3A%205.32%3C/div%3E%60%29%5B0%5D%3B%0A%20%20%20%20%20%20%20%20%20%20%20%20popup_6a20f879e74948f8a10286ef90bc67d5.setContent%28html_f428995fd4ff4fbc8181e448ab740eab%29%3B%0A%20%20%20%20%20%20%20%20%0A%0A%20%20%20%20%20%20%20%20marker_78291fa028354b4ea93bbb2916345bc6.bindPopup%28popup_6a20f879e74948f8a10286ef90bc67d5%29%0A%20%20%20%20%20%20%20%20%3B%0A%0A%20%20%20%20%20%20%20%20%0A%20%20%20%20%0A%20%20%20%20%0A%20%20%20%20%20%20%20%20%20%20%20%20var%20marker_2467a08cb86548a5b50351b6889ac911%20%3D%20L.marker%28%0A%20%20%20%20%20%20%20%20%20%20%20%20%20%20%20%20%5B43.1528%2C%20-122.0665%5D%2C%0A%20%20%20%20%20%20%20%20%20%20%20%20%20%20%20%20%7B%7D%0A%20%20%20%20%20%20%20%20%20%20%20%20%29.addTo%28map_2a68d95aba334e6ebe04ca08d921dc26%29%3B%0A%20%20%20%20%20%20%20%20%0A%20%20%20%20%0A%20%20%20%20%20%20%20%20var%20popup_03f35c11df3343e799d1b5ebb1c4cf99%20%3D%20L.popup%28%7B%22maxWidth%22%3A%20%22100%25%22%7D%29%3B%0A%0A%20%20%20%20%20%20%20%20%0A%20%20%20%20%20%20%20%20%20%20%20%20var%20html_4729b8a25775434b98dd7ad4f1b51a0c%20%3D%20%24%28%60%3Cdiv%20id%3D%22html_4729b8a25775434b98dd7ad4f1b51a0c%22%20style%3D%22width%3A%20100.0%25%3B%20height%3A%20100.0%25%3B%22%3EIsolation%3A%2081.1%3C/div%3E%60%29%5B0%5D%3B%0A%20%20%20%20%20%20%20%20%20%20%20%20popup_03f35c11df3343e799d1b5ebb1c4cf99.setContent%28html_4729b8a25775434b98dd7ad4f1b51a0c%29%3B%0A%20%20%20%20%20%20%20%20%0A%0A%20%20%20%20%20%20%20%20marker_2467a08cb86548a5b50351b6889ac911.bindPopup%28popup_03f35c11df3343e799d1b5ebb1c4cf99%29%0A%20%20%20%20%20%20%20%20%3B%0A%0A%20%20%20%20%20%20%20%20%0A%20%20%20%20%0A%20%20%20%20%0A%20%20%20%20%20%20%20%20%20%20%20%20var%20marker_fb434cceb89f446e83a02c8ddf91738e%20%3D%20L.marker%28%0A%20%20%20%20%20%20%20%20%20%20%20%20%20%20%20%20%5B44.083%2C%20-121.6994%5D%2C%0A%20%20%20%20%20%20%20%20%20%20%20%20%20%20%20%20%7B%7D%0A%20%20%20%20%20%20%20%20%20%20%20%20%29.addTo%28map_2a68d95aba334e6ebe04ca08d921dc26%29%3B%0A%20%20%20%20%20%20%20%20%0A%20%20%20%20%0A%20%20%20%20%20%20%20%20var%20popup_e577649d7e74401896e5d951eee5217c%20%3D%20L.popup%28%7B%22maxWidth%22%3A%20%22100%25%22%7D%29%3B%0A%0A%20%20%20%20%20%20%20%20%0A%20%20%20%20%20%20%20%20%20%20%20%20var%20html_9d83fdd491c947f98d4895c12d43b5b1%20%3D%20%24%28%60%3Cdiv%20id%3D%22html_9d83fdd491c947f98d4895c12d43b5b1%22%20style%3D%22width%3A%20100.0%25%3B%20height%3A%20100.0%25%3B%22%3EIsolation%3A%205.52%3C/div%3E%60%29%5B0%5D%3B%0A%20%20%20%20%20%20%20%20%20%20%20%20popup_e577649d7e74401896e5d951eee5217c.setContent%28html_9d83fdd491c947f98d4895c12d43b5b1%29%3B%0A%20%20%20%20%20%20%20%20%0A%0A%20%20%20%20%20%20%20%20marker_fb434cceb89f446e83a02c8ddf91738e.bindPopup%28popup_e577649d7e74401896e5d951eee5217c%29%0A%20%20%20%20%20%20%20%20%3B%0A%0A%20%20%20%20%20%20%20%20%0A%20%20%20%20%0A%20%20%20%20%0A%20%20%20%20%20%20%20%20%20%20%20%20var%20marker_a9c367c3775b4d6d83f2fdfa53fba395%20%3D%20L.marker%28%0A%20%20%20%20%20%20%20%20%20%20%20%20%20%20%20%20%5B44.8168%2C%20-118.1039%5D%2C%0A%20%20%20%20%20%20%20%20%20%20%20%20%20%20%20%20%7B%7D%0A%20%20%20%20%20%20%20%20%20%20%20%20%29.addTo%28map_2a68d95aba334e6ebe04ca08d921dc26%29%3B%0A%20%20%20%20%20%20%20%20%0A%20%20%20%20%0A%20%20%20%20%20%20%20%20var%20popup_dfeeb99034a8455f87023e37fe63dea4%20%3D%20L.popup%28%7B%22maxWidth%22%3A%20%22100%25%22%7D%29%3B%0A%0A%20%20%20%20%20%20%20%20%0A%20%20%20%20%20%20%20%20%20%20%20%20var%20html_22acabafd128456aaf52a3836af4742c%20%3D%20%24%28%60%3Cdiv%20id%3D%22html_22acabafd128456aaf52a3836af4742c%22%20style%3D%22width%3A%20100.0%25%3B%20height%3A%20100.0%25%3B%22%3EIsolation%3A%2069.9%3C/div%3E%60%29%5B0%5D%3B%0A%20%20%20%20%20%20%20%20%20%20%20%20popup_dfeeb99034a8455f87023e37fe63dea4.setContent%28html_22acabafd128456aaf52a3836af4742c%29%3B%0A%20%20%20%20%20%20%20%20%0A%0A%20%20%20%20%20%20%20%20marker_a9c367c3775b4d6d83f2fdfa53fba395.bindPopup%28popup_dfeeb99034a8455f87023e37fe63dea4%29%0A%20%20%20%20%20%20%20%20%3B%0A%0A%20%20%20%20%20%20%20%20%0A%20%20%20%20%0A%20%20%20%20%0A%20%20%20%20%20%20%20%20%20%20%20%20var%20marker_85996d06c5f840ad939378e437241708%20%3D%20L.marker%28%0A%20%20%20%20%20%20%20%20%20%20%20%20%20%20%20%20%5B43.9794%2C%20-121.6885%5D%2C%0A%20%20%20%20%20%20%20%20%20%20%20%20%20%20%20%20%7B%7D%0A%20%20%20%20%20%20%20%20%20%20%20%20%29.addTo%28map_2a68d95aba334e6ebe04ca08d921dc26%29%3B%0A%20%20%20%20%20%20%20%20%0A%20%20%20%20%0A%20%20%20%20%20%20%20%20var%20popup_ed4b5cee84f84705b3a6efbf0092526f%20%3D%20L.popup%28%7B%22maxWidth%22%3A%20%22100%25%22%7D%29%3B%0A%0A%20%20%20%20%20%20%20%20%0A%20%20%20%20%20%20%20%20%20%20%20%20var%20html_3c7e2850da314cca82fda457a605e546%20%3D%20%24%28%60%3Cdiv%20id%3D%22html_3c7e2850da314cca82fda457a605e546%22%20style%3D%22width%3A%20100.0%25%3B%20height%3A%20100.0%25%3B%22%3EIsolation%3A%2011.02%3C/div%3E%60%29%5B0%5D%3B%0A%20%20%20%20%20%20%20%20%20%20%20%20popup_ed4b5cee84f84705b3a6efbf0092526f.setContent%28html_3c7e2850da314cca82fda457a605e546%29%3B%0A%20%20%20%20%20%20%20%20%0A%0A%20%20%20%20%20%20%20%20marker_85996d06c5f840ad939378e437241708.bindPopup%28popup_ed4b5cee84f84705b3a6efbf0092526f%29%0A%20%20%20%20%20%20%20%20%3B%0A%0A%20%20%20%20%20%20%20%20%0A%20%20%20%20%0A%20%20%20%20%0A%20%20%20%20%20%20%20%20%20%20%20%20var%20marker_7ea2587e5e0e4d6ba0dc99f6b7221304%20%3D%20L.marker%28%0A%20%20%20%20%20%20%20%20%20%20%20%20%20%20%20%20%5B44.3123%2C%20-118.7166%5D%2C%0A%20%20%20%20%20%20%20%20%20%20%20%20%20%20%20%20%7B%7D%0A%20%20%20%20%20%20%20%20%20%20%20%20%29.addTo%28map_2a68d95aba334e6ebe04ca08d921dc26%29%3B%0A%20%20%20%20%20%20%20%20%0A%20%20%20%20%0A%20%20%20%20%20%20%20%20var%20popup_0a90dc2feff7483f9aab31d304993bd0%20%3D%20L.popup%28%7B%22maxWidth%22%3A%20%22100%25%22%7D%29%3B%0A%0A%20%20%20%20%20%20%20%20%0A%20%20%20%20%20%20%20%20%20%20%20%20var%20html_292a7566bab64e13b6fe4bd6dbccbe73%20%3D%20%24%28%60%3Cdiv%20id%3D%22html_292a7566bab64e13b6fe4bd6dbccbe73%22%20style%3D%22width%3A%20100.0%25%3B%20height%3A%20100.0%25%3B%22%3EIsolation%3A%2074.2%3C/div%3E%60%29%5B0%5D%3B%0A%20%20%20%20%20%20%20%20%20%20%20%20popup_0a90dc2feff7483f9aab31d304993bd0.setContent%28html_292a7566bab64e13b6fe4bd6dbccbe73%29%3B%0A%20%20%20%20%20%20%20%20%0A%0A%20%20%20%20%20%20%20%20marker_7ea2587e5e0e4d6ba0dc99f6b7221304.bindPopup%28popup_0a90dc2feff7483f9aab31d304993bd0%29%0A%20%20%20%20%20%20%20%20%3B%0A%0A%20%20%20%20%20%20%20%20%0A%20%20%20%20%0A%20%20%20%20%0A%20%20%20%20%20%20%20%20%20%20%20%20var%20marker_688cab99ddf544bdb78e6f29f47ec78c%20%3D%20L.marker%28%0A%20%20%20%20%20%20%20%20%20%20%20%20%20%20%20%20%5B42.9229%2C%20-122.0162%5D%2C%0A%20%20%20%20%20%20%20%20%20%20%20%20%20%20%20%20%7B%7D%0A%20%20%20%20%20%20%20%20%20%20%20%20%29.addTo%28map_2a68d95aba334e6ebe04ca08d921dc26%29%3B%0A%20%20%20%20%20%20%20%20%0A%20%20%20%20%0A%20%20%20%20%20%20%20%20var%20popup_f66fabe8a4d44669bea9c25b68fa6ed5%20%3D%20L.popup%28%7B%22maxWidth%22%3A%20%22100%25%22%7D%29%3B%0A%0A%20%20%20%20%20%20%20%20%0A%20%20%20%20%20%20%20%20%20%20%20%20var%20html_18e284e1a137464f91729e37fa15617e%20%3D%20%24%28%60%3Cdiv%20id%3D%22html_18e284e1a137464f91729e37fa15617e%22%20style%3D%22width%3A%20100.0%25%3B%20height%3A%20100.0%25%3B%22%3EIsolation%3A%2025.9%3C/div%3E%60%29%5B0%5D%3B%0A%20%20%20%20%20%20%20%20%20%20%20%20popup_f66fabe8a4d44669bea9c25b68fa6ed5.setContent%28html_18e284e1a137464f91729e37fa15617e%29%3B%0A%20%20%20%20%20%20%20%20%0A%0A%20%20%20%20%20%20%20%20marker_688cab99ddf544bdb78e6f29f47ec78c.bindPopup%28popup_f66fabe8a4d44669bea9c25b68fa6ed5%29%0A%20%20%20%20%20%20%20%20%3B%0A%0A%20%20%20%20%20%20%20%20%0A%20%20%20%20%0A%20%20%20%20%0A%20%20%20%20%20%20%20%20%20%20%20%20var%20marker_b17bef4f5e5a49aaae183c07c4a63ac3%20%3D%20L.marker%28%0A%20%20%20%20%20%20%20%20%20%20%20%20%20%20%20%20%5B43.5207%2C%20-122.1496%5D%2C%0A%20%20%20%20%20%20%20%20%20%20%20%20%20%20%20%20%7B%7D%0A%20%20%20%20%20%20%20%20%20%20%20%20%29.addTo%28map_2a68d95aba334e6ebe04ca08d921dc26%29%3B%0A%20%20%20%20%20%20%20%20%0A%20%20%20%20%0A%20%20%20%20%20%20%20%20var%20popup_0c8ec94d086e4ab6bc22d3df542206e3%20%3D%20L.popup%28%7B%22maxWidth%22%3A%20%22100%25%22%7D%29%3B%0A%0A%20%20%20%20%20%20%20%20%0A%20%20%20%20%20%20%20%20%20%20%20%20var%20html_bfff29d7e9294f2b906f813614d32646%20%3D%20%24%28%60%3Cdiv%20id%3D%22html_bfff29d7e9294f2b906f813614d32646%22%20style%3D%22width%3A%20100.0%25%3B%20height%3A%20100.0%25%3B%22%3EIsolation%3A%2041.4%3C/div%3E%60%29%5B0%5D%3B%0A%20%20%20%20%20%20%20%20%20%20%20%20popup_0c8ec94d086e4ab6bc22d3df542206e3.setContent%28html_bfff29d7e9294f2b906f813614d32646%29%3B%0A%20%20%20%20%20%20%20%20%0A%0A%20%20%20%20%20%20%20%20marker_b17bef4f5e5a49aaae183c07c4a63ac3.bindPopup%28popup_0c8ec94d086e4ab6bc22d3df542206e3%29%0A%20%20%20%20%20%20%20%20%3B%0A%0A%20%20%20%20%20%20%20%20%0A%20%20%20%20%0A%20%20%20%20%0A%20%20%20%20%20%20%20%20%20%20%20%20var%20marker_246b16e2db11443b908095cd5e10c209%20%3D%20L.marker%28%0A%20%20%20%20%20%20%20%20%20%20%20%20%20%20%20%20%5B42.0995%2C%20-118.6506%5D%2C%0A%20%20%20%20%20%20%20%20%20%20%20%20%20%20%20%20%7B%7D%0A%20%20%20%20%20%20%20%20%20%20%20%20%29.addTo%28map_2a68d95aba334e6ebe04ca08d921dc26%29%3B%0A%20%20%20%20%20%20%20%20%0A%20%20%20%20%0A%20%20%20%20%20%20%20%20var%20popup_19152ed57aa84a88847b346f461ac923%20%3D%20L.popup%28%7B%22maxWidth%22%3A%20%22100%25%22%7D%29%3B%0A%0A%20%20%20%20%20%20%20%20%0A%20%20%20%20%20%20%20%20%20%20%20%20var%20html_5c414da546e44bba96712e1e37446585%20%3D%20%24%28%60%3Cdiv%20id%3D%22html_5c414da546e44bba96712e1e37446585%22%20style%3D%22width%3A%20100.0%25%3B%20height%3A%20100.0%25%3B%22%3EIsolation%3A%2045.5%3C/div%3E%60%29%5B0%5D%3B%0A%20%20%20%20%20%20%20%20%20%20%20%20popup_19152ed57aa84a88847b346f461ac923.setContent%28html_5c414da546e44bba96712e1e37446585%29%3B%0A%20%20%20%20%20%20%20%20%0A%0A%20%20%20%20%20%20%20%20marker_246b16e2db11443b908095cd5e10c209.bindPopup%28popup_19152ed57aa84a88847b346f461ac923%29%0A%20%20%20%20%20%20%20%20%3B%0A%0A%20%20%20%20%20%20%20%20%0A%20%20%20%20%0A%20%20%20%20%0A%20%20%20%20%20%20%20%20%20%20%20%20var%20marker_08e62b2841e243bf86ead9005fdd5868%20%3D%20L.marker%28%0A%20%20%20%20%20%20%20%20%20%20%20%20%20%20%20%20%5B42.0628%2C%20-120.2408%5D%2C%0A%20%20%20%20%20%20%20%20%20%20%20%20%20%20%20%20%7B%7D%0A%20%20%20%20%20%20%20%20%20%20%20%20%29.addTo%28map_2a68d95aba334e6ebe04ca08d921dc26%29%3B%0A%20%20%20%20%20%20%20%20%0A%20%20%20%20%0A%20%20%20%20%20%20%20%20var%20popup_166d71d5ced34685ae9f97312c0c879b%20%3D%20L.popup%28%7B%22maxWidth%22%3A%20%22100%25%22%7D%29%3B%0A%0A%20%20%20%20%20%20%20%20%0A%20%20%20%20%20%20%20%20%20%20%20%20var%20html_4daf901f966b4d02b1bc00df3ef53017%20%3D%20%24%28%60%3Cdiv%20id%3D%22html_4daf901f966b4d02b1bc00df3ef53017%22%20style%3D%22width%3A%20100.0%25%3B%20height%3A%20100.0%25%3B%22%3EIsolation%3A%2071.4%3C/div%3E%60%29%5B0%5D%3B%0A%20%20%20%20%20%20%20%20%20%20%20%20popup_166d71d5ced34685ae9f97312c0c879b.setContent%28html_4daf901f966b4d02b1bc00df3ef53017%29%3B%0A%20%20%20%20%20%20%20%20%0A%0A%20%20%20%20%20%20%20%20marker_08e62b2841e243bf86ead9005fdd5868.bindPopup%28popup_166d71d5ced34685ae9f97312c0c879b%29%0A%20%20%20%20%20%20%20%20%3B%0A%0A%20%20%20%20%20%20%20%20%0A%20%20%20%20%0A%20%20%20%20%0A%20%20%20%20%20%20%20%20%20%20%20%20var%20marker_c8dbdfb87e3b472ca39c72f644cd2d97%20%3D%20L.marker%28%0A%20%20%20%20%20%20%20%20%20%20%20%20%20%20%20%20%5B42.3001%2C%20-120.1238%5D%2C%0A%20%20%20%20%20%20%20%20%20%20%20%20%20%20%20%20%7B%7D%0A%20%20%20%20%20%20%20%20%20%20%20%20%29.addTo%28map_2a68d95aba334e6ebe04ca08d921dc26%29%3B%0A%20%20%20%20%20%20%20%20%0A%20%20%20%20%0A%20%20%20%20%20%20%20%20var%20popup_28a5084a957640a2be1122ee431b4a5b%20%3D%20L.popup%28%7B%22maxWidth%22%3A%20%22100%25%22%7D%29%3B%0A%0A%20%20%20%20%20%20%20%20%0A%20%20%20%20%20%20%20%20%20%20%20%20var%20html_a5fc213e8e954a7aaefc8c9cb29e2bc7%20%3D%20%24%28%60%3Cdiv%20id%3D%22html_a5fc213e8e954a7aaefc8c9cb29e2bc7%22%20style%3D%22width%3A%20100.0%25%3B%20height%3A%20100.0%25%3B%22%3EIsolation%3A%2028.1%3C/div%3E%60%29%5B0%5D%3B%0A%20%20%20%20%20%20%20%20%20%20%20%20popup_28a5084a957640a2be1122ee431b4a5b.setContent%28html_a5fc213e8e954a7aaefc8c9cb29e2bc7%29%3B%0A%20%20%20%20%20%20%20%20%0A%0A%20%20%20%20%20%20%20%20marker_c8dbdfb87e3b472ca39c72f644cd2d97.bindPopup%28popup_28a5084a957640a2be1122ee431b4a5b%29%0A%20%20%20%20%20%20%20%20%3B%0A%0A%20%20%20%20%20%20%20%20%0A%20%20%20%20%0A%20%20%20%20%0A%20%20%20%20%20%20%20%20%20%20%20%20var%20marker_7f84c91c77e74b028f442209ee7d05c0%20%3D%20L.marker%28%0A%20%20%20%20%20%20%20%20%20%20%20%20%20%20%20%20%5B43.1551%2C%20-122.22%5D%2C%0A%20%20%20%20%20%20%20%20%20%20%20%20%20%20%20%20%7B%7D%0A%20%20%20%20%20%20%20%20%20%20%20%20%29.addTo%28map_2a68d95aba334e6ebe04ca08d921dc26%29%3B%0A%20%20%20%20%20%20%20%20%0A%20%20%20%20%0A%20%20%20%20%20%20%20%20var%20popup_1a92d400ee1d463186130a72017a266d%20%3D%20L.popup%28%7B%22maxWidth%22%3A%20%22100%25%22%7D%29%3B%0A%0A%20%20%20%20%20%20%20%20%0A%20%20%20%20%20%20%20%20%20%20%20%20var%20html_d1cc6f3c38f244249a9cbf19bd93a8bd%20%3D%20%24%28%60%3Cdiv%20id%3D%22html_d1cc6f3c38f244249a9cbf19bd93a8bd%22%20style%3D%22width%3A%20100.0%25%3B%20height%3A%20100.0%25%3B%22%3EIsolation%3A%2012.49%3C/div%3E%60%29%5B0%5D%3B%0A%20%20%20%20%20%20%20%20%20%20%20%20popup_1a92d400ee1d463186130a72017a266d.setContent%28html_d1cc6f3c38f244249a9cbf19bd93a8bd%29%3B%0A%20%20%20%20%20%20%20%20%0A%0A%20%20%20%20%20%20%20%20marker_7f84c91c77e74b028f442209ee7d05c0.bindPopup%28popup_1a92d400ee1d463186130a72017a266d%29%0A%20%20%20%20%20%20%20%20%3B%0A%0A%20%20%20%20%20%20%20%20%0A%20%20%20%20%0A%20%20%20%20%0A%20%20%20%20%20%20%20%20%20%20%20%20var%20marker_20ff256d95674f0f813ef382cd87916e%20%3D%20L.marker%28%0A%20%20%20%20%20%20%20%20%20%20%20%20%20%20%20%20%5B42.496%2C%20-120.8773%5D%2C%0A%20%20%20%20%20%20%20%20%20%20%20%20%20%20%20%20%7B%7D%0A%20%20%20%20%20%20%20%20%20%20%20%20%29.addTo%28map_2a68d95aba334e6ebe04ca08d921dc26%29%3B%0A%20%20%20%20%20%20%20%20%0A%20%20%20%20%0A%20%20%20%20%20%20%20%20var%20popup_4e8cb7627f01443ab8de46baf1229ae6%20%3D%20L.popup%28%7B%22maxWidth%22%3A%20%22100%25%22%7D%29%3B%0A%0A%20%20%20%20%20%20%20%20%0A%20%20%20%20%20%20%20%20%20%20%20%20var%20html_7a4cf7706b4a434c93602eef9e56fb49%20%3D%20%24%28%60%3Cdiv%20id%3D%22html_7a4cf7706b4a434c93602eef9e56fb49%22%20style%3D%22width%3A%20100.0%25%3B%20height%3A%20100.0%25%3B%22%3EIsolation%3A%2065.7%3C/div%3E%60%29%5B0%5D%3B%0A%20%20%20%20%20%20%20%20%20%20%20%20popup_4e8cb7627f01443ab8de46baf1229ae6.setContent%28html_7a4cf7706b4a434c93602eef9e56fb49%29%3B%0A%20%20%20%20%20%20%20%20%0A%0A%20%20%20%20%20%20%20%20marker_20ff256d95674f0f813ef382cd87916e.bindPopup%28popup_4e8cb7627f01443ab8de46baf1229ae6%29%0A%20%20%20%20%20%20%20%20%3B%0A%0A%20%20%20%20%20%20%20%20%0A%20%20%20%20%0A%20%20%20%20%0A%20%20%20%20%20%20%20%20%20%20%20%20var%20marker_a8839e360f41437a9801594104552507%20%3D%20L.marker%28%0A%20%20%20%20%20%20%20%20%20%20%20%20%20%20%20%20%5B42.3155%2C%20-122.0876%5D%2C%0A%20%20%20%20%20%20%20%20%20%20%20%20%20%20%20%20%7B%7D%0A%20%20%20%20%20%20%20%20%20%20%20%20%29.addTo%28map_2a68d95aba334e6ebe04ca08d921dc26%29%3B%0A%20%20%20%20%20%20%20%20%0A%20%20%20%20%0A%20%20%20%20%20%20%20%20var%20popup_1bc593fd8d69473bacce74880521aa54%20%3D%20L.popup%28%7B%22maxWidth%22%3A%20%22100%25%22%7D%29%3B%0A%0A%20%20%20%20%20%20%20%20%0A%20%20%20%20%20%20%20%20%20%20%20%20var%20html_e7beb4580d8c4e96b8eb1ccb79e8ae41%20%3D%20%24%28%60%3Cdiv%20id%3D%22html_e7beb4580d8c4e96b8eb1ccb79e8ae41%22%20style%3D%22width%3A%20100.0%25%3B%20height%3A%20100.0%25%3B%22%3EIsolation%3A%2023.7%3C/div%3E%60%29%5B0%5D%3B%0A%20%20%20%20%20%20%20%20%20%20%20%20popup_1bc593fd8d69473bacce74880521aa54.setContent%28html_e7beb4580d8c4e96b8eb1ccb79e8ae41%29%3B%0A%20%20%20%20%20%20%20%20%0A%0A%20%20%20%20%20%20%20%20marker_a8839e360f41437a9801594104552507.bindPopup%28popup_1bc593fd8d69473bacce74880521aa54%29%0A%20%20%20%20%20%20%20%20%3B%0A%0A%20%20%20%20%20%20%20%20%0A%20%20%20%20%0A%20%20%20%20%0A%20%20%20%20%20%20%20%20%20%20%20%20var%20marker_ab0e335bc605470e967348fe4bf95399%20%3D%20L.marker%28%0A%20%20%20%20%20%20%20%20%20%20%20%20%20%20%20%20%5B42.9306%2C%20-121.3607%5D%2C%0A%20%20%20%20%20%20%20%20%20%20%20%20%20%20%20%20%7B%7D%0A%20%20%20%20%20%20%20%20%20%20%20%20%29.addTo%28map_2a68d95aba334e6ebe04ca08d921dc26%29%3B%0A%20%20%20%20%20%20%20%20%0A%20%20%20%20%0A%20%20%20%20%20%20%20%20var%20popup_32b297ec51f84bfc908de2e600ea7d7e%20%3D%20L.popup%28%7B%22maxWidth%22%3A%20%22100%25%22%7D%29%3B%0A%0A%20%20%20%20%20%20%20%20%0A%20%20%20%20%20%20%20%20%20%20%20%20var%20html_f157f61296064b8ab1ca6a027bec05a5%20%3D%20%24%28%60%3Cdiv%20id%3D%22html_f157f61296064b8ab1ca6a027bec05a5%22%20style%3D%22width%3A%20100.0%25%3B%20height%3A%20100.0%25%3B%22%3EIsolation%3A%2053.1%3C/div%3E%60%29%5B0%5D%3B%0A%20%20%20%20%20%20%20%20%20%20%20%20popup_32b297ec51f84bfc908de2e600ea7d7e.setContent%28html_f157f61296064b8ab1ca6a027bec05a5%29%3B%0A%20%20%20%20%20%20%20%20%0A%0A%20%20%20%20%20%20%20%20marker_ab0e335bc605470e967348fe4bf95399.bindPopup%28popup_32b297ec51f84bfc908de2e600ea7d7e%29%0A%20%20%20%20%20%20%20%20%3B%0A%0A%20%20%20%20%20%20%20%20%0A%20%20%20%20%0A%20%20%20%20%0A%20%20%20%20%20%20%20%20%20%20%20%20var%20marker_80bcf27976c9428aae8c9d845ebd4462%20%3D%20L.marker%28%0A%20%20%20%20%20%20%20%20%20%20%20%20%20%20%20%20%5B44.7138%2C%20-118.5617%5D%2C%0A%20%20%20%20%20%20%20%20%20%20%20%20%20%20%20%20%7B%7D%0A%20%20%20%20%20%20%20%20%20%20%20%20%29.addTo%28map_2a68d95aba334e6ebe04ca08d921dc26%29%3B%0A%20%20%20%20%20%20%20%20%0A%20%20%20%20%0A%20%20%20%20%20%20%20%20var%20popup_d5c6149581c141df8c463ca5a358173d%20%3D%20L.popup%28%7B%22maxWidth%22%3A%20%22100%25%22%7D%29%3B%0A%0A%20%20%20%20%20%20%20%20%0A%20%20%20%20%20%20%20%20%20%20%20%20var%20html_89f85940249f4f54ac39071c97063a2a%20%3D%20%24%28%60%3Cdiv%20id%3D%22html_89f85940249f4f54ac39071c97063a2a%22%20style%3D%22width%3A%20100.0%25%3B%20height%3A%20100.0%25%3B%22%3EIsolation%3A%2023.5%3C/div%3E%60%29%5B0%5D%3B%0A%20%20%20%20%20%20%20%20%20%20%20%20popup_d5c6149581c141df8c463ca5a358173d.setContent%28html_89f85940249f4f54ac39071c97063a2a%29%3B%0A%20%20%20%20%20%20%20%20%0A%0A%20%20%20%20%20%20%20%20marker_80bcf27976c9428aae8c9d845ebd4462.bindPopup%28popup_d5c6149581c141df8c463ca5a358173d%29%0A%20%20%20%20%20%20%20%20%3B%0A%0A%20%20%20%20%20%20%20%20%0A%20%20%20%20%0A%20%20%20%20%0A%20%20%20%20%20%20%20%20%20%20%20%20var%20marker_96b7a5bc12944cc29f3595c77a9281eb%20%3D%20L.marker%28%0A%20%20%20%20%20%20%20%20%20%20%20%20%20%20%20%20%5B42.5134%2C%20-122.1453%5D%2C%0A%20%20%20%20%20%20%20%20%20%20%20%20%20%20%20%20%7B%7D%0A%20%20%20%20%20%20%20%20%20%20%20%20%29.addTo%28map_2a68d95aba334e6ebe04ca08d921dc26%29%3B%0A%20%20%20%20%20%20%20%20%0A%20%20%20%20%0A%20%20%20%20%20%20%20%20var%20popup_3d7d08e6cd9543be8c0bf05dac875b92%20%3D%20L.popup%28%7B%22maxWidth%22%3A%20%22100%25%22%7D%29%3B%0A%0A%20%20%20%20%20%20%20%20%0A%20%20%20%20%20%20%20%20%20%20%20%20var%20html_bd2eaa3f1ffa435997fa14bf128ccc8a%20%3D%20%24%28%60%3Cdiv%20id%3D%22html_bd2eaa3f1ffa435997fa14bf128ccc8a%22%20style%3D%22width%3A%20100.0%25%3B%20height%3A%20100.0%25%3B%22%3EIsolation%3A%2015.98%3C/div%3E%60%29%5B0%5D%3B%0A%20%20%20%20%20%20%20%20%20%20%20%20popup_3d7d08e6cd9543be8c0bf05dac875b92.setContent%28html_bd2eaa3f1ffa435997fa14bf128ccc8a%29%3B%0A%20%20%20%20%20%20%20%20%0A%0A%20%20%20%20%20%20%20%20marker_96b7a5bc12944cc29f3595c77a9281eb.bindPopup%28popup_3d7d08e6cd9543be8c0bf05dac875b92%29%0A%20%20%20%20%20%20%20%20%3B%0A%0A%20%20%20%20%20%20%20%20%0A%20%20%20%20%0A%20%20%20%20%0A%20%20%20%20%20%20%20%20%20%20%20%20var%20marker_c83efcb590364b37b3f916d87698b0d1%20%3D%20L.marker%28%0A%20%20%20%20%20%20%20%20%20%20%20%20%20%20%20%20%5B44.2889%2C%20-118.4954%5D%2C%0A%20%20%20%20%20%20%20%20%20%20%20%20%20%20%20%20%7B%7D%0A%20%20%20%20%20%20%20%20%20%20%20%20%29.addTo%28map_2a68d95aba334e6ebe04ca08d921dc26%29%3B%0A%20%20%20%20%20%20%20%20%0A%20%20%20%20%0A%20%20%20%20%20%20%20%20var%20popup_ca712bff31a840e1a650b86ba84818bc%20%3D%20L.popup%28%7B%22maxWidth%22%3A%20%22100%25%22%7D%29%3B%0A%0A%20%20%20%20%20%20%20%20%0A%20%20%20%20%20%20%20%20%20%20%20%20var%20html_2058d7dab6c24b0684acee42149a2e01%20%3D%20%24%28%60%3Cdiv%20id%3D%22html_2058d7dab6c24b0684acee42149a2e01%22%20style%3D%22width%3A%20100.0%25%3B%20height%3A%20100.0%25%3B%22%3EIsolation%3A%2010.73%3C/div%3E%60%29%5B0%5D%3B%0A%20%20%20%20%20%20%20%20%20%20%20%20popup_ca712bff31a840e1a650b86ba84818bc.setContent%28html_2058d7dab6c24b0684acee42149a2e01%29%3B%0A%20%20%20%20%20%20%20%20%0A%0A%20%20%20%20%20%20%20%20marker_c83efcb590364b37b3f916d87698b0d1.bindPopup%28popup_ca712bff31a840e1a650b86ba84818bc%29%0A%20%20%20%20%20%20%20%20%3B%0A%0A%20%20%20%20%20%20%20%20%0A%20%20%20%20%0A%20%20%20%20%0A%20%20%20%20%20%20%20%20%20%20%20%20var%20marker_5e74db6cfdbf46298433c4424ed7ca83%20%3D%20L.marker%28%0A%20%20%20%20%20%20%20%20%20%20%20%20%20%20%20%20%5B42.4597%2C%20-119.7414%5D%2C%0A%20%20%20%20%20%20%20%20%20%20%20%20%20%20%20%20%7B%7D%0A%20%20%20%20%20%20%20%20%20%20%20%20%29.addTo%28map_2a68d95aba334e6ebe04ca08d921dc26%29%3B%0A%20%20%20%20%20%20%20%20%0A%20%20%20%20%0A%20%20%20%20%20%20%20%20var%20popup_de398dcda9c14370b1d961e7cec83817%20%3D%20L.popup%28%7B%22maxWidth%22%3A%20%22100%25%22%7D%29%3B%0A%0A%20%20%20%20%20%20%20%20%0A%20%20%20%20%20%20%20%20%20%20%20%20var%20html_794a384dca754b2cb34a53554aa6921a%20%3D%20%24%28%60%3Cdiv%20id%3D%22html_794a384dca754b2cb34a53554aa6921a%22%20style%3D%22width%3A%20100.0%25%3B%20height%3A%20100.0%25%3B%22%3EIsolation%3A%2035.6%3C/div%3E%60%29%5B0%5D%3B%0A%20%20%20%20%20%20%20%20%20%20%20%20popup_de398dcda9c14370b1d961e7cec83817.setContent%28html_794a384dca754b2cb34a53554aa6921a%29%3B%0A%20%20%20%20%20%20%20%20%0A%0A%20%20%20%20%20%20%20%20marker_5e74db6cfdbf46298433c4424ed7ca83.bindPopup%28popup_de398dcda9c14370b1d961e7cec83817%29%0A%20%20%20%20%20%20%20%20%3B%0A%0A%20%20%20%20%20%20%20%20%0A%20%20%20%20%0A%20%20%20%20%0A%20%20%20%20%20%20%20%20%20%20%20%20var%20marker_0d8344e21d81430eae3331b0268073ce%20%3D%20L.marker%28%0A%20%20%20%20%20%20%20%20%20%20%20%20%20%20%20%20%5B43.6892%2C%20-121.2549%5D%2C%0A%20%20%20%20%20%20%20%20%20%20%20%20%20%20%20%20%7B%7D%0A%20%20%20%20%20%20%20%20%20%20%20%20%29.addTo%28map_2a68d95aba334e6ebe04ca08d921dc26%29%3B%0A%20%20%20%20%20%20%20%20%0A%20%20%20%20%0A%20%20%20%20%20%20%20%20var%20popup_63fd034fef444cd89a4f2aba9950e313%20%3D%20L.popup%28%7B%22maxWidth%22%3A%20%22100%25%22%7D%29%3B%0A%0A%20%20%20%20%20%20%20%20%0A%20%20%20%20%20%20%20%20%20%20%20%20var%20html_b65fe748707141a0af04d7a7fb35beb8%20%3D%20%24%28%60%3Cdiv%20id%3D%22html_b65fe748707141a0af04d7a7fb35beb8%22%20style%3D%22width%3A%20100.0%25%3B%20height%3A%20100.0%25%3B%22%3EIsolation%3A%2046.5%3C/div%3E%60%29%5B0%5D%3B%0A%20%20%20%20%20%20%20%20%20%20%20%20popup_63fd034fef444cd89a4f2aba9950e313.setContent%28html_b65fe748707141a0af04d7a7fb35beb8%29%3B%0A%20%20%20%20%20%20%20%20%0A%0A%20%20%20%20%20%20%20%20marker_0d8344e21d81430eae3331b0268073ce.bindPopup%28popup_63fd034fef444cd89a4f2aba9950e313%29%0A%20%20%20%20%20%20%20%20%3B%0A%0A%20%20%20%20%20%20%20%20%0A%20%20%20%20%0A%3C/script%3E onload=\"this.contentDocument.open();this.contentDocument.write(    decodeURIComponent(this.getAttribute('data-html')));this.contentDocument.close();\" allowfullscreen webkitallowfullscreen mozallowfullscreen></iframe></div></div>"
      ],
      "text/plain": [
       "<folium.folium.Map at 0x17edc4344c0>"
      ]
     },
     "execution_count": 16,
     "metadata": {},
     "output_type": "execute_result"
    }
   ],
   "source": [
    "map = folium.Map(location=[44, -121], zoom_start=7)\n",
    "for i in range(0, len(coords)):\n",
    "    folium.Marker(coords[i], popup='Isolation: ' + str(isolation[i])).add_to(map)\n",
    "map"
   ]
  },
  {
   "cell_type": "markdown",
   "id": "a6956e00",
   "metadata": {},
   "source": [
    "**Extra Credit:** Add name of mountain to map"
   ]
  },
  {
   "cell_type": "code",
   "execution_count": 17,
   "id": "85e8670d",
   "metadata": {},
   "outputs": [
    {
     "data": {
      "text/plain": [
       "['Mount Hood',\n",
       " 'Mount Jefferson',\n",
       " 'South Sister',\n",
       " 'North Sister',\n",
       " 'Middle Sister',\n",
       " 'Sacajawea Peak',\n",
       " 'Steens Mountain',\n",
       " 'Aneroid Mountain',\n",
       " 'Twin Peaks',\n",
       " 'Red Mountain',\n",
       " 'Mount McLoughlin',\n",
       " 'Elkhorn Peak',\n",
       " 'Mount Thielsen',\n",
       " 'Broken Top',\n",
       " 'Rock Creek Butte',\n",
       " 'Mount Bachelor',\n",
       " 'Strawberry Mountain',\n",
       " 'Mount Scott',\n",
       " 'Diamond Peak',\n",
       " 'Pueblo Mountain',\n",
       " 'Crane Mountain',\n",
       " 'Drake Peak',\n",
       " 'Mount Bailey',\n",
       " 'Gearhart Mountain',\n",
       " 'Aspen Butte',\n",
       " 'Yamsay Mountain',\n",
       " 'Vinegar Hill',\n",
       " 'Pelican Butte',\n",
       " 'Lookout Mountain',\n",
       " 'Warner Peak',\n",
       " 'Paulina Peak']"
      ]
     },
     "execution_count": 17,
     "metadata": {},
     "output_type": "execute_result"
    }
   ],
   "source": [
    "import re # Regular expression module to format strings \n",
    "\n",
    "# Get mountian name without brackets\n",
    "names = []\n",
    "for i in range(len(mountain_stats)):\n",
    "    name = mountain_stats['Mountain peak'].iloc[i]\n",
    "    name = re.sub(\"[\\(\\[].*?[\\)\\]]\", \"\", name) # remove brackets and characters within\n",
    "    names.append(name)\n",
    "names"
   ]
  },
  {
   "cell_type": "code",
   "execution_count": 18,
   "id": "1d3643d2",
   "metadata": {},
   "outputs": [
    {
     "data": {
      "text/html": [
       "<div style=\"width:100%;\"><div style=\"position:relative;width:100%;height:0;padding-bottom:60%;\"><span style=\"color:#565656\">Make this Notebook Trusted to load map: File -> Trust Notebook</span><iframe src=\"about:blank\" style=\"position:absolute;width:100%;height:100%;left:0;top:0;border:none !important;\" data-html=%3C%21DOCTYPE%20html%3E%0A%3Chead%3E%20%20%20%20%0A%20%20%20%20%3Cmeta%20http-equiv%3D%22content-type%22%20content%3D%22text/html%3B%20charset%3DUTF-8%22%20/%3E%0A%20%20%20%20%0A%20%20%20%20%20%20%20%20%3Cscript%3E%0A%20%20%20%20%20%20%20%20%20%20%20%20L_NO_TOUCH%20%3D%20false%3B%0A%20%20%20%20%20%20%20%20%20%20%20%20L_DISABLE_3D%20%3D%20false%3B%0A%20%20%20%20%20%20%20%20%3C/script%3E%0A%20%20%20%20%0A%20%20%20%20%3Cstyle%3Ehtml%2C%20body%20%7Bwidth%3A%20100%25%3Bheight%3A%20100%25%3Bmargin%3A%200%3Bpadding%3A%200%3B%7D%3C/style%3E%0A%20%20%20%20%3Cstyle%3E%23map%20%7Bposition%3Aabsolute%3Btop%3A0%3Bbottom%3A0%3Bright%3A0%3Bleft%3A0%3B%7D%3C/style%3E%0A%20%20%20%20%3Cscript%20src%3D%22https%3A//cdn.jsdelivr.net/npm/leaflet%401.6.0/dist/leaflet.js%22%3E%3C/script%3E%0A%20%20%20%20%3Cscript%20src%3D%22https%3A//code.jquery.com/jquery-1.12.4.min.js%22%3E%3C/script%3E%0A%20%20%20%20%3Cscript%20src%3D%22https%3A//maxcdn.bootstrapcdn.com/bootstrap/3.2.0/js/bootstrap.min.js%22%3E%3C/script%3E%0A%20%20%20%20%3Cscript%20src%3D%22https%3A//cdnjs.cloudflare.com/ajax/libs/Leaflet.awesome-markers/2.0.2/leaflet.awesome-markers.js%22%3E%3C/script%3E%0A%20%20%20%20%3Clink%20rel%3D%22stylesheet%22%20href%3D%22https%3A//cdn.jsdelivr.net/npm/leaflet%401.6.0/dist/leaflet.css%22/%3E%0A%20%20%20%20%3Clink%20rel%3D%22stylesheet%22%20href%3D%22https%3A//maxcdn.bootstrapcdn.com/bootstrap/3.2.0/css/bootstrap.min.css%22/%3E%0A%20%20%20%20%3Clink%20rel%3D%22stylesheet%22%20href%3D%22https%3A//maxcdn.bootstrapcdn.com/bootstrap/3.2.0/css/bootstrap-theme.min.css%22/%3E%0A%20%20%20%20%3Clink%20rel%3D%22stylesheet%22%20href%3D%22https%3A//maxcdn.bootstrapcdn.com/font-awesome/4.6.3/css/font-awesome.min.css%22/%3E%0A%20%20%20%20%3Clink%20rel%3D%22stylesheet%22%20href%3D%22https%3A//cdnjs.cloudflare.com/ajax/libs/Leaflet.awesome-markers/2.0.2/leaflet.awesome-markers.css%22/%3E%0A%20%20%20%20%3Clink%20rel%3D%22stylesheet%22%20href%3D%22https%3A//cdn.jsdelivr.net/gh/python-visualization/folium/folium/templates/leaflet.awesome.rotate.min.css%22/%3E%0A%20%20%20%20%0A%20%20%20%20%20%20%20%20%20%20%20%20%3Cmeta%20name%3D%22viewport%22%20content%3D%22width%3Ddevice-width%2C%0A%20%20%20%20%20%20%20%20%20%20%20%20%20%20%20%20initial-scale%3D1.0%2C%20maximum-scale%3D1.0%2C%20user-scalable%3Dno%22%20/%3E%0A%20%20%20%20%20%20%20%20%20%20%20%20%3Cstyle%3E%0A%20%20%20%20%20%20%20%20%20%20%20%20%20%20%20%20%23map_39f13164dac2462785f2a326c4ef9be7%20%7B%0A%20%20%20%20%20%20%20%20%20%20%20%20%20%20%20%20%20%20%20%20position%3A%20relative%3B%0A%20%20%20%20%20%20%20%20%20%20%20%20%20%20%20%20%20%20%20%20width%3A%20100.0%25%3B%0A%20%20%20%20%20%20%20%20%20%20%20%20%20%20%20%20%20%20%20%20height%3A%20100.0%25%3B%0A%20%20%20%20%20%20%20%20%20%20%20%20%20%20%20%20%20%20%20%20left%3A%200.0%25%3B%0A%20%20%20%20%20%20%20%20%20%20%20%20%20%20%20%20%20%20%20%20top%3A%200.0%25%3B%0A%20%20%20%20%20%20%20%20%20%20%20%20%20%20%20%20%7D%0A%20%20%20%20%20%20%20%20%20%20%20%20%3C/style%3E%0A%20%20%20%20%20%20%20%20%0A%3C/head%3E%0A%3Cbody%3E%20%20%20%20%0A%20%20%20%20%0A%20%20%20%20%20%20%20%20%20%20%20%20%3Cdiv%20class%3D%22folium-map%22%20id%3D%22map_39f13164dac2462785f2a326c4ef9be7%22%20%3E%3C/div%3E%0A%20%20%20%20%20%20%20%20%0A%3C/body%3E%0A%3Cscript%3E%20%20%20%20%0A%20%20%20%20%0A%20%20%20%20%20%20%20%20%20%20%20%20var%20map_39f13164dac2462785f2a326c4ef9be7%20%3D%20L.map%28%0A%20%20%20%20%20%20%20%20%20%20%20%20%20%20%20%20%22map_39f13164dac2462785f2a326c4ef9be7%22%2C%0A%20%20%20%20%20%20%20%20%20%20%20%20%20%20%20%20%7B%0A%20%20%20%20%20%20%20%20%20%20%20%20%20%20%20%20%20%20%20%20center%3A%20%5B44.0%2C%20-121.0%5D%2C%0A%20%20%20%20%20%20%20%20%20%20%20%20%20%20%20%20%20%20%20%20crs%3A%20L.CRS.EPSG3857%2C%0A%20%20%20%20%20%20%20%20%20%20%20%20%20%20%20%20%20%20%20%20zoom%3A%207%2C%0A%20%20%20%20%20%20%20%20%20%20%20%20%20%20%20%20%20%20%20%20zoomControl%3A%20true%2C%0A%20%20%20%20%20%20%20%20%20%20%20%20%20%20%20%20%20%20%20%20preferCanvas%3A%20false%2C%0A%20%20%20%20%20%20%20%20%20%20%20%20%20%20%20%20%7D%0A%20%20%20%20%20%20%20%20%20%20%20%20%29%3B%0A%0A%20%20%20%20%20%20%20%20%20%20%20%20%0A%0A%20%20%20%20%20%20%20%20%0A%20%20%20%20%0A%20%20%20%20%20%20%20%20%20%20%20%20var%20tile_layer_fe8a662bf2f0414eb94bbd6f78442cc8%20%3D%20L.tileLayer%28%0A%20%20%20%20%20%20%20%20%20%20%20%20%20%20%20%20%22https%3A//%7Bs%7D.tile.openstreetmap.org/%7Bz%7D/%7Bx%7D/%7By%7D.png%22%2C%0A%20%20%20%20%20%20%20%20%20%20%20%20%20%20%20%20%7B%22attribution%22%3A%20%22Data%20by%20%5Cu0026copy%3B%20%5Cu003ca%20href%3D%5C%22http%3A//openstreetmap.org%5C%22%5Cu003eOpenStreetMap%5Cu003c/a%5Cu003e%2C%20under%20%5Cu003ca%20href%3D%5C%22http%3A//www.openstreetmap.org/copyright%5C%22%5Cu003eODbL%5Cu003c/a%5Cu003e.%22%2C%20%22detectRetina%22%3A%20false%2C%20%22maxNativeZoom%22%3A%2018%2C%20%22maxZoom%22%3A%2018%2C%20%22minZoom%22%3A%200%2C%20%22noWrap%22%3A%20false%2C%20%22opacity%22%3A%201%2C%20%22subdomains%22%3A%20%22abc%22%2C%20%22tms%22%3A%20false%7D%0A%20%20%20%20%20%20%20%20%20%20%20%20%29.addTo%28map_39f13164dac2462785f2a326c4ef9be7%29%3B%0A%20%20%20%20%20%20%20%20%0A%20%20%20%20%0A%20%20%20%20%20%20%20%20%20%20%20%20var%20marker_4a5650ccccb14f98bc7fae41262a245d%20%3D%20L.marker%28%0A%20%20%20%20%20%20%20%20%20%20%20%20%20%20%20%20%5B45.3735%2C%20-121.6959%5D%2C%0A%20%20%20%20%20%20%20%20%20%20%20%20%20%20%20%20%7B%7D%0A%20%20%20%20%20%20%20%20%20%20%20%20%29.addTo%28map_39f13164dac2462785f2a326c4ef9be7%29%3B%0A%20%20%20%20%20%20%20%20%0A%20%20%20%20%0A%20%20%20%20%20%20%20%20var%20popup_f32ae35ed89c4b3488b716ec203f618d%20%3D%20L.popup%28%7B%22maxWidth%22%3A%20%22100%25%22%7D%29%3B%0A%0A%20%20%20%20%20%20%20%20%0A%20%20%20%20%20%20%20%20%20%20%20%20var%20html_f68b9159978848a99f6d9adf7b67d6f7%20%3D%20%24%28%60%3Cdiv%20id%3D%22html_f68b9159978848a99f6d9adf7b67d6f7%22%20style%3D%22width%3A%20100.0%25%3B%20height%3A%20100.0%25%3B%22%3EName%3A%20Mount%20Hood%20Isolation%3A%2092.2%3C/div%3E%60%29%5B0%5D%3B%0A%20%20%20%20%20%20%20%20%20%20%20%20popup_f32ae35ed89c4b3488b716ec203f618d.setContent%28html_f68b9159978848a99f6d9adf7b67d6f7%29%3B%0A%20%20%20%20%20%20%20%20%0A%0A%20%20%20%20%20%20%20%20marker_4a5650ccccb14f98bc7fae41262a245d.bindPopup%28popup_f32ae35ed89c4b3488b716ec203f618d%29%0A%20%20%20%20%20%20%20%20%3B%0A%0A%20%20%20%20%20%20%20%20%0A%20%20%20%20%0A%20%20%20%20%0A%20%20%20%20%20%20%20%20%20%20%20%20var%20marker_32208fdef1f446f28415c12f491936fe%20%3D%20L.marker%28%0A%20%20%20%20%20%20%20%20%20%20%20%20%20%20%20%20%5B44.6743%2C%20-121.7996%5D%2C%0A%20%20%20%20%20%20%20%20%20%20%20%20%20%20%20%20%7B%7D%0A%20%20%20%20%20%20%20%20%20%20%20%20%29.addTo%28map_39f13164dac2462785f2a326c4ef9be7%29%3B%0A%20%20%20%20%20%20%20%20%0A%20%20%20%20%0A%20%20%20%20%20%20%20%20var%20popup_77812d6245434fb587e0ae4dd3476e32%20%3D%20L.popup%28%7B%22maxWidth%22%3A%20%22100%25%22%7D%29%3B%0A%0A%20%20%20%20%20%20%20%20%0A%20%20%20%20%20%20%20%20%20%20%20%20var%20html_8e662184ee924739ae40b607c659ae8a%20%3D%20%24%28%60%3Cdiv%20id%3D%22html_8e662184ee924739ae40b607c659ae8a%22%20style%3D%22width%3A%20100.0%25%3B%20height%3A%20100.0%25%3B%22%3EName%3A%20Mount%20Jefferson%20Isolation%3A%2077.5%3C/div%3E%60%29%5B0%5D%3B%0A%20%20%20%20%20%20%20%20%20%20%20%20popup_77812d6245434fb587e0ae4dd3476e32.setContent%28html_8e662184ee924739ae40b607c659ae8a%29%3B%0A%20%20%20%20%20%20%20%20%0A%0A%20%20%20%20%20%20%20%20marker_32208fdef1f446f28415c12f491936fe.bindPopup%28popup_77812d6245434fb587e0ae4dd3476e32%29%0A%20%20%20%20%20%20%20%20%3B%0A%0A%20%20%20%20%20%20%20%20%0A%20%20%20%20%0A%20%20%20%20%0A%20%20%20%20%20%20%20%20%20%20%20%20var%20marker_97ce093b025247aa93a27bbdee96ca8e%20%3D%20L.marker%28%0A%20%20%20%20%20%20%20%20%20%20%20%20%20%20%20%20%5B44.1035%2C%20-121.7693%5D%2C%0A%20%20%20%20%20%20%20%20%20%20%20%20%20%20%20%20%7B%7D%0A%20%20%20%20%20%20%20%20%20%20%20%20%29.addTo%28map_39f13164dac2462785f2a326c4ef9be7%29%3B%0A%20%20%20%20%20%20%20%20%0A%20%20%20%20%0A%20%20%20%20%20%20%20%20var%20popup_bbbd8da9c8ca4e20b5aa637da0bc87f6%20%3D%20L.popup%28%7B%22maxWidth%22%3A%20%22100%25%22%7D%29%3B%0A%0A%20%20%20%20%20%20%20%20%0A%20%20%20%20%20%20%20%20%20%20%20%20var%20html_234ee44f52224c6a99d18ddbe8a4b08c%20%3D%20%24%28%60%3Cdiv%20id%3D%22html_234ee44f52224c6a99d18ddbe8a4b08c%22%20style%3D%22width%3A%20100.0%25%3B%20height%3A%20100.0%25%3B%22%3EName%3A%20South%20Sister%20Isolation%3A%2063.4%3C/div%3E%60%29%5B0%5D%3B%0A%20%20%20%20%20%20%20%20%20%20%20%20popup_bbbd8da9c8ca4e20b5aa637da0bc87f6.setContent%28html_234ee44f52224c6a99d18ddbe8a4b08c%29%3B%0A%20%20%20%20%20%20%20%20%0A%0A%20%20%20%20%20%20%20%20marker_97ce093b025247aa93a27bbdee96ca8e.bindPopup%28popup_bbbd8da9c8ca4e20b5aa637da0bc87f6%29%0A%20%20%20%20%20%20%20%20%3B%0A%0A%20%20%20%20%20%20%20%20%0A%20%20%20%20%0A%20%20%20%20%0A%20%20%20%20%20%20%20%20%20%20%20%20var%20marker_f9507a9d1d1a40a99847044eec69f1cc%20%3D%20L.marker%28%0A%20%20%20%20%20%20%20%20%20%20%20%20%20%20%20%20%5B44.1666%2C%20-121.7723%5D%2C%0A%20%20%20%20%20%20%20%20%20%20%20%20%20%20%20%20%7B%7D%0A%20%20%20%20%20%20%20%20%20%20%20%20%29.addTo%28map_39f13164dac2462785f2a326c4ef9be7%29%3B%0A%20%20%20%20%20%20%20%20%0A%20%20%20%20%0A%20%20%20%20%20%20%20%20var%20popup_b0364800b4274596a992eb85f2f348c5%20%3D%20L.popup%28%7B%22maxWidth%22%3A%20%22100%25%22%7D%29%3B%0A%0A%20%20%20%20%20%20%20%20%0A%20%20%20%20%20%20%20%20%20%20%20%20var%20html_58039681fe254f1c87982585a583dac1%20%3D%20%24%28%60%3Cdiv%20id%3D%22html_58039681fe254f1c87982585a583dac1%22%20style%3D%22width%3A%20100.0%25%3B%20height%3A%20100.0%25%3B%22%3EName%3A%20North%20Sister%20Isolation%3A%207.0%3C/div%3E%60%29%5B0%5D%3B%0A%20%20%20%20%20%20%20%20%20%20%20%20popup_b0364800b4274596a992eb85f2f348c5.setContent%28html_58039681fe254f1c87982585a583dac1%29%3B%0A%20%20%20%20%20%20%20%20%0A%0A%20%20%20%20%20%20%20%20marker_f9507a9d1d1a40a99847044eec69f1cc.bindPopup%28popup_b0364800b4274596a992eb85f2f348c5%29%0A%20%20%20%20%20%20%20%20%3B%0A%0A%20%20%20%20%20%20%20%20%0A%20%20%20%20%0A%20%20%20%20%0A%20%20%20%20%20%20%20%20%20%20%20%20var%20marker_f422683a7aef4911ad49bb0dbeecd98d%20%3D%20L.marker%28%0A%20%20%20%20%20%20%20%20%20%20%20%20%20%20%20%20%5B44.1483%2C%20-121.784%5D%2C%0A%20%20%20%20%20%20%20%20%20%20%20%20%20%20%20%20%7B%7D%0A%20%20%20%20%20%20%20%20%20%20%20%20%29.addTo%28map_39f13164dac2462785f2a326c4ef9be7%29%3B%0A%20%20%20%20%20%20%20%20%0A%20%20%20%20%0A%20%20%20%20%20%20%20%20var%20popup_4405d0198fdc46b680dbf83efc824e56%20%3D%20L.popup%28%7B%22maxWidth%22%3A%20%22100%25%22%7D%29%3B%0A%0A%20%20%20%20%20%20%20%20%0A%20%20%20%20%20%20%20%20%20%20%20%20var%20html_ac68ff219f104f63a23394e623eb3c8e%20%3D%20%24%28%60%3Cdiv%20id%3D%22html_ac68ff219f104f63a23394e623eb3c8e%22%20style%3D%22width%3A%20100.0%25%3B%20height%3A%20100.0%25%3B%22%3EName%3A%20Middle%20Sister%20Isolation%3A%201.8%3C/div%3E%60%29%5B0%5D%3B%0A%20%20%20%20%20%20%20%20%20%20%20%20popup_4405d0198fdc46b680dbf83efc824e56.setContent%28html_ac68ff219f104f63a23394e623eb3c8e%29%3B%0A%20%20%20%20%20%20%20%20%0A%0A%20%20%20%20%20%20%20%20marker_f422683a7aef4911ad49bb0dbeecd98d.bindPopup%28popup_4405d0198fdc46b680dbf83efc824e56%29%0A%20%20%20%20%20%20%20%20%3B%0A%0A%20%20%20%20%20%20%20%20%0A%20%20%20%20%0A%20%20%20%20%0A%20%20%20%20%20%20%20%20%20%20%20%20var%20marker_77c334cd836941b9bfd1bc0824faedf9%20%3D%20L.marker%28%0A%20%20%20%20%20%20%20%20%20%20%20%20%20%20%20%20%5B45.245%2C%20-117.2929%5D%2C%0A%20%20%20%20%20%20%20%20%20%20%20%20%20%20%20%20%7B%7D%0A%20%20%20%20%20%20%20%20%20%20%20%20%29.addTo%28map_39f13164dac2462785f2a326c4ef9be7%29%3B%0A%20%20%20%20%20%20%20%20%0A%20%20%20%20%0A%20%20%20%20%20%20%20%20var%20popup_f60e7da740a54aaba2d0c4a0806fda2e%20%3D%20L.popup%28%7B%22maxWidth%22%3A%20%22100%25%22%7D%29%3B%0A%0A%20%20%20%20%20%20%20%20%0A%20%20%20%20%20%20%20%20%20%20%20%20var%20html_6a70710fbffc4bdcaf5618a6e707ab9c%20%3D%20%24%28%60%3Cdiv%20id%3D%22html_6a70710fbffc4bdcaf5618a6e707ab9c%22%20style%3D%22width%3A%20100.0%25%3B%20height%3A%20100.0%25%3B%22%3EName%3A%20Sacajawea%20Peak%20Isolation%3A%20202.0%3C/div%3E%60%29%5B0%5D%3B%0A%20%20%20%20%20%20%20%20%20%20%20%20popup_f60e7da740a54aaba2d0c4a0806fda2e.setContent%28html_6a70710fbffc4bdcaf5618a6e707ab9c%29%3B%0A%20%20%20%20%20%20%20%20%0A%0A%20%20%20%20%20%20%20%20marker_77c334cd836941b9bfd1bc0824faedf9.bindPopup%28popup_f60e7da740a54aaba2d0c4a0806fda2e%29%0A%20%20%20%20%20%20%20%20%3B%0A%0A%20%20%20%20%20%20%20%20%0A%20%20%20%20%0A%20%20%20%20%0A%20%20%20%20%20%20%20%20%20%20%20%20var%20marker_0f04443cde5e4a078e0dd39f8536b0c1%20%3D%20L.marker%28%0A%20%20%20%20%20%20%20%20%20%20%20%20%20%20%20%20%5B42.6364%2C%20-118.5767%5D%2C%0A%20%20%20%20%20%20%20%20%20%20%20%20%20%20%20%20%7B%7D%0A%20%20%20%20%20%20%20%20%20%20%20%20%29.addTo%28map_39f13164dac2462785f2a326c4ef9be7%29%3B%0A%20%20%20%20%20%20%20%20%0A%20%20%20%20%0A%20%20%20%20%20%20%20%20var%20popup_d5e6bb6ada0f436db31f72a95d5636c4%20%3D%20L.popup%28%7B%22maxWidth%22%3A%20%22100%25%22%7D%29%3B%0A%0A%20%20%20%20%20%20%20%20%0A%20%20%20%20%20%20%20%20%20%20%20%20var%20html_3633571fbe8f40b89387e6a058371e31%20%3D%20%24%28%60%3Cdiv%20id%3D%22html_3633571fbe8f40b89387e6a058371e31%22%20style%3D%22width%3A%20100.0%25%3B%20height%3A%20100.0%25%3B%22%3EName%3A%20Steens%20Mountain%20Isolation%3A%20201.0%3C/div%3E%60%29%5B0%5D%3B%0A%20%20%20%20%20%20%20%20%20%20%20%20popup_d5e6bb6ada0f436db31f72a95d5636c4.setContent%28html_3633571fbe8f40b89387e6a058371e31%29%3B%0A%20%20%20%20%20%20%20%20%0A%0A%20%20%20%20%20%20%20%20marker_0f04443cde5e4a078e0dd39f8536b0c1.bindPopup%28popup_d5e6bb6ada0f436db31f72a95d5636c4%29%0A%20%20%20%20%20%20%20%20%3B%0A%0A%20%20%20%20%20%20%20%20%0A%20%20%20%20%0A%20%20%20%20%0A%20%20%20%20%20%20%20%20%20%20%20%20var%20marker_6ee4be90ec564c4ca7e09158a4b337a6%20%3D%20L.marker%28%0A%20%20%20%20%20%20%20%20%20%20%20%20%20%20%20%20%5B45.203%2C%20-117.175%5D%2C%0A%20%20%20%20%20%20%20%20%20%20%20%20%20%20%20%20%7B%7D%0A%20%20%20%20%20%20%20%20%20%20%20%20%29.addTo%28map_39f13164dac2462785f2a326c4ef9be7%29%3B%0A%20%20%20%20%20%20%20%20%0A%20%20%20%20%0A%20%20%20%20%20%20%20%20var%20popup_1f6eb46463c449eeb97936be0a5dd148%20%3D%20L.popup%28%7B%22maxWidth%22%3A%20%22100%25%22%7D%29%3B%0A%0A%20%20%20%20%20%20%20%20%0A%20%20%20%20%20%20%20%20%20%20%20%20var%20html_f386b93a03f84267b16f566c3a9ee3d3%20%3D%20%24%28%60%3Cdiv%20id%3D%22html_f386b93a03f84267b16f566c3a9ee3d3%22%20style%3D%22width%3A%20100.0%25%3B%20height%3A%20100.0%25%3B%22%3EName%3A%20Aneroid%20Mountain%20Isolation%3A%209.48%3C/div%3E%60%29%5B0%5D%3B%0A%20%20%20%20%20%20%20%20%20%20%20%20popup_1f6eb46463c449eeb97936be0a5dd148.setContent%28html_f386b93a03f84267b16f566c3a9ee3d3%29%3B%0A%20%20%20%20%20%20%20%20%0A%0A%20%20%20%20%20%20%20%20marker_6ee4be90ec564c4ca7e09158a4b337a6.bindPopup%28popup_1f6eb46463c449eeb97936be0a5dd148%29%0A%20%20%20%20%20%20%20%20%3B%0A%0A%20%20%20%20%20%20%20%20%0A%20%20%20%20%0A%20%20%20%20%0A%20%20%20%20%20%20%20%20%20%20%20%20var%20marker_f68337d6e6ac4ded8efe4fc1689bb392%20%3D%20L.marker%28%0A%20%20%20%20%20%20%20%20%20%20%20%20%20%20%20%20%5B45.3046%2C%20-117.3452%5D%2C%0A%20%20%20%20%20%20%20%20%20%20%20%20%20%20%20%20%7B%7D%0A%20%20%20%20%20%20%20%20%20%20%20%20%29.addTo%28map_39f13164dac2462785f2a326c4ef9be7%29%3B%0A%20%20%20%20%20%20%20%20%0A%20%20%20%20%0A%20%20%20%20%20%20%20%20var%20popup_0a3d4a4a683f410db187358ad44ae975%20%3D%20L.popup%28%7B%22maxWidth%22%3A%20%22100%25%22%7D%29%3B%0A%0A%20%20%20%20%20%20%20%20%0A%20%20%20%20%20%20%20%20%20%20%20%20var%20html_21712038ef5346888840a8df17911962%20%3D%20%24%28%60%3Cdiv%20id%3D%22html_21712038ef5346888840a8df17911962%22%20style%3D%22width%3A%20100.0%25%3B%20height%3A%20100.0%25%3B%22%3EName%3A%20Twin%20Peaks%20Isolation%3A%207.79%3C/div%3E%60%29%5B0%5D%3B%0A%20%20%20%20%20%20%20%20%20%20%20%20popup_0a3d4a4a683f410db187358ad44ae975.setContent%28html_21712038ef5346888840a8df17911962%29%3B%0A%20%20%20%20%20%20%20%20%0A%0A%20%20%20%20%20%20%20%20marker_f68337d6e6ac4ded8efe4fc1689bb392.bindPopup%28popup_0a3d4a4a683f410db187358ad44ae975%29%0A%20%20%20%20%20%20%20%20%3B%0A%0A%20%20%20%20%20%20%20%20%0A%20%20%20%20%0A%20%20%20%20%0A%20%20%20%20%20%20%20%20%20%20%20%20var%20marker_09275423f2214532b7ebf144a09e0c5e%20%3D%20L.marker%28%0A%20%20%20%20%20%20%20%20%20%20%20%20%20%20%20%20%5B45.0644%2C%20-117.246%5D%2C%0A%20%20%20%20%20%20%20%20%20%20%20%20%20%20%20%20%7B%7D%0A%20%20%20%20%20%20%20%20%20%20%20%20%29.addTo%28map_39f13164dac2462785f2a326c4ef9be7%29%3B%0A%20%20%20%20%20%20%20%20%0A%20%20%20%20%0A%20%20%20%20%20%20%20%20var%20popup_f7ccec640943481595cf17c339ff55f1%20%3D%20L.popup%28%7B%22maxWidth%22%3A%20%22100%25%22%7D%29%3B%0A%0A%20%20%20%20%20%20%20%20%0A%20%20%20%20%20%20%20%20%20%20%20%20var%20html_76f91db1e1d441a0b68d7499f26f9e88%20%3D%20%24%28%60%3Cdiv%20id%3D%22html_76f91db1e1d441a0b68d7499f26f9e88%22%20style%3D%22width%3A%20100.0%25%3B%20height%3A%20100.0%25%3B%22%3EName%3A%20Red%20Mountain%20Isolation%3A%2011.84%3C/div%3E%60%29%5B0%5D%3B%0A%20%20%20%20%20%20%20%20%20%20%20%20popup_f7ccec640943481595cf17c339ff55f1.setContent%28html_76f91db1e1d441a0b68d7499f26f9e88%29%3B%0A%20%20%20%20%20%20%20%20%0A%0A%20%20%20%20%20%20%20%20marker_09275423f2214532b7ebf144a09e0c5e.bindPopup%28popup_f7ccec640943481595cf17c339ff55f1%29%0A%20%20%20%20%20%20%20%20%3B%0A%0A%20%20%20%20%20%20%20%20%0A%20%20%20%20%0A%20%20%20%20%0A%20%20%20%20%20%20%20%20%20%20%20%20var%20marker_77477f60da8649ee87a7fe2ac461929b%20%3D%20L.marker%28%0A%20%20%20%20%20%20%20%20%20%20%20%20%20%20%20%20%5B42.4445%2C%20-122.3156%5D%2C%0A%20%20%20%20%20%20%20%20%20%20%20%20%20%20%20%20%7B%7D%0A%20%20%20%20%20%20%20%20%20%20%20%20%29.addTo%28map_39f13164dac2462785f2a326c4ef9be7%29%3B%0A%20%20%20%20%20%20%20%20%0A%20%20%20%20%0A%20%20%20%20%20%20%20%20var%20popup_1536c822caca4b969a17703b24d91685%20%3D%20L.popup%28%7B%22maxWidth%22%3A%20%22100%25%22%7D%29%3B%0A%0A%20%20%20%20%20%20%20%20%0A%20%20%20%20%20%20%20%20%20%20%20%20var%20html_30195a8bcf044c19ad59377eb0105b3c%20%3D%20%24%28%60%3Cdiv%20id%3D%22html_30195a8bcf044c19ad59377eb0105b3c%22%20style%3D%22width%3A%20100.0%25%3B%20height%3A%20100.0%25%3B%22%3EName%3A%20Mount%20McLoughlin%20Isolation%3A%20111.8%3C/div%3E%60%29%5B0%5D%3B%0A%20%20%20%20%20%20%20%20%20%20%20%20popup_1536c822caca4b969a17703b24d91685.setContent%28html_30195a8bcf044c19ad59377eb0105b3c%29%3B%0A%20%20%20%20%20%20%20%20%0A%0A%20%20%20%20%20%20%20%20marker_77477f60da8649ee87a7fe2ac461929b.bindPopup%28popup_1536c822caca4b969a17703b24d91685%29%0A%20%20%20%20%20%20%20%20%3B%0A%0A%20%20%20%20%20%20%20%20%0A%20%20%20%20%0A%20%20%20%20%0A%20%20%20%20%20%20%20%20%20%20%20%20var%20marker_c72505aecd3b49fca3be3ef20c9c75f4%20%3D%20L.marker%28%0A%20%20%20%20%20%20%20%20%20%20%20%20%20%20%20%20%5B45.2223%2C%20-117.3968%5D%2C%0A%20%20%20%20%20%20%20%20%20%20%20%20%20%20%20%20%7B%7D%0A%20%20%20%20%20%20%20%20%20%20%20%20%29.addTo%28map_39f13164dac2462785f2a326c4ef9be7%29%3B%0A%20%20%20%20%20%20%20%20%0A%20%20%20%20%0A%20%20%20%20%20%20%20%20var%20popup_8adbe5ab07504549ac964c1002b59182%20%3D%20L.popup%28%7B%22maxWidth%22%3A%20%22100%25%22%7D%29%3B%0A%0A%20%20%20%20%20%20%20%20%0A%20%20%20%20%20%20%20%20%20%20%20%20var%20html_f9c8271bf8ad4b7e9ff4e190779c32ec%20%3D%20%24%28%60%3Cdiv%20id%3D%22html_f9c8271bf8ad4b7e9ff4e190779c32ec%22%20style%3D%22width%3A%20100.0%25%3B%20height%3A%20100.0%25%3B%22%3EName%3A%20Elkhorn%20Peak%20Isolation%3A%205.32%3C/div%3E%60%29%5B0%5D%3B%0A%20%20%20%20%20%20%20%20%20%20%20%20popup_8adbe5ab07504549ac964c1002b59182.setContent%28html_f9c8271bf8ad4b7e9ff4e190779c32ec%29%3B%0A%20%20%20%20%20%20%20%20%0A%0A%20%20%20%20%20%20%20%20marker_c72505aecd3b49fca3be3ef20c9c75f4.bindPopup%28popup_8adbe5ab07504549ac964c1002b59182%29%0A%20%20%20%20%20%20%20%20%3B%0A%0A%20%20%20%20%20%20%20%20%0A%20%20%20%20%0A%20%20%20%20%0A%20%20%20%20%20%20%20%20%20%20%20%20var%20marker_0fa5bcf7f56b4e72ad98de00466c1fd2%20%3D%20L.marker%28%0A%20%20%20%20%20%20%20%20%20%20%20%20%20%20%20%20%5B43.1528%2C%20-122.0665%5D%2C%0A%20%20%20%20%20%20%20%20%20%20%20%20%20%20%20%20%7B%7D%0A%20%20%20%20%20%20%20%20%20%20%20%20%29.addTo%28map_39f13164dac2462785f2a326c4ef9be7%29%3B%0A%20%20%20%20%20%20%20%20%0A%20%20%20%20%0A%20%20%20%20%20%20%20%20var%20popup_b0df36ade603429b81aece7aa3472e15%20%3D%20L.popup%28%7B%22maxWidth%22%3A%20%22100%25%22%7D%29%3B%0A%0A%20%20%20%20%20%20%20%20%0A%20%20%20%20%20%20%20%20%20%20%20%20var%20html_abaf193e3c4c43848f7c18f72f245214%20%3D%20%24%28%60%3Cdiv%20id%3D%22html_abaf193e3c4c43848f7c18f72f245214%22%20style%3D%22width%3A%20100.0%25%3B%20height%3A%20100.0%25%3B%22%3EName%3A%20Mount%20Thielsen%20Isolation%3A%2081.1%3C/div%3E%60%29%5B0%5D%3B%0A%20%20%20%20%20%20%20%20%20%20%20%20popup_b0df36ade603429b81aece7aa3472e15.setContent%28html_abaf193e3c4c43848f7c18f72f245214%29%3B%0A%20%20%20%20%20%20%20%20%0A%0A%20%20%20%20%20%20%20%20marker_0fa5bcf7f56b4e72ad98de00466c1fd2.bindPopup%28popup_b0df36ade603429b81aece7aa3472e15%29%0A%20%20%20%20%20%20%20%20%3B%0A%0A%20%20%20%20%20%20%20%20%0A%20%20%20%20%0A%20%20%20%20%0A%20%20%20%20%20%20%20%20%20%20%20%20var%20marker_1810f521fe9541658d77de9cec5efe01%20%3D%20L.marker%28%0A%20%20%20%20%20%20%20%20%20%20%20%20%20%20%20%20%5B44.083%2C%20-121.6994%5D%2C%0A%20%20%20%20%20%20%20%20%20%20%20%20%20%20%20%20%7B%7D%0A%20%20%20%20%20%20%20%20%20%20%20%20%29.addTo%28map_39f13164dac2462785f2a326c4ef9be7%29%3B%0A%20%20%20%20%20%20%20%20%0A%20%20%20%20%0A%20%20%20%20%20%20%20%20var%20popup_f6a864275519426f9ec03f2142110f64%20%3D%20L.popup%28%7B%22maxWidth%22%3A%20%22100%25%22%7D%29%3B%0A%0A%20%20%20%20%20%20%20%20%0A%20%20%20%20%20%20%20%20%20%20%20%20var%20html_c8c208ab6097466295cc27a6cbf0902e%20%3D%20%24%28%60%3Cdiv%20id%3D%22html_c8c208ab6097466295cc27a6cbf0902e%22%20style%3D%22width%3A%20100.0%25%3B%20height%3A%20100.0%25%3B%22%3EName%3A%20Broken%20Top%20Isolation%3A%205.52%3C/div%3E%60%29%5B0%5D%3B%0A%20%20%20%20%20%20%20%20%20%20%20%20popup_f6a864275519426f9ec03f2142110f64.setContent%28html_c8c208ab6097466295cc27a6cbf0902e%29%3B%0A%20%20%20%20%20%20%20%20%0A%0A%20%20%20%20%20%20%20%20marker_1810f521fe9541658d77de9cec5efe01.bindPopup%28popup_f6a864275519426f9ec03f2142110f64%29%0A%20%20%20%20%20%20%20%20%3B%0A%0A%20%20%20%20%20%20%20%20%0A%20%20%20%20%0A%20%20%20%20%0A%20%20%20%20%20%20%20%20%20%20%20%20var%20marker_faf2ae588714460689bcec1094ce2dd1%20%3D%20L.marker%28%0A%20%20%20%20%20%20%20%20%20%20%20%20%20%20%20%20%5B44.8168%2C%20-118.1039%5D%2C%0A%20%20%20%20%20%20%20%20%20%20%20%20%20%20%20%20%7B%7D%0A%20%20%20%20%20%20%20%20%20%20%20%20%29.addTo%28map_39f13164dac2462785f2a326c4ef9be7%29%3B%0A%20%20%20%20%20%20%20%20%0A%20%20%20%20%0A%20%20%20%20%20%20%20%20var%20popup_ed18d01748ee4cf9ba35deb5cc7386ad%20%3D%20L.popup%28%7B%22maxWidth%22%3A%20%22100%25%22%7D%29%3B%0A%0A%20%20%20%20%20%20%20%20%0A%20%20%20%20%20%20%20%20%20%20%20%20var%20html_16c1078e059d44aeb0c4afc16e9e0dc0%20%3D%20%24%28%60%3Cdiv%20id%3D%22html_16c1078e059d44aeb0c4afc16e9e0dc0%22%20style%3D%22width%3A%20100.0%25%3B%20height%3A%20100.0%25%3B%22%3EName%3A%20Rock%20Creek%20Butte%20Isolation%3A%2069.9%3C/div%3E%60%29%5B0%5D%3B%0A%20%20%20%20%20%20%20%20%20%20%20%20popup_ed18d01748ee4cf9ba35deb5cc7386ad.setContent%28html_16c1078e059d44aeb0c4afc16e9e0dc0%29%3B%0A%20%20%20%20%20%20%20%20%0A%0A%20%20%20%20%20%20%20%20marker_faf2ae588714460689bcec1094ce2dd1.bindPopup%28popup_ed18d01748ee4cf9ba35deb5cc7386ad%29%0A%20%20%20%20%20%20%20%20%3B%0A%0A%20%20%20%20%20%20%20%20%0A%20%20%20%20%0A%20%20%20%20%0A%20%20%20%20%20%20%20%20%20%20%20%20var%20marker_71430f96b0274ff5ac68f5fcb03e5f3d%20%3D%20L.marker%28%0A%20%20%20%20%20%20%20%20%20%20%20%20%20%20%20%20%5B43.9794%2C%20-121.6885%5D%2C%0A%20%20%20%20%20%20%20%20%20%20%20%20%20%20%20%20%7B%7D%0A%20%20%20%20%20%20%20%20%20%20%20%20%29.addTo%28map_39f13164dac2462785f2a326c4ef9be7%29%3B%0A%20%20%20%20%20%20%20%20%0A%20%20%20%20%0A%20%20%20%20%20%20%20%20var%20popup_39ff19c0a5a14337b04ffa815872b729%20%3D%20L.popup%28%7B%22maxWidth%22%3A%20%22100%25%22%7D%29%3B%0A%0A%20%20%20%20%20%20%20%20%0A%20%20%20%20%20%20%20%20%20%20%20%20var%20html_bdbcb8b6d54848cd9d77493c785d8dd5%20%3D%20%24%28%60%3Cdiv%20id%3D%22html_bdbcb8b6d54848cd9d77493c785d8dd5%22%20style%3D%22width%3A%20100.0%25%3B%20height%3A%20100.0%25%3B%22%3EName%3A%20Mount%20Bachelor%20Isolation%3A%2011.02%3C/div%3E%60%29%5B0%5D%3B%0A%20%20%20%20%20%20%20%20%20%20%20%20popup_39ff19c0a5a14337b04ffa815872b729.setContent%28html_bdbcb8b6d54848cd9d77493c785d8dd5%29%3B%0A%20%20%20%20%20%20%20%20%0A%0A%20%20%20%20%20%20%20%20marker_71430f96b0274ff5ac68f5fcb03e5f3d.bindPopup%28popup_39ff19c0a5a14337b04ffa815872b729%29%0A%20%20%20%20%20%20%20%20%3B%0A%0A%20%20%20%20%20%20%20%20%0A%20%20%20%20%0A%20%20%20%20%0A%20%20%20%20%20%20%20%20%20%20%20%20var%20marker_57ea02977e4d4586a6b889aac3da1a21%20%3D%20L.marker%28%0A%20%20%20%20%20%20%20%20%20%20%20%20%20%20%20%20%5B44.3123%2C%20-118.7166%5D%2C%0A%20%20%20%20%20%20%20%20%20%20%20%20%20%20%20%20%7B%7D%0A%20%20%20%20%20%20%20%20%20%20%20%20%29.addTo%28map_39f13164dac2462785f2a326c4ef9be7%29%3B%0A%20%20%20%20%20%20%20%20%0A%20%20%20%20%0A%20%20%20%20%20%20%20%20var%20popup_30510efd9f334a5faa040fbab576833d%20%3D%20L.popup%28%7B%22maxWidth%22%3A%20%22100%25%22%7D%29%3B%0A%0A%20%20%20%20%20%20%20%20%0A%20%20%20%20%20%20%20%20%20%20%20%20var%20html_16765813f5cb47acbf688caf4420dee0%20%3D%20%24%28%60%3Cdiv%20id%3D%22html_16765813f5cb47acbf688caf4420dee0%22%20style%3D%22width%3A%20100.0%25%3B%20height%3A%20100.0%25%3B%22%3EName%3A%20Strawberry%20Mountain%20Isolation%3A%2074.2%3C/div%3E%60%29%5B0%5D%3B%0A%20%20%20%20%20%20%20%20%20%20%20%20popup_30510efd9f334a5faa040fbab576833d.setContent%28html_16765813f5cb47acbf688caf4420dee0%29%3B%0A%20%20%20%20%20%20%20%20%0A%0A%20%20%20%20%20%20%20%20marker_57ea02977e4d4586a6b889aac3da1a21.bindPopup%28popup_30510efd9f334a5faa040fbab576833d%29%0A%20%20%20%20%20%20%20%20%3B%0A%0A%20%20%20%20%20%20%20%20%0A%20%20%20%20%0A%20%20%20%20%0A%20%20%20%20%20%20%20%20%20%20%20%20var%20marker_25c5eda0bfda42e99e43d0de009f98ff%20%3D%20L.marker%28%0A%20%20%20%20%20%20%20%20%20%20%20%20%20%20%20%20%5B42.9229%2C%20-122.0162%5D%2C%0A%20%20%20%20%20%20%20%20%20%20%20%20%20%20%20%20%7B%7D%0A%20%20%20%20%20%20%20%20%20%20%20%20%29.addTo%28map_39f13164dac2462785f2a326c4ef9be7%29%3B%0A%20%20%20%20%20%20%20%20%0A%20%20%20%20%0A%20%20%20%20%20%20%20%20var%20popup_a37e31d2394e431c8e8559cc508b5b33%20%3D%20L.popup%28%7B%22maxWidth%22%3A%20%22100%25%22%7D%29%3B%0A%0A%20%20%20%20%20%20%20%20%0A%20%20%20%20%20%20%20%20%20%20%20%20var%20html_9f2167e2dfbf48119b0e31db25ed67b2%20%3D%20%24%28%60%3Cdiv%20id%3D%22html_9f2167e2dfbf48119b0e31db25ed67b2%22%20style%3D%22width%3A%20100.0%25%3B%20height%3A%20100.0%25%3B%22%3EName%3A%20Mount%20Scott%20Isolation%3A%2025.9%3C/div%3E%60%29%5B0%5D%3B%0A%20%20%20%20%20%20%20%20%20%20%20%20popup_a37e31d2394e431c8e8559cc508b5b33.setContent%28html_9f2167e2dfbf48119b0e31db25ed67b2%29%3B%0A%20%20%20%20%20%20%20%20%0A%0A%20%20%20%20%20%20%20%20marker_25c5eda0bfda42e99e43d0de009f98ff.bindPopup%28popup_a37e31d2394e431c8e8559cc508b5b33%29%0A%20%20%20%20%20%20%20%20%3B%0A%0A%20%20%20%20%20%20%20%20%0A%20%20%20%20%0A%20%20%20%20%0A%20%20%20%20%20%20%20%20%20%20%20%20var%20marker_9a2c709fe05c473babb8169b10a5fe94%20%3D%20L.marker%28%0A%20%20%20%20%20%20%20%20%20%20%20%20%20%20%20%20%5B43.5207%2C%20-122.1496%5D%2C%0A%20%20%20%20%20%20%20%20%20%20%20%20%20%20%20%20%7B%7D%0A%20%20%20%20%20%20%20%20%20%20%20%20%29.addTo%28map_39f13164dac2462785f2a326c4ef9be7%29%3B%0A%20%20%20%20%20%20%20%20%0A%20%20%20%20%0A%20%20%20%20%20%20%20%20var%20popup_947235748c7e4b7f8d66851ef30fc908%20%3D%20L.popup%28%7B%22maxWidth%22%3A%20%22100%25%22%7D%29%3B%0A%0A%20%20%20%20%20%20%20%20%0A%20%20%20%20%20%20%20%20%20%20%20%20var%20html_fc920834958144acbaf3f31617c30c91%20%3D%20%24%28%60%3Cdiv%20id%3D%22html_fc920834958144acbaf3f31617c30c91%22%20style%3D%22width%3A%20100.0%25%3B%20height%3A%20100.0%25%3B%22%3EName%3A%20Diamond%20Peak%20Isolation%3A%2041.4%3C/div%3E%60%29%5B0%5D%3B%0A%20%20%20%20%20%20%20%20%20%20%20%20popup_947235748c7e4b7f8d66851ef30fc908.setContent%28html_fc920834958144acbaf3f31617c30c91%29%3B%0A%20%20%20%20%20%20%20%20%0A%0A%20%20%20%20%20%20%20%20marker_9a2c709fe05c473babb8169b10a5fe94.bindPopup%28popup_947235748c7e4b7f8d66851ef30fc908%29%0A%20%20%20%20%20%20%20%20%3B%0A%0A%20%20%20%20%20%20%20%20%0A%20%20%20%20%0A%20%20%20%20%0A%20%20%20%20%20%20%20%20%20%20%20%20var%20marker_952669751e5c407eb1842efa307c374a%20%3D%20L.marker%28%0A%20%20%20%20%20%20%20%20%20%20%20%20%20%20%20%20%5B42.0995%2C%20-118.6506%5D%2C%0A%20%20%20%20%20%20%20%20%20%20%20%20%20%20%20%20%7B%7D%0A%20%20%20%20%20%20%20%20%20%20%20%20%29.addTo%28map_39f13164dac2462785f2a326c4ef9be7%29%3B%0A%20%20%20%20%20%20%20%20%0A%20%20%20%20%0A%20%20%20%20%20%20%20%20var%20popup_b7def1ace84046f28c790d36402bd966%20%3D%20L.popup%28%7B%22maxWidth%22%3A%20%22100%25%22%7D%29%3B%0A%0A%20%20%20%20%20%20%20%20%0A%20%20%20%20%20%20%20%20%20%20%20%20var%20html_61d31720d7ec40ab98b5b4955c876e19%20%3D%20%24%28%60%3Cdiv%20id%3D%22html_61d31720d7ec40ab98b5b4955c876e19%22%20style%3D%22width%3A%20100.0%25%3B%20height%3A%20100.0%25%3B%22%3EName%3A%20Pueblo%20Mountain%20Isolation%3A%2045.5%3C/div%3E%60%29%5B0%5D%3B%0A%20%20%20%20%20%20%20%20%20%20%20%20popup_b7def1ace84046f28c790d36402bd966.setContent%28html_61d31720d7ec40ab98b5b4955c876e19%29%3B%0A%20%20%20%20%20%20%20%20%0A%0A%20%20%20%20%20%20%20%20marker_952669751e5c407eb1842efa307c374a.bindPopup%28popup_b7def1ace84046f28c790d36402bd966%29%0A%20%20%20%20%20%20%20%20%3B%0A%0A%20%20%20%20%20%20%20%20%0A%20%20%20%20%0A%20%20%20%20%0A%20%20%20%20%20%20%20%20%20%20%20%20var%20marker_86076bf573b847828ab61f403ede0bca%20%3D%20L.marker%28%0A%20%20%20%20%20%20%20%20%20%20%20%20%20%20%20%20%5B42.0628%2C%20-120.2408%5D%2C%0A%20%20%20%20%20%20%20%20%20%20%20%20%20%20%20%20%7B%7D%0A%20%20%20%20%20%20%20%20%20%20%20%20%29.addTo%28map_39f13164dac2462785f2a326c4ef9be7%29%3B%0A%20%20%20%20%20%20%20%20%0A%20%20%20%20%0A%20%20%20%20%20%20%20%20var%20popup_8f7fe2a6b0714401a86d26868c7f11dc%20%3D%20L.popup%28%7B%22maxWidth%22%3A%20%22100%25%22%7D%29%3B%0A%0A%20%20%20%20%20%20%20%20%0A%20%20%20%20%20%20%20%20%20%20%20%20var%20html_eca140ec37364e1cba0d54599045387a%20%3D%20%24%28%60%3Cdiv%20id%3D%22html_eca140ec37364e1cba0d54599045387a%22%20style%3D%22width%3A%20100.0%25%3B%20height%3A%20100.0%25%3B%22%3EName%3A%20Crane%20Mountain%20Isolation%3A%2071.4%3C/div%3E%60%29%5B0%5D%3B%0A%20%20%20%20%20%20%20%20%20%20%20%20popup_8f7fe2a6b0714401a86d26868c7f11dc.setContent%28html_eca140ec37364e1cba0d54599045387a%29%3B%0A%20%20%20%20%20%20%20%20%0A%0A%20%20%20%20%20%20%20%20marker_86076bf573b847828ab61f403ede0bca.bindPopup%28popup_8f7fe2a6b0714401a86d26868c7f11dc%29%0A%20%20%20%20%20%20%20%20%3B%0A%0A%20%20%20%20%20%20%20%20%0A%20%20%20%20%0A%20%20%20%20%0A%20%20%20%20%20%20%20%20%20%20%20%20var%20marker_ba8e75c367324580acd1b5e69a1c7102%20%3D%20L.marker%28%0A%20%20%20%20%20%20%20%20%20%20%20%20%20%20%20%20%5B42.3001%2C%20-120.1238%5D%2C%0A%20%20%20%20%20%20%20%20%20%20%20%20%20%20%20%20%7B%7D%0A%20%20%20%20%20%20%20%20%20%20%20%20%29.addTo%28map_39f13164dac2462785f2a326c4ef9be7%29%3B%0A%20%20%20%20%20%20%20%20%0A%20%20%20%20%0A%20%20%20%20%20%20%20%20var%20popup_3aac78dad00644c98c510a3ffffdbe52%20%3D%20L.popup%28%7B%22maxWidth%22%3A%20%22100%25%22%7D%29%3B%0A%0A%20%20%20%20%20%20%20%20%0A%20%20%20%20%20%20%20%20%20%20%20%20var%20html_b84894e242b14698a616eb462e2602bf%20%3D%20%24%28%60%3Cdiv%20id%3D%22html_b84894e242b14698a616eb462e2602bf%22%20style%3D%22width%3A%20100.0%25%3B%20height%3A%20100.0%25%3B%22%3EName%3A%20Drake%20Peak%20Isolation%3A%2028.1%3C/div%3E%60%29%5B0%5D%3B%0A%20%20%20%20%20%20%20%20%20%20%20%20popup_3aac78dad00644c98c510a3ffffdbe52.setContent%28html_b84894e242b14698a616eb462e2602bf%29%3B%0A%20%20%20%20%20%20%20%20%0A%0A%20%20%20%20%20%20%20%20marker_ba8e75c367324580acd1b5e69a1c7102.bindPopup%28popup_3aac78dad00644c98c510a3ffffdbe52%29%0A%20%20%20%20%20%20%20%20%3B%0A%0A%20%20%20%20%20%20%20%20%0A%20%20%20%20%0A%20%20%20%20%0A%20%20%20%20%20%20%20%20%20%20%20%20var%20marker_1fbe658a1b3449bab319ac650212236c%20%3D%20L.marker%28%0A%20%20%20%20%20%20%20%20%20%20%20%20%20%20%20%20%5B43.1551%2C%20-122.22%5D%2C%0A%20%20%20%20%20%20%20%20%20%20%20%20%20%20%20%20%7B%7D%0A%20%20%20%20%20%20%20%20%20%20%20%20%29.addTo%28map_39f13164dac2462785f2a326c4ef9be7%29%3B%0A%20%20%20%20%20%20%20%20%0A%20%20%20%20%0A%20%20%20%20%20%20%20%20var%20popup_2dfddc920619419eb4293e3d137bf0f6%20%3D%20L.popup%28%7B%22maxWidth%22%3A%20%22100%25%22%7D%29%3B%0A%0A%20%20%20%20%20%20%20%20%0A%20%20%20%20%20%20%20%20%20%20%20%20var%20html_e395214c6cfb43be944a34af3ebd8f58%20%3D%20%24%28%60%3Cdiv%20id%3D%22html_e395214c6cfb43be944a34af3ebd8f58%22%20style%3D%22width%3A%20100.0%25%3B%20height%3A%20100.0%25%3B%22%3EName%3A%20Mount%20Bailey%20Isolation%3A%2012.49%3C/div%3E%60%29%5B0%5D%3B%0A%20%20%20%20%20%20%20%20%20%20%20%20popup_2dfddc920619419eb4293e3d137bf0f6.setContent%28html_e395214c6cfb43be944a34af3ebd8f58%29%3B%0A%20%20%20%20%20%20%20%20%0A%0A%20%20%20%20%20%20%20%20marker_1fbe658a1b3449bab319ac650212236c.bindPopup%28popup_2dfddc920619419eb4293e3d137bf0f6%29%0A%20%20%20%20%20%20%20%20%3B%0A%0A%20%20%20%20%20%20%20%20%0A%20%20%20%20%0A%20%20%20%20%0A%20%20%20%20%20%20%20%20%20%20%20%20var%20marker_da3e5a4dcdc54744b5cbead4f53854e6%20%3D%20L.marker%28%0A%20%20%20%20%20%20%20%20%20%20%20%20%20%20%20%20%5B42.496%2C%20-120.8773%5D%2C%0A%20%20%20%20%20%20%20%20%20%20%20%20%20%20%20%20%7B%7D%0A%20%20%20%20%20%20%20%20%20%20%20%20%29.addTo%28map_39f13164dac2462785f2a326c4ef9be7%29%3B%0A%20%20%20%20%20%20%20%20%0A%20%20%20%20%0A%20%20%20%20%20%20%20%20var%20popup_072ce06f238e483ca62f7781958dc894%20%3D%20L.popup%28%7B%22maxWidth%22%3A%20%22100%25%22%7D%29%3B%0A%0A%20%20%20%20%20%20%20%20%0A%20%20%20%20%20%20%20%20%20%20%20%20var%20html_c262aaa925274aa2bf62e78430437c53%20%3D%20%24%28%60%3Cdiv%20id%3D%22html_c262aaa925274aa2bf62e78430437c53%22%20style%3D%22width%3A%20100.0%25%3B%20height%3A%20100.0%25%3B%22%3EName%3A%20Gearhart%20Mountain%20Isolation%3A%2065.7%3C/div%3E%60%29%5B0%5D%3B%0A%20%20%20%20%20%20%20%20%20%20%20%20popup_072ce06f238e483ca62f7781958dc894.setContent%28html_c262aaa925274aa2bf62e78430437c53%29%3B%0A%20%20%20%20%20%20%20%20%0A%0A%20%20%20%20%20%20%20%20marker_da3e5a4dcdc54744b5cbead4f53854e6.bindPopup%28popup_072ce06f238e483ca62f7781958dc894%29%0A%20%20%20%20%20%20%20%20%3B%0A%0A%20%20%20%20%20%20%20%20%0A%20%20%20%20%0A%20%20%20%20%0A%20%20%20%20%20%20%20%20%20%20%20%20var%20marker_d486b84e7a854f75878955fec5c4c667%20%3D%20L.marker%28%0A%20%20%20%20%20%20%20%20%20%20%20%20%20%20%20%20%5B42.3155%2C%20-122.0876%5D%2C%0A%20%20%20%20%20%20%20%20%20%20%20%20%20%20%20%20%7B%7D%0A%20%20%20%20%20%20%20%20%20%20%20%20%29.addTo%28map_39f13164dac2462785f2a326c4ef9be7%29%3B%0A%20%20%20%20%20%20%20%20%0A%20%20%20%20%0A%20%20%20%20%20%20%20%20var%20popup_18e2878cb4854ccaa06f7a9b348ed8d1%20%3D%20L.popup%28%7B%22maxWidth%22%3A%20%22100%25%22%7D%29%3B%0A%0A%20%20%20%20%20%20%20%20%0A%20%20%20%20%20%20%20%20%20%20%20%20var%20html_b981c908d7f742e3928b51b543744177%20%3D%20%24%28%60%3Cdiv%20id%3D%22html_b981c908d7f742e3928b51b543744177%22%20style%3D%22width%3A%20100.0%25%3B%20height%3A%20100.0%25%3B%22%3EName%3A%20Aspen%20Butte%20Isolation%3A%2023.7%3C/div%3E%60%29%5B0%5D%3B%0A%20%20%20%20%20%20%20%20%20%20%20%20popup_18e2878cb4854ccaa06f7a9b348ed8d1.setContent%28html_b981c908d7f742e3928b51b543744177%29%3B%0A%20%20%20%20%20%20%20%20%0A%0A%20%20%20%20%20%20%20%20marker_d486b84e7a854f75878955fec5c4c667.bindPopup%28popup_18e2878cb4854ccaa06f7a9b348ed8d1%29%0A%20%20%20%20%20%20%20%20%3B%0A%0A%20%20%20%20%20%20%20%20%0A%20%20%20%20%0A%20%20%20%20%0A%20%20%20%20%20%20%20%20%20%20%20%20var%20marker_e78ed9d70142456ebc764110311a59f7%20%3D%20L.marker%28%0A%20%20%20%20%20%20%20%20%20%20%20%20%20%20%20%20%5B42.9306%2C%20-121.3607%5D%2C%0A%20%20%20%20%20%20%20%20%20%20%20%20%20%20%20%20%7B%7D%0A%20%20%20%20%20%20%20%20%20%20%20%20%29.addTo%28map_39f13164dac2462785f2a326c4ef9be7%29%3B%0A%20%20%20%20%20%20%20%20%0A%20%20%20%20%0A%20%20%20%20%20%20%20%20var%20popup_3ef27d63869246f199893899372dbcfd%20%3D%20L.popup%28%7B%22maxWidth%22%3A%20%22100%25%22%7D%29%3B%0A%0A%20%20%20%20%20%20%20%20%0A%20%20%20%20%20%20%20%20%20%20%20%20var%20html_90c9da78bdc34616a8510cc965cc255b%20%3D%20%24%28%60%3Cdiv%20id%3D%22html_90c9da78bdc34616a8510cc965cc255b%22%20style%3D%22width%3A%20100.0%25%3B%20height%3A%20100.0%25%3B%22%3EName%3A%20Yamsay%20Mountain%20Isolation%3A%2053.1%3C/div%3E%60%29%5B0%5D%3B%0A%20%20%20%20%20%20%20%20%20%20%20%20popup_3ef27d63869246f199893899372dbcfd.setContent%28html_90c9da78bdc34616a8510cc965cc255b%29%3B%0A%20%20%20%20%20%20%20%20%0A%0A%20%20%20%20%20%20%20%20marker_e78ed9d70142456ebc764110311a59f7.bindPopup%28popup_3ef27d63869246f199893899372dbcfd%29%0A%20%20%20%20%20%20%20%20%3B%0A%0A%20%20%20%20%20%20%20%20%0A%20%20%20%20%0A%20%20%20%20%0A%20%20%20%20%20%20%20%20%20%20%20%20var%20marker_f5e871906fb445208009c99cdfd1d6db%20%3D%20L.marker%28%0A%20%20%20%20%20%20%20%20%20%20%20%20%20%20%20%20%5B44.7138%2C%20-118.5617%5D%2C%0A%20%20%20%20%20%20%20%20%20%20%20%20%20%20%20%20%7B%7D%0A%20%20%20%20%20%20%20%20%20%20%20%20%29.addTo%28map_39f13164dac2462785f2a326c4ef9be7%29%3B%0A%20%20%20%20%20%20%20%20%0A%20%20%20%20%0A%20%20%20%20%20%20%20%20var%20popup_f40f252a9c4e43be8c1d529a69d71b47%20%3D%20L.popup%28%7B%22maxWidth%22%3A%20%22100%25%22%7D%29%3B%0A%0A%20%20%20%20%20%20%20%20%0A%20%20%20%20%20%20%20%20%20%20%20%20var%20html_bf2bd994cfcd48ab90ab5c93ca436ebc%20%3D%20%24%28%60%3Cdiv%20id%3D%22html_bf2bd994cfcd48ab90ab5c93ca436ebc%22%20style%3D%22width%3A%20100.0%25%3B%20height%3A%20100.0%25%3B%22%3EName%3A%20Vinegar%20Hill%20Isolation%3A%2023.5%3C/div%3E%60%29%5B0%5D%3B%0A%20%20%20%20%20%20%20%20%20%20%20%20popup_f40f252a9c4e43be8c1d529a69d71b47.setContent%28html_bf2bd994cfcd48ab90ab5c93ca436ebc%29%3B%0A%20%20%20%20%20%20%20%20%0A%0A%20%20%20%20%20%20%20%20marker_f5e871906fb445208009c99cdfd1d6db.bindPopup%28popup_f40f252a9c4e43be8c1d529a69d71b47%29%0A%20%20%20%20%20%20%20%20%3B%0A%0A%20%20%20%20%20%20%20%20%0A%20%20%20%20%0A%20%20%20%20%0A%20%20%20%20%20%20%20%20%20%20%20%20var%20marker_6075533cd2874228a41a95f3c5242091%20%3D%20L.marker%28%0A%20%20%20%20%20%20%20%20%20%20%20%20%20%20%20%20%5B42.5134%2C%20-122.1453%5D%2C%0A%20%20%20%20%20%20%20%20%20%20%20%20%20%20%20%20%7B%7D%0A%20%20%20%20%20%20%20%20%20%20%20%20%29.addTo%28map_39f13164dac2462785f2a326c4ef9be7%29%3B%0A%20%20%20%20%20%20%20%20%0A%20%20%20%20%0A%20%20%20%20%20%20%20%20var%20popup_13d60611156c4903aa40e43c7fce15d0%20%3D%20L.popup%28%7B%22maxWidth%22%3A%20%22100%25%22%7D%29%3B%0A%0A%20%20%20%20%20%20%20%20%0A%20%20%20%20%20%20%20%20%20%20%20%20var%20html_c2c349cd42a84ca4b34843d123ac6a46%20%3D%20%24%28%60%3Cdiv%20id%3D%22html_c2c349cd42a84ca4b34843d123ac6a46%22%20style%3D%22width%3A%20100.0%25%3B%20height%3A%20100.0%25%3B%22%3EName%3A%20Pelican%20Butte%20Isolation%3A%2015.98%3C/div%3E%60%29%5B0%5D%3B%0A%20%20%20%20%20%20%20%20%20%20%20%20popup_13d60611156c4903aa40e43c7fce15d0.setContent%28html_c2c349cd42a84ca4b34843d123ac6a46%29%3B%0A%20%20%20%20%20%20%20%20%0A%0A%20%20%20%20%20%20%20%20marker_6075533cd2874228a41a95f3c5242091.bindPopup%28popup_13d60611156c4903aa40e43c7fce15d0%29%0A%20%20%20%20%20%20%20%20%3B%0A%0A%20%20%20%20%20%20%20%20%0A%20%20%20%20%0A%20%20%20%20%0A%20%20%20%20%20%20%20%20%20%20%20%20var%20marker_9c03b52b9fef434fb65dd2cd9274ea78%20%3D%20L.marker%28%0A%20%20%20%20%20%20%20%20%20%20%20%20%20%20%20%20%5B44.2889%2C%20-118.4954%5D%2C%0A%20%20%20%20%20%20%20%20%20%20%20%20%20%20%20%20%7B%7D%0A%20%20%20%20%20%20%20%20%20%20%20%20%29.addTo%28map_39f13164dac2462785f2a326c4ef9be7%29%3B%0A%20%20%20%20%20%20%20%20%0A%20%20%20%20%0A%20%20%20%20%20%20%20%20var%20popup_051e94209a604c6db7b97a5ec39e4ce6%20%3D%20L.popup%28%7B%22maxWidth%22%3A%20%22100%25%22%7D%29%3B%0A%0A%20%20%20%20%20%20%20%20%0A%20%20%20%20%20%20%20%20%20%20%20%20var%20html_c1b3145bdb8b4d3394474af3fecec0a3%20%3D%20%24%28%60%3Cdiv%20id%3D%22html_c1b3145bdb8b4d3394474af3fecec0a3%22%20style%3D%22width%3A%20100.0%25%3B%20height%3A%20100.0%25%3B%22%3EName%3A%20Lookout%20Mountain%20Isolation%3A%2010.73%3C/div%3E%60%29%5B0%5D%3B%0A%20%20%20%20%20%20%20%20%20%20%20%20popup_051e94209a604c6db7b97a5ec39e4ce6.setContent%28html_c1b3145bdb8b4d3394474af3fecec0a3%29%3B%0A%20%20%20%20%20%20%20%20%0A%0A%20%20%20%20%20%20%20%20marker_9c03b52b9fef434fb65dd2cd9274ea78.bindPopup%28popup_051e94209a604c6db7b97a5ec39e4ce6%29%0A%20%20%20%20%20%20%20%20%3B%0A%0A%20%20%20%20%20%20%20%20%0A%20%20%20%20%0A%20%20%20%20%0A%20%20%20%20%20%20%20%20%20%20%20%20var%20marker_40f3155b8da243ddb443ab5b5462eee5%20%3D%20L.marker%28%0A%20%20%20%20%20%20%20%20%20%20%20%20%20%20%20%20%5B42.4597%2C%20-119.7414%5D%2C%0A%20%20%20%20%20%20%20%20%20%20%20%20%20%20%20%20%7B%7D%0A%20%20%20%20%20%20%20%20%20%20%20%20%29.addTo%28map_39f13164dac2462785f2a326c4ef9be7%29%3B%0A%20%20%20%20%20%20%20%20%0A%20%20%20%20%0A%20%20%20%20%20%20%20%20var%20popup_223d9e4814ab49efbd2581c35e37dc99%20%3D%20L.popup%28%7B%22maxWidth%22%3A%20%22100%25%22%7D%29%3B%0A%0A%20%20%20%20%20%20%20%20%0A%20%20%20%20%20%20%20%20%20%20%20%20var%20html_c5bcea3d04c14ee493de2b26104ea7e3%20%3D%20%24%28%60%3Cdiv%20id%3D%22html_c5bcea3d04c14ee493de2b26104ea7e3%22%20style%3D%22width%3A%20100.0%25%3B%20height%3A%20100.0%25%3B%22%3EName%3A%20Warner%20Peak%20Isolation%3A%2035.6%3C/div%3E%60%29%5B0%5D%3B%0A%20%20%20%20%20%20%20%20%20%20%20%20popup_223d9e4814ab49efbd2581c35e37dc99.setContent%28html_c5bcea3d04c14ee493de2b26104ea7e3%29%3B%0A%20%20%20%20%20%20%20%20%0A%0A%20%20%20%20%20%20%20%20marker_40f3155b8da243ddb443ab5b5462eee5.bindPopup%28popup_223d9e4814ab49efbd2581c35e37dc99%29%0A%20%20%20%20%20%20%20%20%3B%0A%0A%20%20%20%20%20%20%20%20%0A%20%20%20%20%0A%20%20%20%20%0A%20%20%20%20%20%20%20%20%20%20%20%20var%20marker_624915d7334449408f25e1b42668947e%20%3D%20L.marker%28%0A%20%20%20%20%20%20%20%20%20%20%20%20%20%20%20%20%5B43.6892%2C%20-121.2549%5D%2C%0A%20%20%20%20%20%20%20%20%20%20%20%20%20%20%20%20%7B%7D%0A%20%20%20%20%20%20%20%20%20%20%20%20%29.addTo%28map_39f13164dac2462785f2a326c4ef9be7%29%3B%0A%20%20%20%20%20%20%20%20%0A%20%20%20%20%0A%20%20%20%20%20%20%20%20var%20popup_110d8c2526674630a198747e078ec17c%20%3D%20L.popup%28%7B%22maxWidth%22%3A%20%22100%25%22%7D%29%3B%0A%0A%20%20%20%20%20%20%20%20%0A%20%20%20%20%20%20%20%20%20%20%20%20var%20html_fdbe0b3e977343f58399eda3a8edeacb%20%3D%20%24%28%60%3Cdiv%20id%3D%22html_fdbe0b3e977343f58399eda3a8edeacb%22%20style%3D%22width%3A%20100.0%25%3B%20height%3A%20100.0%25%3B%22%3EName%3A%20Paulina%20Peak%20Isolation%3A%2046.5%3C/div%3E%60%29%5B0%5D%3B%0A%20%20%20%20%20%20%20%20%20%20%20%20popup_110d8c2526674630a198747e078ec17c.setContent%28html_fdbe0b3e977343f58399eda3a8edeacb%29%3B%0A%20%20%20%20%20%20%20%20%0A%0A%20%20%20%20%20%20%20%20marker_624915d7334449408f25e1b42668947e.bindPopup%28popup_110d8c2526674630a198747e078ec17c%29%0A%20%20%20%20%20%20%20%20%3B%0A%0A%20%20%20%20%20%20%20%20%0A%20%20%20%20%0A%3C/script%3E onload=\"this.contentDocument.open();this.contentDocument.write(    decodeURIComponent(this.getAttribute('data-html')));this.contentDocument.close();\" allowfullscreen webkitallowfullscreen mozallowfullscreen></iframe></div></div>"
      ],
      "text/plain": [
       "<folium.folium.Map at 0x17edc4360e0>"
      ]
     },
     "execution_count": 18,
     "metadata": {},
     "output_type": "execute_result"
    }
   ],
   "source": [
    "map = folium.Map(location=[44, -121], zoom_start=7)\n",
    "for i in range(0, len(coords)):\n",
    "    folium.Marker(coords[i], popup='Name: ' + names[i] + ' Isolation: ' + str(isolation[i])).add_to(map)\n",
    "map"
   ]
  },
  {
   "cell_type": "markdown",
   "id": "1fbd891c",
   "metadata": {},
   "source": [
    "## Question 4"
   ]
  },
  {
   "cell_type": "markdown",
   "id": "d3465c17",
   "metadata": {},
   "source": [
    "* Write a script to automatically derive the geographic coordinates for the following addresses:\n",
    "\n",
    "    * 1844 SW Morrison St, Portland, OR 97205\n",
    "    \n",
    "    * 800 Occidental Ave S, Seattle, WA 98134\n",
    "    \n",
    "    * 1001 Stadium Dr, Inglewood, CA 90301\n",
    "    \n",
    "    * 2700 Martin Luther King Jr Blvd, Eugene, OR 97401"
   ]
  },
  {
   "cell_type": "code",
   "execution_count": 19,
   "id": "6ce24f22",
   "metadata": {},
   "outputs": [
    {
     "name": "stdout",
     "output_type": "stream",
     "text": [
      "Requirement already satisfied: webdriver_manager in c:\\users\\theoh\\anaconda3\\envs\\lab7\\lib\\site-packages (3.5.2)\n",
      "Requirement already satisfied: configparser in c:\\users\\theoh\\anaconda3\\envs\\lab7\\lib\\site-packages (from webdriver_manager) (5.2.0)\n",
      "Requirement already satisfied: crayons in c:\\users\\theoh\\anaconda3\\envs\\lab7\\lib\\site-packages (from webdriver_manager) (0.4.0)\n",
      "Requirement already satisfied: requests in c:\\users\\theoh\\anaconda3\\envs\\lab7\\lib\\site-packages (from webdriver_manager) (2.27.1)\n",
      "Requirement already satisfied: colorama in c:\\users\\theoh\\anaconda3\\envs\\lab7\\lib\\site-packages (from crayons->webdriver_manager) (0.4.4)\n",
      "Requirement already satisfied: certifi>=2017.4.17 in c:\\users\\theoh\\anaconda3\\envs\\lab7\\lib\\site-packages (from requests->webdriver_manager) (2021.10.8)\n",
      "Requirement already satisfied: charset-normalizer~=2.0.0 in c:\\users\\theoh\\anaconda3\\envs\\lab7\\lib\\site-packages (from requests->webdriver_manager) (2.0.12)\n",
      "Requirement already satisfied: urllib3<1.27,>=1.21.1 in c:\\users\\theoh\\anaconda3\\envs\\lab7\\lib\\site-packages (from requests->webdriver_manager) (1.26.8)\n",
      "Requirement already satisfied: idna<4,>=2.5 in c:\\users\\theoh\\anaconda3\\envs\\lab7\\lib\\site-packages (from requests->webdriver_manager) (3.3)\n"
     ]
    }
   ],
   "source": [
    "# Install webdriver_manager: https://github.com/SergeyPirogov/webdriver_manager\n",
    "!pip3 install webdriver_manager"
   ]
  },
  {
   "cell_type": "code",
   "execution_count": 20,
   "id": "c349a657",
   "metadata": {},
   "outputs": [],
   "source": [
    "# Import packages\n",
    "from selenium import webdriver\n",
    "from selenium.webdriver.chrome.service import Service\n",
    "from selenium.webdriver.common.by import By\n",
    "from selenium.webdriver.support.ui import WebDriverWait \n",
    "from selenium.webdriver.support import expected_conditions as EC\n",
    "from webdriver_manager.chrome import ChromeDriverManager"
   ]
  },
  {
   "cell_type": "code",
   "execution_count": 21,
   "id": "3132f6f0",
   "metadata": {},
   "outputs": [],
   "source": [
    "addresses = ['1844 SW Morrison St, Portland, OR 97205', \\\n",
    "             '800 Occidental Ave S, Seattle, WA 98134', \\\n",
    "             '1001 Stadium Dr, Inglewood, CA 90301', \\\n",
    "            '2700 Martin Luther King Jr Blvd, Eugene, OR 97401']"
   ]
  },
  {
   "cell_type": "code",
   "execution_count": 22,
   "id": "56111a8c",
   "metadata": {},
   "outputs": [
    {
     "name": "stderr",
     "output_type": "stream",
     "text": [
      "\n",
      "\n",
      "====== WebDriver manager ======\n",
      "Current google-chrome version is 98.0.4758\n",
      "Get LATEST chromedriver version for 98.0.4758 google-chrome\n",
      "Driver [C:\\Users\\theoh\\.wdm\\drivers\\chromedriver\\win32\\98.0.4758.102\\chromedriver.exe] found in cache\n",
      "\n",
      "\n",
      "====== WebDriver manager ======\n",
      "Current google-chrome version is 98.0.4758\n",
      "Get LATEST chromedriver version for 98.0.4758 google-chrome\n",
      "Driver [C:\\Users\\theoh\\.wdm\\drivers\\chromedriver\\win32\\98.0.4758.102\\chromedriver.exe] found in cache\n",
      "\n",
      "\n",
      "====== WebDriver manager ======\n",
      "Current google-chrome version is 98.0.4758\n",
      "Get LATEST chromedriver version for 98.0.4758 google-chrome\n",
      "Driver [C:\\Users\\theoh\\.wdm\\drivers\\chromedriver\\win32\\98.0.4758.102\\chromedriver.exe] found in cache\n",
      "\n",
      "\n",
      "====== WebDriver manager ======\n",
      "Current google-chrome version is 98.0.4758\n",
      "Get LATEST chromedriver version for 98.0.4758 google-chrome\n",
      "Driver [C:\\Users\\theoh\\.wdm\\drivers\\chromedriver\\win32\\98.0.4758.102\\chromedriver.exe] found in cache\n"
     ]
    }
   ],
   "source": [
    "address_coords = []\n",
    "# Loop through every ski resort to find it's coordinates\n",
    "for address in addresses:\n",
    "       \n",
    "    # Define URL to search in Google Maps\n",
    "    url = 'https://www.google.com/maps/place/' + address\n",
    "    \n",
    "    # Import web driver and search for ski resorts\n",
    "    driver = webdriver.Chrome(service=Service(ChromeDriverManager().install()))\n",
    "    driver.get(url)\n",
    "      \n",
    "    # Click search\n",
    "    element = WebDriverWait(driver, 20).until(EC.element_to_be_clickable((By.ID, \"searchbox-searchbutton\")))\n",
    "    element.click()\n",
    "    \n",
    "    # Make the web driver wait until the URL updates (i.e. contains the @ sign we're looking for)\n",
    "    WebDriverWait(driver, 20).until(EC.url_contains(\"@\"))\n",
    "    \n",
    "    # Retrieve the URL\n",
    "    link = driver.current_url\n",
    "    \n",
    "    # Split string\n",
    "    lat, lon = link.rsplit('@', 1)[1].rsplit(',', 1)[0].rsplit(',', 1)\n",
    "    \n",
    "    # Append to list\n",
    "    address_coords.append((lat, lon))\n",
    "    \n",
    "    # Close driver\n",
    "    driver.close()"
   ]
  },
  {
   "cell_type": "code",
   "execution_count": 23,
   "id": "27b705bf",
   "metadata": {},
   "outputs": [
    {
     "data": {
      "text/plain": [
       "[('45.5216776', '-122.693017'),\n",
       " ('47.5933101', '-122.3344609'),\n",
       " ('33.9530049', '-118.3407129'),\n",
       " ('44.0594287', '-123.0710918')]"
      ]
     },
     "execution_count": 23,
     "metadata": {},
     "output_type": "execute_result"
    }
   ],
   "source": [
    "address_coords"
   ]
  },
  {
   "cell_type": "code",
   "execution_count": 24,
   "id": "b37eeff7",
   "metadata": {
    "scrolled": true
   },
   "outputs": [
    {
     "data": {
      "text/html": [
       "<div style=\"width:100%;\"><div style=\"position:relative;width:100%;height:0;padding-bottom:60%;\"><span style=\"color:#565656\">Make this Notebook Trusted to load map: File -> Trust Notebook</span><iframe src=\"about:blank\" style=\"position:absolute;width:100%;height:100%;left:0;top:0;border:none !important;\" data-html=%3C%21DOCTYPE%20html%3E%0A%3Chead%3E%20%20%20%20%0A%20%20%20%20%3Cmeta%20http-equiv%3D%22content-type%22%20content%3D%22text/html%3B%20charset%3DUTF-8%22%20/%3E%0A%20%20%20%20%0A%20%20%20%20%20%20%20%20%3Cscript%3E%0A%20%20%20%20%20%20%20%20%20%20%20%20L_NO_TOUCH%20%3D%20false%3B%0A%20%20%20%20%20%20%20%20%20%20%20%20L_DISABLE_3D%20%3D%20false%3B%0A%20%20%20%20%20%20%20%20%3C/script%3E%0A%20%20%20%20%0A%20%20%20%20%3Cstyle%3Ehtml%2C%20body%20%7Bwidth%3A%20100%25%3Bheight%3A%20100%25%3Bmargin%3A%200%3Bpadding%3A%200%3B%7D%3C/style%3E%0A%20%20%20%20%3Cstyle%3E%23map%20%7Bposition%3Aabsolute%3Btop%3A0%3Bbottom%3A0%3Bright%3A0%3Bleft%3A0%3B%7D%3C/style%3E%0A%20%20%20%20%3Cscript%20src%3D%22https%3A//cdn.jsdelivr.net/npm/leaflet%401.6.0/dist/leaflet.js%22%3E%3C/script%3E%0A%20%20%20%20%3Cscript%20src%3D%22https%3A//code.jquery.com/jquery-1.12.4.min.js%22%3E%3C/script%3E%0A%20%20%20%20%3Cscript%20src%3D%22https%3A//maxcdn.bootstrapcdn.com/bootstrap/3.2.0/js/bootstrap.min.js%22%3E%3C/script%3E%0A%20%20%20%20%3Cscript%20src%3D%22https%3A//cdnjs.cloudflare.com/ajax/libs/Leaflet.awesome-markers/2.0.2/leaflet.awesome-markers.js%22%3E%3C/script%3E%0A%20%20%20%20%3Clink%20rel%3D%22stylesheet%22%20href%3D%22https%3A//cdn.jsdelivr.net/npm/leaflet%401.6.0/dist/leaflet.css%22/%3E%0A%20%20%20%20%3Clink%20rel%3D%22stylesheet%22%20href%3D%22https%3A//maxcdn.bootstrapcdn.com/bootstrap/3.2.0/css/bootstrap.min.css%22/%3E%0A%20%20%20%20%3Clink%20rel%3D%22stylesheet%22%20href%3D%22https%3A//maxcdn.bootstrapcdn.com/bootstrap/3.2.0/css/bootstrap-theme.min.css%22/%3E%0A%20%20%20%20%3Clink%20rel%3D%22stylesheet%22%20href%3D%22https%3A//maxcdn.bootstrapcdn.com/font-awesome/4.6.3/css/font-awesome.min.css%22/%3E%0A%20%20%20%20%3Clink%20rel%3D%22stylesheet%22%20href%3D%22https%3A//cdnjs.cloudflare.com/ajax/libs/Leaflet.awesome-markers/2.0.2/leaflet.awesome-markers.css%22/%3E%0A%20%20%20%20%3Clink%20rel%3D%22stylesheet%22%20href%3D%22https%3A//cdn.jsdelivr.net/gh/python-visualization/folium/folium/templates/leaflet.awesome.rotate.min.css%22/%3E%0A%20%20%20%20%0A%20%20%20%20%20%20%20%20%20%20%20%20%3Cmeta%20name%3D%22viewport%22%20content%3D%22width%3Ddevice-width%2C%0A%20%20%20%20%20%20%20%20%20%20%20%20%20%20%20%20initial-scale%3D1.0%2C%20maximum-scale%3D1.0%2C%20user-scalable%3Dno%22%20/%3E%0A%20%20%20%20%20%20%20%20%20%20%20%20%3Cstyle%3E%0A%20%20%20%20%20%20%20%20%20%20%20%20%20%20%20%20%23map_a1b29b10ac834bddbefc0cd31bc2ce48%20%7B%0A%20%20%20%20%20%20%20%20%20%20%20%20%20%20%20%20%20%20%20%20position%3A%20relative%3B%0A%20%20%20%20%20%20%20%20%20%20%20%20%20%20%20%20%20%20%20%20width%3A%20100.0%25%3B%0A%20%20%20%20%20%20%20%20%20%20%20%20%20%20%20%20%20%20%20%20height%3A%20100.0%25%3B%0A%20%20%20%20%20%20%20%20%20%20%20%20%20%20%20%20%20%20%20%20left%3A%200.0%25%3B%0A%20%20%20%20%20%20%20%20%20%20%20%20%20%20%20%20%20%20%20%20top%3A%200.0%25%3B%0A%20%20%20%20%20%20%20%20%20%20%20%20%20%20%20%20%7D%0A%20%20%20%20%20%20%20%20%20%20%20%20%3C/style%3E%0A%20%20%20%20%20%20%20%20%0A%3C/head%3E%0A%3Cbody%3E%20%20%20%20%0A%20%20%20%20%0A%20%20%20%20%20%20%20%20%20%20%20%20%3Cdiv%20class%3D%22folium-map%22%20id%3D%22map_a1b29b10ac834bddbefc0cd31bc2ce48%22%20%3E%3C/div%3E%0A%20%20%20%20%20%20%20%20%0A%3C/body%3E%0A%3Cscript%3E%20%20%20%20%0A%20%20%20%20%0A%20%20%20%20%20%20%20%20%20%20%20%20var%20map_a1b29b10ac834bddbefc0cd31bc2ce48%20%3D%20L.map%28%0A%20%20%20%20%20%20%20%20%20%20%20%20%20%20%20%20%22map_a1b29b10ac834bddbefc0cd31bc2ce48%22%2C%0A%20%20%20%20%20%20%20%20%20%20%20%20%20%20%20%20%7B%0A%20%20%20%20%20%20%20%20%20%20%20%20%20%20%20%20%20%20%20%20center%3A%20%5B35.0%2C%20-121.0%5D%2C%0A%20%20%20%20%20%20%20%20%20%20%20%20%20%20%20%20%20%20%20%20crs%3A%20L.CRS.EPSG3857%2C%0A%20%20%20%20%20%20%20%20%20%20%20%20%20%20%20%20%20%20%20%20zoom%3A%204%2C%0A%20%20%20%20%20%20%20%20%20%20%20%20%20%20%20%20%20%20%20%20zoomControl%3A%20true%2C%0A%20%20%20%20%20%20%20%20%20%20%20%20%20%20%20%20%20%20%20%20preferCanvas%3A%20false%2C%0A%20%20%20%20%20%20%20%20%20%20%20%20%20%20%20%20%7D%0A%20%20%20%20%20%20%20%20%20%20%20%20%29%3B%0A%0A%20%20%20%20%20%20%20%20%20%20%20%20%0A%0A%20%20%20%20%20%20%20%20%0A%20%20%20%20%0A%20%20%20%20%20%20%20%20%20%20%20%20var%20tile_layer_3364a664e28a4d1b8e4c1666e0c70d1e%20%3D%20L.tileLayer%28%0A%20%20%20%20%20%20%20%20%20%20%20%20%20%20%20%20%22https%3A//%7Bs%7D.tile.openstreetmap.org/%7Bz%7D/%7Bx%7D/%7By%7D.png%22%2C%0A%20%20%20%20%20%20%20%20%20%20%20%20%20%20%20%20%7B%22attribution%22%3A%20%22Data%20by%20%5Cu0026copy%3B%20%5Cu003ca%20href%3D%5C%22http%3A//openstreetmap.org%5C%22%5Cu003eOpenStreetMap%5Cu003c/a%5Cu003e%2C%20under%20%5Cu003ca%20href%3D%5C%22http%3A//www.openstreetmap.org/copyright%5C%22%5Cu003eODbL%5Cu003c/a%5Cu003e.%22%2C%20%22detectRetina%22%3A%20false%2C%20%22maxNativeZoom%22%3A%2018%2C%20%22maxZoom%22%3A%2018%2C%20%22minZoom%22%3A%200%2C%20%22noWrap%22%3A%20false%2C%20%22opacity%22%3A%201%2C%20%22subdomains%22%3A%20%22abc%22%2C%20%22tms%22%3A%20false%7D%0A%20%20%20%20%20%20%20%20%20%20%20%20%29.addTo%28map_a1b29b10ac834bddbefc0cd31bc2ce48%29%3B%0A%20%20%20%20%20%20%20%20%0A%20%20%20%20%0A%20%20%20%20%20%20%20%20%20%20%20%20var%20marker_ce54d3a01bda4b6e895998c46556e54d%20%3D%20L.marker%28%0A%20%20%20%20%20%20%20%20%20%20%20%20%20%20%20%20%5B45.5216776%2C%20-122.693017%5D%2C%0A%20%20%20%20%20%20%20%20%20%20%20%20%20%20%20%20%7B%7D%0A%20%20%20%20%20%20%20%20%20%20%20%20%29.addTo%28map_a1b29b10ac834bddbefc0cd31bc2ce48%29%3B%0A%20%20%20%20%20%20%20%20%0A%20%20%20%20%0A%20%20%20%20%20%20%20%20var%20popup_327076280d7145e1aa9173555b8f01fc%20%3D%20L.popup%28%7B%22maxWidth%22%3A%20%22100%25%22%7D%29%3B%0A%0A%20%20%20%20%20%20%20%20%0A%20%20%20%20%20%20%20%20%20%20%20%20var%20html_0a5704158a0e4ef5ac54915991f840f4%20%3D%20%24%28%60%3Cdiv%20id%3D%22html_0a5704158a0e4ef5ac54915991f840f4%22%20style%3D%22width%3A%20100.0%25%3B%20height%3A%20100.0%25%3B%22%3E1844%20SW%20Morrison%20St%2C%20Portland%2C%20OR%2097205%3C/div%3E%60%29%5B0%5D%3B%0A%20%20%20%20%20%20%20%20%20%20%20%20popup_327076280d7145e1aa9173555b8f01fc.setContent%28html_0a5704158a0e4ef5ac54915991f840f4%29%3B%0A%20%20%20%20%20%20%20%20%0A%0A%20%20%20%20%20%20%20%20marker_ce54d3a01bda4b6e895998c46556e54d.bindPopup%28popup_327076280d7145e1aa9173555b8f01fc%29%0A%20%20%20%20%20%20%20%20%3B%0A%0A%20%20%20%20%20%20%20%20%0A%20%20%20%20%0A%20%20%20%20%0A%20%20%20%20%20%20%20%20%20%20%20%20var%20marker_1d23c092571e4e95b4cd2e3efd9ef95f%20%3D%20L.marker%28%0A%20%20%20%20%20%20%20%20%20%20%20%20%20%20%20%20%5B47.5933101%2C%20-122.3344609%5D%2C%0A%20%20%20%20%20%20%20%20%20%20%20%20%20%20%20%20%7B%7D%0A%20%20%20%20%20%20%20%20%20%20%20%20%29.addTo%28map_a1b29b10ac834bddbefc0cd31bc2ce48%29%3B%0A%20%20%20%20%20%20%20%20%0A%20%20%20%20%0A%20%20%20%20%20%20%20%20var%20popup_42f070bafcfb43e8b3ed041fb9e6998a%20%3D%20L.popup%28%7B%22maxWidth%22%3A%20%22100%25%22%7D%29%3B%0A%0A%20%20%20%20%20%20%20%20%0A%20%20%20%20%20%20%20%20%20%20%20%20var%20html_5593a19e752544538ab2d6b06dd2a11d%20%3D%20%24%28%60%3Cdiv%20id%3D%22html_5593a19e752544538ab2d6b06dd2a11d%22%20style%3D%22width%3A%20100.0%25%3B%20height%3A%20100.0%25%3B%22%3E800%20Occidental%20Ave%20S%2C%20Seattle%2C%20WA%2098134%3C/div%3E%60%29%5B0%5D%3B%0A%20%20%20%20%20%20%20%20%20%20%20%20popup_42f070bafcfb43e8b3ed041fb9e6998a.setContent%28html_5593a19e752544538ab2d6b06dd2a11d%29%3B%0A%20%20%20%20%20%20%20%20%0A%0A%20%20%20%20%20%20%20%20marker_1d23c092571e4e95b4cd2e3efd9ef95f.bindPopup%28popup_42f070bafcfb43e8b3ed041fb9e6998a%29%0A%20%20%20%20%20%20%20%20%3B%0A%0A%20%20%20%20%20%20%20%20%0A%20%20%20%20%0A%20%20%20%20%0A%20%20%20%20%20%20%20%20%20%20%20%20var%20marker_e133a32f01cc4aa9aa0c564daa49c088%20%3D%20L.marker%28%0A%20%20%20%20%20%20%20%20%20%20%20%20%20%20%20%20%5B33.9530049%2C%20-118.3407129%5D%2C%0A%20%20%20%20%20%20%20%20%20%20%20%20%20%20%20%20%7B%7D%0A%20%20%20%20%20%20%20%20%20%20%20%20%29.addTo%28map_a1b29b10ac834bddbefc0cd31bc2ce48%29%3B%0A%20%20%20%20%20%20%20%20%0A%20%20%20%20%0A%20%20%20%20%20%20%20%20var%20popup_2f978c12134b4cde8a977debb375a64b%20%3D%20L.popup%28%7B%22maxWidth%22%3A%20%22100%25%22%7D%29%3B%0A%0A%20%20%20%20%20%20%20%20%0A%20%20%20%20%20%20%20%20%20%20%20%20var%20html_269669e0350e4dca994b2caf834fdad3%20%3D%20%24%28%60%3Cdiv%20id%3D%22html_269669e0350e4dca994b2caf834fdad3%22%20style%3D%22width%3A%20100.0%25%3B%20height%3A%20100.0%25%3B%22%3E1001%20Stadium%20Dr%2C%20Inglewood%2C%20CA%2090301%3C/div%3E%60%29%5B0%5D%3B%0A%20%20%20%20%20%20%20%20%20%20%20%20popup_2f978c12134b4cde8a977debb375a64b.setContent%28html_269669e0350e4dca994b2caf834fdad3%29%3B%0A%20%20%20%20%20%20%20%20%0A%0A%20%20%20%20%20%20%20%20marker_e133a32f01cc4aa9aa0c564daa49c088.bindPopup%28popup_2f978c12134b4cde8a977debb375a64b%29%0A%20%20%20%20%20%20%20%20%3B%0A%0A%20%20%20%20%20%20%20%20%0A%20%20%20%20%0A%20%20%20%20%0A%20%20%20%20%20%20%20%20%20%20%20%20var%20marker_c5d86bc4bb2b424ba59bb7fa8f6704cb%20%3D%20L.marker%28%0A%20%20%20%20%20%20%20%20%20%20%20%20%20%20%20%20%5B44.0594287%2C%20-123.0710918%5D%2C%0A%20%20%20%20%20%20%20%20%20%20%20%20%20%20%20%20%7B%7D%0A%20%20%20%20%20%20%20%20%20%20%20%20%29.addTo%28map_a1b29b10ac834bddbefc0cd31bc2ce48%29%3B%0A%20%20%20%20%20%20%20%20%0A%20%20%20%20%0A%20%20%20%20%20%20%20%20var%20popup_2bda8f08833c40f59a0bc39b945ad239%20%3D%20L.popup%28%7B%22maxWidth%22%3A%20%22100%25%22%7D%29%3B%0A%0A%20%20%20%20%20%20%20%20%0A%20%20%20%20%20%20%20%20%20%20%20%20var%20html_5db41c1be4f74fccb2b628affb33c7c3%20%3D%20%24%28%60%3Cdiv%20id%3D%22html_5db41c1be4f74fccb2b628affb33c7c3%22%20style%3D%22width%3A%20100.0%25%3B%20height%3A%20100.0%25%3B%22%3E2700%20Martin%20Luther%20King%20Jr%20Blvd%2C%20Eugene%2C%20OR%2097401%3C/div%3E%60%29%5B0%5D%3B%0A%20%20%20%20%20%20%20%20%20%20%20%20popup_2bda8f08833c40f59a0bc39b945ad239.setContent%28html_5db41c1be4f74fccb2b628affb33c7c3%29%3B%0A%20%20%20%20%20%20%20%20%0A%0A%20%20%20%20%20%20%20%20marker_c5d86bc4bb2b424ba59bb7fa8f6704cb.bindPopup%28popup_2bda8f08833c40f59a0bc39b945ad239%29%0A%20%20%20%20%20%20%20%20%3B%0A%0A%20%20%20%20%20%20%20%20%0A%20%20%20%20%0A%3C/script%3E onload=\"this.contentDocument.open();this.contentDocument.write(    decodeURIComponent(this.getAttribute('data-html')));this.contentDocument.close();\" allowfullscreen webkitallowfullscreen mozallowfullscreen></iframe></div></div>"
      ],
      "text/plain": [
       "<folium.folium.Map at 0x17edc76de10>"
      ]
     },
     "execution_count": 24,
     "metadata": {},
     "output_type": "execute_result"
    }
   ],
   "source": [
    "map = folium.Map(location=[35, -121], zoom_start=4)\n",
    "for i in range(0, len(address_coords)):\n",
    "    folium.Marker(address_coords[i], popup=addresses[i]).add_to(map)\n",
    "map"
   ]
  },
  {
   "cell_type": "markdown",
   "id": "dd366c56",
   "metadata": {},
   "source": [
    "## Question 5"
   ]
  },
  {
   "cell_type": "code",
   "execution_count": 25,
   "id": "c21c09b6",
   "metadata": {},
   "outputs": [],
   "source": [
    "# Import package\n",
    "import xarray as xr\n",
    "\n",
    "# Define filepath\n",
    "fp = 'C:/Users/theoh/Downloads/lab7/era_monthly_snowfall_2020.nc'\n",
    "\n",
    "# Read data\n",
    "xds = xr.open_dataset(fp, decode_coords='all')"
   ]
  },
  {
   "cell_type": "code",
   "execution_count": 26,
   "id": "bc232662",
   "metadata": {},
   "outputs": [],
   "source": [
    "# Find closest cell to Mount Ashland\n",
    "mount_ashland = xds.sel(latitude=42.081689, longitude=-122.7069373, method='nearest')"
   ]
  },
  {
   "cell_type": "code",
   "execution_count": 27,
   "id": "617eebb1",
   "metadata": {},
   "outputs": [],
   "source": [
    "# Find closest cell to Willammette Pass \n",
    "willammette_pass = xds.sel(latitude=43.6000579, longitude=-122.0387233, method='nearest')"
   ]
  },
  {
   "cell_type": "code",
   "execution_count": 28,
   "id": "e791092a",
   "metadata": {},
   "outputs": [],
   "source": [
    "# Find closest cell to Hoodoo\n",
    "hoodoo = xds.sel(latitude=44.4086477, longitude=-121.8735991, method='nearest')"
   ]
  },
  {
   "cell_type": "code",
   "execution_count": 29,
   "id": "fc680039",
   "metadata": {},
   "outputs": [
    {
     "data": {
      "text/plain": [
       "0.9228620678186417"
      ]
     },
     "execution_count": 29,
     "metadata": {},
     "output_type": "execute_result"
    }
   ],
   "source": [
    "ash_snow = mount_ashland['sf'].values.sum()*100\n",
    "ash_snow"
   ]
  },
  {
   "cell_type": "code",
   "execution_count": 30,
   "id": "fa0e7c03",
   "metadata": {},
   "outputs": [
    {
     "data": {
      "text/plain": [
       "1.9636936485767365"
      ]
     },
     "execution_count": 30,
     "metadata": {},
     "output_type": "execute_result"
    }
   ],
   "source": [
    "wil_snow = willammette_pass['sf'].values.sum()*100\n",
    "wil_snow"
   ]
  },
  {
   "cell_type": "code",
   "execution_count": 31,
   "id": "20adb07f",
   "metadata": {},
   "outputs": [
    {
     "data": {
      "text/plain": [
       "1.859692856669426"
      ]
     },
     "execution_count": 31,
     "metadata": {},
     "output_type": "execute_result"
    }
   ],
   "source": [
    "hoo_snow = hoodoo['sf'].values.sum()*100\n",
    "hoo_snow"
   ]
  },
  {
   "cell_type": "code",
   "execution_count": 32,
   "id": "aa9b48ea",
   "metadata": {},
   "outputs": [
    {
     "name": "stdout",
     "output_type": "stream",
     "text": [
      "Willammette Pass recieved more snowfall in 2020: 1.96 m compared to 1.86 m in Hoodoo and 0.92 m in Mount Ashland\n"
     ]
    }
   ],
   "source": [
    "print(f'Willammette Pass recieved more snowfall in 2020: {round(wil_snow, 2)} m compared to \\\n",
    "{round(hoo_snow, 2)} m in Hoodoo and {round(ash_snow, 2)} m in Mount Ashland')"
   ]
  },
  {
   "cell_type": "markdown",
   "id": "82a99975",
   "metadata": {},
   "source": [
    "**Extra credit part 1:**"
   ]
  },
  {
   "cell_type": "code",
   "execution_count": 33,
   "id": "85fd4f0d",
   "metadata": {},
   "outputs": [
    {
     "name": "stderr",
     "output_type": "stream",
     "text": [
      "\n",
      "\n",
      "====== WebDriver manager ======\n",
      "Current google-chrome version is 98.0.4758\n",
      "Get LATEST chromedriver version for 98.0.4758 google-chrome\n",
      "Driver [C:\\Users\\theoh\\.wdm\\drivers\\chromedriver\\win32\\98.0.4758.102\\chromedriver.exe] found in cache\n"
     ]
    }
   ],
   "source": [
    "# Install Chrome webdriver\n",
    "driver = webdriver.Chrome(service=Service(ChromeDriverManager().install()))\n",
    "\n",
    "# Open a web browser at the following page\n",
    "driver.get(\"https://en.wikipedia.org/wiki/Category:Ski_areas_and_resorts_in_Oregon\")"
   ]
  },
  {
   "cell_type": "code",
   "execution_count": 34,
   "id": "321f7a88",
   "metadata": {},
   "outputs": [],
   "source": [
    "# Retrieve ski resort names\n",
    "html_list = driver.find_element(By.ID, \"mw-pages\")\n",
    "items = html_list.find_elements(By.TAG_NAME, \"li\")"
   ]
  },
  {
   "cell_type": "code",
   "execution_count": 35,
   "id": "81dabf52",
   "metadata": {
    "scrolled": true
   },
   "outputs": [
    {
     "name": "stdout",
     "output_type": "stream",
     "text": [
      "Anthony Lakes (ski area)\n",
      "Mount Ashland Ski Area\n",
      "Cooper Spur ski area\n",
      "Ferguson Ridge Ski Area\n",
      "Hoodoo (ski area)\n",
      "Mount Ashland Ski Area Expansion\n",
      "Mount Bachelor ski area\n",
      "Mount Hood Meadows\n",
      "Mount Hood Skibowl\n",
      "Snow Bunny\n",
      "Spout Springs Ski Area\n",
      "Summit Pass (Oregon)\n",
      "Timberline Lodge ski area\n",
      "Warner Canyon\n",
      "Willamette Pass Resort\n"
     ]
    }
   ],
   "source": [
    "ski_resort_names = []\n",
    "for item in items:\n",
    "    text = item.text\n",
    "    print(text)\n",
    "    ski_resort_names.append(text)\n",
    "driver.close()"
   ]
  },
  {
   "cell_type": "code",
   "execution_count": 36,
   "id": "d2d5d07f",
   "metadata": {},
   "outputs": [],
   "source": [
    "ski_resort_coords = \\\n",
    "[('44.9629273', '-118.2357075'),\n",
    " ('42.081689', '-122.7069373'),\n",
    " ('45.4188609', '-121.6064311'),\n",
    " ('45.2816889', '-117.1148251'),\n",
    " ('44.4086477', '-121.8735991'),\n",
    " ('42.081689', '-122.7069373'),\n",
    " ('44.0028975', '-121.6812547'),\n",
    " ('45.331759', '-121.6673681'),\n",
    " ('45.2943906', '-121.80705'),\n",
    " ('45.2871456', '-121.7312248'),\n",
    " ('45.7552462', '-118.0536043'),\n",
    " ('43.9688848', '-125.7230331'),\n",
    " ('45.3233604', '-121.7891084'),\n",
    " ('42.237378', '-120.2968217'),\n",
    " ('43.6000579', '-122.0387233')]"
   ]
  },
  {
   "cell_type": "code",
   "execution_count": 37,
   "id": "b51aecf2",
   "metadata": {},
   "outputs": [],
   "source": [
    "# Define filepath\n",
    "fp = 'C:/Users/theoh/Downloads/lab7/era_monthly_snowfall_1979_2020.nc'\n",
    "\n",
    "# Read data\n",
    "xds = xr.open_dataset(fp, decode_coords='all')"
   ]
  },
  {
   "cell_type": "code",
   "execution_count": 38,
   "id": "d136a269",
   "metadata": {
    "scrolled": true
   },
   "outputs": [
    {
     "data": {
      "text/plain": [
       "[('Anthony Lakes (ski area)', ('44.9629273', '-118.2357075')),\n",
       " ('Mount Ashland Ski Area', ('42.081689', '-122.7069373')),\n",
       " ('Cooper Spur ski area', ('45.4188609', '-121.6064311')),\n",
       " ('Ferguson Ridge Ski Area', ('45.2816889', '-117.1148251')),\n",
       " ('Hoodoo (ski area)', ('44.4086477', '-121.8735991')),\n",
       " ('Mount Ashland Ski Area Expansion', ('42.081689', '-122.7069373')),\n",
       " ('Mount Bachelor ski area', ('44.0028975', '-121.6812547')),\n",
       " ('Mount Hood Meadows', ('45.331759', '-121.6673681')),\n",
       " ('Mount Hood Skibowl', ('45.2943906', '-121.80705')),\n",
       " ('Snow Bunny', ('45.2871456', '-121.7312248')),\n",
       " ('Spout Springs Ski Area', ('45.7552462', '-118.0536043')),\n",
       " ('Summit Pass (Oregon)', ('43.9688848', '-125.7230331')),\n",
       " ('Timberline Lodge ski area', ('45.3233604', '-121.7891084')),\n",
       " ('Warner Canyon', ('42.237378', '-120.2968217')),\n",
       " ('Willamette Pass Resort', ('43.6000579', '-122.0387233'))]"
      ]
     },
     "execution_count": 38,
     "metadata": {},
     "output_type": "execute_result"
    }
   ],
   "source": [
    "ski_name_loc = []\n",
    "\n",
    "for i in range(len(ski_resort_names)):\n",
    "    name = ski_resort_names[i]\n",
    "    lat, lon = ski_resort_coords[i]\n",
    "    ski_name_loc.append((name, (lat, lon)))\n",
    "\n",
    "ski_name_loc"
   ]
  },
  {
   "cell_type": "code",
   "execution_count": 39,
   "id": "c07405c3",
   "metadata": {
    "scrolled": true
   },
   "outputs": [
    {
     "data": {
      "text/html": [
       "<div>\n",
       "<style scoped>\n",
       "    .dataframe tbody tr th:only-of-type {\n",
       "        vertical-align: middle;\n",
       "    }\n",
       "\n",
       "    .dataframe tbody tr th {\n",
       "        vertical-align: top;\n",
       "    }\n",
       "\n",
       "    .dataframe thead th {\n",
       "        text-align: right;\n",
       "    }\n",
       "</style>\n",
       "<table border=\"1\" class=\"dataframe\">\n",
       "  <thead>\n",
       "    <tr style=\"text-align: right;\">\n",
       "      <th></th>\n",
       "      <th>name</th>\n",
       "      <th>avg_nov_snowfall</th>\n",
       "    </tr>\n",
       "  </thead>\n",
       "  <tbody>\n",
       "    <tr>\n",
       "      <th>8</th>\n",
       "      <td>Mount Bachelor ski area</td>\n",
       "      <td>0.325813</td>\n",
       "    </tr>\n",
       "    <tr>\n",
       "      <th>0</th>\n",
       "      <td>Willamette Pass Resort</td>\n",
       "      <td>0.286094</td>\n",
       "    </tr>\n",
       "    <tr>\n",
       "      <th>10</th>\n",
       "      <td>Hoodoo (ski area)</td>\n",
       "      <td>0.251084</td>\n",
       "    </tr>\n",
       "    <tr>\n",
       "      <th>11</th>\n",
       "      <td>Ferguson Ridge Ski Area</td>\n",
       "      <td>0.224436</td>\n",
       "    </tr>\n",
       "    <tr>\n",
       "      <th>2</th>\n",
       "      <td>Timberline Lodge ski area</td>\n",
       "      <td>0.220338</td>\n",
       "    </tr>\n",
       "    <tr>\n",
       "      <th>5</th>\n",
       "      <td>Snow Bunny</td>\n",
       "      <td>0.220338</td>\n",
       "    </tr>\n",
       "    <tr>\n",
       "      <th>6</th>\n",
       "      <td>Mount Hood Skibowl</td>\n",
       "      <td>0.220338</td>\n",
       "    </tr>\n",
       "    <tr>\n",
       "      <th>7</th>\n",
       "      <td>Mount Hood Meadows</td>\n",
       "      <td>0.220338</td>\n",
       "    </tr>\n",
       "    <tr>\n",
       "      <th>14</th>\n",
       "      <td>Anthony Lakes (ski area)</td>\n",
       "      <td>0.186159</td>\n",
       "    </tr>\n",
       "    <tr>\n",
       "      <th>12</th>\n",
       "      <td>Cooper Spur ski area</td>\n",
       "      <td>0.162620</td>\n",
       "    </tr>\n",
       "    <tr>\n",
       "      <th>9</th>\n",
       "      <td>Mount Ashland Ski Area Expansion</td>\n",
       "      <td>0.161920</td>\n",
       "    </tr>\n",
       "    <tr>\n",
       "      <th>13</th>\n",
       "      <td>Mount Ashland Ski Area</td>\n",
       "      <td>0.161920</td>\n",
       "    </tr>\n",
       "    <tr>\n",
       "      <th>4</th>\n",
       "      <td>Spout Springs Ski Area</td>\n",
       "      <td>0.156591</td>\n",
       "    </tr>\n",
       "    <tr>\n",
       "      <th>1</th>\n",
       "      <td>Warner Canyon</td>\n",
       "      <td>0.130316</td>\n",
       "    </tr>\n",
       "    <tr>\n",
       "      <th>3</th>\n",
       "      <td>Summit Pass (Oregon)</td>\n",
       "      <td>0.000018</td>\n",
       "    </tr>\n",
       "  </tbody>\n",
       "</table>\n",
       "</div>"
      ],
      "text/plain": [
       "                                name  avg_nov_snowfall\n",
       "8            Mount Bachelor ski area          0.325813\n",
       "0             Willamette Pass Resort          0.286094\n",
       "10                 Hoodoo (ski area)          0.251084\n",
       "11           Ferguson Ridge Ski Area          0.224436\n",
       "2          Timberline Lodge ski area          0.220338\n",
       "5                         Snow Bunny          0.220338\n",
       "6                 Mount Hood Skibowl          0.220338\n",
       "7                 Mount Hood Meadows          0.220338\n",
       "14          Anthony Lakes (ski area)          0.186159\n",
       "12              Cooper Spur ski area          0.162620\n",
       "9   Mount Ashland Ski Area Expansion          0.161920\n",
       "13            Mount Ashland Ski Area          0.161920\n",
       "4             Spout Springs Ski Area          0.156591\n",
       "1                      Warner Canyon          0.130316\n",
       "3               Summit Pass (Oregon)          0.000018"
      ]
     },
     "execution_count": 39,
     "metadata": {},
     "output_type": "execute_result"
    }
   ],
   "source": [
    "avg_nov_snowfalls = pd.DataFrame()\n",
    "avg_nov_snowfalls_dict = {}\n",
    "for ski_area in ski_name_loc:\n",
    "    november_snowfall = []\n",
    "    cell = xds.sel(latitude=float(ski_area[1][0]), longitude=float(ski_area[1][1]), method='nearest')\n",
    "    month_counter = 0\n",
    "    for month in cell['time']:\n",
    "        month_str = str(month['time'].values)\n",
    "\n",
    "        if month_str[5:7] == '11':\n",
    "            november_snowfall.append(cell['sf'][month_counter].values)\n",
    "        month_counter += 1\n",
    "    \n",
    "    total_nov_snowfall = sum(november_snowfall)\n",
    "    avg_nov_snowfall = total_nov_snowfall/len(november_snowfall)*100\n",
    "    \n",
    "    avg_nov_snowfalls_dict['name'] = [ski_area[0]]\n",
    "    avg_nov_snowfalls_dict['avg_nov_snowfall'] = avg_nov_snowfall\n",
    "\n",
    "\n",
    "    avg_nov_snowfalls= pd.concat([pd.DataFrame(avg_nov_snowfalls_dict), avg_nov_snowfalls], ignore_index = True, axis =0)\n",
    "\n",
    "avg_nov_snowfalls.sort_values(by=['avg_nov_snowfall'],ascending=False)"
   ]
  },
  {
   "cell_type": "code",
   "execution_count": null,
   "id": "f2f7fe9e",
   "metadata": {},
   "outputs": [],
   "source": []
  }
 ],
 "metadata": {
  "kernelspec": {
   "display_name": "Python 3 (ipykernel)",
   "language": "python",
   "name": "python3"
  },
  "language_info": {
   "codemirror_mode": {
    "name": "ipython",
    "version": 3
   },
   "file_extension": ".py",
   "mimetype": "text/x-python",
   "name": "python",
   "nbconvert_exporter": "python",
   "pygments_lexer": "ipython3",
   "version": "3.10.2"
  }
 },
 "nbformat": 4,
 "nbformat_minor": 5
}
