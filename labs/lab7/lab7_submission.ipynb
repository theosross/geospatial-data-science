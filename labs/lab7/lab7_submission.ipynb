{
 "cells": [
  {
   "cell_type": "markdown",
   "id": "b380b672",
   "metadata": {},
   "source": [
    "## Question 1"
   ]
  },
  {
   "cell_type": "code",
   "execution_count": 1,
   "id": "75753246",
   "metadata": {
    "scrolled": true
   },
   "outputs": [
    {
     "name": "stdout",
     "output_type": "stream",
     "text": [
      "Requirement already satisfied: dataretrieval in c:\\users\\theoh\\anaconda3\\envs\\lab7\\lib\\site-packages (0.7)\n",
      "Requirement already satisfied: requests in c:\\users\\theoh\\anaconda3\\envs\\lab7\\lib\\site-packages (from dataretrieval) (2.27.1)\n",
      "Requirement already satisfied: pandas in c:\\users\\theoh\\anaconda3\\envs\\lab7\\lib\\site-packages (from dataretrieval) (1.4.1)\n",
      "Requirement already satisfied: pytz>=2020.1 in c:\\users\\theoh\\anaconda3\\envs\\lab7\\lib\\site-packages (from pandas->dataretrieval) (2021.3)\n",
      "Requirement already satisfied: python-dateutil>=2.8.1 in c:\\users\\theoh\\anaconda3\\envs\\lab7\\lib\\site-packages (from pandas->dataretrieval) (2.8.2)\n",
      "Requirement already satisfied: numpy>=1.21.0 in c:\\users\\theoh\\anaconda3\\envs\\lab7\\lib\\site-packages (from pandas->dataretrieval) (1.22.2)\n",
      "Requirement already satisfied: idna<4,>=2.5 in c:\\users\\theoh\\anaconda3\\envs\\lab7\\lib\\site-packages (from requests->dataretrieval) (3.3)\n",
      "Requirement already satisfied: charset-normalizer~=2.0.0 in c:\\users\\theoh\\anaconda3\\envs\\lab7\\lib\\site-packages (from requests->dataretrieval) (2.0.12)\n",
      "Requirement already satisfied: urllib3<1.27,>=1.21.1 in c:\\users\\theoh\\anaconda3\\envs\\lab7\\lib\\site-packages (from requests->dataretrieval) (1.26.8)\n",
      "Requirement already satisfied: certifi>=2017.4.17 in c:\\users\\theoh\\anaconda3\\envs\\lab7\\lib\\site-packages (from requests->dataretrieval) (2021.10.8)\n",
      "Requirement already satisfied: six>=1.5 in c:\\users\\theoh\\anaconda3\\envs\\lab7\\lib\\site-packages (from python-dateutil>=2.8.1->pandas->dataretrieval) (1.16.0)\n"
     ]
    }
   ],
   "source": [
    "# Install package for obtaining USGS streamflow data\n",
    "!pip install -U dataretrieval"
   ]
  },
  {
   "cell_type": "code",
   "execution_count": 2,
   "id": "6611e5c6",
   "metadata": {},
   "outputs": [
    {
     "data": {
      "text/html": [
       "<div>\n",
       "<style scoped>\n",
       "    .dataframe tbody tr th:only-of-type {\n",
       "        vertical-align: middle;\n",
       "    }\n",
       "\n",
       "    .dataframe tbody tr th {\n",
       "        vertical-align: top;\n",
       "    }\n",
       "\n",
       "    .dataframe thead th {\n",
       "        text-align: right;\n",
       "    }\n",
       "</style>\n",
       "<table border=\"1\" class=\"dataframe\">\n",
       "  <thead>\n",
       "    <tr style=\"text-align: right;\">\n",
       "      <th></th>\n",
       "      <th>00060_Mean</th>\n",
       "      <th>00060_Mean_cd</th>\n",
       "      <th>site_no</th>\n",
       "      <th>00065_Mean</th>\n",
       "      <th>00065_Mean_cd</th>\n",
       "    </tr>\n",
       "    <tr>\n",
       "      <th>datetime</th>\n",
       "      <th></th>\n",
       "      <th></th>\n",
       "      <th></th>\n",
       "      <th></th>\n",
       "      <th></th>\n",
       "    </tr>\n",
       "  </thead>\n",
       "  <tbody>\n",
       "    <tr>\n",
       "      <th>2021-01-01 00:00:00+00:00</th>\n",
       "      <td>2040.0</td>\n",
       "      <td>A</td>\n",
       "      <td>02087183</td>\n",
       "      <td>3.01</td>\n",
       "      <td>A</td>\n",
       "    </tr>\n",
       "    <tr>\n",
       "      <th>2021-01-02 00:00:00+00:00</th>\n",
       "      <td>2040.0</td>\n",
       "      <td>A</td>\n",
       "      <td>02087183</td>\n",
       "      <td>3.01</td>\n",
       "      <td>A</td>\n",
       "    </tr>\n",
       "    <tr>\n",
       "      <th>2021-01-03 00:00:00+00:00</th>\n",
       "      <td>2060.0</td>\n",
       "      <td>A</td>\n",
       "      <td>02087183</td>\n",
       "      <td>3.02</td>\n",
       "      <td>A</td>\n",
       "    </tr>\n",
       "    <tr>\n",
       "      <th>2021-01-04 00:00:00+00:00</th>\n",
       "      <td>2090.0</td>\n",
       "      <td>A</td>\n",
       "      <td>02087183</td>\n",
       "      <td>3.03</td>\n",
       "      <td>A</td>\n",
       "    </tr>\n",
       "    <tr>\n",
       "      <th>2021-01-05 00:00:00+00:00</th>\n",
       "      <td>2890.0</td>\n",
       "      <td>A</td>\n",
       "      <td>02087183</td>\n",
       "      <td>3.33</td>\n",
       "      <td>A</td>\n",
       "    </tr>\n",
       "  </tbody>\n",
       "</table>\n",
       "</div>"
      ],
      "text/plain": [
       "                           00060_Mean 00060_Mean_cd   site_no  00065_Mean  \\\n",
       "datetime                                                                    \n",
       "2021-01-01 00:00:00+00:00      2040.0             A  02087183        3.01   \n",
       "2021-01-02 00:00:00+00:00      2040.0             A  02087183        3.01   \n",
       "2021-01-03 00:00:00+00:00      2060.0             A  02087183        3.02   \n",
       "2021-01-04 00:00:00+00:00      2090.0             A  02087183        3.03   \n",
       "2021-01-05 00:00:00+00:00      2890.0             A  02087183        3.33   \n",
       "\n",
       "                          00065_Mean_cd  \n",
       "datetime                                 \n",
       "2021-01-01 00:00:00+00:00             A  \n",
       "2021-01-02 00:00:00+00:00             A  \n",
       "2021-01-03 00:00:00+00:00             A  \n",
       "2021-01-04 00:00:00+00:00             A  \n",
       "2021-01-05 00:00:00+00:00             A  "
      ]
     },
     "execution_count": 2,
     "metadata": {},
     "output_type": "execute_result"
    }
   ],
   "source": [
    "# Import the functions for downloading data from NWIS\n",
    "import dataretrieval.nwis as nwis\n",
    "\n",
    "# Specify the USGS site code\n",
    "site = '02087183'\n",
    "\n",
    "# Get instantaneous values (iv)\n",
    "df = nwis.get_record(sites=site, service='dv', start='2021-01-01', end='2021-12-31')\n",
    "df.head()"
   ]
  },
  {
   "cell_type": "code",
   "execution_count": 3,
   "id": "024c7ba4",
   "metadata": {},
   "outputs": [
    {
     "data": {
      "text/plain": [
       "<AxesSubplot:xlabel='datetime'>"
      ]
     },
     "execution_count": 3,
     "metadata": {},
     "output_type": "execute_result"
    },
    {
     "data": {
      "image/png": "[encoded data removed]",
      "text/plain": [
       "<Figure size 432x288 with 1 Axes>"
      ]
     },
     "metadata": {
      "needs_background": "light"
     },
     "output_type": "display_data"
    }
   ],
   "source": [
    "# Simple plot\n",
    "df['00060_Mean'].plot()"
   ]
  },
  {
   "cell_type": "markdown",
   "id": "b50db9cc",
   "metadata": {},
   "source": [
    "The above figure shows daily discharge, in cubic feet per second, for the year of 2021 at a gage below the dam at Falls Lake in North Carolina."
   ]
  },
  {
   "cell_type": "markdown",
   "id": "f42608ee",
   "metadata": {},
   "source": [
    "## Question 2"
   ]
  },
  {
   "cell_type": "code",
   "execution_count": 4,
   "id": "1e628199",
   "metadata": {},
   "outputs": [],
   "source": [
    "neuse = nwis.get_record(sites='02091814', service='dv', start='2020-10-01', end='2021-09-30')"
   ]
  },
  {
   "cell_type": "code",
   "execution_count": 5,
   "id": "a35ff83d",
   "metadata": {},
   "outputs": [
    {
     "data": {
      "text/plain": [
       "7583"
      ]
     },
     "execution_count": 5,
     "metadata": {},
     "output_type": "execute_result"
    }
   ],
   "source": [
    "int(neuse['00060_Mean'].mean())"
   ]
  },
  {
   "cell_type": "markdown",
   "id": "8ab78aec",
   "metadata": {},
   "source": [
    "Mean daily discharge between 10-01-2020 and 09-30-2021 on the Neuse River in NC"
   ]
  },
  {
   "cell_type": "code",
   "execution_count": 6,
   "id": "5b2b88f6",
   "metadata": {},
   "outputs": [],
   "source": [
    "colorado = nwis.get_record(sites='09429490', service='dv', start='2020-10-01', end='2021-09-30')"
   ]
  },
  {
   "cell_type": "code",
   "execution_count": 7,
   "id": "3b0bcb8b",
   "metadata": {},
   "outputs": [
    {
     "data": {
      "text/plain": [
       "7643"
      ]
     },
     "execution_count": 7,
     "metadata": {},
     "output_type": "execute_result"
    }
   ],
   "source": [
    "int(colorado['00060_Mean'].mean())"
   ]
  },
  {
   "cell_type": "markdown",
   "id": "9dcc7dc7",
   "metadata": {},
   "source": [
    "Mean daily discharge between 10-01-2020 and 09-30-2021 on the Colorado River in CA-AZ"
   ]
  },
  {
   "cell_type": "code",
   "execution_count": 8,
   "id": "5ef7d3df",
   "metadata": {},
   "outputs": [],
   "source": [
    "willamette = nwis.get_record(sites='14166000', service='dv', start='2020-10-01', end='2021-09-30')"
   ]
  },
  {
   "cell_type": "code",
   "execution_count": 9,
   "id": "4b4b0dc9",
   "metadata": {},
   "outputs": [
    {
     "data": {
      "text/plain": [
       "8429"
      ]
     },
     "execution_count": 9,
     "metadata": {},
     "output_type": "execute_result"
    }
   ],
   "source": [
    "int(willamette['00060_Mean'].mean())"
   ]
  },
  {
   "cell_type": "markdown",
   "id": "5fd86b3f",
   "metadata": {},
   "source": [
    "Mean daily discharge between 10-01-2020 and 09-30-2021 on the Willammette River in OR"
   ]
  },
  {
   "cell_type": "markdown",
   "id": "00017f16",
   "metadata": {},
   "source": [
    "<table>\n",
    "    <tr>\n",
    "        <th>site name</th>\n",
    "        <th>site number</th>\n",
    "        <th>mean daily discharge</th>\n",
    "    </tr>\n",
    "    <tr>\n",
    "        <td>NEUSE RIVER NEAR FORT BARNWELL, NC</td>\n",
    "        <td>02091814</td>\n",
    "        <td>7583</td>\n",
    "    </tr>\n",
    "    <tr>\n",
    "        <td>COLORADO RIVER ABOVE IMPERIAL DAM, AZ-CA</td>\n",
    "        <td>09429490</td>\n",
    "        <td>7643</td>\n",
    "    </tr>\n",
    "    <tr>\n",
    "        <td>WILLAMETTE RIVER AT HARRISBURG, OR</td>\n",
    "        <td>14166000</td>\n",
    "        <td>8429</td>\n",
    "    </tr>\n",
    "</table>"
   ]
  },
  {
   "cell_type": "markdown",
   "id": "a1b70f9b",
   "metadata": {},
   "source": [
    "## Question 3"
   ]
  },
  {
   "cell_type": "code",
   "execution_count": 10,
   "id": "3316dc6b",
   "metadata": {},
   "outputs": [],
   "source": [
    "# Import packages\n",
    "import numpy as np\n",
    "import pandas as pd\n",
    "import folium"
   ]
  },
  {
   "cell_type": "code",
   "execution_count": 11,
   "id": "75ec7a15",
   "metadata": {},
   "outputs": [],
   "source": [
    "# Read HTML table data\n",
    "mountains = pd.read_html('https://en.wikipedia.org/wiki/List_of_mountain_peaks_of_Oregon')"
   ]
  },
  {
   "cell_type": "code",
   "execution_count": 12,
   "id": "6f50d580",
   "metadata": {},
   "outputs": [],
   "source": [
    "# We would like the table that contains the highest summits of Oregon which happens to be the second one\n",
    "mountain_stats = mountains[1]"
   ]
  },
  {
   "cell_type": "code",
   "execution_count": 13,
   "id": "21cd18c2",
   "metadata": {},
   "outputs": [],
   "source": [
    "# Some wrangling\n",
    "mountain_stats['Location'] = mountain_stats['Location'].str.replace(mountain_stats['Location'].loc[0], \"45°22′25″N 121°41′45″W\\ufeff / \\ufeff45.3735°N 121.6959°W\", regex=True)"
   ]
  },
  {
   "cell_type": "code",
   "execution_count": 14,
   "id": "8786947f",
   "metadata": {},
   "outputs": [],
   "source": [
    "# To get these data from every row, we can write a quick for loop\n",
    "coords = []\n",
    "for i in range(len(mountain_stats)):\n",
    "    lat = float(mountain_stats['Location'].iloc[i][27:34])\n",
    "    lon = float(mountain_stats['Location'].iloc[i][37:45]) * -1\n",
    "    coords.append((lat, lon))"
   ]
  },
  {
   "cell_type": "code",
   "execution_count": 15,
   "id": "1e555549",
   "metadata": {},
   "outputs": [
    {
     "data": {
      "text/plain": [
       "[92.2,\n",
       " 77.5,\n",
       " 63.4,\n",
       " 7.0,\n",
       " 1.8,\n",
       " 202.0,\n",
       " 201.0,\n",
       " 9.48,\n",
       " 7.79,\n",
       " 11.84,\n",
       " 111.8,\n",
       " 5.32,\n",
       " 81.1,\n",
       " 5.52,\n",
       " 69.9,\n",
       " 11.02,\n",
       " 74.2,\n",
       " 25.9,\n",
       " 41.4,\n",
       " 45.5,\n",
       " 71.4,\n",
       " 28.1,\n",
       " 12.49,\n",
       " 65.7,\n",
       " 23.7,\n",
       " 53.1,\n",
       " 23.5,\n",
       " 15.98,\n",
       " 10.73,\n",
       " 35.6,\n",
       " 46.5]"
      ]
     },
     "execution_count": 15,
     "metadata": {},
     "output_type": "execute_result"
    }
   ],
   "source": [
    "# Get Isolation data as float\n",
    "isolation = []\n",
    "for i in range(len(mountain_stats)):\n",
    "    iso = float(mountain_stats['Isolation'].iloc[i][:-3])\n",
    "    isolation.append(iso)\n",
    "isolation"
   ]
  },
  {
   "cell_type": "code",
   "execution_count": 16,
   "id": "c48d4aa7",
   "metadata": {},
   "outputs": [
    {
     "data": {
      "text/html": [
       "<div style=\"width:100%;\"><div style=\"position:relative;width:100%;height:0;padding-bottom:60%;\"><span style=\"color:#565656\">Make this Notebook Trusted to load map: File -> Trust Notebook</span><iframe src=\"about:blank\" style=\"position:absolute;width:100%;height:100%;left:0;top:0;border:none !important;\" data-html=%3C%21DOCTYPE%20html%3E%0A%3Chead%3E%20%20%20%20%0A%20%20%20%20%3Cmeta%20http-equiv%3D%22content-type%22%20content%3D%22text/html%3B%20charset%3DUTF-8%22%20/%3E%0A%20%20%20%20%0A%20%20%20%20%20%20%20%20%3Cscript%3E%0A%20%20%20%20%20%20%20%20%20%20%20%20L_NO_TOUCH%20%3D%20false%3B%0A%20%20%20%20%20%20%20%20%20%20%20%20L_DISABLE_3D%20%3D%20false%3B%0A%20%20%20%20%20%20%20%20%3C/script%3E%0A%20%20%20%20%0A%20%20%20%20%3Cstyle%3Ehtml%2C%20body%20%7Bwidth%3A%20100%25%3Bheight%3A%20100%25%3Bmargin%3A%200%3Bpadding%3A%200%3B%7D%3C/style%3E%0A%20%20%20%20%3Cstyle%3E%23map%20%7Bposition%3Aabsolute%3Btop%3A0%3Bbottom%3A0%3Bright%3A0%3Bleft%3A0%3B%7D%3C/style%3E%0A%20%20%20%20%3Cscript%20src%3D%22https%3A//cdn.jsdelivr.net/npm/leaflet%401.6.0/dist/leaflet.js%22%3E%3C/script%3E%0A%20%20%20%20%3Cscript%20src%3D%22https%3A//code.jquery.com/jquery-1.12.4.min.js%22%3E%3C/script%3E%0A%20%20%20%20%3Cscript%20src%3D%22https%3A//maxcdn.bootstrapcdn.com/bootstrap/3.2.0/js/bootstrap.min.js%22%3E%3C/script%3E%0A%20%20%20%20%3Cscript%20src%3D%22https%3A//cdnjs.cloudflare.com/ajax/libs/Leaflet.awesome-markers/2.0.2/leaflet.awesome-markers.js%22%3E%3C/script%3E%0A%20%20%20%20%3Clink%20rel%3D%22stylesheet%22%20href%3D%22https%3A//cdn.jsdelivr.net/npm/leaflet%401.6.0/dist/leaflet.css%22/%3E%0A%20%20%20%20%3Clink%20rel%3D%22stylesheet%22%20href%3D%22https%3A//maxcdn.bootstrapcdn.com/bootstrap/3.2.0/css/bootstrap.min.css%22/%3E%0A%20%20%20%20%3Clink%20rel%3D%22stylesheet%22%20href%3D%22https%3A//maxcdn.bootstrapcdn.com/bootstrap/3.2.0/css/bootstrap-theme.min.css%22/%3E%0A%20%20%20%20%3Clink%20rel%3D%22stylesheet%22%20href%3D%22https%3A//maxcdn.bootstrapcdn.com/font-awesome/4.6.3/css/font-awesome.min.css%22/%3E%0A%20%20%20%20%3Clink%20rel%3D%22stylesheet%22%20href%3D%22https%3A//cdnjs.cloudflare.com/ajax/libs/Leaflet.awesome-markers/2.0.2/leaflet.awesome-markers.css%22/%3E%0A%20%20%20%20%3Clink%20rel%3D%22stylesheet%22%20href%3D%22https%3A//cdn.jsdelivr.net/gh/python-visualization/folium/folium/templates/leaflet.awesome.rotate.min.css%22/%3E%0A%20%20%20%20%0A%20%20%20%20%20%20%20%20%20%20%20%20%3Cmeta%20name%3D%22viewport%22%20content%3D%22width%3Ddevice-width%2C%0A%20%20%20%20%20%20%20%20%20%20%20%20%20%20%20%20initial-scale%3D1.0%2C%20maximum-scale%3D1.0%2C%20user-scalable%3Dno%22%20/%3E%0A%20%20%20%20%20%20%20%20%20%20%20%20%3Cstyle%3E%0A%20%20%20%20%20%20%20%20%20%20%20%20%20%20%20%20%23map_f06e3f1bd7d741a6b3423e17c74628af%20%7B%0A%20%20%20%20%20%20%20%20%20%20%20%20%20%20%20%20%20%20%20%20position%3A%20relative%3B%0A%20%20%20%20%20%20%20%20%20%20%20%20%20%20%20%20%20%20%20%20width%3A%20100.0%25%3B%0A%20%20%20%20%20%20%20%20%20%20%20%20%20%20%20%20%20%20%20%20height%3A%20100.0%25%3B%0A%20%20%20%20%20%20%20%20%20%20%20%20%20%20%20%20%20%20%20%20left%3A%200.0%25%3B%0A%20%20%20%20%20%20%20%20%20%20%20%20%20%20%20%20%20%20%20%20top%3A%200.0%25%3B%0A%20%20%20%20%20%20%20%20%20%20%20%20%20%20%20%20%7D%0A%20%20%20%20%20%20%20%20%20%20%20%20%3C/style%3E%0A%20%20%20%20%20%20%20%20%0A%3C/head%3E%0A%3Cbody%3E%20%20%20%20%0A%20%20%20%20%0A%20%20%20%20%20%20%20%20%20%20%20%20%3Cdiv%20class%3D%22folium-map%22%20id%3D%22map_f06e3f1bd7d741a6b3423e17c74628af%22%20%3E%3C/div%3E%0A%20%20%20%20%20%20%20%20%0A%3C/body%3E%0A%3Cscript%3E%20%20%20%20%0A%20%20%20%20%0A%20%20%20%20%20%20%20%20%20%20%20%20var%20map_f06e3f1bd7d741a6b3423e17c74628af%20%3D%20L.map%28%0A%20%20%20%20%20%20%20%20%20%20%20%20%20%20%20%20%22map_f06e3f1bd7d741a6b3423e17c74628af%22%2C%0A%20%20%20%20%20%20%20%20%20%20%20%20%20%20%20%20%7B%0A%20%20%20%20%20%20%20%20%20%20%20%20%20%20%20%20%20%20%20%20center%3A%20%5B44.0%2C%20-121.0%5D%2C%0A%20%20%20%20%20%20%20%20%20%20%20%20%20%20%20%20%20%20%20%20crs%3A%20L.CRS.EPSG3857%2C%0A%20%20%20%20%20%20%20%20%20%20%20%20%20%20%20%20%20%20%20%20zoom%3A%207%2C%0A%20%20%20%20%20%20%20%20%20%20%20%20%20%20%20%20%20%20%20%20zoomControl%3A%20true%2C%0A%20%20%20%20%20%20%20%20%20%20%20%20%20%20%20%20%20%20%20%20preferCanvas%3A%20false%2C%0A%20%20%20%20%20%20%20%20%20%20%20%20%20%20%20%20%7D%0A%20%20%20%20%20%20%20%20%20%20%20%20%29%3B%0A%0A%20%20%20%20%20%20%20%20%20%20%20%20%0A%0A%20%20%20%20%20%20%20%20%0A%20%20%20%20%0A%20%20%20%20%20%20%20%20%20%20%20%20var%20tile_layer_6c768f94f3a7460e8243f512b0f6eb47%20%3D%20L.tileLayer%28%0A%20%20%20%20%20%20%20%20%20%20%20%20%20%20%20%20%22https%3A//%7Bs%7D.tile.openstreetmap.org/%7Bz%7D/%7Bx%7D/%7By%7D.png%22%2C%0A%20%20%20%20%20%20%20%20%20%20%20%20%20%20%20%20%7B%22attribution%22%3A%20%22Data%20by%20%5Cu0026copy%3B%20%5Cu003ca%20href%3D%5C%22http%3A//openstreetmap.org%5C%22%5Cu003eOpenStreetMap%5Cu003c/a%5Cu003e%2C%20under%20%5Cu003ca%20href%3D%5C%22http%3A//www.openstreetmap.org/copyright%5C%22%5Cu003eODbL%5Cu003c/a%5Cu003e.%22%2C%20%22detectRetina%22%3A%20false%2C%20%22maxNativeZoom%22%3A%2018%2C%20%22maxZoom%22%3A%2018%2C%20%22minZoom%22%3A%200%2C%20%22noWrap%22%3A%20false%2C%20%22opacity%22%3A%201%2C%20%22subdomains%22%3A%20%22abc%22%2C%20%22tms%22%3A%20false%7D%0A%20%20%20%20%20%20%20%20%20%20%20%20%29.addTo%28map_f06e3f1bd7d741a6b3423e17c74628af%29%3B%0A%20%20%20%20%20%20%20%20%0A%20%20%20%20%0A%20%20%20%20%20%20%20%20%20%20%20%20var%20marker_3f31e045291942b393f02d44faf1ed76%20%3D%20L.marker%28%0A%20%20%20%20%20%20%20%20%20%20%20%20%20%20%20%20%5B45.3735%2C%20-121.6959%5D%2C%0A%20%20%20%20%20%20%20%20%20%20%20%20%20%20%20%20%7B%7D%0A%20%20%20%20%20%20%20%20%20%20%20%20%29.addTo%28map_f06e3f1bd7d741a6b3423e17c74628af%29%3B%0A%20%20%20%20%20%20%20%20%0A%20%20%20%20%0A%20%20%20%20%20%20%20%20var%20popup_efaab963f3174e219f7d684cbc01e622%20%3D%20L.popup%28%7B%22maxWidth%22%3A%20%22100%25%22%7D%29%3B%0A%0A%20%20%20%20%20%20%20%20%0A%20%20%20%20%20%20%20%20%20%20%20%20var%20html_2cecf75de9434446845007a7b0080a61%20%3D%20%24%28%60%3Cdiv%20id%3D%22html_2cecf75de9434446845007a7b0080a61%22%20style%3D%22width%3A%20100.0%25%3B%20height%3A%20100.0%25%3B%22%3EIsolation%3A%2092.2%3C/div%3E%60%29%5B0%5D%3B%0A%20%20%20%20%20%20%20%20%20%20%20%20popup_efaab963f3174e219f7d684cbc01e622.setContent%28html_2cecf75de9434446845007a7b0080a61%29%3B%0A%20%20%20%20%20%20%20%20%0A%0A%20%20%20%20%20%20%20%20marker_3f31e045291942b393f02d44faf1ed76.bindPopup%28popup_efaab963f3174e219f7d684cbc01e622%29%0A%20%20%20%20%20%20%20%20%3B%0A%0A%20%20%20%20%20%20%20%20%0A%20%20%20%20%0A%20%20%20%20%0A%20%20%20%20%20%20%20%20%20%20%20%20var%20marker_1c20e164437843f9a34b74809a497c0a%20%3D%20L.marker%28%0A%20%20%20%20%20%20%20%20%20%20%20%20%20%20%20%20%5B44.6743%2C%20-121.7996%5D%2C%0A%20%20%20%20%20%20%20%20%20%20%20%20%20%20%20%20%7B%7D%0A%20%20%20%20%20%20%20%20%20%20%20%20%29.addTo%28map_f06e3f1bd7d741a6b3423e17c74628af%29%3B%0A%20%20%20%20%20%20%20%20%0A%20%20%20%20%0A%20%20%20%20%20%20%20%20var%20popup_699fcbe3c00f4b128aa992e2fce5a6c6%20%3D%20L.popup%28%7B%22maxWidth%22%3A%20%22100%25%22%7D%29%3B%0A%0A%20%20%20%20%20%20%20%20%0A%20%20%20%20%20%20%20%20%20%20%20%20var%20html_6f31b866416a42be89d013caadc99232%20%3D%20%24%28%60%3Cdiv%20id%3D%22html_6f31b866416a42be89d013caadc99232%22%20style%3D%22width%3A%20100.0%25%3B%20height%3A%20100.0%25%3B%22%3EIsolation%3A%2077.5%3C/div%3E%60%29%5B0%5D%3B%0A%20%20%20%20%20%20%20%20%20%20%20%20popup_699fcbe3c00f4b128aa992e2fce5a6c6.setContent%28html_6f31b866416a42be89d013caadc99232%29%3B%0A%20%20%20%20%20%20%20%20%0A%0A%20%20%20%20%20%20%20%20marker_1c20e164437843f9a34b74809a497c0a.bindPopup%28popup_699fcbe3c00f4b128aa992e2fce5a6c6%29%0A%20%20%20%20%20%20%20%20%3B%0A%0A%20%20%20%20%20%20%20%20%0A%20%20%20%20%0A%20%20%20%20%0A%20%20%20%20%20%20%20%20%20%20%20%20var%20marker_3f9868a0ec5b40b2b735daffe8f694ae%20%3D%20L.marker%28%0A%20%20%20%20%20%20%20%20%20%20%20%20%20%20%20%20%5B44.1035%2C%20-121.7693%5D%2C%0A%20%20%20%20%20%20%20%20%20%20%20%20%20%20%20%20%7B%7D%0A%20%20%20%20%20%20%20%20%20%20%20%20%29.addTo%28map_f06e3f1bd7d741a6b3423e17c74628af%29%3B%0A%20%20%20%20%20%20%20%20%0A%20%20%20%20%0A%20%20%20%20%20%20%20%20var%20popup_f3edd97d8fc841cb86ddc3065cd97165%20%3D%20L.popup%28%7B%22maxWidth%22%3A%20%22100%25%22%7D%29%3B%0A%0A%20%20%20%20%20%20%20%20%0A%20%20%20%20%20%20%20%20%20%20%20%20var%20html_17e57ff1c97d47b09d9958b541bcc020%20%3D%20%24%28%60%3Cdiv%20id%3D%22html_17e57ff1c97d47b09d9958b541bcc020%22%20style%3D%22width%3A%20100.0%25%3B%20height%3A%20100.0%25%3B%22%3EIsolation%3A%2063.4%3C/div%3E%60%29%5B0%5D%3B%0A%20%20%20%20%20%20%20%20%20%20%20%20popup_f3edd97d8fc841cb86ddc3065cd97165.setContent%28html_17e57ff1c97d47b09d9958b541bcc020%29%3B%0A%20%20%20%20%20%20%20%20%0A%0A%20%20%20%20%20%20%20%20marker_3f9868a0ec5b40b2b735daffe8f694ae.bindPopup%28popup_f3edd97d8fc841cb86ddc3065cd97165%29%0A%20%20%20%20%20%20%20%20%3B%0A%0A%20%20%20%20%20%20%20%20%0A%20%20%20%20%0A%20%20%20%20%0A%20%20%20%20%20%20%20%20%20%20%20%20var%20marker_4bbb9fa9e8ea410880887842254cc5be%20%3D%20L.marker%28%0A%20%20%20%20%20%20%20%20%20%20%20%20%20%20%20%20%5B44.1666%2C%20-121.7723%5D%2C%0A%20%20%20%20%20%20%20%20%20%20%20%20%20%20%20%20%7B%7D%0A%20%20%20%20%20%20%20%20%20%20%20%20%29.addTo%28map_f06e3f1bd7d741a6b3423e17c74628af%29%3B%0A%20%20%20%20%20%20%20%20%0A%20%20%20%20%0A%20%20%20%20%20%20%20%20var%20popup_8c89ce2d27fd49519d199fd306002a47%20%3D%20L.popup%28%7B%22maxWidth%22%3A%20%22100%25%22%7D%29%3B%0A%0A%20%20%20%20%20%20%20%20%0A%20%20%20%20%20%20%20%20%20%20%20%20var%20html_f2732076862346008f98b3542e77972f%20%3D%20%24%28%60%3Cdiv%20id%3D%22html_f2732076862346008f98b3542e77972f%22%20style%3D%22width%3A%20100.0%25%3B%20height%3A%20100.0%25%3B%22%3EIsolation%3A%207.0%3C/div%3E%60%29%5B0%5D%3B%0A%20%20%20%20%20%20%20%20%20%20%20%20popup_8c89ce2d27fd49519d199fd306002a47.setContent%28html_f2732076862346008f98b3542e77972f%29%3B%0A%20%20%20%20%20%20%20%20%0A%0A%20%20%20%20%20%20%20%20marker_4bbb9fa9e8ea410880887842254cc5be.bindPopup%28popup_8c89ce2d27fd49519d199fd306002a47%29%0A%20%20%20%20%20%20%20%20%3B%0A%0A%20%20%20%20%20%20%20%20%0A%20%20%20%20%0A%20%20%20%20%0A%20%20%20%20%20%20%20%20%20%20%20%20var%20marker_788633484dc5434b90717ebece0d38d3%20%3D%20L.marker%28%0A%20%20%20%20%20%20%20%20%20%20%20%20%20%20%20%20%5B44.1483%2C%20-121.784%5D%2C%0A%20%20%20%20%20%20%20%20%20%20%20%20%20%20%20%20%7B%7D%0A%20%20%20%20%20%20%20%20%20%20%20%20%29.addTo%28map_f06e3f1bd7d741a6b3423e17c74628af%29%3B%0A%20%20%20%20%20%20%20%20%0A%20%20%20%20%0A%20%20%20%20%20%20%20%20var%20popup_02502ec612f24d0a9dfeadaad60f3cae%20%3D%20L.popup%28%7B%22maxWidth%22%3A%20%22100%25%22%7D%29%3B%0A%0A%20%20%20%20%20%20%20%20%0A%20%20%20%20%20%20%20%20%20%20%20%20var%20html_ab81c874c9f74a999a6e09d1fa30d9c0%20%3D%20%24%28%60%3Cdiv%20id%3D%22html_ab81c874c9f74a999a6e09d1fa30d9c0%22%20style%3D%22width%3A%20100.0%25%3B%20height%3A%20100.0%25%3B%22%3EIsolation%3A%201.8%3C/div%3E%60%29%5B0%5D%3B%0A%20%20%20%20%20%20%20%20%20%20%20%20popup_02502ec612f24d0a9dfeadaad60f3cae.setContent%28html_ab81c874c9f74a999a6e09d1fa30d9c0%29%3B%0A%20%20%20%20%20%20%20%20%0A%0A%20%20%20%20%20%20%20%20marker_788633484dc5434b90717ebece0d38d3.bindPopup%28popup_02502ec612f24d0a9dfeadaad60f3cae%29%0A%20%20%20%20%20%20%20%20%3B%0A%0A%20%20%20%20%20%20%20%20%0A%20%20%20%20%0A%20%20%20%20%0A%20%20%20%20%20%20%20%20%20%20%20%20var%20marker_471ee45740f0489fb8e59d17ac31f26e%20%3D%20L.marker%28%0A%20%20%20%20%20%20%20%20%20%20%20%20%20%20%20%20%5B45.245%2C%20-117.2929%5D%2C%0A%20%20%20%20%20%20%20%20%20%20%20%20%20%20%20%20%7B%7D%0A%20%20%20%20%20%20%20%20%20%20%20%20%29.addTo%28map_f06e3f1bd7d741a6b3423e17c74628af%29%3B%0A%20%20%20%20%20%20%20%20%0A%20%20%20%20%0A%20%20%20%20%20%20%20%20var%20popup_efc5b586684a4b9e934359f6b1bd23b7%20%3D%20L.popup%28%7B%22maxWidth%22%3A%20%22100%25%22%7D%29%3B%0A%0A%20%20%20%20%20%20%20%20%0A%20%20%20%20%20%20%20%20%20%20%20%20var%20html_d983c1b1cdee4ebc8ff2991ae63fd8a3%20%3D%20%24%28%60%3Cdiv%20id%3D%22html_d983c1b1cdee4ebc8ff2991ae63fd8a3%22%20style%3D%22width%3A%20100.0%25%3B%20height%3A%20100.0%25%3B%22%3EIsolation%3A%20202.0%3C/div%3E%60%29%5B0%5D%3B%0A%20%20%20%20%20%20%20%20%20%20%20%20popup_efc5b586684a4b9e934359f6b1bd23b7.setContent%28html_d983c1b1cdee4ebc8ff2991ae63fd8a3%29%3B%0A%20%20%20%20%20%20%20%20%0A%0A%20%20%20%20%20%20%20%20marker_471ee45740f0489fb8e59d17ac31f26e.bindPopup%28popup_efc5b586684a4b9e934359f6b1bd23b7%29%0A%20%20%20%20%20%20%20%20%3B%0A%0A%20%20%20%20%20%20%20%20%0A%20%20%20%20%0A%20%20%20%20%0A%20%20%20%20%20%20%20%20%20%20%20%20var%20marker_f6f1fd258b1f498d877b704eed58d5a5%20%3D%20L.marker%28%0A%20%20%20%20%20%20%20%20%20%20%20%20%20%20%20%20%5B42.6364%2C%20-118.5767%5D%2C%0A%20%20%20%20%20%20%20%20%20%20%20%20%20%20%20%20%7B%7D%0A%20%20%20%20%20%20%20%20%20%20%20%20%29.addTo%28map_f06e3f1bd7d741a6b3423e17c74628af%29%3B%0A%20%20%20%20%20%20%20%20%0A%20%20%20%20%0A%20%20%20%20%20%20%20%20var%20popup_69da756964c14c548211f9e41cf1f02f%20%3D%20L.popup%28%7B%22maxWidth%22%3A%20%22100%25%22%7D%29%3B%0A%0A%20%20%20%20%20%20%20%20%0A%20%20%20%20%20%20%20%20%20%20%20%20var%20html_88c5da65a667409ead5827f7ff7b179e%20%3D%20%24%28%60%3Cdiv%20id%3D%22html_88c5da65a667409ead5827f7ff7b179e%22%20style%3D%22width%3A%20100.0%25%3B%20height%3A%20100.0%25%3B%22%3EIsolation%3A%20201.0%3C/div%3E%60%29%5B0%5D%3B%0A%20%20%20%20%20%20%20%20%20%20%20%20popup_69da756964c14c548211f9e41cf1f02f.setContent%28html_88c5da65a667409ead5827f7ff7b179e%29%3B%0A%20%20%20%20%20%20%20%20%0A%0A%20%20%20%20%20%20%20%20marker_f6f1fd258b1f498d877b704eed58d5a5.bindPopup%28popup_69da756964c14c548211f9e41cf1f02f%29%0A%20%20%20%20%20%20%20%20%3B%0A%0A%20%20%20%20%20%20%20%20%0A%20%20%20%20%0A%20%20%20%20%0A%20%20%20%20%20%20%20%20%20%20%20%20var%20marker_cef8d328936a4f2397c02e699552c220%20%3D%20L.marker%28%0A%20%20%20%20%20%20%20%20%20%20%20%20%20%20%20%20%5B45.203%2C%20-117.175%5D%2C%0A%20%20%20%20%20%20%20%20%20%20%20%20%20%20%20%20%7B%7D%0A%20%20%20%20%20%20%20%20%20%20%20%20%29.addTo%28map_f06e3f1bd7d741a6b3423e17c74628af%29%3B%0A%20%20%20%20%20%20%20%20%0A%20%20%20%20%0A%20%20%20%20%20%20%20%20var%20popup_e0acd24b38cb4477953e1eac58c9ad3c%20%3D%20L.popup%28%7B%22maxWidth%22%3A%20%22100%25%22%7D%29%3B%0A%0A%20%20%20%20%20%20%20%20%0A%20%20%20%20%20%20%20%20%20%20%20%20var%20html_0781b01bf54b45fc8764523135ef9f2d%20%3D%20%24%28%60%3Cdiv%20id%3D%22html_0781b01bf54b45fc8764523135ef9f2d%22%20style%3D%22width%3A%20100.0%25%3B%20height%3A%20100.0%25%3B%22%3EIsolation%3A%209.48%3C/div%3E%60%29%5B0%5D%3B%0A%20%20%20%20%20%20%20%20%20%20%20%20popup_e0acd24b38cb4477953e1eac58c9ad3c.setContent%28html_0781b01bf54b45fc8764523135ef9f2d%29%3B%0A%20%20%20%20%20%20%20%20%0A%0A%20%20%20%20%20%20%20%20marker_cef8d328936a4f2397c02e699552c220.bindPopup%28popup_e0acd24b38cb4477953e1eac58c9ad3c%29%0A%20%20%20%20%20%20%20%20%3B%0A%0A%20%20%20%20%20%20%20%20%0A%20%20%20%20%0A%20%20%20%20%0A%20%20%20%20%20%20%20%20%20%20%20%20var%20marker_352c60cdae9a4ccdadccae492c0c0aac%20%3D%20L.marker%28%0A%20%20%20%20%20%20%20%20%20%20%20%20%20%20%20%20%5B45.3046%2C%20-117.3452%5D%2C%0A%20%20%20%20%20%20%20%20%20%20%20%20%20%20%20%20%7B%7D%0A%20%20%20%20%20%20%20%20%20%20%20%20%29.addTo%28map_f06e3f1bd7d741a6b3423e17c74628af%29%3B%0A%20%20%20%20%20%20%20%20%0A%20%20%20%20%0A%20%20%20%20%20%20%20%20var%20popup_a9825d5a396947fcb9f54b5f381d8a69%20%3D%20L.popup%28%7B%22maxWidth%22%3A%20%22100%25%22%7D%29%3B%0A%0A%20%20%20%20%20%20%20%20%0A%20%20%20%20%20%20%20%20%20%20%20%20var%20html_851978a07a114c74a3c52f4d4ec8667f%20%3D%20%24%28%60%3Cdiv%20id%3D%22html_851978a07a114c74a3c52f4d4ec8667f%22%20style%3D%22width%3A%20100.0%25%3B%20height%3A%20100.0%25%3B%22%3EIsolation%3A%207.79%3C/div%3E%60%29%5B0%5D%3B%0A%20%20%20%20%20%20%20%20%20%20%20%20popup_a9825d5a396947fcb9f54b5f381d8a69.setContent%28html_851978a07a114c74a3c52f4d4ec8667f%29%3B%0A%20%20%20%20%20%20%20%20%0A%0A%20%20%20%20%20%20%20%20marker_352c60cdae9a4ccdadccae492c0c0aac.bindPopup%28popup_a9825d5a396947fcb9f54b5f381d8a69%29%0A%20%20%20%20%20%20%20%20%3B%0A%0A%20%20%20%20%20%20%20%20%0A%20%20%20%20%0A%20%20%20%20%0A%20%20%20%20%20%20%20%20%20%20%20%20var%20marker_c5a293f6262f48e2aed8d746f02eb8ec%20%3D%20L.marker%28%0A%20%20%20%20%20%20%20%20%20%20%20%20%20%20%20%20%5B45.0644%2C%20-117.246%5D%2C%0A%20%20%20%20%20%20%20%20%20%20%20%20%20%20%20%20%7B%7D%0A%20%20%20%20%20%20%20%20%20%20%20%20%29.addTo%28map_f06e3f1bd7d741a6b3423e17c74628af%29%3B%0A%20%20%20%20%20%20%20%20%0A%20%20%20%20%0A%20%20%20%20%20%20%20%20var%20popup_1776ff4e13c84861bc964dab9e9ff32f%20%3D%20L.popup%28%7B%22maxWidth%22%3A%20%22100%25%22%7D%29%3B%0A%0A%20%20%20%20%20%20%20%20%0A%20%20%20%20%20%20%20%20%20%20%20%20var%20html_eb6a5f5af1cf4ac5a6c3607ec7fb8e32%20%3D%20%24%28%60%3Cdiv%20id%3D%22html_eb6a5f5af1cf4ac5a6c3607ec7fb8e32%22%20style%3D%22width%3A%20100.0%25%3B%20height%3A%20100.0%25%3B%22%3EIsolation%3A%2011.84%3C/div%3E%60%29%5B0%5D%3B%0A%20%20%20%20%20%20%20%20%20%20%20%20popup_1776ff4e13c84861bc964dab9e9ff32f.setContent%28html_eb6a5f5af1cf4ac5a6c3607ec7fb8e32%29%3B%0A%20%20%20%20%20%20%20%20%0A%0A%20%20%20%20%20%20%20%20marker_c5a293f6262f48e2aed8d746f02eb8ec.bindPopup%28popup_1776ff4e13c84861bc964dab9e9ff32f%29%0A%20%20%20%20%20%20%20%20%3B%0A%0A%20%20%20%20%20%20%20%20%0A%20%20%20%20%0A%20%20%20%20%0A%20%20%20%20%20%20%20%20%20%20%20%20var%20marker_ca74f9c5b1d446579cd12909aa21fbd5%20%3D%20L.marker%28%0A%20%20%20%20%20%20%20%20%20%20%20%20%20%20%20%20%5B42.4445%2C%20-122.3156%5D%2C%0A%20%20%20%20%20%20%20%20%20%20%20%20%20%20%20%20%7B%7D%0A%20%20%20%20%20%20%20%20%20%20%20%20%29.addTo%28map_f06e3f1bd7d741a6b3423e17c74628af%29%3B%0A%20%20%20%20%20%20%20%20%0A%20%20%20%20%0A%20%20%20%20%20%20%20%20var%20popup_00a0f25dc0c24600a7740180e9e6d63f%20%3D%20L.popup%28%7B%22maxWidth%22%3A%20%22100%25%22%7D%29%3B%0A%0A%20%20%20%20%20%20%20%20%0A%20%20%20%20%20%20%20%20%20%20%20%20var%20html_97d6299eb98745899d8bfc75ac5624a2%20%3D%20%24%28%60%3Cdiv%20id%3D%22html_97d6299eb98745899d8bfc75ac5624a2%22%20style%3D%22width%3A%20100.0%25%3B%20height%3A%20100.0%25%3B%22%3EIsolation%3A%20111.8%3C/div%3E%60%29%5B0%5D%3B%0A%20%20%20%20%20%20%20%20%20%20%20%20popup_00a0f25dc0c24600a7740180e9e6d63f.setContent%28html_97d6299eb98745899d8bfc75ac5624a2%29%3B%0A%20%20%20%20%20%20%20%20%0A%0A%20%20%20%20%20%20%20%20marker_ca74f9c5b1d446579cd12909aa21fbd5.bindPopup%28popup_00a0f25dc0c24600a7740180e9e6d63f%29%0A%20%20%20%20%20%20%20%20%3B%0A%0A%20%20%20%20%20%20%20%20%0A%20%20%20%20%0A%20%20%20%20%0A%20%20%20%20%20%20%20%20%20%20%20%20var%20marker_9ee33590434745049e8fae387f00212c%20%3D%20L.marker%28%0A%20%20%20%20%20%20%20%20%20%20%20%20%20%20%20%20%5B45.2223%2C%20-117.3968%5D%2C%0A%20%20%20%20%20%20%20%20%20%20%20%20%20%20%20%20%7B%7D%0A%20%20%20%20%20%20%20%20%20%20%20%20%29.addTo%28map_f06e3f1bd7d741a6b3423e17c74628af%29%3B%0A%20%20%20%20%20%20%20%20%0A%20%20%20%20%0A%20%20%20%20%20%20%20%20var%20popup_4e2f7b70b4cc4e2190f2dade420a0ec5%20%3D%20L.popup%28%7B%22maxWidth%22%3A%20%22100%25%22%7D%29%3B%0A%0A%20%20%20%20%20%20%20%20%0A%20%20%20%20%20%20%20%20%20%20%20%20var%20html_c1b3f429193b402d9463b8f927041399%20%3D%20%24%28%60%3Cdiv%20id%3D%22html_c1b3f429193b402d9463b8f927041399%22%20style%3D%22width%3A%20100.0%25%3B%20height%3A%20100.0%25%3B%22%3EIsolation%3A%205.32%3C/div%3E%60%29%5B0%5D%3B%0A%20%20%20%20%20%20%20%20%20%20%20%20popup_4e2f7b70b4cc4e2190f2dade420a0ec5.setContent%28html_c1b3f429193b402d9463b8f927041399%29%3B%0A%20%20%20%20%20%20%20%20%0A%0A%20%20%20%20%20%20%20%20marker_9ee33590434745049e8fae387f00212c.bindPopup%28popup_4e2f7b70b4cc4e2190f2dade420a0ec5%29%0A%20%20%20%20%20%20%20%20%3B%0A%0A%20%20%20%20%20%20%20%20%0A%20%20%20%20%0A%20%20%20%20%0A%20%20%20%20%20%20%20%20%20%20%20%20var%20marker_909fcf8a5d3d49da8daa4987a632b6e6%20%3D%20L.marker%28%0A%20%20%20%20%20%20%20%20%20%20%20%20%20%20%20%20%5B43.1528%2C%20-122.0665%5D%2C%0A%20%20%20%20%20%20%20%20%20%20%20%20%20%20%20%20%7B%7D%0A%20%20%20%20%20%20%20%20%20%20%20%20%29.addTo%28map_f06e3f1bd7d741a6b3423e17c74628af%29%3B%0A%20%20%20%20%20%20%20%20%0A%20%20%20%20%0A%20%20%20%20%20%20%20%20var%20popup_c92c2703c4154efe96b733d6a3ee974a%20%3D%20L.popup%28%7B%22maxWidth%22%3A%20%22100%25%22%7D%29%3B%0A%0A%20%20%20%20%20%20%20%20%0A%20%20%20%20%20%20%20%20%20%20%20%20var%20html_55d2388bd6d64b1c9545987a54dfc797%20%3D%20%24%28%60%3Cdiv%20id%3D%22html_55d2388bd6d64b1c9545987a54dfc797%22%20style%3D%22width%3A%20100.0%25%3B%20height%3A%20100.0%25%3B%22%3EIsolation%3A%2081.1%3C/div%3E%60%29%5B0%5D%3B%0A%20%20%20%20%20%20%20%20%20%20%20%20popup_c92c2703c4154efe96b733d6a3ee974a.setContent%28html_55d2388bd6d64b1c9545987a54dfc797%29%3B%0A%20%20%20%20%20%20%20%20%0A%0A%20%20%20%20%20%20%20%20marker_909fcf8a5d3d49da8daa4987a632b6e6.bindPopup%28popup_c92c2703c4154efe96b733d6a3ee974a%29%0A%20%20%20%20%20%20%20%20%3B%0A%0A%20%20%20%20%20%20%20%20%0A%20%20%20%20%0A%20%20%20%20%0A%20%20%20%20%20%20%20%20%20%20%20%20var%20marker_a567afe74f2742c193e30caad0828dd5%20%3D%20L.marker%28%0A%20%20%20%20%20%20%20%20%20%20%20%20%20%20%20%20%5B44.083%2C%20-121.6994%5D%2C%0A%20%20%20%20%20%20%20%20%20%20%20%20%20%20%20%20%7B%7D%0A%20%20%20%20%20%20%20%20%20%20%20%20%29.addTo%28map_f06e3f1bd7d741a6b3423e17c74628af%29%3B%0A%20%20%20%20%20%20%20%20%0A%20%20%20%20%0A%20%20%20%20%20%20%20%20var%20popup_55e32634840c482c8df1b4e6f7459dfe%20%3D%20L.popup%28%7B%22maxWidth%22%3A%20%22100%25%22%7D%29%3B%0A%0A%20%20%20%20%20%20%20%20%0A%20%20%20%20%20%20%20%20%20%20%20%20var%20html_b599312f49794a99a62cc3abb0004205%20%3D%20%24%28%60%3Cdiv%20id%3D%22html_b599312f49794a99a62cc3abb0004205%22%20style%3D%22width%3A%20100.0%25%3B%20height%3A%20100.0%25%3B%22%3EIsolation%3A%205.52%3C/div%3E%60%29%5B0%5D%3B%0A%20%20%20%20%20%20%20%20%20%20%20%20popup_55e32634840c482c8df1b4e6f7459dfe.setContent%28html_b599312f49794a99a62cc3abb0004205%29%3B%0A%20%20%20%20%20%20%20%20%0A%0A%20%20%20%20%20%20%20%20marker_a567afe74f2742c193e30caad0828dd5.bindPopup%28popup_55e32634840c482c8df1b4e6f7459dfe%29%0A%20%20%20%20%20%20%20%20%3B%0A%0A%20%20%20%20%20%20%20%20%0A%20%20%20%20%0A%20%20%20%20%0A%20%20%20%20%20%20%20%20%20%20%20%20var%20marker_cc9c5d36ca2e44f4846bb4b22f8c69ba%20%3D%20L.marker%28%0A%20%20%20%20%20%20%20%20%20%20%20%20%20%20%20%20%5B44.8168%2C%20-118.1039%5D%2C%0A%20%20%20%20%20%20%20%20%20%20%20%20%20%20%20%20%7B%7D%0A%20%20%20%20%20%20%20%20%20%20%20%20%29.addTo%28map_f06e3f1bd7d741a6b3423e17c74628af%29%3B%0A%20%20%20%20%20%20%20%20%0A%20%20%20%20%0A%20%20%20%20%20%20%20%20var%20popup_37c9884d01f7415db51d3c7e8f825f88%20%3D%20L.popup%28%7B%22maxWidth%22%3A%20%22100%25%22%7D%29%3B%0A%0A%20%20%20%20%20%20%20%20%0A%20%20%20%20%20%20%20%20%20%20%20%20var%20html_3b7a8d61e11346fe8dc51cef0190749c%20%3D%20%24%28%60%3Cdiv%20id%3D%22html_3b7a8d61e11346fe8dc51cef0190749c%22%20style%3D%22width%3A%20100.0%25%3B%20height%3A%20100.0%25%3B%22%3EIsolation%3A%2069.9%3C/div%3E%60%29%5B0%5D%3B%0A%20%20%20%20%20%20%20%20%20%20%20%20popup_37c9884d01f7415db51d3c7e8f825f88.setContent%28html_3b7a8d61e11346fe8dc51cef0190749c%29%3B%0A%20%20%20%20%20%20%20%20%0A%0A%20%20%20%20%20%20%20%20marker_cc9c5d36ca2e44f4846bb4b22f8c69ba.bindPopup%28popup_37c9884d01f7415db51d3c7e8f825f88%29%0A%20%20%20%20%20%20%20%20%3B%0A%0A%20%20%20%20%20%20%20%20%0A%20%20%20%20%0A%20%20%20%20%0A%20%20%20%20%20%20%20%20%20%20%20%20var%20marker_738881cdcaee4f148e6168cb0f6bd13e%20%3D%20L.marker%28%0A%20%20%20%20%20%20%20%20%20%20%20%20%20%20%20%20%5B43.9794%2C%20-121.6885%5D%2C%0A%20%20%20%20%20%20%20%20%20%20%20%20%20%20%20%20%7B%7D%0A%20%20%20%20%20%20%20%20%20%20%20%20%29.addTo%28map_f06e3f1bd7d741a6b3423e17c74628af%29%3B%0A%20%20%20%20%20%20%20%20%0A%20%20%20%20%0A%20%20%20%20%20%20%20%20var%20popup_70a1f56a345d43fa91504ce52ab8aabf%20%3D%20L.popup%28%7B%22maxWidth%22%3A%20%22100%25%22%7D%29%3B%0A%0A%20%20%20%20%20%20%20%20%0A%20%20%20%20%20%20%20%20%20%20%20%20var%20html_5e2212a0c88948be8881905c885ccae1%20%3D%20%24%28%60%3Cdiv%20id%3D%22html_5e2212a0c88948be8881905c885ccae1%22%20style%3D%22width%3A%20100.0%25%3B%20height%3A%20100.0%25%3B%22%3EIsolation%3A%2011.02%3C/div%3E%60%29%5B0%5D%3B%0A%20%20%20%20%20%20%20%20%20%20%20%20popup_70a1f56a345d43fa91504ce52ab8aabf.setContent%28html_5e2212a0c88948be8881905c885ccae1%29%3B%0A%20%20%20%20%20%20%20%20%0A%0A%20%20%20%20%20%20%20%20marker_738881cdcaee4f148e6168cb0f6bd13e.bindPopup%28popup_70a1f56a345d43fa91504ce52ab8aabf%29%0A%20%20%20%20%20%20%20%20%3B%0A%0A%20%20%20%20%20%20%20%20%0A%20%20%20%20%0A%20%20%20%20%0A%20%20%20%20%20%20%20%20%20%20%20%20var%20marker_a00a957608d6436e87fab9a4fa74bef8%20%3D%20L.marker%28%0A%20%20%20%20%20%20%20%20%20%20%20%20%20%20%20%20%5B44.3123%2C%20-118.7166%5D%2C%0A%20%20%20%20%20%20%20%20%20%20%20%20%20%20%20%20%7B%7D%0A%20%20%20%20%20%20%20%20%20%20%20%20%29.addTo%28map_f06e3f1bd7d741a6b3423e17c74628af%29%3B%0A%20%20%20%20%20%20%20%20%0A%20%20%20%20%0A%20%20%20%20%20%20%20%20var%20popup_8b6a71bc5c2b49f593b31f730e1b5dc4%20%3D%20L.popup%28%7B%22maxWidth%22%3A%20%22100%25%22%7D%29%3B%0A%0A%20%20%20%20%20%20%20%20%0A%20%20%20%20%20%20%20%20%20%20%20%20var%20html_9a85baf33e984fcd862c1228957c3a12%20%3D%20%24%28%60%3Cdiv%20id%3D%22html_9a85baf33e984fcd862c1228957c3a12%22%20style%3D%22width%3A%20100.0%25%3B%20height%3A%20100.0%25%3B%22%3EIsolation%3A%2074.2%3C/div%3E%60%29%5B0%5D%3B%0A%20%20%20%20%20%20%20%20%20%20%20%20popup_8b6a71bc5c2b49f593b31f730e1b5dc4.setContent%28html_9a85baf33e984fcd862c1228957c3a12%29%3B%0A%20%20%20%20%20%20%20%20%0A%0A%20%20%20%20%20%20%20%20marker_a00a957608d6436e87fab9a4fa74bef8.bindPopup%28popup_8b6a71bc5c2b49f593b31f730e1b5dc4%29%0A%20%20%20%20%20%20%20%20%3B%0A%0A%20%20%20%20%20%20%20%20%0A%20%20%20%20%0A%20%20%20%20%0A%20%20%20%20%20%20%20%20%20%20%20%20var%20marker_12b5bbd260914b2e806e35ed8927b2b9%20%3D%20L.marker%28%0A%20%20%20%20%20%20%20%20%20%20%20%20%20%20%20%20%5B42.9229%2C%20-122.0162%5D%2C%0A%20%20%20%20%20%20%20%20%20%20%20%20%20%20%20%20%7B%7D%0A%20%20%20%20%20%20%20%20%20%20%20%20%29.addTo%28map_f06e3f1bd7d741a6b3423e17c74628af%29%3B%0A%20%20%20%20%20%20%20%20%0A%20%20%20%20%0A%20%20%20%20%20%20%20%20var%20popup_3d6db059aced4c17bc769d5050428c4a%20%3D%20L.popup%28%7B%22maxWidth%22%3A%20%22100%25%22%7D%29%3B%0A%0A%20%20%20%20%20%20%20%20%0A%20%20%20%20%20%20%20%20%20%20%20%20var%20html_d29c9fe8680c48438d2900c2e86f28a6%20%3D%20%24%28%60%3Cdiv%20id%3D%22html_d29c9fe8680c48438d2900c2e86f28a6%22%20style%3D%22width%3A%20100.0%25%3B%20height%3A%20100.0%25%3B%22%3EIsolation%3A%2025.9%3C/div%3E%60%29%5B0%5D%3B%0A%20%20%20%20%20%20%20%20%20%20%20%20popup_3d6db059aced4c17bc769d5050428c4a.setContent%28html_d29c9fe8680c48438d2900c2e86f28a6%29%3B%0A%20%20%20%20%20%20%20%20%0A%0A%20%20%20%20%20%20%20%20marker_12b5bbd260914b2e806e35ed8927b2b9.bindPopup%28popup_3d6db059aced4c17bc769d5050428c4a%29%0A%20%20%20%20%20%20%20%20%3B%0A%0A%20%20%20%20%20%20%20%20%0A%20%20%20%20%0A%20%20%20%20%0A%20%20%20%20%20%20%20%20%20%20%20%20var%20marker_0a6e37cdd05d45e49ecadc7649082a99%20%3D%20L.marker%28%0A%20%20%20%20%20%20%20%20%20%20%20%20%20%20%20%20%5B43.5207%2C%20-122.1496%5D%2C%0A%20%20%20%20%20%20%20%20%20%20%20%20%20%20%20%20%7B%7D%0A%20%20%20%20%20%20%20%20%20%20%20%20%29.addTo%28map_f06e3f1bd7d741a6b3423e17c74628af%29%3B%0A%20%20%20%20%20%20%20%20%0A%20%20%20%20%0A%20%20%20%20%20%20%20%20var%20popup_8b8c15307cc440fea23725b2c6be23e9%20%3D%20L.popup%28%7B%22maxWidth%22%3A%20%22100%25%22%7D%29%3B%0A%0A%20%20%20%20%20%20%20%20%0A%20%20%20%20%20%20%20%20%20%20%20%20var%20html_8f09759fde5e4772bcb00a8c2b7d67f3%20%3D%20%24%28%60%3Cdiv%20id%3D%22html_8f09759fde5e4772bcb00a8c2b7d67f3%22%20style%3D%22width%3A%20100.0%25%3B%20height%3A%20100.0%25%3B%22%3EIsolation%3A%2041.4%3C/div%3E%60%29%5B0%5D%3B%0A%20%20%20%20%20%20%20%20%20%20%20%20popup_8b8c15307cc440fea23725b2c6be23e9.setContent%28html_8f09759fde5e4772bcb00a8c2b7d67f3%29%3B%0A%20%20%20%20%20%20%20%20%0A%0A%20%20%20%20%20%20%20%20marker_0a6e37cdd05d45e49ecadc7649082a99.bindPopup%28popup_8b8c15307cc440fea23725b2c6be23e9%29%0A%20%20%20%20%20%20%20%20%3B%0A%0A%20%20%20%20%20%20%20%20%0A%20%20%20%20%0A%20%20%20%20%0A%20%20%20%20%20%20%20%20%20%20%20%20var%20marker_b7624fca3f3e463d8bdc4e00c45ed218%20%3D%20L.marker%28%0A%20%20%20%20%20%20%20%20%20%20%20%20%20%20%20%20%5B42.0995%2C%20-118.6506%5D%2C%0A%20%20%20%20%20%20%20%20%20%20%20%20%20%20%20%20%7B%7D%0A%20%20%20%20%20%20%20%20%20%20%20%20%29.addTo%28map_f06e3f1bd7d741a6b3423e17c74628af%29%3B%0A%20%20%20%20%20%20%20%20%0A%20%20%20%20%0A%20%20%20%20%20%20%20%20var%20popup_e43d44f2cc3e47f38a9a58f737a2f821%20%3D%20L.popup%28%7B%22maxWidth%22%3A%20%22100%25%22%7D%29%3B%0A%0A%20%20%20%20%20%20%20%20%0A%20%20%20%20%20%20%20%20%20%20%20%20var%20html_389b8503852e4beaa6aaeabf4dc14c97%20%3D%20%24%28%60%3Cdiv%20id%3D%22html_389b8503852e4beaa6aaeabf4dc14c97%22%20style%3D%22width%3A%20100.0%25%3B%20height%3A%20100.0%25%3B%22%3EIsolation%3A%2045.5%3C/div%3E%60%29%5B0%5D%3B%0A%20%20%20%20%20%20%20%20%20%20%20%20popup_e43d44f2cc3e47f38a9a58f737a2f821.setContent%28html_389b8503852e4beaa6aaeabf4dc14c97%29%3B%0A%20%20%20%20%20%20%20%20%0A%0A%20%20%20%20%20%20%20%20marker_b7624fca3f3e463d8bdc4e00c45ed218.bindPopup%28popup_e43d44f2cc3e47f38a9a58f737a2f821%29%0A%20%20%20%20%20%20%20%20%3B%0A%0A%20%20%20%20%20%20%20%20%0A%20%20%20%20%0A%20%20%20%20%0A%20%20%20%20%20%20%20%20%20%20%20%20var%20marker_d9c6cd9cd8f14de3b9951fb300933f16%20%3D%20L.marker%28%0A%20%20%20%20%20%20%20%20%20%20%20%20%20%20%20%20%5B42.0628%2C%20-120.2408%5D%2C%0A%20%20%20%20%20%20%20%20%20%20%20%20%20%20%20%20%7B%7D%0A%20%20%20%20%20%20%20%20%20%20%20%20%29.addTo%28map_f06e3f1bd7d741a6b3423e17c74628af%29%3B%0A%20%20%20%20%20%20%20%20%0A%20%20%20%20%0A%20%20%20%20%20%20%20%20var%20popup_7b643987315e4f3d9f4da006f5789210%20%3D%20L.popup%28%7B%22maxWidth%22%3A%20%22100%25%22%7D%29%3B%0A%0A%20%20%20%20%20%20%20%20%0A%20%20%20%20%20%20%20%20%20%20%20%20var%20html_1a4745f650d9451985f8b0056e5c4429%20%3D%20%24%28%60%3Cdiv%20id%3D%22html_1a4745f650d9451985f8b0056e5c4429%22%20style%3D%22width%3A%20100.0%25%3B%20height%3A%20100.0%25%3B%22%3EIsolation%3A%2071.4%3C/div%3E%60%29%5B0%5D%3B%0A%20%20%20%20%20%20%20%20%20%20%20%20popup_7b643987315e4f3d9f4da006f5789210.setContent%28html_1a4745f650d9451985f8b0056e5c4429%29%3B%0A%20%20%20%20%20%20%20%20%0A%0A%20%20%20%20%20%20%20%20marker_d9c6cd9cd8f14de3b9951fb300933f16.bindPopup%28popup_7b643987315e4f3d9f4da006f5789210%29%0A%20%20%20%20%20%20%20%20%3B%0A%0A%20%20%20%20%20%20%20%20%0A%20%20%20%20%0A%20%20%20%20%0A%20%20%20%20%20%20%20%20%20%20%20%20var%20marker_98427c2055904d7e8c5b1376352444af%20%3D%20L.marker%28%0A%20%20%20%20%20%20%20%20%20%20%20%20%20%20%20%20%5B42.3001%2C%20-120.1238%5D%2C%0A%20%20%20%20%20%20%20%20%20%20%20%20%20%20%20%20%7B%7D%0A%20%20%20%20%20%20%20%20%20%20%20%20%29.addTo%28map_f06e3f1bd7d741a6b3423e17c74628af%29%3B%0A%20%20%20%20%20%20%20%20%0A%20%20%20%20%0A%20%20%20%20%20%20%20%20var%20popup_5373284f15614b2da84d054df292a928%20%3D%20L.popup%28%7B%22maxWidth%22%3A%20%22100%25%22%7D%29%3B%0A%0A%20%20%20%20%20%20%20%20%0A%20%20%20%20%20%20%20%20%20%20%20%20var%20html_c46a78727cab4b248edda06ea49eb857%20%3D%20%24%28%60%3Cdiv%20id%3D%22html_c46a78727cab4b248edda06ea49eb857%22%20style%3D%22width%3A%20100.0%25%3B%20height%3A%20100.0%25%3B%22%3EIsolation%3A%2028.1%3C/div%3E%60%29%5B0%5D%3B%0A%20%20%20%20%20%20%20%20%20%20%20%20popup_5373284f15614b2da84d054df292a928.setContent%28html_c46a78727cab4b248edda06ea49eb857%29%3B%0A%20%20%20%20%20%20%20%20%0A%0A%20%20%20%20%20%20%20%20marker_98427c2055904d7e8c5b1376352444af.bindPopup%28popup_5373284f15614b2da84d054df292a928%29%0A%20%20%20%20%20%20%20%20%3B%0A%0A%20%20%20%20%20%20%20%20%0A%20%20%20%20%0A%20%20%20%20%0A%20%20%20%20%20%20%20%20%20%20%20%20var%20marker_a6a1c82484b7433a89e30aa738db9094%20%3D%20L.marker%28%0A%20%20%20%20%20%20%20%20%20%20%20%20%20%20%20%20%5B43.1551%2C%20-122.22%5D%2C%0A%20%20%20%20%20%20%20%20%20%20%20%20%20%20%20%20%7B%7D%0A%20%20%20%20%20%20%20%20%20%20%20%20%29.addTo%28map_f06e3f1bd7d741a6b3423e17c74628af%29%3B%0A%20%20%20%20%20%20%20%20%0A%20%20%20%20%0A%20%20%20%20%20%20%20%20var%20popup_84a9e6976a7a45d4ac1c3a12a5e725fa%20%3D%20L.popup%28%7B%22maxWidth%22%3A%20%22100%25%22%7D%29%3B%0A%0A%20%20%20%20%20%20%20%20%0A%20%20%20%20%20%20%20%20%20%20%20%20var%20html_146f90631dca467c93fe9e43d9bf344e%20%3D%20%24%28%60%3Cdiv%20id%3D%22html_146f90631dca467c93fe9e43d9bf344e%22%20style%3D%22width%3A%20100.0%25%3B%20height%3A%20100.0%25%3B%22%3EIsolation%3A%2012.49%3C/div%3E%60%29%5B0%5D%3B%0A%20%20%20%20%20%20%20%20%20%20%20%20popup_84a9e6976a7a45d4ac1c3a12a5e725fa.setContent%28html_146f90631dca467c93fe9e43d9bf344e%29%3B%0A%20%20%20%20%20%20%20%20%0A%0A%20%20%20%20%20%20%20%20marker_a6a1c82484b7433a89e30aa738db9094.bindPopup%28popup_84a9e6976a7a45d4ac1c3a12a5e725fa%29%0A%20%20%20%20%20%20%20%20%3B%0A%0A%20%20%20%20%20%20%20%20%0A%20%20%20%20%0A%20%20%20%20%0A%20%20%20%20%20%20%20%20%20%20%20%20var%20marker_1cc8e4365be84e8faed70e2696a76654%20%3D%20L.marker%28%0A%20%20%20%20%20%20%20%20%20%20%20%20%20%20%20%20%5B42.496%2C%20-120.8773%5D%2C%0A%20%20%20%20%20%20%20%20%20%20%20%20%20%20%20%20%7B%7D%0A%20%20%20%20%20%20%20%20%20%20%20%20%29.addTo%28map_f06e3f1bd7d741a6b3423e17c74628af%29%3B%0A%20%20%20%20%20%20%20%20%0A%20%20%20%20%0A%20%20%20%20%20%20%20%20var%20popup_d7699d92eb2e4650b08eec4c2292e5ea%20%3D%20L.popup%28%7B%22maxWidth%22%3A%20%22100%25%22%7D%29%3B%0A%0A%20%20%20%20%20%20%20%20%0A%20%20%20%20%20%20%20%20%20%20%20%20var%20html_6e0395b2dbeb4edb9ac836991be75526%20%3D%20%24%28%60%3Cdiv%20id%3D%22html_6e0395b2dbeb4edb9ac836991be75526%22%20style%3D%22width%3A%20100.0%25%3B%20height%3A%20100.0%25%3B%22%3EIsolation%3A%2065.7%3C/div%3E%60%29%5B0%5D%3B%0A%20%20%20%20%20%20%20%20%20%20%20%20popup_d7699d92eb2e4650b08eec4c2292e5ea.setContent%28html_6e0395b2dbeb4edb9ac836991be75526%29%3B%0A%20%20%20%20%20%20%20%20%0A%0A%20%20%20%20%20%20%20%20marker_1cc8e4365be84e8faed70e2696a76654.bindPopup%28popup_d7699d92eb2e4650b08eec4c2292e5ea%29%0A%20%20%20%20%20%20%20%20%3B%0A%0A%20%20%20%20%20%20%20%20%0A%20%20%20%20%0A%20%20%20%20%0A%20%20%20%20%20%20%20%20%20%20%20%20var%20marker_5cc55d1cb80d43af9285d610b74774c9%20%3D%20L.marker%28%0A%20%20%20%20%20%20%20%20%20%20%20%20%20%20%20%20%5B42.3155%2C%20-122.0876%5D%2C%0A%20%20%20%20%20%20%20%20%20%20%20%20%20%20%20%20%7B%7D%0A%20%20%20%20%20%20%20%20%20%20%20%20%29.addTo%28map_f06e3f1bd7d741a6b3423e17c74628af%29%3B%0A%20%20%20%20%20%20%20%20%0A%20%20%20%20%0A%20%20%20%20%20%20%20%20var%20popup_d78f8654ff94481fa26ce9e6828e32f0%20%3D%20L.popup%28%7B%22maxWidth%22%3A%20%22100%25%22%7D%29%3B%0A%0A%20%20%20%20%20%20%20%20%0A%20%20%20%20%20%20%20%20%20%20%20%20var%20html_b2204b2359484f0ab4f1e46eb31c12d3%20%3D%20%24%28%60%3Cdiv%20id%3D%22html_b2204b2359484f0ab4f1e46eb31c12d3%22%20style%3D%22width%3A%20100.0%25%3B%20height%3A%20100.0%25%3B%22%3EIsolation%3A%2023.7%3C/div%3E%60%29%5B0%5D%3B%0A%20%20%20%20%20%20%20%20%20%20%20%20popup_d78f8654ff94481fa26ce9e6828e32f0.setContent%28html_b2204b2359484f0ab4f1e46eb31c12d3%29%3B%0A%20%20%20%20%20%20%20%20%0A%0A%20%20%20%20%20%20%20%20marker_5cc55d1cb80d43af9285d610b74774c9.bindPopup%28popup_d78f8654ff94481fa26ce9e6828e32f0%29%0A%20%20%20%20%20%20%20%20%3B%0A%0A%20%20%20%20%20%20%20%20%0A%20%20%20%20%0A%20%20%20%20%0A%20%20%20%20%20%20%20%20%20%20%20%20var%20marker_c9a134657e0146dc8664494aa98efe8b%20%3D%20L.marker%28%0A%20%20%20%20%20%20%20%20%20%20%20%20%20%20%20%20%5B42.9306%2C%20-121.3607%5D%2C%0A%20%20%20%20%20%20%20%20%20%20%20%20%20%20%20%20%7B%7D%0A%20%20%20%20%20%20%20%20%20%20%20%20%29.addTo%28map_f06e3f1bd7d741a6b3423e17c74628af%29%3B%0A%20%20%20%20%20%20%20%20%0A%20%20%20%20%0A%20%20%20%20%20%20%20%20var%20popup_d8ea4b2e2c07422192618f85ab9dd71e%20%3D%20L.popup%28%7B%22maxWidth%22%3A%20%22100%25%22%7D%29%3B%0A%0A%20%20%20%20%20%20%20%20%0A%20%20%20%20%20%20%20%20%20%20%20%20var%20html_0c5cae9e87e74ea0bd8ef491eb5ed59d%20%3D%20%24%28%60%3Cdiv%20id%3D%22html_0c5cae9e87e74ea0bd8ef491eb5ed59d%22%20style%3D%22width%3A%20100.0%25%3B%20height%3A%20100.0%25%3B%22%3EIsolation%3A%2053.1%3C/div%3E%60%29%5B0%5D%3B%0A%20%20%20%20%20%20%20%20%20%20%20%20popup_d8ea4b2e2c07422192618f85ab9dd71e.setContent%28html_0c5cae9e87e74ea0bd8ef491eb5ed59d%29%3B%0A%20%20%20%20%20%20%20%20%0A%0A%20%20%20%20%20%20%20%20marker_c9a134657e0146dc8664494aa98efe8b.bindPopup%28popup_d8ea4b2e2c07422192618f85ab9dd71e%29%0A%20%20%20%20%20%20%20%20%3B%0A%0A%20%20%20%20%20%20%20%20%0A%20%20%20%20%0A%20%20%20%20%0A%20%20%20%20%20%20%20%20%20%20%20%20var%20marker_9fca98e3e5e84fd6a25c950a979abab0%20%3D%20L.marker%28%0A%20%20%20%20%20%20%20%20%20%20%20%20%20%20%20%20%5B44.7138%2C%20-118.5617%5D%2C%0A%20%20%20%20%20%20%20%20%20%20%20%20%20%20%20%20%7B%7D%0A%20%20%20%20%20%20%20%20%20%20%20%20%29.addTo%28map_f06e3f1bd7d741a6b3423e17c74628af%29%3B%0A%20%20%20%20%20%20%20%20%0A%20%20%20%20%0A%20%20%20%20%20%20%20%20var%20popup_2e48d4bf6e754693a605ea2e0c4cddb1%20%3D%20L.popup%28%7B%22maxWidth%22%3A%20%22100%25%22%7D%29%3B%0A%0A%20%20%20%20%20%20%20%20%0A%20%20%20%20%20%20%20%20%20%20%20%20var%20html_ab98c9c9f67e493a8992e664508cb3c4%20%3D%20%24%28%60%3Cdiv%20id%3D%22html_ab98c9c9f67e493a8992e664508cb3c4%22%20style%3D%22width%3A%20100.0%25%3B%20height%3A%20100.0%25%3B%22%3EIsolation%3A%2023.5%3C/div%3E%60%29%5B0%5D%3B%0A%20%20%20%20%20%20%20%20%20%20%20%20popup_2e48d4bf6e754693a605ea2e0c4cddb1.setContent%28html_ab98c9c9f67e493a8992e664508cb3c4%29%3B%0A%20%20%20%20%20%20%20%20%0A%0A%20%20%20%20%20%20%20%20marker_9fca98e3e5e84fd6a25c950a979abab0.bindPopup%28popup_2e48d4bf6e754693a605ea2e0c4cddb1%29%0A%20%20%20%20%20%20%20%20%3B%0A%0A%20%20%20%20%20%20%20%20%0A%20%20%20%20%0A%20%20%20%20%0A%20%20%20%20%20%20%20%20%20%20%20%20var%20marker_68ebe33feae24173bb708c47c701600e%20%3D%20L.marker%28%0A%20%20%20%20%20%20%20%20%20%20%20%20%20%20%20%20%5B42.5134%2C%20-122.1453%5D%2C%0A%20%20%20%20%20%20%20%20%20%20%20%20%20%20%20%20%7B%7D%0A%20%20%20%20%20%20%20%20%20%20%20%20%29.addTo%28map_f06e3f1bd7d741a6b3423e17c74628af%29%3B%0A%20%20%20%20%20%20%20%20%0A%20%20%20%20%0A%20%20%20%20%20%20%20%20var%20popup_77bfe3f4afbc405d9653fd3d9be7d8a9%20%3D%20L.popup%28%7B%22maxWidth%22%3A%20%22100%25%22%7D%29%3B%0A%0A%20%20%20%20%20%20%20%20%0A%20%20%20%20%20%20%20%20%20%20%20%20var%20html_df8db869cba64e2f85123bedcb955965%20%3D%20%24%28%60%3Cdiv%20id%3D%22html_df8db869cba64e2f85123bedcb955965%22%20style%3D%22width%3A%20100.0%25%3B%20height%3A%20100.0%25%3B%22%3EIsolation%3A%2015.98%3C/div%3E%60%29%5B0%5D%3B%0A%20%20%20%20%20%20%20%20%20%20%20%20popup_77bfe3f4afbc405d9653fd3d9be7d8a9.setContent%28html_df8db869cba64e2f85123bedcb955965%29%3B%0A%20%20%20%20%20%20%20%20%0A%0A%20%20%20%20%20%20%20%20marker_68ebe33feae24173bb708c47c701600e.bindPopup%28popup_77bfe3f4afbc405d9653fd3d9be7d8a9%29%0A%20%20%20%20%20%20%20%20%3B%0A%0A%20%20%20%20%20%20%20%20%0A%20%20%20%20%0A%20%20%20%20%0A%20%20%20%20%20%20%20%20%20%20%20%20var%20marker_013e0f4f871b4959b1bd6886f7d0068d%20%3D%20L.marker%28%0A%20%20%20%20%20%20%20%20%20%20%20%20%20%20%20%20%5B44.2889%2C%20-118.4954%5D%2C%0A%20%20%20%20%20%20%20%20%20%20%20%20%20%20%20%20%7B%7D%0A%20%20%20%20%20%20%20%20%20%20%20%20%29.addTo%28map_f06e3f1bd7d741a6b3423e17c74628af%29%3B%0A%20%20%20%20%20%20%20%20%0A%20%20%20%20%0A%20%20%20%20%20%20%20%20var%20popup_c63944ce8aca41dabc74f1e90816f48e%20%3D%20L.popup%28%7B%22maxWidth%22%3A%20%22100%25%22%7D%29%3B%0A%0A%20%20%20%20%20%20%20%20%0A%20%20%20%20%20%20%20%20%20%20%20%20var%20html_2c4dd10126a64016b956dda668c521e8%20%3D%20%24%28%60%3Cdiv%20id%3D%22html_2c4dd10126a64016b956dda668c521e8%22%20style%3D%22width%3A%20100.0%25%3B%20height%3A%20100.0%25%3B%22%3EIsolation%3A%2010.73%3C/div%3E%60%29%5B0%5D%3B%0A%20%20%20%20%20%20%20%20%20%20%20%20popup_c63944ce8aca41dabc74f1e90816f48e.setContent%28html_2c4dd10126a64016b956dda668c521e8%29%3B%0A%20%20%20%20%20%20%20%20%0A%0A%20%20%20%20%20%20%20%20marker_013e0f4f871b4959b1bd6886f7d0068d.bindPopup%28popup_c63944ce8aca41dabc74f1e90816f48e%29%0A%20%20%20%20%20%20%20%20%3B%0A%0A%20%20%20%20%20%20%20%20%0A%20%20%20%20%0A%20%20%20%20%0A%20%20%20%20%20%20%20%20%20%20%20%20var%20marker_648aa33f09094216ad7b4466897e3b10%20%3D%20L.marker%28%0A%20%20%20%20%20%20%20%20%20%20%20%20%20%20%20%20%5B42.4597%2C%20-119.7414%5D%2C%0A%20%20%20%20%20%20%20%20%20%20%20%20%20%20%20%20%7B%7D%0A%20%20%20%20%20%20%20%20%20%20%20%20%29.addTo%28map_f06e3f1bd7d741a6b3423e17c74628af%29%3B%0A%20%20%20%20%20%20%20%20%0A%20%20%20%20%0A%20%20%20%20%20%20%20%20var%20popup_e842488f2f4847fdbca586209737b974%20%3D%20L.popup%28%7B%22maxWidth%22%3A%20%22100%25%22%7D%29%3B%0A%0A%20%20%20%20%20%20%20%20%0A%20%20%20%20%20%20%20%20%20%20%20%20var%20html_224159c9229a4cc7b18b71dc6bc51ee4%20%3D%20%24%28%60%3Cdiv%20id%3D%22html_224159c9229a4cc7b18b71dc6bc51ee4%22%20style%3D%22width%3A%20100.0%25%3B%20height%3A%20100.0%25%3B%22%3EIsolation%3A%2035.6%3C/div%3E%60%29%5B0%5D%3B%0A%20%20%20%20%20%20%20%20%20%20%20%20popup_e842488f2f4847fdbca586209737b974.setContent%28html_224159c9229a4cc7b18b71dc6bc51ee4%29%3B%0A%20%20%20%20%20%20%20%20%0A%0A%20%20%20%20%20%20%20%20marker_648aa33f09094216ad7b4466897e3b10.bindPopup%28popup_e842488f2f4847fdbca586209737b974%29%0A%20%20%20%20%20%20%20%20%3B%0A%0A%20%20%20%20%20%20%20%20%0A%20%20%20%20%0A%20%20%20%20%0A%20%20%20%20%20%20%20%20%20%20%20%20var%20marker_09ce208adf8a45e583855a6156dfc2e4%20%3D%20L.marker%28%0A%20%20%20%20%20%20%20%20%20%20%20%20%20%20%20%20%5B43.6892%2C%20-121.2549%5D%2C%0A%20%20%20%20%20%20%20%20%20%20%20%20%20%20%20%20%7B%7D%0A%20%20%20%20%20%20%20%20%20%20%20%20%29.addTo%28map_f06e3f1bd7d741a6b3423e17c74628af%29%3B%0A%20%20%20%20%20%20%20%20%0A%20%20%20%20%0A%20%20%20%20%20%20%20%20var%20popup_7c46523d216c4377b8f1fedd4e80c024%20%3D%20L.popup%28%7B%22maxWidth%22%3A%20%22100%25%22%7D%29%3B%0A%0A%20%20%20%20%20%20%20%20%0A%20%20%20%20%20%20%20%20%20%20%20%20var%20html_af4366d3d12a4bdbaada2c006d72cc5d%20%3D%20%24%28%60%3Cdiv%20id%3D%22html_af4366d3d12a4bdbaada2c006d72cc5d%22%20style%3D%22width%3A%20100.0%25%3B%20height%3A%20100.0%25%3B%22%3EIsolation%3A%2046.5%3C/div%3E%60%29%5B0%5D%3B%0A%20%20%20%20%20%20%20%20%20%20%20%20popup_7c46523d216c4377b8f1fedd4e80c024.setContent%28html_af4366d3d12a4bdbaada2c006d72cc5d%29%3B%0A%20%20%20%20%20%20%20%20%0A%0A%20%20%20%20%20%20%20%20marker_09ce208adf8a45e583855a6156dfc2e4.bindPopup%28popup_7c46523d216c4377b8f1fedd4e80c024%29%0A%20%20%20%20%20%20%20%20%3B%0A%0A%20%20%20%20%20%20%20%20%0A%20%20%20%20%0A%3C/script%3E onload=\"this.contentDocument.open();this.contentDocument.write(    decodeURIComponent(this.getAttribute('data-html')));this.contentDocument.close();\" allowfullscreen webkitallowfullscreen mozallowfullscreen></iframe></div></div>"
      ],
      "text/plain": [
       "<folium.folium.Map at 0x1f1e2478b50>"
      ]
     },
     "execution_count": 16,
     "metadata": {},
     "output_type": "execute_result"
    }
   ],
   "source": [
    "map = folium.Map(location=[44, -121], zoom_start=7)\n",
    "for i in range(0, len(coords)):\n",
    "    folium.Marker(coords[i], popup='Isolation: ' + str(isolation[i])).add_to(map)\n",
    "map"
   ]
  },
  {
   "cell_type": "markdown",
   "id": "a6956e00",
   "metadata": {},
   "source": [
    "**Extra Credit:** Add name of mountain to map"
   ]
  },
  {
   "cell_type": "code",
   "execution_count": 17,
   "id": "85e8670d",
   "metadata": {},
   "outputs": [
    {
     "data": {
      "text/plain": [
       "['Mount Hood',\n",
       " 'Mount Jefferson',\n",
       " 'South Sister',\n",
       " 'North Sister',\n",
       " 'Middle Sister',\n",
       " 'Sacajawea Peak',\n",
       " 'Steens Mountain',\n",
       " 'Aneroid Mountain',\n",
       " 'Twin Peaks',\n",
       " 'Red Mountain',\n",
       " 'Mount McLoughlin',\n",
       " 'Elkhorn Peak',\n",
       " 'Mount Thielsen',\n",
       " 'Broken Top',\n",
       " 'Rock Creek Butte',\n",
       " 'Mount Bachelor',\n",
       " 'Strawberry Mountain',\n",
       " 'Mount Scott',\n",
       " 'Diamond Peak',\n",
       " 'Pueblo Mountain',\n",
       " 'Crane Mountain',\n",
       " 'Drake Peak',\n",
       " 'Mount Bailey',\n",
       " 'Gearhart Mountain',\n",
       " 'Aspen Butte',\n",
       " 'Yamsay Mountain',\n",
       " 'Vinegar Hill',\n",
       " 'Pelican Butte',\n",
       " 'Lookout Mountain',\n",
       " 'Warner Peak',\n",
       " 'Paulina Peak']"
      ]
     },
     "execution_count": 17,
     "metadata": {},
     "output_type": "execute_result"
    }
   ],
   "source": [
    "import re # Regular expression module to format strings \n",
    "\n",
    "# Get mountian name without brackets\n",
    "names = []\n",
    "for i in range(len(mountain_stats)):\n",
    "    name = mountain_stats['Mountain peak'].iloc[i]\n",
    "    name = re.sub(\"[\\(\\[].*?[\\)\\]]\", \"\", name) # remove brackets and characters within\n",
    "    names.append(name)\n",
    "names"
   ]
  },
  {
   "cell_type": "code",
   "execution_count": 18,
   "id": "1d3643d2",
   "metadata": {},
   "outputs": [
    {
     "data": {
      "text/html": [
       "<div style=\"width:100%;\"><div style=\"position:relative;width:100%;height:0;padding-bottom:60%;\"><span style=\"color:#565656\">Make this Notebook Trusted to load map: File -> Trust Notebook</span><iframe src=\"about:blank\" style=\"position:absolute;width:100%;height:100%;left:0;top:0;border:none !important;\" data-html=%3C%21DOCTYPE%20html%3E%0A%3Chead%3E%20%20%20%20%0A%20%20%20%20%3Cmeta%20http-equiv%3D%22content-type%22%20content%3D%22text/html%3B%20charset%3DUTF-8%22%20/%3E%0A%20%20%20%20%0A%20%20%20%20%20%20%20%20%3Cscript%3E%0A%20%20%20%20%20%20%20%20%20%20%20%20L_NO_TOUCH%20%3D%20false%3B%0A%20%20%20%20%20%20%20%20%20%20%20%20L_DISABLE_3D%20%3D%20false%3B%0A%20%20%20%20%20%20%20%20%3C/script%3E%0A%20%20%20%20%0A%20%20%20%20%3Cstyle%3Ehtml%2C%20body%20%7Bwidth%3A%20100%25%3Bheight%3A%20100%25%3Bmargin%3A%200%3Bpadding%3A%200%3B%7D%3C/style%3E%0A%20%20%20%20%3Cstyle%3E%23map%20%7Bposition%3Aabsolute%3Btop%3A0%3Bbottom%3A0%3Bright%3A0%3Bleft%3A0%3B%7D%3C/style%3E%0A%20%20%20%20%3Cscript%20src%3D%22https%3A//cdn.jsdelivr.net/npm/leaflet%401.6.0/dist/leaflet.js%22%3E%3C/script%3E%0A%20%20%20%20%3Cscript%20src%3D%22https%3A//code.jquery.com/jquery-1.12.4.min.js%22%3E%3C/script%3E%0A%20%20%20%20%3Cscript%20src%3D%22https%3A//maxcdn.bootstrapcdn.com/bootstrap/3.2.0/js/bootstrap.min.js%22%3E%3C/script%3E%0A%20%20%20%20%3Cscript%20src%3D%22https%3A//cdnjs.cloudflare.com/ajax/libs/Leaflet.awesome-markers/2.0.2/leaflet.awesome-markers.js%22%3E%3C/script%3E%0A%20%20%20%20%3Clink%20rel%3D%22stylesheet%22%20href%3D%22https%3A//cdn.jsdelivr.net/npm/leaflet%401.6.0/dist/leaflet.css%22/%3E%0A%20%20%20%20%3Clink%20rel%3D%22stylesheet%22%20href%3D%22https%3A//maxcdn.bootstrapcdn.com/bootstrap/3.2.0/css/bootstrap.min.css%22/%3E%0A%20%20%20%20%3Clink%20rel%3D%22stylesheet%22%20href%3D%22https%3A//maxcdn.bootstrapcdn.com/bootstrap/3.2.0/css/bootstrap-theme.min.css%22/%3E%0A%20%20%20%20%3Clink%20rel%3D%22stylesheet%22%20href%3D%22https%3A//maxcdn.bootstrapcdn.com/font-awesome/4.6.3/css/font-awesome.min.css%22/%3E%0A%20%20%20%20%3Clink%20rel%3D%22stylesheet%22%20href%3D%22https%3A//cdnjs.cloudflare.com/ajax/libs/Leaflet.awesome-markers/2.0.2/leaflet.awesome-markers.css%22/%3E%0A%20%20%20%20%3Clink%20rel%3D%22stylesheet%22%20href%3D%22https%3A//cdn.jsdelivr.net/gh/python-visualization/folium/folium/templates/leaflet.awesome.rotate.min.css%22/%3E%0A%20%20%20%20%0A%20%20%20%20%20%20%20%20%20%20%20%20%3Cmeta%20name%3D%22viewport%22%20content%3D%22width%3Ddevice-width%2C%0A%20%20%20%20%20%20%20%20%20%20%20%20%20%20%20%20initial-scale%3D1.0%2C%20maximum-scale%3D1.0%2C%20user-scalable%3Dno%22%20/%3E%0A%20%20%20%20%20%20%20%20%20%20%20%20%3Cstyle%3E%0A%20%20%20%20%20%20%20%20%20%20%20%20%20%20%20%20%23map_b3711bc2ccea440483aabffa71d74be4%20%7B%0A%20%20%20%20%20%20%20%20%20%20%20%20%20%20%20%20%20%20%20%20position%3A%20relative%3B%0A%20%20%20%20%20%20%20%20%20%20%20%20%20%20%20%20%20%20%20%20width%3A%20100.0%25%3B%0A%20%20%20%20%20%20%20%20%20%20%20%20%20%20%20%20%20%20%20%20height%3A%20100.0%25%3B%0A%20%20%20%20%20%20%20%20%20%20%20%20%20%20%20%20%20%20%20%20left%3A%200.0%25%3B%0A%20%20%20%20%20%20%20%20%20%20%20%20%20%20%20%20%20%20%20%20top%3A%200.0%25%3B%0A%20%20%20%20%20%20%20%20%20%20%20%20%20%20%20%20%7D%0A%20%20%20%20%20%20%20%20%20%20%20%20%3C/style%3E%0A%20%20%20%20%20%20%20%20%0A%3C/head%3E%0A%3Cbody%3E%20%20%20%20%0A%20%20%20%20%0A%20%20%20%20%20%20%20%20%20%20%20%20%3Cdiv%20class%3D%22folium-map%22%20id%3D%22map_b3711bc2ccea440483aabffa71d74be4%22%20%3E%3C/div%3E%0A%20%20%20%20%20%20%20%20%0A%3C/body%3E%0A%3Cscript%3E%20%20%20%20%0A%20%20%20%20%0A%20%20%20%20%20%20%20%20%20%20%20%20var%20map_b3711bc2ccea440483aabffa71d74be4%20%3D%20L.map%28%0A%20%20%20%20%20%20%20%20%20%20%20%20%20%20%20%20%22map_b3711bc2ccea440483aabffa71d74be4%22%2C%0A%20%20%20%20%20%20%20%20%20%20%20%20%20%20%20%20%7B%0A%20%20%20%20%20%20%20%20%20%20%20%20%20%20%20%20%20%20%20%20center%3A%20%5B44.0%2C%20-121.0%5D%2C%0A%20%20%20%20%20%20%20%20%20%20%20%20%20%20%20%20%20%20%20%20crs%3A%20L.CRS.EPSG3857%2C%0A%20%20%20%20%20%20%20%20%20%20%20%20%20%20%20%20%20%20%20%20zoom%3A%207%2C%0A%20%20%20%20%20%20%20%20%20%20%20%20%20%20%20%20%20%20%20%20zoomControl%3A%20true%2C%0A%20%20%20%20%20%20%20%20%20%20%20%20%20%20%20%20%20%20%20%20preferCanvas%3A%20false%2C%0A%20%20%20%20%20%20%20%20%20%20%20%20%20%20%20%20%7D%0A%20%20%20%20%20%20%20%20%20%20%20%20%29%3B%0A%0A%20%20%20%20%20%20%20%20%20%20%20%20%0A%0A%20%20%20%20%20%20%20%20%0A%20%20%20%20%0A%20%20%20%20%20%20%20%20%20%20%20%20var%20tile_layer_10c5e938850c4528bb16254932d4d166%20%3D%20L.tileLayer%28%0A%20%20%20%20%20%20%20%20%20%20%20%20%20%20%20%20%22https%3A//%7Bs%7D.tile.openstreetmap.org/%7Bz%7D/%7Bx%7D/%7By%7D.png%22%2C%0A%20%20%20%20%20%20%20%20%20%20%20%20%20%20%20%20%7B%22attribution%22%3A%20%22Data%20by%20%5Cu0026copy%3B%20%5Cu003ca%20href%3D%5C%22http%3A//openstreetmap.org%5C%22%5Cu003eOpenStreetMap%5Cu003c/a%5Cu003e%2C%20under%20%5Cu003ca%20href%3D%5C%22http%3A//www.openstreetmap.org/copyright%5C%22%5Cu003eODbL%5Cu003c/a%5Cu003e.%22%2C%20%22detectRetina%22%3A%20false%2C%20%22maxNativeZoom%22%3A%2018%2C%20%22maxZoom%22%3A%2018%2C%20%22minZoom%22%3A%200%2C%20%22noWrap%22%3A%20false%2C%20%22opacity%22%3A%201%2C%20%22subdomains%22%3A%20%22abc%22%2C%20%22tms%22%3A%20false%7D%0A%20%20%20%20%20%20%20%20%20%20%20%20%29.addTo%28map_b3711bc2ccea440483aabffa71d74be4%29%3B%0A%20%20%20%20%20%20%20%20%0A%20%20%20%20%0A%20%20%20%20%20%20%20%20%20%20%20%20var%20marker_9d223e1f722444d7bddad8f3044ef9b2%20%3D%20L.marker%28%0A%20%20%20%20%20%20%20%20%20%20%20%20%20%20%20%20%5B45.3735%2C%20-121.6959%5D%2C%0A%20%20%20%20%20%20%20%20%20%20%20%20%20%20%20%20%7B%7D%0A%20%20%20%20%20%20%20%20%20%20%20%20%29.addTo%28map_b3711bc2ccea440483aabffa71d74be4%29%3B%0A%20%20%20%20%20%20%20%20%0A%20%20%20%20%0A%20%20%20%20%20%20%20%20var%20popup_1c2a887a4abe408385bb248b70ddbc16%20%3D%20L.popup%28%7B%22maxWidth%22%3A%20%22100%25%22%7D%29%3B%0A%0A%20%20%20%20%20%20%20%20%0A%20%20%20%20%20%20%20%20%20%20%20%20var%20html_38a85cb99b104b68b39c02a9feb59823%20%3D%20%24%28%60%3Cdiv%20id%3D%22html_38a85cb99b104b68b39c02a9feb59823%22%20style%3D%22width%3A%20100.0%25%3B%20height%3A%20100.0%25%3B%22%3EName%3A%20Mount%20Hood%20Isolation%3A%2092.2%3C/div%3E%60%29%5B0%5D%3B%0A%20%20%20%20%20%20%20%20%20%20%20%20popup_1c2a887a4abe408385bb248b70ddbc16.setContent%28html_38a85cb99b104b68b39c02a9feb59823%29%3B%0A%20%20%20%20%20%20%20%20%0A%0A%20%20%20%20%20%20%20%20marker_9d223e1f722444d7bddad8f3044ef9b2.bindPopup%28popup_1c2a887a4abe408385bb248b70ddbc16%29%0A%20%20%20%20%20%20%20%20%3B%0A%0A%20%20%20%20%20%20%20%20%0A%20%20%20%20%0A%20%20%20%20%0A%20%20%20%20%20%20%20%20%20%20%20%20var%20marker_02798a3d51734b05a9ae40d42293c9de%20%3D%20L.marker%28%0A%20%20%20%20%20%20%20%20%20%20%20%20%20%20%20%20%5B44.6743%2C%20-121.7996%5D%2C%0A%20%20%20%20%20%20%20%20%20%20%20%20%20%20%20%20%7B%7D%0A%20%20%20%20%20%20%20%20%20%20%20%20%29.addTo%28map_b3711bc2ccea440483aabffa71d74be4%29%3B%0A%20%20%20%20%20%20%20%20%0A%20%20%20%20%0A%20%20%20%20%20%20%20%20var%20popup_af4668974a6642dfa008c16600cb3ea8%20%3D%20L.popup%28%7B%22maxWidth%22%3A%20%22100%25%22%7D%29%3B%0A%0A%20%20%20%20%20%20%20%20%0A%20%20%20%20%20%20%20%20%20%20%20%20var%20html_085d4dc228444c9e8b296b9c5937fd14%20%3D%20%24%28%60%3Cdiv%20id%3D%22html_085d4dc228444c9e8b296b9c5937fd14%22%20style%3D%22width%3A%20100.0%25%3B%20height%3A%20100.0%25%3B%22%3EName%3A%20Mount%20Jefferson%20Isolation%3A%2077.5%3C/div%3E%60%29%5B0%5D%3B%0A%20%20%20%20%20%20%20%20%20%20%20%20popup_af4668974a6642dfa008c16600cb3ea8.setContent%28html_085d4dc228444c9e8b296b9c5937fd14%29%3B%0A%20%20%20%20%20%20%20%20%0A%0A%20%20%20%20%20%20%20%20marker_02798a3d51734b05a9ae40d42293c9de.bindPopup%28popup_af4668974a6642dfa008c16600cb3ea8%29%0A%20%20%20%20%20%20%20%20%3B%0A%0A%20%20%20%20%20%20%20%20%0A%20%20%20%20%0A%20%20%20%20%0A%20%20%20%20%20%20%20%20%20%20%20%20var%20marker_f50414028a7543c29e5a69eb260cdbd9%20%3D%20L.marker%28%0A%20%20%20%20%20%20%20%20%20%20%20%20%20%20%20%20%5B44.1035%2C%20-121.7693%5D%2C%0A%20%20%20%20%20%20%20%20%20%20%20%20%20%20%20%20%7B%7D%0A%20%20%20%20%20%20%20%20%20%20%20%20%29.addTo%28map_b3711bc2ccea440483aabffa71d74be4%29%3B%0A%20%20%20%20%20%20%20%20%0A%20%20%20%20%0A%20%20%20%20%20%20%20%20var%20popup_e05eff55a0924629be1344a42f3dabd8%20%3D%20L.popup%28%7B%22maxWidth%22%3A%20%22100%25%22%7D%29%3B%0A%0A%20%20%20%20%20%20%20%20%0A%20%20%20%20%20%20%20%20%20%20%20%20var%20html_9a006b41b1284cc7a67c1351e129a31c%20%3D%20%24%28%60%3Cdiv%20id%3D%22html_9a006b41b1284cc7a67c1351e129a31c%22%20style%3D%22width%3A%20100.0%25%3B%20height%3A%20100.0%25%3B%22%3EName%3A%20South%20Sister%20Isolation%3A%2063.4%3C/div%3E%60%29%5B0%5D%3B%0A%20%20%20%20%20%20%20%20%20%20%20%20popup_e05eff55a0924629be1344a42f3dabd8.setContent%28html_9a006b41b1284cc7a67c1351e129a31c%29%3B%0A%20%20%20%20%20%20%20%20%0A%0A%20%20%20%20%20%20%20%20marker_f50414028a7543c29e5a69eb260cdbd9.bindPopup%28popup_e05eff55a0924629be1344a42f3dabd8%29%0A%20%20%20%20%20%20%20%20%3B%0A%0A%20%20%20%20%20%20%20%20%0A%20%20%20%20%0A%20%20%20%20%0A%20%20%20%20%20%20%20%20%20%20%20%20var%20marker_76f95f6cc14445f5bf467e17518374b2%20%3D%20L.marker%28%0A%20%20%20%20%20%20%20%20%20%20%20%20%20%20%20%20%5B44.1666%2C%20-121.7723%5D%2C%0A%20%20%20%20%20%20%20%20%20%20%20%20%20%20%20%20%7B%7D%0A%20%20%20%20%20%20%20%20%20%20%20%20%29.addTo%28map_b3711bc2ccea440483aabffa71d74be4%29%3B%0A%20%20%20%20%20%20%20%20%0A%20%20%20%20%0A%20%20%20%20%20%20%20%20var%20popup_9c935b076b9949f289b88e86092ea759%20%3D%20L.popup%28%7B%22maxWidth%22%3A%20%22100%25%22%7D%29%3B%0A%0A%20%20%20%20%20%20%20%20%0A%20%20%20%20%20%20%20%20%20%20%20%20var%20html_2ebc6fd2a5ca48faa74cefefa128d739%20%3D%20%24%28%60%3Cdiv%20id%3D%22html_2ebc6fd2a5ca48faa74cefefa128d739%22%20style%3D%22width%3A%20100.0%25%3B%20height%3A%20100.0%25%3B%22%3EName%3A%20North%20Sister%20Isolation%3A%207.0%3C/div%3E%60%29%5B0%5D%3B%0A%20%20%20%20%20%20%20%20%20%20%20%20popup_9c935b076b9949f289b88e86092ea759.setContent%28html_2ebc6fd2a5ca48faa74cefefa128d739%29%3B%0A%20%20%20%20%20%20%20%20%0A%0A%20%20%20%20%20%20%20%20marker_76f95f6cc14445f5bf467e17518374b2.bindPopup%28popup_9c935b076b9949f289b88e86092ea759%29%0A%20%20%20%20%20%20%20%20%3B%0A%0A%20%20%20%20%20%20%20%20%0A%20%20%20%20%0A%20%20%20%20%0A%20%20%20%20%20%20%20%20%20%20%20%20var%20marker_5324a97fc2f449c68527e1207c8bf4d3%20%3D%20L.marker%28%0A%20%20%20%20%20%20%20%20%20%20%20%20%20%20%20%20%5B44.1483%2C%20-121.784%5D%2C%0A%20%20%20%20%20%20%20%20%20%20%20%20%20%20%20%20%7B%7D%0A%20%20%20%20%20%20%20%20%20%20%20%20%29.addTo%28map_b3711bc2ccea440483aabffa71d74be4%29%3B%0A%20%20%20%20%20%20%20%20%0A%20%20%20%20%0A%20%20%20%20%20%20%20%20var%20popup_3036ffd4983045e78760c9f2ce7d8dc2%20%3D%20L.popup%28%7B%22maxWidth%22%3A%20%22100%25%22%7D%29%3B%0A%0A%20%20%20%20%20%20%20%20%0A%20%20%20%20%20%20%20%20%20%20%20%20var%20html_89455e45c68642f7b2e46c5a76102625%20%3D%20%24%28%60%3Cdiv%20id%3D%22html_89455e45c68642f7b2e46c5a76102625%22%20style%3D%22width%3A%20100.0%25%3B%20height%3A%20100.0%25%3B%22%3EName%3A%20Middle%20Sister%20Isolation%3A%201.8%3C/div%3E%60%29%5B0%5D%3B%0A%20%20%20%20%20%20%20%20%20%20%20%20popup_3036ffd4983045e78760c9f2ce7d8dc2.setContent%28html_89455e45c68642f7b2e46c5a76102625%29%3B%0A%20%20%20%20%20%20%20%20%0A%0A%20%20%20%20%20%20%20%20marker_5324a97fc2f449c68527e1207c8bf4d3.bindPopup%28popup_3036ffd4983045e78760c9f2ce7d8dc2%29%0A%20%20%20%20%20%20%20%20%3B%0A%0A%20%20%20%20%20%20%20%20%0A%20%20%20%20%0A%20%20%20%20%0A%20%20%20%20%20%20%20%20%20%20%20%20var%20marker_1ce8fb51f4f146948bcb38b5449f2313%20%3D%20L.marker%28%0A%20%20%20%20%20%20%20%20%20%20%20%20%20%20%20%20%5B45.245%2C%20-117.2929%5D%2C%0A%20%20%20%20%20%20%20%20%20%20%20%20%20%20%20%20%7B%7D%0A%20%20%20%20%20%20%20%20%20%20%20%20%29.addTo%28map_b3711bc2ccea440483aabffa71d74be4%29%3B%0A%20%20%20%20%20%20%20%20%0A%20%20%20%20%0A%20%20%20%20%20%20%20%20var%20popup_49cf52bc11fd4d59b9cc41108ede8708%20%3D%20L.popup%28%7B%22maxWidth%22%3A%20%22100%25%22%7D%29%3B%0A%0A%20%20%20%20%20%20%20%20%0A%20%20%20%20%20%20%20%20%20%20%20%20var%20html_350839c0e8d64368964a4dea89d69856%20%3D%20%24%28%60%3Cdiv%20id%3D%22html_350839c0e8d64368964a4dea89d69856%22%20style%3D%22width%3A%20100.0%25%3B%20height%3A%20100.0%25%3B%22%3EName%3A%20Sacajawea%20Peak%20Isolation%3A%20202.0%3C/div%3E%60%29%5B0%5D%3B%0A%20%20%20%20%20%20%20%20%20%20%20%20popup_49cf52bc11fd4d59b9cc41108ede8708.setContent%28html_350839c0e8d64368964a4dea89d69856%29%3B%0A%20%20%20%20%20%20%20%20%0A%0A%20%20%20%20%20%20%20%20marker_1ce8fb51f4f146948bcb38b5449f2313.bindPopup%28popup_49cf52bc11fd4d59b9cc41108ede8708%29%0A%20%20%20%20%20%20%20%20%3B%0A%0A%20%20%20%20%20%20%20%20%0A%20%20%20%20%0A%20%20%20%20%0A%20%20%20%20%20%20%20%20%20%20%20%20var%20marker_dffdf9bbfc5c4e88ae0fad1d646d1233%20%3D%20L.marker%28%0A%20%20%20%20%20%20%20%20%20%20%20%20%20%20%20%20%5B42.6364%2C%20-118.5767%5D%2C%0A%20%20%20%20%20%20%20%20%20%20%20%20%20%20%20%20%7B%7D%0A%20%20%20%20%20%20%20%20%20%20%20%20%29.addTo%28map_b3711bc2ccea440483aabffa71d74be4%29%3B%0A%20%20%20%20%20%20%20%20%0A%20%20%20%20%0A%20%20%20%20%20%20%20%20var%20popup_d365802549e0426f95f004e6bf60255b%20%3D%20L.popup%28%7B%22maxWidth%22%3A%20%22100%25%22%7D%29%3B%0A%0A%20%20%20%20%20%20%20%20%0A%20%20%20%20%20%20%20%20%20%20%20%20var%20html_ccbbd63534844d71b94547bd276aba19%20%3D%20%24%28%60%3Cdiv%20id%3D%22html_ccbbd63534844d71b94547bd276aba19%22%20style%3D%22width%3A%20100.0%25%3B%20height%3A%20100.0%25%3B%22%3EName%3A%20Steens%20Mountain%20Isolation%3A%20201.0%3C/div%3E%60%29%5B0%5D%3B%0A%20%20%20%20%20%20%20%20%20%20%20%20popup_d365802549e0426f95f004e6bf60255b.setContent%28html_ccbbd63534844d71b94547bd276aba19%29%3B%0A%20%20%20%20%20%20%20%20%0A%0A%20%20%20%20%20%20%20%20marker_dffdf9bbfc5c4e88ae0fad1d646d1233.bindPopup%28popup_d365802549e0426f95f004e6bf60255b%29%0A%20%20%20%20%20%20%20%20%3B%0A%0A%20%20%20%20%20%20%20%20%0A%20%20%20%20%0A%20%20%20%20%0A%20%20%20%20%20%20%20%20%20%20%20%20var%20marker_de5dcfd617cf4b4cb7beeffb79752806%20%3D%20L.marker%28%0A%20%20%20%20%20%20%20%20%20%20%20%20%20%20%20%20%5B45.203%2C%20-117.175%5D%2C%0A%20%20%20%20%20%20%20%20%20%20%20%20%20%20%20%20%7B%7D%0A%20%20%20%20%20%20%20%20%20%20%20%20%29.addTo%28map_b3711bc2ccea440483aabffa71d74be4%29%3B%0A%20%20%20%20%20%20%20%20%0A%20%20%20%20%0A%20%20%20%20%20%20%20%20var%20popup_b8617ec1470d42d7a1339558a4d6411f%20%3D%20L.popup%28%7B%22maxWidth%22%3A%20%22100%25%22%7D%29%3B%0A%0A%20%20%20%20%20%20%20%20%0A%20%20%20%20%20%20%20%20%20%20%20%20var%20html_015e1d01ee684df783093ea36273682d%20%3D%20%24%28%60%3Cdiv%20id%3D%22html_015e1d01ee684df783093ea36273682d%22%20style%3D%22width%3A%20100.0%25%3B%20height%3A%20100.0%25%3B%22%3EName%3A%20Aneroid%20Mountain%20Isolation%3A%209.48%3C/div%3E%60%29%5B0%5D%3B%0A%20%20%20%20%20%20%20%20%20%20%20%20popup_b8617ec1470d42d7a1339558a4d6411f.setContent%28html_015e1d01ee684df783093ea36273682d%29%3B%0A%20%20%20%20%20%20%20%20%0A%0A%20%20%20%20%20%20%20%20marker_de5dcfd617cf4b4cb7beeffb79752806.bindPopup%28popup_b8617ec1470d42d7a1339558a4d6411f%29%0A%20%20%20%20%20%20%20%20%3B%0A%0A%20%20%20%20%20%20%20%20%0A%20%20%20%20%0A%20%20%20%20%0A%20%20%20%20%20%20%20%20%20%20%20%20var%20marker_f9c3533b55d2433cb7d9db514f89c33c%20%3D%20L.marker%28%0A%20%20%20%20%20%20%20%20%20%20%20%20%20%20%20%20%5B45.3046%2C%20-117.3452%5D%2C%0A%20%20%20%20%20%20%20%20%20%20%20%20%20%20%20%20%7B%7D%0A%20%20%20%20%20%20%20%20%20%20%20%20%29.addTo%28map_b3711bc2ccea440483aabffa71d74be4%29%3B%0A%20%20%20%20%20%20%20%20%0A%20%20%20%20%0A%20%20%20%20%20%20%20%20var%20popup_d1e2072c75094fb98d2ce04e6b36fe09%20%3D%20L.popup%28%7B%22maxWidth%22%3A%20%22100%25%22%7D%29%3B%0A%0A%20%20%20%20%20%20%20%20%0A%20%20%20%20%20%20%20%20%20%20%20%20var%20html_c3bdd66d4e8147a3b0349b0690c2c252%20%3D%20%24%28%60%3Cdiv%20id%3D%22html_c3bdd66d4e8147a3b0349b0690c2c252%22%20style%3D%22width%3A%20100.0%25%3B%20height%3A%20100.0%25%3B%22%3EName%3A%20Twin%20Peaks%20Isolation%3A%207.79%3C/div%3E%60%29%5B0%5D%3B%0A%20%20%20%20%20%20%20%20%20%20%20%20popup_d1e2072c75094fb98d2ce04e6b36fe09.setContent%28html_c3bdd66d4e8147a3b0349b0690c2c252%29%3B%0A%20%20%20%20%20%20%20%20%0A%0A%20%20%20%20%20%20%20%20marker_f9c3533b55d2433cb7d9db514f89c33c.bindPopup%28popup_d1e2072c75094fb98d2ce04e6b36fe09%29%0A%20%20%20%20%20%20%20%20%3B%0A%0A%20%20%20%20%20%20%20%20%0A%20%20%20%20%0A%20%20%20%20%0A%20%20%20%20%20%20%20%20%20%20%20%20var%20marker_e5891ceedc7e491780c8e8885bb46ecb%20%3D%20L.marker%28%0A%20%20%20%20%20%20%20%20%20%20%20%20%20%20%20%20%5B45.0644%2C%20-117.246%5D%2C%0A%20%20%20%20%20%20%20%20%20%20%20%20%20%20%20%20%7B%7D%0A%20%20%20%20%20%20%20%20%20%20%20%20%29.addTo%28map_b3711bc2ccea440483aabffa71d74be4%29%3B%0A%20%20%20%20%20%20%20%20%0A%20%20%20%20%0A%20%20%20%20%20%20%20%20var%20popup_76bed9ec2e9f4b2bbbe6bd5f7070056b%20%3D%20L.popup%28%7B%22maxWidth%22%3A%20%22100%25%22%7D%29%3B%0A%0A%20%20%20%20%20%20%20%20%0A%20%20%20%20%20%20%20%20%20%20%20%20var%20html_3fde3282b6774b7ca3d7b5f1f201549a%20%3D%20%24%28%60%3Cdiv%20id%3D%22html_3fde3282b6774b7ca3d7b5f1f201549a%22%20style%3D%22width%3A%20100.0%25%3B%20height%3A%20100.0%25%3B%22%3EName%3A%20Red%20Mountain%20Isolation%3A%2011.84%3C/div%3E%60%29%5B0%5D%3B%0A%20%20%20%20%20%20%20%20%20%20%20%20popup_76bed9ec2e9f4b2bbbe6bd5f7070056b.setContent%28html_3fde3282b6774b7ca3d7b5f1f201549a%29%3B%0A%20%20%20%20%20%20%20%20%0A%0A%20%20%20%20%20%20%20%20marker_e5891ceedc7e491780c8e8885bb46ecb.bindPopup%28popup_76bed9ec2e9f4b2bbbe6bd5f7070056b%29%0A%20%20%20%20%20%20%20%20%3B%0A%0A%20%20%20%20%20%20%20%20%0A%20%20%20%20%0A%20%20%20%20%0A%20%20%20%20%20%20%20%20%20%20%20%20var%20marker_038b85946c0e497f91871d2ae0339f10%20%3D%20L.marker%28%0A%20%20%20%20%20%20%20%20%20%20%20%20%20%20%20%20%5B42.4445%2C%20-122.3156%5D%2C%0A%20%20%20%20%20%20%20%20%20%20%20%20%20%20%20%20%7B%7D%0A%20%20%20%20%20%20%20%20%20%20%20%20%29.addTo%28map_b3711bc2ccea440483aabffa71d74be4%29%3B%0A%20%20%20%20%20%20%20%20%0A%20%20%20%20%0A%20%20%20%20%20%20%20%20var%20popup_a80eca416092488cb4e9d6fd454d3262%20%3D%20L.popup%28%7B%22maxWidth%22%3A%20%22100%25%22%7D%29%3B%0A%0A%20%20%20%20%20%20%20%20%0A%20%20%20%20%20%20%20%20%20%20%20%20var%20html_cb678ac31d264af6a806522250b284d7%20%3D%20%24%28%60%3Cdiv%20id%3D%22html_cb678ac31d264af6a806522250b284d7%22%20style%3D%22width%3A%20100.0%25%3B%20height%3A%20100.0%25%3B%22%3EName%3A%20Mount%20McLoughlin%20Isolation%3A%20111.8%3C/div%3E%60%29%5B0%5D%3B%0A%20%20%20%20%20%20%20%20%20%20%20%20popup_a80eca416092488cb4e9d6fd454d3262.setContent%28html_cb678ac31d264af6a806522250b284d7%29%3B%0A%20%20%20%20%20%20%20%20%0A%0A%20%20%20%20%20%20%20%20marker_038b85946c0e497f91871d2ae0339f10.bindPopup%28popup_a80eca416092488cb4e9d6fd454d3262%29%0A%20%20%20%20%20%20%20%20%3B%0A%0A%20%20%20%20%20%20%20%20%0A%20%20%20%20%0A%20%20%20%20%0A%20%20%20%20%20%20%20%20%20%20%20%20var%20marker_a9e92e3b266e4bd4bd8a0dca436dd591%20%3D%20L.marker%28%0A%20%20%20%20%20%20%20%20%20%20%20%20%20%20%20%20%5B45.2223%2C%20-117.3968%5D%2C%0A%20%20%20%20%20%20%20%20%20%20%20%20%20%20%20%20%7B%7D%0A%20%20%20%20%20%20%20%20%20%20%20%20%29.addTo%28map_b3711bc2ccea440483aabffa71d74be4%29%3B%0A%20%20%20%20%20%20%20%20%0A%20%20%20%20%0A%20%20%20%20%20%20%20%20var%20popup_6cc3247cfdd045bea4175d4d1b971958%20%3D%20L.popup%28%7B%22maxWidth%22%3A%20%22100%25%22%7D%29%3B%0A%0A%20%20%20%20%20%20%20%20%0A%20%20%20%20%20%20%20%20%20%20%20%20var%20html_6b35c2bf1a0c4e95a9491fbe3cbe0502%20%3D%20%24%28%60%3Cdiv%20id%3D%22html_6b35c2bf1a0c4e95a9491fbe3cbe0502%22%20style%3D%22width%3A%20100.0%25%3B%20height%3A%20100.0%25%3B%22%3EName%3A%20Elkhorn%20Peak%20Isolation%3A%205.32%3C/div%3E%60%29%5B0%5D%3B%0A%20%20%20%20%20%20%20%20%20%20%20%20popup_6cc3247cfdd045bea4175d4d1b971958.setContent%28html_6b35c2bf1a0c4e95a9491fbe3cbe0502%29%3B%0A%20%20%20%20%20%20%20%20%0A%0A%20%20%20%20%20%20%20%20marker_a9e92e3b266e4bd4bd8a0dca436dd591.bindPopup%28popup_6cc3247cfdd045bea4175d4d1b971958%29%0A%20%20%20%20%20%20%20%20%3B%0A%0A%20%20%20%20%20%20%20%20%0A%20%20%20%20%0A%20%20%20%20%0A%20%20%20%20%20%20%20%20%20%20%20%20var%20marker_6062075af987476489527b99c9a5ceb7%20%3D%20L.marker%28%0A%20%20%20%20%20%20%20%20%20%20%20%20%20%20%20%20%5B43.1528%2C%20-122.0665%5D%2C%0A%20%20%20%20%20%20%20%20%20%20%20%20%20%20%20%20%7B%7D%0A%20%20%20%20%20%20%20%20%20%20%20%20%29.addTo%28map_b3711bc2ccea440483aabffa71d74be4%29%3B%0A%20%20%20%20%20%20%20%20%0A%20%20%20%20%0A%20%20%20%20%20%20%20%20var%20popup_38ffb398f81f432f9cdbba11d4baa4ce%20%3D%20L.popup%28%7B%22maxWidth%22%3A%20%22100%25%22%7D%29%3B%0A%0A%20%20%20%20%20%20%20%20%0A%20%20%20%20%20%20%20%20%20%20%20%20var%20html_8a408a5f8b1c413ea70de0988f2a132d%20%3D%20%24%28%60%3Cdiv%20id%3D%22html_8a408a5f8b1c413ea70de0988f2a132d%22%20style%3D%22width%3A%20100.0%25%3B%20height%3A%20100.0%25%3B%22%3EName%3A%20Mount%20Thielsen%20Isolation%3A%2081.1%3C/div%3E%60%29%5B0%5D%3B%0A%20%20%20%20%20%20%20%20%20%20%20%20popup_38ffb398f81f432f9cdbba11d4baa4ce.setContent%28html_8a408a5f8b1c413ea70de0988f2a132d%29%3B%0A%20%20%20%20%20%20%20%20%0A%0A%20%20%20%20%20%20%20%20marker_6062075af987476489527b99c9a5ceb7.bindPopup%28popup_38ffb398f81f432f9cdbba11d4baa4ce%29%0A%20%20%20%20%20%20%20%20%3B%0A%0A%20%20%20%20%20%20%20%20%0A%20%20%20%20%0A%20%20%20%20%0A%20%20%20%20%20%20%20%20%20%20%20%20var%20marker_0f31aa944d7846cb912785120d0aaabb%20%3D%20L.marker%28%0A%20%20%20%20%20%20%20%20%20%20%20%20%20%20%20%20%5B44.083%2C%20-121.6994%5D%2C%0A%20%20%20%20%20%20%20%20%20%20%20%20%20%20%20%20%7B%7D%0A%20%20%20%20%20%20%20%20%20%20%20%20%29.addTo%28map_b3711bc2ccea440483aabffa71d74be4%29%3B%0A%20%20%20%20%20%20%20%20%0A%20%20%20%20%0A%20%20%20%20%20%20%20%20var%20popup_0fd2bde99bf24f65b30498fb0984a488%20%3D%20L.popup%28%7B%22maxWidth%22%3A%20%22100%25%22%7D%29%3B%0A%0A%20%20%20%20%20%20%20%20%0A%20%20%20%20%20%20%20%20%20%20%20%20var%20html_62695c45611140728084add591df83e7%20%3D%20%24%28%60%3Cdiv%20id%3D%22html_62695c45611140728084add591df83e7%22%20style%3D%22width%3A%20100.0%25%3B%20height%3A%20100.0%25%3B%22%3EName%3A%20Broken%20Top%20Isolation%3A%205.52%3C/div%3E%60%29%5B0%5D%3B%0A%20%20%20%20%20%20%20%20%20%20%20%20popup_0fd2bde99bf24f65b30498fb0984a488.setContent%28html_62695c45611140728084add591df83e7%29%3B%0A%20%20%20%20%20%20%20%20%0A%0A%20%20%20%20%20%20%20%20marker_0f31aa944d7846cb912785120d0aaabb.bindPopup%28popup_0fd2bde99bf24f65b30498fb0984a488%29%0A%20%20%20%20%20%20%20%20%3B%0A%0A%20%20%20%20%20%20%20%20%0A%20%20%20%20%0A%20%20%20%20%0A%20%20%20%20%20%20%20%20%20%20%20%20var%20marker_884de06dd67c4d52a58bb3a4a0b7f55e%20%3D%20L.marker%28%0A%20%20%20%20%20%20%20%20%20%20%20%20%20%20%20%20%5B44.8168%2C%20-118.1039%5D%2C%0A%20%20%20%20%20%20%20%20%20%20%20%20%20%20%20%20%7B%7D%0A%20%20%20%20%20%20%20%20%20%20%20%20%29.addTo%28map_b3711bc2ccea440483aabffa71d74be4%29%3B%0A%20%20%20%20%20%20%20%20%0A%20%20%20%20%0A%20%20%20%20%20%20%20%20var%20popup_de18c11e3952457c9c506a043243a6f3%20%3D%20L.popup%28%7B%22maxWidth%22%3A%20%22100%25%22%7D%29%3B%0A%0A%20%20%20%20%20%20%20%20%0A%20%20%20%20%20%20%20%20%20%20%20%20var%20html_a22827ba2fe243838cba727c9205913a%20%3D%20%24%28%60%3Cdiv%20id%3D%22html_a22827ba2fe243838cba727c9205913a%22%20style%3D%22width%3A%20100.0%25%3B%20height%3A%20100.0%25%3B%22%3EName%3A%20Rock%20Creek%20Butte%20Isolation%3A%2069.9%3C/div%3E%60%29%5B0%5D%3B%0A%20%20%20%20%20%20%20%20%20%20%20%20popup_de18c11e3952457c9c506a043243a6f3.setContent%28html_a22827ba2fe243838cba727c9205913a%29%3B%0A%20%20%20%20%20%20%20%20%0A%0A%20%20%20%20%20%20%20%20marker_884de06dd67c4d52a58bb3a4a0b7f55e.bindPopup%28popup_de18c11e3952457c9c506a043243a6f3%29%0A%20%20%20%20%20%20%20%20%3B%0A%0A%20%20%20%20%20%20%20%20%0A%20%20%20%20%0A%20%20%20%20%0A%20%20%20%20%20%20%20%20%20%20%20%20var%20marker_34285ce7979a4cde81f613a46ee17a47%20%3D%20L.marker%28%0A%20%20%20%20%20%20%20%20%20%20%20%20%20%20%20%20%5B43.9794%2C%20-121.6885%5D%2C%0A%20%20%20%20%20%20%20%20%20%20%20%20%20%20%20%20%7B%7D%0A%20%20%20%20%20%20%20%20%20%20%20%20%29.addTo%28map_b3711bc2ccea440483aabffa71d74be4%29%3B%0A%20%20%20%20%20%20%20%20%0A%20%20%20%20%0A%20%20%20%20%20%20%20%20var%20popup_436638a2fd5542358b1a0b635d768a64%20%3D%20L.popup%28%7B%22maxWidth%22%3A%20%22100%25%22%7D%29%3B%0A%0A%20%20%20%20%20%20%20%20%0A%20%20%20%20%20%20%20%20%20%20%20%20var%20html_89a8d1ba8954462f9984c171630875d8%20%3D%20%24%28%60%3Cdiv%20id%3D%22html_89a8d1ba8954462f9984c171630875d8%22%20style%3D%22width%3A%20100.0%25%3B%20height%3A%20100.0%25%3B%22%3EName%3A%20Mount%20Bachelor%20Isolation%3A%2011.02%3C/div%3E%60%29%5B0%5D%3B%0A%20%20%20%20%20%20%20%20%20%20%20%20popup_436638a2fd5542358b1a0b635d768a64.setContent%28html_89a8d1ba8954462f9984c171630875d8%29%3B%0A%20%20%20%20%20%20%20%20%0A%0A%20%20%20%20%20%20%20%20marker_34285ce7979a4cde81f613a46ee17a47.bindPopup%28popup_436638a2fd5542358b1a0b635d768a64%29%0A%20%20%20%20%20%20%20%20%3B%0A%0A%20%20%20%20%20%20%20%20%0A%20%20%20%20%0A%20%20%20%20%0A%20%20%20%20%20%20%20%20%20%20%20%20var%20marker_bfb28a3c521342c1a1e8ac7e9677f27e%20%3D%20L.marker%28%0A%20%20%20%20%20%20%20%20%20%20%20%20%20%20%20%20%5B44.3123%2C%20-118.7166%5D%2C%0A%20%20%20%20%20%20%20%20%20%20%20%20%20%20%20%20%7B%7D%0A%20%20%20%20%20%20%20%20%20%20%20%20%29.addTo%28map_b3711bc2ccea440483aabffa71d74be4%29%3B%0A%20%20%20%20%20%20%20%20%0A%20%20%20%20%0A%20%20%20%20%20%20%20%20var%20popup_a2a96fe1ea1b4baaa5d64040b470cd20%20%3D%20L.popup%28%7B%22maxWidth%22%3A%20%22100%25%22%7D%29%3B%0A%0A%20%20%20%20%20%20%20%20%0A%20%20%20%20%20%20%20%20%20%20%20%20var%20html_28344c60485f4ee1ab942eb86fd86af5%20%3D%20%24%28%60%3Cdiv%20id%3D%22html_28344c60485f4ee1ab942eb86fd86af5%22%20style%3D%22width%3A%20100.0%25%3B%20height%3A%20100.0%25%3B%22%3EName%3A%20Strawberry%20Mountain%20Isolation%3A%2074.2%3C/div%3E%60%29%5B0%5D%3B%0A%20%20%20%20%20%20%20%20%20%20%20%20popup_a2a96fe1ea1b4baaa5d64040b470cd20.setContent%28html_28344c60485f4ee1ab942eb86fd86af5%29%3B%0A%20%20%20%20%20%20%20%20%0A%0A%20%20%20%20%20%20%20%20marker_bfb28a3c521342c1a1e8ac7e9677f27e.bindPopup%28popup_a2a96fe1ea1b4baaa5d64040b470cd20%29%0A%20%20%20%20%20%20%20%20%3B%0A%0A%20%20%20%20%20%20%20%20%0A%20%20%20%20%0A%20%20%20%20%0A%20%20%20%20%20%20%20%20%20%20%20%20var%20marker_c59edf4248c14ad49377a4f52b236fb4%20%3D%20L.marker%28%0A%20%20%20%20%20%20%20%20%20%20%20%20%20%20%20%20%5B42.9229%2C%20-122.0162%5D%2C%0A%20%20%20%20%20%20%20%20%20%20%20%20%20%20%20%20%7B%7D%0A%20%20%20%20%20%20%20%20%20%20%20%20%29.addTo%28map_b3711bc2ccea440483aabffa71d74be4%29%3B%0A%20%20%20%20%20%20%20%20%0A%20%20%20%20%0A%20%20%20%20%20%20%20%20var%20popup_e56c9f0e2aa345078566524f1b7a788e%20%3D%20L.popup%28%7B%22maxWidth%22%3A%20%22100%25%22%7D%29%3B%0A%0A%20%20%20%20%20%20%20%20%0A%20%20%20%20%20%20%20%20%20%20%20%20var%20html_048685a45abc4bf8818177cc6726a47b%20%3D%20%24%28%60%3Cdiv%20id%3D%22html_048685a45abc4bf8818177cc6726a47b%22%20style%3D%22width%3A%20100.0%25%3B%20height%3A%20100.0%25%3B%22%3EName%3A%20Mount%20Scott%20Isolation%3A%2025.9%3C/div%3E%60%29%5B0%5D%3B%0A%20%20%20%20%20%20%20%20%20%20%20%20popup_e56c9f0e2aa345078566524f1b7a788e.setContent%28html_048685a45abc4bf8818177cc6726a47b%29%3B%0A%20%20%20%20%20%20%20%20%0A%0A%20%20%20%20%20%20%20%20marker_c59edf4248c14ad49377a4f52b236fb4.bindPopup%28popup_e56c9f0e2aa345078566524f1b7a788e%29%0A%20%20%20%20%20%20%20%20%3B%0A%0A%20%20%20%20%20%20%20%20%0A%20%20%20%20%0A%20%20%20%20%0A%20%20%20%20%20%20%20%20%20%20%20%20var%20marker_fcee533d11b949469a2d7dff00c91ba8%20%3D%20L.marker%28%0A%20%20%20%20%20%20%20%20%20%20%20%20%20%20%20%20%5B43.5207%2C%20-122.1496%5D%2C%0A%20%20%20%20%20%20%20%20%20%20%20%20%20%20%20%20%7B%7D%0A%20%20%20%20%20%20%20%20%20%20%20%20%29.addTo%28map_b3711bc2ccea440483aabffa71d74be4%29%3B%0A%20%20%20%20%20%20%20%20%0A%20%20%20%20%0A%20%20%20%20%20%20%20%20var%20popup_c8d84a2d9f6e4f56ad29b2def1b86fee%20%3D%20L.popup%28%7B%22maxWidth%22%3A%20%22100%25%22%7D%29%3B%0A%0A%20%20%20%20%20%20%20%20%0A%20%20%20%20%20%20%20%20%20%20%20%20var%20html_9bcd73ff554f4fef948b2fba1eabae9e%20%3D%20%24%28%60%3Cdiv%20id%3D%22html_9bcd73ff554f4fef948b2fba1eabae9e%22%20style%3D%22width%3A%20100.0%25%3B%20height%3A%20100.0%25%3B%22%3EName%3A%20Diamond%20Peak%20Isolation%3A%2041.4%3C/div%3E%60%29%5B0%5D%3B%0A%20%20%20%20%20%20%20%20%20%20%20%20popup_c8d84a2d9f6e4f56ad29b2def1b86fee.setContent%28html_9bcd73ff554f4fef948b2fba1eabae9e%29%3B%0A%20%20%20%20%20%20%20%20%0A%0A%20%20%20%20%20%20%20%20marker_fcee533d11b949469a2d7dff00c91ba8.bindPopup%28popup_c8d84a2d9f6e4f56ad29b2def1b86fee%29%0A%20%20%20%20%20%20%20%20%3B%0A%0A%20%20%20%20%20%20%20%20%0A%20%20%20%20%0A%20%20%20%20%0A%20%20%20%20%20%20%20%20%20%20%20%20var%20marker_fdcb8f2bc0434e6d98170f3c6f545ac4%20%3D%20L.marker%28%0A%20%20%20%20%20%20%20%20%20%20%20%20%20%20%20%20%5B42.0995%2C%20-118.6506%5D%2C%0A%20%20%20%20%20%20%20%20%20%20%20%20%20%20%20%20%7B%7D%0A%20%20%20%20%20%20%20%20%20%20%20%20%29.addTo%28map_b3711bc2ccea440483aabffa71d74be4%29%3B%0A%20%20%20%20%20%20%20%20%0A%20%20%20%20%0A%20%20%20%20%20%20%20%20var%20popup_5c8205b5123549c1808d7350b0a43cc3%20%3D%20L.popup%28%7B%22maxWidth%22%3A%20%22100%25%22%7D%29%3B%0A%0A%20%20%20%20%20%20%20%20%0A%20%20%20%20%20%20%20%20%20%20%20%20var%20html_f7d25113b096417fa35c91e016e97d3c%20%3D%20%24%28%60%3Cdiv%20id%3D%22html_f7d25113b096417fa35c91e016e97d3c%22%20style%3D%22width%3A%20100.0%25%3B%20height%3A%20100.0%25%3B%22%3EName%3A%20Pueblo%20Mountain%20Isolation%3A%2045.5%3C/div%3E%60%29%5B0%5D%3B%0A%20%20%20%20%20%20%20%20%20%20%20%20popup_5c8205b5123549c1808d7350b0a43cc3.setContent%28html_f7d25113b096417fa35c91e016e97d3c%29%3B%0A%20%20%20%20%20%20%20%20%0A%0A%20%20%20%20%20%20%20%20marker_fdcb8f2bc0434e6d98170f3c6f545ac4.bindPopup%28popup_5c8205b5123549c1808d7350b0a43cc3%29%0A%20%20%20%20%20%20%20%20%3B%0A%0A%20%20%20%20%20%20%20%20%0A%20%20%20%20%0A%20%20%20%20%0A%20%20%20%20%20%20%20%20%20%20%20%20var%20marker_2730cd2b3024410fbb730edef4b5f851%20%3D%20L.marker%28%0A%20%20%20%20%20%20%20%20%20%20%20%20%20%20%20%20%5B42.0628%2C%20-120.2408%5D%2C%0A%20%20%20%20%20%20%20%20%20%20%20%20%20%20%20%20%7B%7D%0A%20%20%20%20%20%20%20%20%20%20%20%20%29.addTo%28map_b3711bc2ccea440483aabffa71d74be4%29%3B%0A%20%20%20%20%20%20%20%20%0A%20%20%20%20%0A%20%20%20%20%20%20%20%20var%20popup_feb5997ca7e448999a953509d39fc3a1%20%3D%20L.popup%28%7B%22maxWidth%22%3A%20%22100%25%22%7D%29%3B%0A%0A%20%20%20%20%20%20%20%20%0A%20%20%20%20%20%20%20%20%20%20%20%20var%20html_3ef4b3481350481589e5d53626571845%20%3D%20%24%28%60%3Cdiv%20id%3D%22html_3ef4b3481350481589e5d53626571845%22%20style%3D%22width%3A%20100.0%25%3B%20height%3A%20100.0%25%3B%22%3EName%3A%20Crane%20Mountain%20Isolation%3A%2071.4%3C/div%3E%60%29%5B0%5D%3B%0A%20%20%20%20%20%20%20%20%20%20%20%20popup_feb5997ca7e448999a953509d39fc3a1.setContent%28html_3ef4b3481350481589e5d53626571845%29%3B%0A%20%20%20%20%20%20%20%20%0A%0A%20%20%20%20%20%20%20%20marker_2730cd2b3024410fbb730edef4b5f851.bindPopup%28popup_feb5997ca7e448999a953509d39fc3a1%29%0A%20%20%20%20%20%20%20%20%3B%0A%0A%20%20%20%20%20%20%20%20%0A%20%20%20%20%0A%20%20%20%20%0A%20%20%20%20%20%20%20%20%20%20%20%20var%20marker_9c334bd9ce57468aa1d71a94d5f7a140%20%3D%20L.marker%28%0A%20%20%20%20%20%20%20%20%20%20%20%20%20%20%20%20%5B42.3001%2C%20-120.1238%5D%2C%0A%20%20%20%20%20%20%20%20%20%20%20%20%20%20%20%20%7B%7D%0A%20%20%20%20%20%20%20%20%20%20%20%20%29.addTo%28map_b3711bc2ccea440483aabffa71d74be4%29%3B%0A%20%20%20%20%20%20%20%20%0A%20%20%20%20%0A%20%20%20%20%20%20%20%20var%20popup_a1b739c7e74c4faeb1499584d7864065%20%3D%20L.popup%28%7B%22maxWidth%22%3A%20%22100%25%22%7D%29%3B%0A%0A%20%20%20%20%20%20%20%20%0A%20%20%20%20%20%20%20%20%20%20%20%20var%20html_a99c875fef934191af7cc1edb6a25efc%20%3D%20%24%28%60%3Cdiv%20id%3D%22html_a99c875fef934191af7cc1edb6a25efc%22%20style%3D%22width%3A%20100.0%25%3B%20height%3A%20100.0%25%3B%22%3EName%3A%20Drake%20Peak%20Isolation%3A%2028.1%3C/div%3E%60%29%5B0%5D%3B%0A%20%20%20%20%20%20%20%20%20%20%20%20popup_a1b739c7e74c4faeb1499584d7864065.setContent%28html_a99c875fef934191af7cc1edb6a25efc%29%3B%0A%20%20%20%20%20%20%20%20%0A%0A%20%20%20%20%20%20%20%20marker_9c334bd9ce57468aa1d71a94d5f7a140.bindPopup%28popup_a1b739c7e74c4faeb1499584d7864065%29%0A%20%20%20%20%20%20%20%20%3B%0A%0A%20%20%20%20%20%20%20%20%0A%20%20%20%20%0A%20%20%20%20%0A%20%20%20%20%20%20%20%20%20%20%20%20var%20marker_b573bdaa95fa4b49884bfa253b1f3b19%20%3D%20L.marker%28%0A%20%20%20%20%20%20%20%20%20%20%20%20%20%20%20%20%5B43.1551%2C%20-122.22%5D%2C%0A%20%20%20%20%20%20%20%20%20%20%20%20%20%20%20%20%7B%7D%0A%20%20%20%20%20%20%20%20%20%20%20%20%29.addTo%28map_b3711bc2ccea440483aabffa71d74be4%29%3B%0A%20%20%20%20%20%20%20%20%0A%20%20%20%20%0A%20%20%20%20%20%20%20%20var%20popup_63cfaed82ec448e7bb9683c06cea5a37%20%3D%20L.popup%28%7B%22maxWidth%22%3A%20%22100%25%22%7D%29%3B%0A%0A%20%20%20%20%20%20%20%20%0A%20%20%20%20%20%20%20%20%20%20%20%20var%20html_f027f89389e34bf4961a698372ec2d42%20%3D%20%24%28%60%3Cdiv%20id%3D%22html_f027f89389e34bf4961a698372ec2d42%22%20style%3D%22width%3A%20100.0%25%3B%20height%3A%20100.0%25%3B%22%3EName%3A%20Mount%20Bailey%20Isolation%3A%2012.49%3C/div%3E%60%29%5B0%5D%3B%0A%20%20%20%20%20%20%20%20%20%20%20%20popup_63cfaed82ec448e7bb9683c06cea5a37.setContent%28html_f027f89389e34bf4961a698372ec2d42%29%3B%0A%20%20%20%20%20%20%20%20%0A%0A%20%20%20%20%20%20%20%20marker_b573bdaa95fa4b49884bfa253b1f3b19.bindPopup%28popup_63cfaed82ec448e7bb9683c06cea5a37%29%0A%20%20%20%20%20%20%20%20%3B%0A%0A%20%20%20%20%20%20%20%20%0A%20%20%20%20%0A%20%20%20%20%0A%20%20%20%20%20%20%20%20%20%20%20%20var%20marker_479d618afbaf4a62944ccdc98b554735%20%3D%20L.marker%28%0A%20%20%20%20%20%20%20%20%20%20%20%20%20%20%20%20%5B42.496%2C%20-120.8773%5D%2C%0A%20%20%20%20%20%20%20%20%20%20%20%20%20%20%20%20%7B%7D%0A%20%20%20%20%20%20%20%20%20%20%20%20%29.addTo%28map_b3711bc2ccea440483aabffa71d74be4%29%3B%0A%20%20%20%20%20%20%20%20%0A%20%20%20%20%0A%20%20%20%20%20%20%20%20var%20popup_b7f934e0656d49b992aaeee8f6f55bbb%20%3D%20L.popup%28%7B%22maxWidth%22%3A%20%22100%25%22%7D%29%3B%0A%0A%20%20%20%20%20%20%20%20%0A%20%20%20%20%20%20%20%20%20%20%20%20var%20html_0bf68498943948aa8d4f5ef49556721c%20%3D%20%24%28%60%3Cdiv%20id%3D%22html_0bf68498943948aa8d4f5ef49556721c%22%20style%3D%22width%3A%20100.0%25%3B%20height%3A%20100.0%25%3B%22%3EName%3A%20Gearhart%20Mountain%20Isolation%3A%2065.7%3C/div%3E%60%29%5B0%5D%3B%0A%20%20%20%20%20%20%20%20%20%20%20%20popup_b7f934e0656d49b992aaeee8f6f55bbb.setContent%28html_0bf68498943948aa8d4f5ef49556721c%29%3B%0A%20%20%20%20%20%20%20%20%0A%0A%20%20%20%20%20%20%20%20marker_479d618afbaf4a62944ccdc98b554735.bindPopup%28popup_b7f934e0656d49b992aaeee8f6f55bbb%29%0A%20%20%20%20%20%20%20%20%3B%0A%0A%20%20%20%20%20%20%20%20%0A%20%20%20%20%0A%20%20%20%20%0A%20%20%20%20%20%20%20%20%20%20%20%20var%20marker_bdb588d099c84c99ae6980fb995fb376%20%3D%20L.marker%28%0A%20%20%20%20%20%20%20%20%20%20%20%20%20%20%20%20%5B42.3155%2C%20-122.0876%5D%2C%0A%20%20%20%20%20%20%20%20%20%20%20%20%20%20%20%20%7B%7D%0A%20%20%20%20%20%20%20%20%20%20%20%20%29.addTo%28map_b3711bc2ccea440483aabffa71d74be4%29%3B%0A%20%20%20%20%20%20%20%20%0A%20%20%20%20%0A%20%20%20%20%20%20%20%20var%20popup_73005e1f953d4ace9b9e9b429d73cfdc%20%3D%20L.popup%28%7B%22maxWidth%22%3A%20%22100%25%22%7D%29%3B%0A%0A%20%20%20%20%20%20%20%20%0A%20%20%20%20%20%20%20%20%20%20%20%20var%20html_462c472f34634cacbf79bd3017c4843b%20%3D%20%24%28%60%3Cdiv%20id%3D%22html_462c472f34634cacbf79bd3017c4843b%22%20style%3D%22width%3A%20100.0%25%3B%20height%3A%20100.0%25%3B%22%3EName%3A%20Aspen%20Butte%20Isolation%3A%2023.7%3C/div%3E%60%29%5B0%5D%3B%0A%20%20%20%20%20%20%20%20%20%20%20%20popup_73005e1f953d4ace9b9e9b429d73cfdc.setContent%28html_462c472f34634cacbf79bd3017c4843b%29%3B%0A%20%20%20%20%20%20%20%20%0A%0A%20%20%20%20%20%20%20%20marker_bdb588d099c84c99ae6980fb995fb376.bindPopup%28popup_73005e1f953d4ace9b9e9b429d73cfdc%29%0A%20%20%20%20%20%20%20%20%3B%0A%0A%20%20%20%20%20%20%20%20%0A%20%20%20%20%0A%20%20%20%20%0A%20%20%20%20%20%20%20%20%20%20%20%20var%20marker_dfd89cde59cf49b78a5fca4ac117ce97%20%3D%20L.marker%28%0A%20%20%20%20%20%20%20%20%20%20%20%20%20%20%20%20%5B42.9306%2C%20-121.3607%5D%2C%0A%20%20%20%20%20%20%20%20%20%20%20%20%20%20%20%20%7B%7D%0A%20%20%20%20%20%20%20%20%20%20%20%20%29.addTo%28map_b3711bc2ccea440483aabffa71d74be4%29%3B%0A%20%20%20%20%20%20%20%20%0A%20%20%20%20%0A%20%20%20%20%20%20%20%20var%20popup_f878f86853754e42b7d9df110ed090a7%20%3D%20L.popup%28%7B%22maxWidth%22%3A%20%22100%25%22%7D%29%3B%0A%0A%20%20%20%20%20%20%20%20%0A%20%20%20%20%20%20%20%20%20%20%20%20var%20html_242ff5cc47d94b9eba3129c19b90bd7e%20%3D%20%24%28%60%3Cdiv%20id%3D%22html_242ff5cc47d94b9eba3129c19b90bd7e%22%20style%3D%22width%3A%20100.0%25%3B%20height%3A%20100.0%25%3B%22%3EName%3A%20Yamsay%20Mountain%20Isolation%3A%2053.1%3C/div%3E%60%29%5B0%5D%3B%0A%20%20%20%20%20%20%20%20%20%20%20%20popup_f878f86853754e42b7d9df110ed090a7.setContent%28html_242ff5cc47d94b9eba3129c19b90bd7e%29%3B%0A%20%20%20%20%20%20%20%20%0A%0A%20%20%20%20%20%20%20%20marker_dfd89cde59cf49b78a5fca4ac117ce97.bindPopup%28popup_f878f86853754e42b7d9df110ed090a7%29%0A%20%20%20%20%20%20%20%20%3B%0A%0A%20%20%20%20%20%20%20%20%0A%20%20%20%20%0A%20%20%20%20%0A%20%20%20%20%20%20%20%20%20%20%20%20var%20marker_c98cb9d28d2a4c99ad5febd1e0c5358f%20%3D%20L.marker%28%0A%20%20%20%20%20%20%20%20%20%20%20%20%20%20%20%20%5B44.7138%2C%20-118.5617%5D%2C%0A%20%20%20%20%20%20%20%20%20%20%20%20%20%20%20%20%7B%7D%0A%20%20%20%20%20%20%20%20%20%20%20%20%29.addTo%28map_b3711bc2ccea440483aabffa71d74be4%29%3B%0A%20%20%20%20%20%20%20%20%0A%20%20%20%20%0A%20%20%20%20%20%20%20%20var%20popup_77003690b3fc46d896475cedcdc33920%20%3D%20L.popup%28%7B%22maxWidth%22%3A%20%22100%25%22%7D%29%3B%0A%0A%20%20%20%20%20%20%20%20%0A%20%20%20%20%20%20%20%20%20%20%20%20var%20html_0de438ae901243a8949ba4143061a8e3%20%3D%20%24%28%60%3Cdiv%20id%3D%22html_0de438ae901243a8949ba4143061a8e3%22%20style%3D%22width%3A%20100.0%25%3B%20height%3A%20100.0%25%3B%22%3EName%3A%20Vinegar%20Hill%20Isolation%3A%2023.5%3C/div%3E%60%29%5B0%5D%3B%0A%20%20%20%20%20%20%20%20%20%20%20%20popup_77003690b3fc46d896475cedcdc33920.setContent%28html_0de438ae901243a8949ba4143061a8e3%29%3B%0A%20%20%20%20%20%20%20%20%0A%0A%20%20%20%20%20%20%20%20marker_c98cb9d28d2a4c99ad5febd1e0c5358f.bindPopup%28popup_77003690b3fc46d896475cedcdc33920%29%0A%20%20%20%20%20%20%20%20%3B%0A%0A%20%20%20%20%20%20%20%20%0A%20%20%20%20%0A%20%20%20%20%0A%20%20%20%20%20%20%20%20%20%20%20%20var%20marker_7b10737083a14050b11c23d46e3600d2%20%3D%20L.marker%28%0A%20%20%20%20%20%20%20%20%20%20%20%20%20%20%20%20%5B42.5134%2C%20-122.1453%5D%2C%0A%20%20%20%20%20%20%20%20%20%20%20%20%20%20%20%20%7B%7D%0A%20%20%20%20%20%20%20%20%20%20%20%20%29.addTo%28map_b3711bc2ccea440483aabffa71d74be4%29%3B%0A%20%20%20%20%20%20%20%20%0A%20%20%20%20%0A%20%20%20%20%20%20%20%20var%20popup_eeaf582bc0e24f5ab9401f8e57c746d3%20%3D%20L.popup%28%7B%22maxWidth%22%3A%20%22100%25%22%7D%29%3B%0A%0A%20%20%20%20%20%20%20%20%0A%20%20%20%20%20%20%20%20%20%20%20%20var%20html_58121100a08b4a31b12438243b5a6dd4%20%3D%20%24%28%60%3Cdiv%20id%3D%22html_58121100a08b4a31b12438243b5a6dd4%22%20style%3D%22width%3A%20100.0%25%3B%20height%3A%20100.0%25%3B%22%3EName%3A%20Pelican%20Butte%20Isolation%3A%2015.98%3C/div%3E%60%29%5B0%5D%3B%0A%20%20%20%20%20%20%20%20%20%20%20%20popup_eeaf582bc0e24f5ab9401f8e57c746d3.setContent%28html_58121100a08b4a31b12438243b5a6dd4%29%3B%0A%20%20%20%20%20%20%20%20%0A%0A%20%20%20%20%20%20%20%20marker_7b10737083a14050b11c23d46e3600d2.bindPopup%28popup_eeaf582bc0e24f5ab9401f8e57c746d3%29%0A%20%20%20%20%20%20%20%20%3B%0A%0A%20%20%20%20%20%20%20%20%0A%20%20%20%20%0A%20%20%20%20%0A%20%20%20%20%20%20%20%20%20%20%20%20var%20marker_8d5a8705a60249faa2b7df92eb5b8182%20%3D%20L.marker%28%0A%20%20%20%20%20%20%20%20%20%20%20%20%20%20%20%20%5B44.2889%2C%20-118.4954%5D%2C%0A%20%20%20%20%20%20%20%20%20%20%20%20%20%20%20%20%7B%7D%0A%20%20%20%20%20%20%20%20%20%20%20%20%29.addTo%28map_b3711bc2ccea440483aabffa71d74be4%29%3B%0A%20%20%20%20%20%20%20%20%0A%20%20%20%20%0A%20%20%20%20%20%20%20%20var%20popup_ad3541f3f8274cbbb285b6df6fa16bae%20%3D%20L.popup%28%7B%22maxWidth%22%3A%20%22100%25%22%7D%29%3B%0A%0A%20%20%20%20%20%20%20%20%0A%20%20%20%20%20%20%20%20%20%20%20%20var%20html_d17cb0cb3a9a4a9b9f383b3eba2aa9b4%20%3D%20%24%28%60%3Cdiv%20id%3D%22html_d17cb0cb3a9a4a9b9f383b3eba2aa9b4%22%20style%3D%22width%3A%20100.0%25%3B%20height%3A%20100.0%25%3B%22%3EName%3A%20Lookout%20Mountain%20Isolation%3A%2010.73%3C/div%3E%60%29%5B0%5D%3B%0A%20%20%20%20%20%20%20%20%20%20%20%20popup_ad3541f3f8274cbbb285b6df6fa16bae.setContent%28html_d17cb0cb3a9a4a9b9f383b3eba2aa9b4%29%3B%0A%20%20%20%20%20%20%20%20%0A%0A%20%20%20%20%20%20%20%20marker_8d5a8705a60249faa2b7df92eb5b8182.bindPopup%28popup_ad3541f3f8274cbbb285b6df6fa16bae%29%0A%20%20%20%20%20%20%20%20%3B%0A%0A%20%20%20%20%20%20%20%20%0A%20%20%20%20%0A%20%20%20%20%0A%20%20%20%20%20%20%20%20%20%20%20%20var%20marker_ae9a24d292ca4ae3b5225e2704378b3d%20%3D%20L.marker%28%0A%20%20%20%20%20%20%20%20%20%20%20%20%20%20%20%20%5B42.4597%2C%20-119.7414%5D%2C%0A%20%20%20%20%20%20%20%20%20%20%20%20%20%20%20%20%7B%7D%0A%20%20%20%20%20%20%20%20%20%20%20%20%29.addTo%28map_b3711bc2ccea440483aabffa71d74be4%29%3B%0A%20%20%20%20%20%20%20%20%0A%20%20%20%20%0A%20%20%20%20%20%20%20%20var%20popup_173f2c91f8fa4098b61832bd4a5a2303%20%3D%20L.popup%28%7B%22maxWidth%22%3A%20%22100%25%22%7D%29%3B%0A%0A%20%20%20%20%20%20%20%20%0A%20%20%20%20%20%20%20%20%20%20%20%20var%20html_a4f74d396c304a7da898deba4ea4436f%20%3D%20%24%28%60%3Cdiv%20id%3D%22html_a4f74d396c304a7da898deba4ea4436f%22%20style%3D%22width%3A%20100.0%25%3B%20height%3A%20100.0%25%3B%22%3EName%3A%20Warner%20Peak%20Isolation%3A%2035.6%3C/div%3E%60%29%5B0%5D%3B%0A%20%20%20%20%20%20%20%20%20%20%20%20popup_173f2c91f8fa4098b61832bd4a5a2303.setContent%28html_a4f74d396c304a7da898deba4ea4436f%29%3B%0A%20%20%20%20%20%20%20%20%0A%0A%20%20%20%20%20%20%20%20marker_ae9a24d292ca4ae3b5225e2704378b3d.bindPopup%28popup_173f2c91f8fa4098b61832bd4a5a2303%29%0A%20%20%20%20%20%20%20%20%3B%0A%0A%20%20%20%20%20%20%20%20%0A%20%20%20%20%0A%20%20%20%20%0A%20%20%20%20%20%20%20%20%20%20%20%20var%20marker_8587704b188c40dcbf40099dc4a4ad9c%20%3D%20L.marker%28%0A%20%20%20%20%20%20%20%20%20%20%20%20%20%20%20%20%5B43.6892%2C%20-121.2549%5D%2C%0A%20%20%20%20%20%20%20%20%20%20%20%20%20%20%20%20%7B%7D%0A%20%20%20%20%20%20%20%20%20%20%20%20%29.addTo%28map_b3711bc2ccea440483aabffa71d74be4%29%3B%0A%20%20%20%20%20%20%20%20%0A%20%20%20%20%0A%20%20%20%20%20%20%20%20var%20popup_5ac6cd6ec8614a4dbb6a1215a442d35a%20%3D%20L.popup%28%7B%22maxWidth%22%3A%20%22100%25%22%7D%29%3B%0A%0A%20%20%20%20%20%20%20%20%0A%20%20%20%20%20%20%20%20%20%20%20%20var%20html_712682d013eb4aeaa3568235cf9890b9%20%3D%20%24%28%60%3Cdiv%20id%3D%22html_712682d013eb4aeaa3568235cf9890b9%22%20style%3D%22width%3A%20100.0%25%3B%20height%3A%20100.0%25%3B%22%3EName%3A%20Paulina%20Peak%20Isolation%3A%2046.5%3C/div%3E%60%29%5B0%5D%3B%0A%20%20%20%20%20%20%20%20%20%20%20%20popup_5ac6cd6ec8614a4dbb6a1215a442d35a.setContent%28html_712682d013eb4aeaa3568235cf9890b9%29%3B%0A%20%20%20%20%20%20%20%20%0A%0A%20%20%20%20%20%20%20%20marker_8587704b188c40dcbf40099dc4a4ad9c.bindPopup%28popup_5ac6cd6ec8614a4dbb6a1215a442d35a%29%0A%20%20%20%20%20%20%20%20%3B%0A%0A%20%20%20%20%20%20%20%20%0A%20%20%20%20%0A%3C/script%3E onload=\"this.contentDocument.open();this.contentDocument.write(    decodeURIComponent(this.getAttribute('data-html')));this.contentDocument.close();\" allowfullscreen webkitallowfullscreen mozallowfullscreen></iframe></div></div>"
      ],
      "text/plain": [
       "<folium.folium.Map at 0x1f1e247a170>"
      ]
     },
     "execution_count": 18,
     "metadata": {},
     "output_type": "execute_result"
    }
   ],
   "source": [
    "map = folium.Map(location=[44, -121], zoom_start=7)\n",
    "for i in range(0, len(coords)):\n",
    "    folium.Marker(coords[i], popup='Name: ' + names[i] + ' Isolation: ' + str(isolation[i])).add_to(map)\n",
    "map"
   ]
  },
  {
   "cell_type": "markdown",
   "id": "1fbd891c",
   "metadata": {},
   "source": [
    "## Question 4"
   ]
  },
  {
   "cell_type": "markdown",
   "id": "d3465c17",
   "metadata": {},
   "source": [
    "* Write a script to automatically derive the geographic coordinates for the following addresses:\n",
    "\n",
    "    * 1844 SW Morrison St, Portland, OR 97205\n",
    "    \n",
    "    * 800 Occidental Ave S, Seattle, WA 98134\n",
    "    \n",
    "    * 1001 Stadium Dr, Inglewood, CA 90301\n",
    "    \n",
    "    * 2700 Martin Luther King Jr Blvd, Eugene, OR 97401"
   ]
  },
  {
   "cell_type": "code",
   "execution_count": 19,
   "id": "6ce24f22",
   "metadata": {},
   "outputs": [
    {
     "name": "stdout",
     "output_type": "stream",
     "text": [
      "Requirement already satisfied: webdriver_manager in c:\\users\\theoh\\anaconda3\\envs\\lab7\\lib\\site-packages (3.5.2)\n",
      "Requirement already satisfied: configparser in c:\\users\\theoh\\anaconda3\\envs\\lab7\\lib\\site-packages (from webdriver_manager) (5.2.0)\n",
      "Requirement already satisfied: crayons in c:\\users\\theoh\\anaconda3\\envs\\lab7\\lib\\site-packages (from webdriver_manager) (0.4.0)\n",
      "Requirement already satisfied: requests in c:\\users\\theoh\\anaconda3\\envs\\lab7\\lib\\site-packages (from webdriver_manager) (2.27.1)\n",
      "Requirement already satisfied: colorama in c:\\users\\theoh\\anaconda3\\envs\\lab7\\lib\\site-packages (from crayons->webdriver_manager) (0.4.4)\n",
      "Requirement already satisfied: urllib3<1.27,>=1.21.1 in c:\\users\\theoh\\anaconda3\\envs\\lab7\\lib\\site-packages (from requests->webdriver_manager) (1.26.8)\n",
      "Requirement already satisfied: idna<4,>=2.5 in c:\\users\\theoh\\anaconda3\\envs\\lab7\\lib\\site-packages (from requests->webdriver_manager) (3.3)\n",
      "Requirement already satisfied: charset-normalizer~=2.0.0 in c:\\users\\theoh\\anaconda3\\envs\\lab7\\lib\\site-packages (from requests->webdriver_manager) (2.0.12)\n",
      "Requirement already satisfied: certifi>=2017.4.17 in c:\\users\\theoh\\anaconda3\\envs\\lab7\\lib\\site-packages (from requests->webdriver_manager) (2021.10.8)\n"
     ]
    }
   ],
   "source": [
    "# Install webdriver_manager: https://github.com/SergeyPirogov/webdriver_manager\n",
    "!pip3 install webdriver_manager"
   ]
  },
  {
   "cell_type": "code",
   "execution_count": 20,
   "id": "c349a657",
   "metadata": {},
   "outputs": [],
   "source": [
    "# Import packages\n",
    "from selenium import webdriver\n",
    "from selenium.webdriver.chrome.service import Service\n",
    "from selenium.webdriver.common.by import By\n",
    "from selenium.webdriver.support.ui import WebDriverWait \n",
    "from selenium.webdriver.support import expected_conditions as EC\n",
    "from webdriver_manager.chrome import ChromeDriverManager"
   ]
  },
  {
   "cell_type": "code",
   "execution_count": 21,
   "id": "3132f6f0",
   "metadata": {},
   "outputs": [],
   "source": [
    "addresses = ['1844 SW Morrison St, Portland, OR 97205', \\\n",
    "             '800 Occidental Ave S, Seattle, WA 98134', \\\n",
    "             '1001 Stadium Dr, Inglewood, CA 90301', \\\n",
    "            '2700 Martin Luther King Jr Blvd, Eugene, OR 97401']"
   ]
  },
  {
   "cell_type": "code",
   "execution_count": 22,
   "id": "56111a8c",
   "metadata": {},
   "outputs": [
    {
     "name": "stderr",
     "output_type": "stream",
     "text": [
      "\n",
      "\n",
      "====== WebDriver manager ======\n",
      "Current google-chrome version is 98.0.4758\n",
      "Get LATEST chromedriver version for 98.0.4758 google-chrome\n",
      "Driver [C:\\Users\\theoh\\.wdm\\drivers\\chromedriver\\win32\\98.0.4758.102\\chromedriver.exe] found in cache\n",
      "\n",
      "\n",
      "====== WebDriver manager ======\n",
      "Current google-chrome version is 98.0.4758\n",
      "Get LATEST chromedriver version for 98.0.4758 google-chrome\n",
      "Driver [C:\\Users\\theoh\\.wdm\\drivers\\chromedriver\\win32\\98.0.4758.102\\chromedriver.exe] found in cache\n",
      "\n",
      "\n",
      "====== WebDriver manager ======\n",
      "Current google-chrome version is 98.0.4758\n",
      "Get LATEST chromedriver version for 98.0.4758 google-chrome\n",
      "Driver [C:\\Users\\theoh\\.wdm\\drivers\\chromedriver\\win32\\98.0.4758.102\\chromedriver.exe] found in cache\n",
      "\n",
      "\n",
      "====== WebDriver manager ======\n",
      "Current google-chrome version is 98.0.4758\n",
      "Get LATEST chromedriver version for 98.0.4758 google-chrome\n",
      "Driver [C:\\Users\\theoh\\.wdm\\drivers\\chromedriver\\win32\\98.0.4758.102\\chromedriver.exe] found in cache\n"
     ]
    }
   ],
   "source": [
    "address_coords = []\n",
    "# Loop through every ski resort to find it's coordinates\n",
    "for address in addresses:\n",
    "       \n",
    "    # Define URL to search in Google Maps\n",
    "    url = 'https://www.google.com/maps/place/' + address\n",
    "    \n",
    "    # Import web driver and search for ski resorts\n",
    "    driver = webdriver.Chrome(service=Service(ChromeDriverManager().install()))\n",
    "    driver.get(url)\n",
    "      \n",
    "    # Click search\n",
    "    element = WebDriverWait(driver, 20).until(EC.element_to_be_clickable((By.ID, \"searchbox-searchbutton\")))\n",
    "    element.click()\n",
    "    \n",
    "    # Make the web driver wait until the URL updates (i.e. contains the @ sign we're looking for)\n",
    "    WebDriverWait(driver, 20).until(EC.url_contains(\"@\"))\n",
    "    \n",
    "    # Retrieve the URL\n",
    "    link = driver.current_url\n",
    "    \n",
    "    # Split string\n",
    "    lat, lon = link.rsplit('@', 1)[1].rsplit(',', 1)[0].rsplit(',', 1)\n",
    "    \n",
    "    # Append to list\n",
    "    address_coords.append((lat, lon))\n",
    "    \n",
    "    # Close driver\n",
    "    driver.close()"
   ]
  },
  {
   "cell_type": "code",
   "execution_count": 23,
   "id": "27b705bf",
   "metadata": {},
   "outputs": [
    {
     "data": {
      "text/plain": [
       "[('45.5216776', '-122.693017'),\n",
       " ('47.5933101', '-122.3344609'),\n",
       " ('33.9530049', '-118.3407129'),\n",
       " ('44.0594287', '-123.0710918')]"
      ]
     },
     "execution_count": 23,
     "metadata": {},
     "output_type": "execute_result"
    }
   ],
   "source": [
    "address_coords"
   ]
  },
  {
   "cell_type": "code",
   "execution_count": 24,
   "id": "b37eeff7",
   "metadata": {
    "scrolled": true
   },
   "outputs": [
    {
     "data": {
      "text/html": [
       "<div style=\"width:100%;\"><div style=\"position:relative;width:100%;height:0;padding-bottom:60%;\"><span style=\"color:#565656\">Make this Notebook Trusted to load map: File -> Trust Notebook</span><iframe src=\"about:blank\" style=\"position:absolute;width:100%;height:100%;left:0;top:0;border:none !important;\" data-html=%3C%21DOCTYPE%20html%3E%0A%3Chead%3E%20%20%20%20%0A%20%20%20%20%3Cmeta%20http-equiv%3D%22content-type%22%20content%3D%22text/html%3B%20charset%3DUTF-8%22%20/%3E%0A%20%20%20%20%0A%20%20%20%20%20%20%20%20%3Cscript%3E%0A%20%20%20%20%20%20%20%20%20%20%20%20L_NO_TOUCH%20%3D%20false%3B%0A%20%20%20%20%20%20%20%20%20%20%20%20L_DISABLE_3D%20%3D%20false%3B%0A%20%20%20%20%20%20%20%20%3C/script%3E%0A%20%20%20%20%0A%20%20%20%20%3Cstyle%3Ehtml%2C%20body%20%7Bwidth%3A%20100%25%3Bheight%3A%20100%25%3Bmargin%3A%200%3Bpadding%3A%200%3B%7D%3C/style%3E%0A%20%20%20%20%3Cstyle%3E%23map%20%7Bposition%3Aabsolute%3Btop%3A0%3Bbottom%3A0%3Bright%3A0%3Bleft%3A0%3B%7D%3C/style%3E%0A%20%20%20%20%3Cscript%20src%3D%22https%3A//cdn.jsdelivr.net/npm/leaflet%401.6.0/dist/leaflet.js%22%3E%3C/script%3E%0A%20%20%20%20%3Cscript%20src%3D%22https%3A//code.jquery.com/jquery-1.12.4.min.js%22%3E%3C/script%3E%0A%20%20%20%20%3Cscript%20src%3D%22https%3A//maxcdn.bootstrapcdn.com/bootstrap/3.2.0/js/bootstrap.min.js%22%3E%3C/script%3E%0A%20%20%20%20%3Cscript%20src%3D%22https%3A//cdnjs.cloudflare.com/ajax/libs/Leaflet.awesome-markers/2.0.2/leaflet.awesome-markers.js%22%3E%3C/script%3E%0A%20%20%20%20%3Clink%20rel%3D%22stylesheet%22%20href%3D%22https%3A//cdn.jsdelivr.net/npm/leaflet%401.6.0/dist/leaflet.css%22/%3E%0A%20%20%20%20%3Clink%20rel%3D%22stylesheet%22%20href%3D%22https%3A//maxcdn.bootstrapcdn.com/bootstrap/3.2.0/css/bootstrap.min.css%22/%3E%0A%20%20%20%20%3Clink%20rel%3D%22stylesheet%22%20href%3D%22https%3A//maxcdn.bootstrapcdn.com/bootstrap/3.2.0/css/bootstrap-theme.min.css%22/%3E%0A%20%20%20%20%3Clink%20rel%3D%22stylesheet%22%20href%3D%22https%3A//maxcdn.bootstrapcdn.com/font-awesome/4.6.3/css/font-awesome.min.css%22/%3E%0A%20%20%20%20%3Clink%20rel%3D%22stylesheet%22%20href%3D%22https%3A//cdnjs.cloudflare.com/ajax/libs/Leaflet.awesome-markers/2.0.2/leaflet.awesome-markers.css%22/%3E%0A%20%20%20%20%3Clink%20rel%3D%22stylesheet%22%20href%3D%22https%3A//cdn.jsdelivr.net/gh/python-visualization/folium/folium/templates/leaflet.awesome.rotate.min.css%22/%3E%0A%20%20%20%20%0A%20%20%20%20%20%20%20%20%20%20%20%20%3Cmeta%20name%3D%22viewport%22%20content%3D%22width%3Ddevice-width%2C%0A%20%20%20%20%20%20%20%20%20%20%20%20%20%20%20%20initial-scale%3D1.0%2C%20maximum-scale%3D1.0%2C%20user-scalable%3Dno%22%20/%3E%0A%20%20%20%20%20%20%20%20%20%20%20%20%3Cstyle%3E%0A%20%20%20%20%20%20%20%20%20%20%20%20%20%20%20%20%23map_7caac99f74f94a319a15ead2a2a3114a%20%7B%0A%20%20%20%20%20%20%20%20%20%20%20%20%20%20%20%20%20%20%20%20position%3A%20relative%3B%0A%20%20%20%20%20%20%20%20%20%20%20%20%20%20%20%20%20%20%20%20width%3A%20100.0%25%3B%0A%20%20%20%20%20%20%20%20%20%20%20%20%20%20%20%20%20%20%20%20height%3A%20100.0%25%3B%0A%20%20%20%20%20%20%20%20%20%20%20%20%20%20%20%20%20%20%20%20left%3A%200.0%25%3B%0A%20%20%20%20%20%20%20%20%20%20%20%20%20%20%20%20%20%20%20%20top%3A%200.0%25%3B%0A%20%20%20%20%20%20%20%20%20%20%20%20%20%20%20%20%7D%0A%20%20%20%20%20%20%20%20%20%20%20%20%3C/style%3E%0A%20%20%20%20%20%20%20%20%0A%3C/head%3E%0A%3Cbody%3E%20%20%20%20%0A%20%20%20%20%0A%20%20%20%20%20%20%20%20%20%20%20%20%3Cdiv%20class%3D%22folium-map%22%20id%3D%22map_7caac99f74f94a319a15ead2a2a3114a%22%20%3E%3C/div%3E%0A%20%20%20%20%20%20%20%20%0A%3C/body%3E%0A%3Cscript%3E%20%20%20%20%0A%20%20%20%20%0A%20%20%20%20%20%20%20%20%20%20%20%20var%20map_7caac99f74f94a319a15ead2a2a3114a%20%3D%20L.map%28%0A%20%20%20%20%20%20%20%20%20%20%20%20%20%20%20%20%22map_7caac99f74f94a319a15ead2a2a3114a%22%2C%0A%20%20%20%20%20%20%20%20%20%20%20%20%20%20%20%20%7B%0A%20%20%20%20%20%20%20%20%20%20%20%20%20%20%20%20%20%20%20%20center%3A%20%5B35.0%2C%20-121.0%5D%2C%0A%20%20%20%20%20%20%20%20%20%20%20%20%20%20%20%20%20%20%20%20crs%3A%20L.CRS.EPSG3857%2C%0A%20%20%20%20%20%20%20%20%20%20%20%20%20%20%20%20%20%20%20%20zoom%3A%204%2C%0A%20%20%20%20%20%20%20%20%20%20%20%20%20%20%20%20%20%20%20%20zoomControl%3A%20true%2C%0A%20%20%20%20%20%20%20%20%20%20%20%20%20%20%20%20%20%20%20%20preferCanvas%3A%20false%2C%0A%20%20%20%20%20%20%20%20%20%20%20%20%20%20%20%20%7D%0A%20%20%20%20%20%20%20%20%20%20%20%20%29%3B%0A%0A%20%20%20%20%20%20%20%20%20%20%20%20%0A%0A%20%20%20%20%20%20%20%20%0A%20%20%20%20%0A%20%20%20%20%20%20%20%20%20%20%20%20var%20tile_layer_6af75f2f72dc4122b12d1bc4834478f8%20%3D%20L.tileLayer%28%0A%20%20%20%20%20%20%20%20%20%20%20%20%20%20%20%20%22https%3A//%7Bs%7D.tile.openstreetmap.org/%7Bz%7D/%7Bx%7D/%7By%7D.png%22%2C%0A%20%20%20%20%20%20%20%20%20%20%20%20%20%20%20%20%7B%22attribution%22%3A%20%22Data%20by%20%5Cu0026copy%3B%20%5Cu003ca%20href%3D%5C%22http%3A//openstreetmap.org%5C%22%5Cu003eOpenStreetMap%5Cu003c/a%5Cu003e%2C%20under%20%5Cu003ca%20href%3D%5C%22http%3A//www.openstreetmap.org/copyright%5C%22%5Cu003eODbL%5Cu003c/a%5Cu003e.%22%2C%20%22detectRetina%22%3A%20false%2C%20%22maxNativeZoom%22%3A%2018%2C%20%22maxZoom%22%3A%2018%2C%20%22minZoom%22%3A%200%2C%20%22noWrap%22%3A%20false%2C%20%22opacity%22%3A%201%2C%20%22subdomains%22%3A%20%22abc%22%2C%20%22tms%22%3A%20false%7D%0A%20%20%20%20%20%20%20%20%20%20%20%20%29.addTo%28map_7caac99f74f94a319a15ead2a2a3114a%29%3B%0A%20%20%20%20%20%20%20%20%0A%20%20%20%20%0A%20%20%20%20%20%20%20%20%20%20%20%20var%20marker_6189f6451e67427c8f1a381a8b92f63c%20%3D%20L.marker%28%0A%20%20%20%20%20%20%20%20%20%20%20%20%20%20%20%20%5B45.5216776%2C%20-122.693017%5D%2C%0A%20%20%20%20%20%20%20%20%20%20%20%20%20%20%20%20%7B%7D%0A%20%20%20%20%20%20%20%20%20%20%20%20%29.addTo%28map_7caac99f74f94a319a15ead2a2a3114a%29%3B%0A%20%20%20%20%20%20%20%20%0A%20%20%20%20%0A%20%20%20%20%20%20%20%20var%20popup_30b5933d75c448a9af01636853de00f3%20%3D%20L.popup%28%7B%22maxWidth%22%3A%20%22100%25%22%7D%29%3B%0A%0A%20%20%20%20%20%20%20%20%0A%20%20%20%20%20%20%20%20%20%20%20%20var%20html_7101698b1f6d4379b863686fcc76f704%20%3D%20%24%28%60%3Cdiv%20id%3D%22html_7101698b1f6d4379b863686fcc76f704%22%20style%3D%22width%3A%20100.0%25%3B%20height%3A%20100.0%25%3B%22%3E1844%20SW%20Morrison%20St%2C%20Portland%2C%20OR%2097205%3C/div%3E%60%29%5B0%5D%3B%0A%20%20%20%20%20%20%20%20%20%20%20%20popup_30b5933d75c448a9af01636853de00f3.setContent%28html_7101698b1f6d4379b863686fcc76f704%29%3B%0A%20%20%20%20%20%20%20%20%0A%0A%20%20%20%20%20%20%20%20marker_6189f6451e67427c8f1a381a8b92f63c.bindPopup%28popup_30b5933d75c448a9af01636853de00f3%29%0A%20%20%20%20%20%20%20%20%3B%0A%0A%20%20%20%20%20%20%20%20%0A%20%20%20%20%0A%20%20%20%20%0A%20%20%20%20%20%20%20%20%20%20%20%20var%20marker_e44f8ac04fb6422690aa0833bec46fd7%20%3D%20L.marker%28%0A%20%20%20%20%20%20%20%20%20%20%20%20%20%20%20%20%5B47.5933101%2C%20-122.3344609%5D%2C%0A%20%20%20%20%20%20%20%20%20%20%20%20%20%20%20%20%7B%7D%0A%20%20%20%20%20%20%20%20%20%20%20%20%29.addTo%28map_7caac99f74f94a319a15ead2a2a3114a%29%3B%0A%20%20%20%20%20%20%20%20%0A%20%20%20%20%0A%20%20%20%20%20%20%20%20var%20popup_2ae3e345d4d34416bdfab3fc7e3084ca%20%3D%20L.popup%28%7B%22maxWidth%22%3A%20%22100%25%22%7D%29%3B%0A%0A%20%20%20%20%20%20%20%20%0A%20%20%20%20%20%20%20%20%20%20%20%20var%20html_a64916a2a2ee4c9bb779b78c031bf992%20%3D%20%24%28%60%3Cdiv%20id%3D%22html_a64916a2a2ee4c9bb779b78c031bf992%22%20style%3D%22width%3A%20100.0%25%3B%20height%3A%20100.0%25%3B%22%3E800%20Occidental%20Ave%20S%2C%20Seattle%2C%20WA%2098134%3C/div%3E%60%29%5B0%5D%3B%0A%20%20%20%20%20%20%20%20%20%20%20%20popup_2ae3e345d4d34416bdfab3fc7e3084ca.setContent%28html_a64916a2a2ee4c9bb779b78c031bf992%29%3B%0A%20%20%20%20%20%20%20%20%0A%0A%20%20%20%20%20%20%20%20marker_e44f8ac04fb6422690aa0833bec46fd7.bindPopup%28popup_2ae3e345d4d34416bdfab3fc7e3084ca%29%0A%20%20%20%20%20%20%20%20%3B%0A%0A%20%20%20%20%20%20%20%20%0A%20%20%20%20%0A%20%20%20%20%0A%20%20%20%20%20%20%20%20%20%20%20%20var%20marker_67874be846d247a5841c3ad2a3957342%20%3D%20L.marker%28%0A%20%20%20%20%20%20%20%20%20%20%20%20%20%20%20%20%5B33.9530049%2C%20-118.3407129%5D%2C%0A%20%20%20%20%20%20%20%20%20%20%20%20%20%20%20%20%7B%7D%0A%20%20%20%20%20%20%20%20%20%20%20%20%29.addTo%28map_7caac99f74f94a319a15ead2a2a3114a%29%3B%0A%20%20%20%20%20%20%20%20%0A%20%20%20%20%0A%20%20%20%20%20%20%20%20var%20popup_fab37b73a5f047338f9cc43450c218b9%20%3D%20L.popup%28%7B%22maxWidth%22%3A%20%22100%25%22%7D%29%3B%0A%0A%20%20%20%20%20%20%20%20%0A%20%20%20%20%20%20%20%20%20%20%20%20var%20html_ea56976659bb434e81d43c637791f8ec%20%3D%20%24%28%60%3Cdiv%20id%3D%22html_ea56976659bb434e81d43c637791f8ec%22%20style%3D%22width%3A%20100.0%25%3B%20height%3A%20100.0%25%3B%22%3E1001%20Stadium%20Dr%2C%20Inglewood%2C%20CA%2090301%3C/div%3E%60%29%5B0%5D%3B%0A%20%20%20%20%20%20%20%20%20%20%20%20popup_fab37b73a5f047338f9cc43450c218b9.setContent%28html_ea56976659bb434e81d43c637791f8ec%29%3B%0A%20%20%20%20%20%20%20%20%0A%0A%20%20%20%20%20%20%20%20marker_67874be846d247a5841c3ad2a3957342.bindPopup%28popup_fab37b73a5f047338f9cc43450c218b9%29%0A%20%20%20%20%20%20%20%20%3B%0A%0A%20%20%20%20%20%20%20%20%0A%20%20%20%20%0A%20%20%20%20%0A%20%20%20%20%20%20%20%20%20%20%20%20var%20marker_551ce9f537fc4b9aa67a026fbffe252a%20%3D%20L.marker%28%0A%20%20%20%20%20%20%20%20%20%20%20%20%20%20%20%20%5B44.0594287%2C%20-123.0710918%5D%2C%0A%20%20%20%20%20%20%20%20%20%20%20%20%20%20%20%20%7B%7D%0A%20%20%20%20%20%20%20%20%20%20%20%20%29.addTo%28map_7caac99f74f94a319a15ead2a2a3114a%29%3B%0A%20%20%20%20%20%20%20%20%0A%20%20%20%20%0A%20%20%20%20%20%20%20%20var%20popup_f604576598a2401885896719ee6b439f%20%3D%20L.popup%28%7B%22maxWidth%22%3A%20%22100%25%22%7D%29%3B%0A%0A%20%20%20%20%20%20%20%20%0A%20%20%20%20%20%20%20%20%20%20%20%20var%20html_61e7980daec742d192134dcf5ce5ef54%20%3D%20%24%28%60%3Cdiv%20id%3D%22html_61e7980daec742d192134dcf5ce5ef54%22%20style%3D%22width%3A%20100.0%25%3B%20height%3A%20100.0%25%3B%22%3E2700%20Martin%20Luther%20King%20Jr%20Blvd%2C%20Eugene%2C%20OR%2097401%3C/div%3E%60%29%5B0%5D%3B%0A%20%20%20%20%20%20%20%20%20%20%20%20popup_f604576598a2401885896719ee6b439f.setContent%28html_61e7980daec742d192134dcf5ce5ef54%29%3B%0A%20%20%20%20%20%20%20%20%0A%0A%20%20%20%20%20%20%20%20marker_551ce9f537fc4b9aa67a026fbffe252a.bindPopup%28popup_f604576598a2401885896719ee6b439f%29%0A%20%20%20%20%20%20%20%20%3B%0A%0A%20%20%20%20%20%20%20%20%0A%20%20%20%20%0A%3C/script%3E onload=\"this.contentDocument.open();this.contentDocument.write(    decodeURIComponent(this.getAttribute('data-html')));this.contentDocument.close();\" allowfullscreen webkitallowfullscreen mozallowfullscreen></iframe></div></div>"
      ],
      "text/plain": [
       "<folium.folium.Map at 0x1f1e279a080>"
      ]
     },
     "execution_count": 24,
     "metadata": {},
     "output_type": "execute_result"
    }
   ],
   "source": [
    "map = folium.Map(location=[35, -121], zoom_start=4)\n",
    "for i in range(0, len(address_coords)):\n",
    "    folium.Marker(address_coords[i], popup=addresses[i]).add_to(map)\n",
    "map"
   ]
  },
  {
   "cell_type": "markdown",
   "id": "dd366c56",
   "metadata": {},
   "source": [
    "## Question 5"
   ]
  },
  {
   "cell_type": "code",
   "execution_count": 25,
   "id": "c21c09b6",
   "metadata": {},
   "outputs": [],
   "source": [
    "# Import package\n",
    "import xarray as xr\n",
    "\n",
    "# Define filepath\n",
    "fp = 'C:/Users/theoh/Downloads/lab7/era_monthly_snowfall_2020.nc'\n",
    "\n",
    "# Read data\n",
    "xds = xr.open_dataset(fp, decode_coords='all')"
   ]
  },
  {
   "cell_type": "code",
   "execution_count": 26,
   "id": "bc232662",
   "metadata": {},
   "outputs": [],
   "source": [
    "# Find closest cell to Mount Ashland\n",
    "mount_ashland = xds.sel(latitude=42.081689, longitude=-122.7069373, method='nearest')"
   ]
  },
  {
   "cell_type": "code",
   "execution_count": 27,
   "id": "617eebb1",
   "metadata": {},
   "outputs": [],
   "source": [
    "# Find closest cell to Willammette Pass \n",
    "willammette_pass = xds.sel(latitude=43.6000579, longitude=-122.0387233, method='nearest')"
   ]
  },
  {
   "cell_type": "code",
   "execution_count": 28,
   "id": "e791092a",
   "metadata": {},
   "outputs": [],
   "source": [
    "# Find closest cell to Hoodoo\n",
    "hoodoo = xds.sel(latitude=44.4086477, longitude=-121.8735991, method='nearest')"
   ]
  },
  {
   "cell_type": "code",
   "execution_count": 29,
   "id": "fc680039",
   "metadata": {},
   "outputs": [
    {
     "data": {
      "text/plain": [
       "0.009229"
      ]
     },
     "execution_count": 29,
     "metadata": {},
     "output_type": "execute_result"
    }
   ],
   "source": [
    "ash_snow = mount_ashland['sf'].values.sum()\n",
    "ash_snow = round(ash_snow, 6)\n",
    "ash_snow"
   ]
  },
  {
   "cell_type": "code",
   "execution_count": 30,
   "id": "fa0e7c03",
   "metadata": {},
   "outputs": [
    {
     "data": {
      "text/plain": [
       "0.019637"
      ]
     },
     "execution_count": 30,
     "metadata": {},
     "output_type": "execute_result"
    }
   ],
   "source": [
    "wil_snow = willammette_pass['sf'].values.sum()\n",
    "wil_snow = round(wil_snow, 6)\n",
    "wil_snow"
   ]
  },
  {
   "cell_type": "code",
   "execution_count": 31,
   "id": "20adb07f",
   "metadata": {},
   "outputs": [
    {
     "data": {
      "text/plain": [
       "0.018597"
      ]
     },
     "execution_count": 31,
     "metadata": {},
     "output_type": "execute_result"
    }
   ],
   "source": [
    "hoo_snow = hoodoo['sf'].values.sum()\n",
    "hoo_snow = round(hoo_snow, 6)\n",
    "hoo_snow"
   ]
  },
  {
   "cell_type": "code",
   "execution_count": 32,
   "id": "aa9b48ea",
   "metadata": {},
   "outputs": [
    {
     "name": "stdout",
     "output_type": "stream",
     "text": [
      "Willammette Pass recieved more snowfall in 2020: 0.01963699981570244 m in water equivalent compared to 0.01859699934720993 m in Hoodoo and 0.009228999726474285 m in Mount Ashland\n"
     ]
    }
   ],
   "source": [
    "print(f'Willammette Pass recieved more snowfall in 2020: {wil_snow} m in water equivalent compared to \\\n",
    "{hoo_snow} m in Hoodoo and {ash_snow} m in Mount Ashland')"
   ]
  },
  {
   "cell_type": "markdown",
   "id": "82a99975",
   "metadata": {},
   "source": [
    "**Extra credit part 1:**"
   ]
  },
  {
   "cell_type": "code",
   "execution_count": 33,
   "id": "85fd4f0d",
   "metadata": {},
   "outputs": [
    {
     "name": "stderr",
     "output_type": "stream",
     "text": [
      "\n",
      "\n",
      "====== WebDriver manager ======\n",
      "Current google-chrome version is 98.0.4758\n",
      "Get LATEST chromedriver version for 98.0.4758 google-chrome\n",
      "Driver [C:\\Users\\theoh\\.wdm\\drivers\\chromedriver\\win32\\98.0.4758.102\\chromedriver.exe] found in cache\n"
     ]
    }
   ],
   "source": [
    "# Install Chrome webdriver\n",
    "driver = webdriver.Chrome(service=Service(ChromeDriverManager().install()))\n",
    "\n",
    "# Open a web browser at the following page\n",
    "driver.get(\"https://en.wikipedia.org/wiki/Category:Ski_areas_and_resorts_in_Oregon\")"
   ]
  },
  {
   "cell_type": "code",
   "execution_count": 34,
   "id": "321f7a88",
   "metadata": {},
   "outputs": [],
   "source": [
    "# Retrieve ski resort names\n",
    "html_list = driver.find_element(By.ID, \"mw-pages\")\n",
    "items = html_list.find_elements(By.TAG_NAME, \"li\")"
   ]
  },
  {
   "cell_type": "code",
   "execution_count": 35,
   "id": "81dabf52",
   "metadata": {
    "scrolled": true
   },
   "outputs": [
    {
     "name": "stdout",
     "output_type": "stream",
     "text": [
      "Anthony Lakes (ski area)\n",
      "Mount Ashland Ski Area\n",
      "Cooper Spur ski area\n",
      "Ferguson Ridge Ski Area\n",
      "Hoodoo (ski area)\n",
      "Mount Ashland Ski Area Expansion\n",
      "Mount Bachelor ski area\n",
      "Mount Hood Meadows\n",
      "Mount Hood Skibowl\n",
      "Snow Bunny\n",
      "Spout Springs Ski Area\n",
      "Summit Pass (Oregon)\n",
      "Timberline Lodge ski area\n",
      "Warner Canyon\n",
      "Willamette Pass Resort\n"
     ]
    }
   ],
   "source": [
    "ski_resort_names = []\n",
    "for item in items:\n",
    "    text = item.text\n",
    "    print(text)\n",
    "    ski_resort_names.append(text)\n",
    "driver.close()"
   ]
  },
  {
   "cell_type": "code",
   "execution_count": 36,
   "id": "d2d5d07f",
   "metadata": {},
   "outputs": [],
   "source": [
    "ski_resort_coords = \\\n",
    "[('44.9629273', '-118.2357075'),\n",
    " ('42.081689', '-122.7069373'),\n",
    " ('45.4188609', '-121.6064311'),\n",
    " ('45.2816889', '-117.1148251'),\n",
    " ('44.4086477', '-121.8735991'),\n",
    " ('42.081689', '-122.7069373'),\n",
    " ('44.0028975', '-121.6812547'),\n",
    " ('45.331759', '-121.6673681'),\n",
    " ('45.2943906', '-121.80705'),\n",
    " ('45.2871456', '-121.7312248'),\n",
    " ('45.7552462', '-118.0536043'),\n",
    " ('43.9688848', '-125.7230331'),\n",
    " ('45.3233604', '-121.7891084'),\n",
    " ('42.237378', '-120.2968217'),\n",
    " ('43.6000579', '-122.0387233')]"
   ]
  },
  {
   "cell_type": "code",
   "execution_count": 37,
   "id": "b51aecf2",
   "metadata": {},
   "outputs": [],
   "source": [
    "# Define filepath\n",
    "fp = 'C:/Users/theoh/Downloads/lab7/era_monthly_snowfall_1979_2020.nc'\n",
    "\n",
    "# Read data\n",
    "xds = xr.open_dataset(fp, decode_coords='all')"
   ]
  },
  {
   "cell_type": "code",
   "execution_count": 38,
   "id": "d136a269",
   "metadata": {
    "scrolled": true
   },
   "outputs": [
    {
     "data": {
      "text/plain": [
       "[('Anthony Lakes (ski area)', ('44.9629273', '-118.2357075')),\n",
       " ('Mount Ashland Ski Area', ('42.081689', '-122.7069373')),\n",
       " ('Cooper Spur ski area', ('45.4188609', '-121.6064311')),\n",
       " ('Ferguson Ridge Ski Area', ('45.2816889', '-117.1148251')),\n",
       " ('Hoodoo (ski area)', ('44.4086477', '-121.8735991')),\n",
       " ('Mount Ashland Ski Area Expansion', ('42.081689', '-122.7069373')),\n",
       " ('Mount Bachelor ski area', ('44.0028975', '-121.6812547')),\n",
       " ('Mount Hood Meadows', ('45.331759', '-121.6673681')),\n",
       " ('Mount Hood Skibowl', ('45.2943906', '-121.80705')),\n",
       " ('Snow Bunny', ('45.2871456', '-121.7312248')),\n",
       " ('Spout Springs Ski Area', ('45.7552462', '-118.0536043')),\n",
       " ('Summit Pass (Oregon)', ('43.9688848', '-125.7230331')),\n",
       " ('Timberline Lodge ski area', ('45.3233604', '-121.7891084')),\n",
       " ('Warner Canyon', ('42.237378', '-120.2968217')),\n",
       " ('Willamette Pass Resort', ('43.6000579', '-122.0387233'))]"
      ]
     },
     "execution_count": 38,
     "metadata": {},
     "output_type": "execute_result"
    }
   ],
   "source": [
    "ski_name_loc = []\n",
    "\n",
    "for i in range(len(ski_resort_names)):\n",
    "    name = ski_resort_names[i]\n",
    "    lat, lon = ski_resort_coords[i]\n",
    "    ski_name_loc.append((name, (lat, lon)))\n",
    "\n",
    "ski_name_loc"
   ]
  },
  {
   "cell_type": "code",
   "execution_count": 39,
   "id": "c07405c3",
   "metadata": {
    "scrolled": true
   },
   "outputs": [
    {
     "data": {
      "text/html": [
       "<div>\n",
       "<style scoped>\n",
       "    .dataframe tbody tr th:only-of-type {\n",
       "        vertical-align: middle;\n",
       "    }\n",
       "\n",
       "    .dataframe tbody tr th {\n",
       "        vertical-align: top;\n",
       "    }\n",
       "\n",
       "    .dataframe thead th {\n",
       "        text-align: right;\n",
       "    }\n",
       "</style>\n",
       "<table border=\"1\" class=\"dataframe\">\n",
       "  <thead>\n",
       "    <tr style=\"text-align: right;\">\n",
       "      <th></th>\n",
       "      <th>name</th>\n",
       "      <th>avg_nov_snowfall</th>\n",
       "    </tr>\n",
       "  </thead>\n",
       "  <tbody>\n",
       "    <tr>\n",
       "      <th>8</th>\n",
       "      <td>Mount Bachelor ski area</td>\n",
       "      <td>3.258127e-03</td>\n",
       "    </tr>\n",
       "    <tr>\n",
       "      <th>0</th>\n",
       "      <td>Willamette Pass Resort</td>\n",
       "      <td>2.860936e-03</td>\n",
       "    </tr>\n",
       "    <tr>\n",
       "      <th>10</th>\n",
       "      <td>Hoodoo (ski area)</td>\n",
       "      <td>2.510844e-03</td>\n",
       "    </tr>\n",
       "    <tr>\n",
       "      <th>11</th>\n",
       "      <td>Ferguson Ridge Ski Area</td>\n",
       "      <td>2.244357e-03</td>\n",
       "    </tr>\n",
       "    <tr>\n",
       "      <th>2</th>\n",
       "      <td>Timberline Lodge ski area</td>\n",
       "      <td>2.203378e-03</td>\n",
       "    </tr>\n",
       "    <tr>\n",
       "      <th>5</th>\n",
       "      <td>Snow Bunny</td>\n",
       "      <td>2.203378e-03</td>\n",
       "    </tr>\n",
       "    <tr>\n",
       "      <th>6</th>\n",
       "      <td>Mount Hood Skibowl</td>\n",
       "      <td>2.203378e-03</td>\n",
       "    </tr>\n",
       "    <tr>\n",
       "      <th>7</th>\n",
       "      <td>Mount Hood Meadows</td>\n",
       "      <td>2.203378e-03</td>\n",
       "    </tr>\n",
       "    <tr>\n",
       "      <th>14</th>\n",
       "      <td>Anthony Lakes (ski area)</td>\n",
       "      <td>1.861593e-03</td>\n",
       "    </tr>\n",
       "    <tr>\n",
       "      <th>12</th>\n",
       "      <td>Cooper Spur ski area</td>\n",
       "      <td>1.626202e-03</td>\n",
       "    </tr>\n",
       "    <tr>\n",
       "      <th>9</th>\n",
       "      <td>Mount Ashland Ski Area Expansion</td>\n",
       "      <td>1.619197e-03</td>\n",
       "    </tr>\n",
       "    <tr>\n",
       "      <th>13</th>\n",
       "      <td>Mount Ashland Ski Area</td>\n",
       "      <td>1.619197e-03</td>\n",
       "    </tr>\n",
       "    <tr>\n",
       "      <th>4</th>\n",
       "      <td>Spout Springs Ski Area</td>\n",
       "      <td>1.565915e-03</td>\n",
       "    </tr>\n",
       "    <tr>\n",
       "      <th>1</th>\n",
       "      <td>Warner Canyon</td>\n",
       "      <td>1.303156e-03</td>\n",
       "    </tr>\n",
       "    <tr>\n",
       "      <th>3</th>\n",
       "      <td>Summit Pass (Oregon)</td>\n",
       "      <td>1.786158e-07</td>\n",
       "    </tr>\n",
       "  </tbody>\n",
       "</table>\n",
       "</div>"
      ],
      "text/plain": [
       "                                name  avg_nov_snowfall\n",
       "8            Mount Bachelor ski area      3.258127e-03\n",
       "0             Willamette Pass Resort      2.860936e-03\n",
       "10                 Hoodoo (ski area)      2.510844e-03\n",
       "11           Ferguson Ridge Ski Area      2.244357e-03\n",
       "2          Timberline Lodge ski area      2.203378e-03\n",
       "5                         Snow Bunny      2.203378e-03\n",
       "6                 Mount Hood Skibowl      2.203378e-03\n",
       "7                 Mount Hood Meadows      2.203378e-03\n",
       "14          Anthony Lakes (ski area)      1.861593e-03\n",
       "12              Cooper Spur ski area      1.626202e-03\n",
       "9   Mount Ashland Ski Area Expansion      1.619197e-03\n",
       "13            Mount Ashland Ski Area      1.619197e-03\n",
       "4             Spout Springs Ski Area      1.565915e-03\n",
       "1                      Warner Canyon      1.303156e-03\n",
       "3               Summit Pass (Oregon)      1.786158e-07"
      ]
     },
     "execution_count": 39,
     "metadata": {},
     "output_type": "execute_result"
    }
   ],
   "source": [
    "avg_nov_snowfalls = pd.DataFrame()\n",
    "avg_nov_snowfalls_dict = {}\n",
    "for ski_area in ski_name_loc:\n",
    "    november_snowfall = []\n",
    "    cell = xds.sel(latitude=float(ski_area[1][0]), longitude=float(ski_area[1][1]), method='nearest')\n",
    "    month_counter = 0\n",
    "    for month in cell['time']:\n",
    "        month_str = str(month['time'].values)\n",
    "\n",
    "        if month_str[5:7] == '11':\n",
    "            november_snowfall.append(cell['sf'][month_counter].values)\n",
    "        month_counter += 1\n",
    "    \n",
    "    total_nov_snowfall = sum(november_snowfall)\n",
    "    avg_nov_snowfall = total_nov_snowfall/len(november_snowfall)\n",
    "    \n",
    "    avg_nov_snowfalls_dict['name'] = [ski_area[0]]\n",
    "    avg_nov_snowfalls_dict['avg_nov_snowfall'] = avg_nov_snowfall\n",
    "\n",
    "\n",
    "    avg_nov_snowfalls= pd.concat([pd.DataFrame(avg_nov_snowfalls_dict), avg_nov_snowfalls], ignore_index = True, axis =0)\n",
    "\n",
    "avg_nov_snowfalls.sort_values(by=['avg_nov_snowfall'],ascending=False)"
   ]
  },
  {
   "cell_type": "markdown",
   "id": "173e519f",
   "metadata": {},
   "source": [
    "Mount Bachelor had the highest average snowfall in november for the years 1979 to 2020 with 3.26 x 10^3 m of water equivalent snowfall"
   ]
  },
  {
   "cell_type": "code",
   "execution_count": null,
   "id": "ea33beef",
   "metadata": {},
   "outputs": [],
   "source": []
  }
 ],
 "metadata": {
  "kernelspec": {
   "display_name": "Python 3 (ipykernel)",
   "language": "python",
   "name": "python3"
  },
  "language_info": {
   "codemirror_mode": {
    "name": "ipython",
    "version": 3
   },
   "file_extension": ".py",
   "mimetype": "text/x-python",
   "name": "python",
   "nbconvert_exporter": "python",
   "pygments_lexer": "ipython3",
   "version": "3.10.2"
  }
 },
 "nbformat": 4,
 "nbformat_minor": 5
}
