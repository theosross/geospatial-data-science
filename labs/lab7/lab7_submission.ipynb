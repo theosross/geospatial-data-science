{
 "cells": [
  {
   "cell_type": "markdown",
   "id": "b380b672",
   "metadata": {},
   "source": [
    "## Question 1"
   ]
  },
  {
   "cell_type": "code",
   "execution_count": 1,
   "id": "75753246",
   "metadata": {
    "scrolled": true
   },
   "outputs": [
    {
     "name": "stdout",
     "output_type": "stream",
     "text": [
      "Requirement already satisfied: dataretrieval in c:\\users\\theoh\\anaconda3\\envs\\lab7\\lib\\site-packages (0.7)\n",
      "Requirement already satisfied: requests in c:\\users\\theoh\\anaconda3\\envs\\lab7\\lib\\site-packages (from dataretrieval) (2.27.1)\n",
      "Requirement already satisfied: pandas in c:\\users\\theoh\\anaconda3\\envs\\lab7\\lib\\site-packages (from dataretrieval) (1.4.1)\n",
      "Requirement already satisfied: numpy>=1.21.0 in c:\\users\\theoh\\anaconda3\\envs\\lab7\\lib\\site-packages (from pandas->dataretrieval) (1.22.2)\n",
      "Requirement already satisfied: python-dateutil>=2.8.1 in c:\\users\\theoh\\anaconda3\\envs\\lab7\\lib\\site-packages (from pandas->dataretrieval) (2.8.2)\n",
      "Requirement already satisfied: pytz>=2020.1 in c:\\users\\theoh\\anaconda3\\envs\\lab7\\lib\\site-packages (from pandas->dataretrieval) (2021.3)\n",
      "Requirement already satisfied: urllib3<1.27,>=1.21.1 in c:\\users\\theoh\\anaconda3\\envs\\lab7\\lib\\site-packages (from requests->dataretrieval) (1.26.8)\n",
      "Requirement already satisfied: idna<4,>=2.5 in c:\\users\\theoh\\anaconda3\\envs\\lab7\\lib\\site-packages (from requests->dataretrieval) (3.3)\n",
      "Requirement already satisfied: charset-normalizer~=2.0.0 in c:\\users\\theoh\\anaconda3\\envs\\lab7\\lib\\site-packages (from requests->dataretrieval) (2.0.12)\n",
      "Requirement already satisfied: certifi>=2017.4.17 in c:\\users\\theoh\\anaconda3\\envs\\lab7\\lib\\site-packages (from requests->dataretrieval) (2021.10.8)\n",
      "Requirement already satisfied: six>=1.5 in c:\\users\\theoh\\anaconda3\\envs\\lab7\\lib\\site-packages (from python-dateutil>=2.8.1->pandas->dataretrieval) (1.16.0)\n"
     ]
    }
   ],
   "source": [
    "# Install package for obtaining USGS streamflow data\n",
    "!pip install -U dataretrieval"
   ]
  },
  {
   "cell_type": "code",
   "execution_count": 2,
   "id": "6611e5c6",
   "metadata": {},
   "outputs": [
    {
     "data": {
      "text/html": [
       "<div>\n",
       "<style scoped>\n",
       "    .dataframe tbody tr th:only-of-type {\n",
       "        vertical-align: middle;\n",
       "    }\n",
       "\n",
       "    .dataframe tbody tr th {\n",
       "        vertical-align: top;\n",
       "    }\n",
       "\n",
       "    .dataframe thead th {\n",
       "        text-align: right;\n",
       "    }\n",
       "</style>\n",
       "<table border=\"1\" class=\"dataframe\">\n",
       "  <thead>\n",
       "    <tr style=\"text-align: right;\">\n",
       "      <th></th>\n",
       "      <th>00060_Mean</th>\n",
       "      <th>00060_Mean_cd</th>\n",
       "      <th>site_no</th>\n",
       "      <th>00065_Mean</th>\n",
       "      <th>00065_Mean_cd</th>\n",
       "    </tr>\n",
       "    <tr>\n",
       "      <th>datetime</th>\n",
       "      <th></th>\n",
       "      <th></th>\n",
       "      <th></th>\n",
       "      <th></th>\n",
       "      <th></th>\n",
       "    </tr>\n",
       "  </thead>\n",
       "  <tbody>\n",
       "    <tr>\n",
       "      <th>2021-01-01 00:00:00+00:00</th>\n",
       "      <td>2040.0</td>\n",
       "      <td>A</td>\n",
       "      <td>02087183</td>\n",
       "      <td>3.01</td>\n",
       "      <td>A</td>\n",
       "    </tr>\n",
       "    <tr>\n",
       "      <th>2021-01-02 00:00:00+00:00</th>\n",
       "      <td>2040.0</td>\n",
       "      <td>A</td>\n",
       "      <td>02087183</td>\n",
       "      <td>3.01</td>\n",
       "      <td>A</td>\n",
       "    </tr>\n",
       "    <tr>\n",
       "      <th>2021-01-03 00:00:00+00:00</th>\n",
       "      <td>2060.0</td>\n",
       "      <td>A</td>\n",
       "      <td>02087183</td>\n",
       "      <td>3.02</td>\n",
       "      <td>A</td>\n",
       "    </tr>\n",
       "    <tr>\n",
       "      <th>2021-01-04 00:00:00+00:00</th>\n",
       "      <td>2090.0</td>\n",
       "      <td>A</td>\n",
       "      <td>02087183</td>\n",
       "      <td>3.03</td>\n",
       "      <td>A</td>\n",
       "    </tr>\n",
       "    <tr>\n",
       "      <th>2021-01-05 00:00:00+00:00</th>\n",
       "      <td>2890.0</td>\n",
       "      <td>A</td>\n",
       "      <td>02087183</td>\n",
       "      <td>3.33</td>\n",
       "      <td>A</td>\n",
       "    </tr>\n",
       "  </tbody>\n",
       "</table>\n",
       "</div>"
      ],
      "text/plain": [
       "                           00060_Mean 00060_Mean_cd   site_no  00065_Mean  \\\n",
       "datetime                                                                    \n",
       "2021-01-01 00:00:00+00:00      2040.0             A  02087183        3.01   \n",
       "2021-01-02 00:00:00+00:00      2040.0             A  02087183        3.01   \n",
       "2021-01-03 00:00:00+00:00      2060.0             A  02087183        3.02   \n",
       "2021-01-04 00:00:00+00:00      2090.0             A  02087183        3.03   \n",
       "2021-01-05 00:00:00+00:00      2890.0             A  02087183        3.33   \n",
       "\n",
       "                          00065_Mean_cd  \n",
       "datetime                                 \n",
       "2021-01-01 00:00:00+00:00             A  \n",
       "2021-01-02 00:00:00+00:00             A  \n",
       "2021-01-03 00:00:00+00:00             A  \n",
       "2021-01-04 00:00:00+00:00             A  \n",
       "2021-01-05 00:00:00+00:00             A  "
      ]
     },
     "execution_count": 2,
     "metadata": {},
     "output_type": "execute_result"
    }
   ],
   "source": [
    "# Import the functions for downloading data from NWIS\n",
    "import dataretrieval.nwis as nwis\n",
    "\n",
    "# Specify the USGS site code\n",
    "site = '02087183'\n",
    "\n",
    "# Get instantaneous values (iv)\n",
    "df = nwis.get_record(sites=site, service='dv', start='2021-01-01', end='2021-12-31')\n",
    "df.head()"
   ]
  },
  {
   "cell_type": "code",
   "execution_count": 3,
   "id": "024c7ba4",
   "metadata": {},
   "outputs": [
    {
     "data": {
      "text/plain": [
       "<AxesSubplot:xlabel='datetime'>"
      ]
     },
     "execution_count": 3,
     "metadata": {},
     "output_type": "execute_result"
    },
    {
     "data": {
      "image/png": "[encoded data removed]",
      "text/plain": [
       "<Figure size 432x288 with 1 Axes>"
      ]
     },
     "metadata": {
      "needs_background": "light"
     },
     "output_type": "display_data"
    }
   ],
   "source": [
    "# Simple plot\n",
    "df['00060_Mean'].plot()"
   ]
  },
  {
   "cell_type": "markdown",
   "id": "b50db9cc",
   "metadata": {},
   "source": [
    "The above figure shows daily discharge, in cubic feet per second, for the year of 2021 at a gage below the dam at Falls Lake in North Carolina."
   ]
  },
  {
   "cell_type": "markdown",
   "id": "f42608ee",
   "metadata": {},
   "source": [
    "## Question 2"
   ]
  },
  {
   "cell_type": "code",
   "execution_count": 4,
   "id": "1e628199",
   "metadata": {},
   "outputs": [],
   "source": [
    "neuse = nwis.get_record(sites='02091814', service='dv', start='2020-10-01', end='2021-09-30')"
   ]
  },
  {
   "cell_type": "code",
   "execution_count": 5,
   "id": "a35ff83d",
   "metadata": {},
   "outputs": [
    {
     "data": {
      "text/plain": [
       "7583"
      ]
     },
     "execution_count": 5,
     "metadata": {},
     "output_type": "execute_result"
    }
   ],
   "source": [
    "int(neuse['00060_Mean'].mean())"
   ]
  },
  {
   "cell_type": "markdown",
   "id": "8ab78aec",
   "metadata": {},
   "source": [
    "Mean daily discharge between 10-01-2020 and 09-30-2021 on the Neuse River in NC"
   ]
  },
  {
   "cell_type": "code",
   "execution_count": 6,
   "id": "5b2b88f6",
   "metadata": {},
   "outputs": [],
   "source": [
    "colorado = nwis.get_record(sites='09429490', service='dv', start='2020-10-01', end='2021-09-30')"
   ]
  },
  {
   "cell_type": "code",
   "execution_count": 7,
   "id": "3b0bcb8b",
   "metadata": {},
   "outputs": [
    {
     "data": {
      "text/plain": [
       "7643"
      ]
     },
     "execution_count": 7,
     "metadata": {},
     "output_type": "execute_result"
    }
   ],
   "source": [
    "int(colorado['00060_Mean'].mean())"
   ]
  },
  {
   "cell_type": "markdown",
   "id": "9dcc7dc7",
   "metadata": {},
   "source": [
    "Mean daily discharge between 10-01-2020 and 09-30-2021 on the Colorado River in CA-AZ"
   ]
  },
  {
   "cell_type": "code",
   "execution_count": 8,
   "id": "5ef7d3df",
   "metadata": {},
   "outputs": [],
   "source": [
    "willamette = nwis.get_record(sites='14166000', service='dv', start='2020-10-01', end='2021-09-30')"
   ]
  },
  {
   "cell_type": "code",
   "execution_count": 9,
   "id": "4b4b0dc9",
   "metadata": {},
   "outputs": [
    {
     "data": {
      "text/plain": [
       "8429"
      ]
     },
     "execution_count": 9,
     "metadata": {},
     "output_type": "execute_result"
    }
   ],
   "source": [
    "int(willamette['00060_Mean'].mean())"
   ]
  },
  {
   "cell_type": "markdown",
   "id": "5fd86b3f",
   "metadata": {},
   "source": [
    "Mean daily discharge between 10-01-2020 and 09-30-2021 on the Willammette River in OR"
   ]
  },
  {
   "cell_type": "markdown",
   "id": "00017f16",
   "metadata": {},
   "source": [
    "<table>\n",
    "    <tr>\n",
    "        <th>site name</th>\n",
    "        <th>site number</th>\n",
    "        <th>mean daily discharge</th>\n",
    "    </tr>\n",
    "    <tr>\n",
    "        <td>NEUSE RIVER NEAR FORT BARNWELL, NC</td>\n",
    "        <td>02091814</td>\n",
    "        <td>7583</td>\n",
    "    </tr>\n",
    "    <tr>\n",
    "        <td>COLORADO RIVER ABOVE IMPERIAL DAM, AZ-CA</td>\n",
    "        <td>09429490</td>\n",
    "        <td>7643</td>\n",
    "    </tr>\n",
    "    <tr>\n",
    "        <td>WILLAMETTE RIVER AT HARRISBURG, OR</td>\n",
    "        <td>14166000</td>\n",
    "        <td>8429</td>\n",
    "    </tr>\n",
    "</table>"
   ]
  },
  {
   "cell_type": "markdown",
   "id": "a1b70f9b",
   "metadata": {},
   "source": [
    "## Question 3"
   ]
  },
  {
   "cell_type": "code",
   "execution_count": 10,
   "id": "3316dc6b",
   "metadata": {},
   "outputs": [],
   "source": [
    "# Import packages\n",
    "import numpy as np\n",
    "import pandas as pd\n",
    "import folium"
   ]
  },
  {
   "cell_type": "code",
   "execution_count": 11,
   "id": "75ec7a15",
   "metadata": {},
   "outputs": [],
   "source": [
    "# Read HTML table data\n",
    "mountains = pd.read_html('https://en.wikipedia.org/wiki/List_of_mountain_peaks_of_Oregon')"
   ]
  },
  {
   "cell_type": "code",
   "execution_count": 12,
   "id": "6f50d580",
   "metadata": {},
   "outputs": [],
   "source": [
    "# We would like the table that contains the highest summits of Oregon which happens to be the second one\n",
    "mountain_stats = mountains[1]"
   ]
  },
  {
   "cell_type": "code",
   "execution_count": 13,
   "id": "21cd18c2",
   "metadata": {},
   "outputs": [],
   "source": [
    "# Some wrangling\n",
    "mountain_stats['Location'] = mountain_stats['Location'].str.replace(mountain_stats['Location'].loc[0], \"45°22′25″N 121°41′45″W\\ufeff / \\ufeff45.3735°N 121.6959°W\", regex=True)"
   ]
  },
  {
   "cell_type": "code",
   "execution_count": 14,
   "id": "8786947f",
   "metadata": {},
   "outputs": [],
   "source": [
    "# To get these data from every row, we can write a quick for loop\n",
    "coords = []\n",
    "for i in range(len(mountain_stats)):\n",
    "    lat = float(mountain_stats['Location'].iloc[i][27:34])\n",
    "    lon = float(mountain_stats['Location'].iloc[i][37:45]) * -1\n",
    "    coords.append((lat, lon))"
   ]
  },
  {
   "cell_type": "code",
   "execution_count": 15,
   "id": "1e555549",
   "metadata": {},
   "outputs": [
    {
     "data": {
      "text/plain": [
       "[92.2,\n",
       " 77.5,\n",
       " 63.4,\n",
       " 7.0,\n",
       " 1.8,\n",
       " 202.0,\n",
       " 201.0,\n",
       " 9.48,\n",
       " 7.79,\n",
       " 11.84,\n",
       " 111.8,\n",
       " 5.32,\n",
       " 81.1,\n",
       " 5.52,\n",
       " 69.9,\n",
       " 11.02,\n",
       " 74.2,\n",
       " 25.9,\n",
       " 41.4,\n",
       " 45.5,\n",
       " 71.4,\n",
       " 28.1,\n",
       " 12.49,\n",
       " 65.7,\n",
       " 23.7,\n",
       " 53.1,\n",
       " 23.5,\n",
       " 15.98,\n",
       " 10.73,\n",
       " 35.6,\n",
       " 46.5]"
      ]
     },
     "execution_count": 15,
     "metadata": {},
     "output_type": "execute_result"
    }
   ],
   "source": [
    "# Get Isolation data as float\n",
    "isolation = []\n",
    "for i in range(len(mountain_stats)):\n",
    "    iso = float(mountain_stats['Isolation'].iloc[i][:-3])\n",
    "    isolation.append(iso)\n",
    "isolation"
   ]
  },
  {
   "cell_type": "code",
   "execution_count": 16,
   "id": "c48d4aa7",
   "metadata": {},
   "outputs": [
    {
     "data": {
      "text/html": [
       "<div style=\"width:100%;\"><div style=\"position:relative;width:100%;height:0;padding-bottom:60%;\"><span style=\"color:#565656\">Make this Notebook Trusted to load map: File -> Trust Notebook</span><iframe src=\"about:blank\" style=\"position:absolute;width:100%;height:100%;left:0;top:0;border:none !important;\" data-html=%3C%21DOCTYPE%20html%3E%0A%3Chead%3E%20%20%20%20%0A%20%20%20%20%3Cmeta%20http-equiv%3D%22content-type%22%20content%3D%22text/html%3B%20charset%3DUTF-8%22%20/%3E%0A%20%20%20%20%0A%20%20%20%20%20%20%20%20%3Cscript%3E%0A%20%20%20%20%20%20%20%20%20%20%20%20L_NO_TOUCH%20%3D%20false%3B%0A%20%20%20%20%20%20%20%20%20%20%20%20L_DISABLE_3D%20%3D%20false%3B%0A%20%20%20%20%20%20%20%20%3C/script%3E%0A%20%20%20%20%0A%20%20%20%20%3Cstyle%3Ehtml%2C%20body%20%7Bwidth%3A%20100%25%3Bheight%3A%20100%25%3Bmargin%3A%200%3Bpadding%3A%200%3B%7D%3C/style%3E%0A%20%20%20%20%3Cstyle%3E%23map%20%7Bposition%3Aabsolute%3Btop%3A0%3Bbottom%3A0%3Bright%3A0%3Bleft%3A0%3B%7D%3C/style%3E%0A%20%20%20%20%3Cscript%20src%3D%22https%3A//cdn.jsdelivr.net/npm/leaflet%401.6.0/dist/leaflet.js%22%3E%3C/script%3E%0A%20%20%20%20%3Cscript%20src%3D%22https%3A//code.jquery.com/jquery-1.12.4.min.js%22%3E%3C/script%3E%0A%20%20%20%20%3Cscript%20src%3D%22https%3A//maxcdn.bootstrapcdn.com/bootstrap/3.2.0/js/bootstrap.min.js%22%3E%3C/script%3E%0A%20%20%20%20%3Cscript%20src%3D%22https%3A//cdnjs.cloudflare.com/ajax/libs/Leaflet.awesome-markers/2.0.2/leaflet.awesome-markers.js%22%3E%3C/script%3E%0A%20%20%20%20%3Clink%20rel%3D%22stylesheet%22%20href%3D%22https%3A//cdn.jsdelivr.net/npm/leaflet%401.6.0/dist/leaflet.css%22/%3E%0A%20%20%20%20%3Clink%20rel%3D%22stylesheet%22%20href%3D%22https%3A//maxcdn.bootstrapcdn.com/bootstrap/3.2.0/css/bootstrap.min.css%22/%3E%0A%20%20%20%20%3Clink%20rel%3D%22stylesheet%22%20href%3D%22https%3A//maxcdn.bootstrapcdn.com/bootstrap/3.2.0/css/bootstrap-theme.min.css%22/%3E%0A%20%20%20%20%3Clink%20rel%3D%22stylesheet%22%20href%3D%22https%3A//maxcdn.bootstrapcdn.com/font-awesome/4.6.3/css/font-awesome.min.css%22/%3E%0A%20%20%20%20%3Clink%20rel%3D%22stylesheet%22%20href%3D%22https%3A//cdnjs.cloudflare.com/ajax/libs/Leaflet.awesome-markers/2.0.2/leaflet.awesome-markers.css%22/%3E%0A%20%20%20%20%3Clink%20rel%3D%22stylesheet%22%20href%3D%22https%3A//cdn.jsdelivr.net/gh/python-visualization/folium/folium/templates/leaflet.awesome.rotate.min.css%22/%3E%0A%20%20%20%20%0A%20%20%20%20%20%20%20%20%20%20%20%20%3Cmeta%20name%3D%22viewport%22%20content%3D%22width%3Ddevice-width%2C%0A%20%20%20%20%20%20%20%20%20%20%20%20%20%20%20%20initial-scale%3D1.0%2C%20maximum-scale%3D1.0%2C%20user-scalable%3Dno%22%20/%3E%0A%20%20%20%20%20%20%20%20%20%20%20%20%3Cstyle%3E%0A%20%20%20%20%20%20%20%20%20%20%20%20%20%20%20%20%23map_5c0e8c1285834e4f8656bbb06ace69ff%20%7B%0A%20%20%20%20%20%20%20%20%20%20%20%20%20%20%20%20%20%20%20%20position%3A%20relative%3B%0A%20%20%20%20%20%20%20%20%20%20%20%20%20%20%20%20%20%20%20%20width%3A%20100.0%25%3B%0A%20%20%20%20%20%20%20%20%20%20%20%20%20%20%20%20%20%20%20%20height%3A%20100.0%25%3B%0A%20%20%20%20%20%20%20%20%20%20%20%20%20%20%20%20%20%20%20%20left%3A%200.0%25%3B%0A%20%20%20%20%20%20%20%20%20%20%20%20%20%20%20%20%20%20%20%20top%3A%200.0%25%3B%0A%20%20%20%20%20%20%20%20%20%20%20%20%20%20%20%20%7D%0A%20%20%20%20%20%20%20%20%20%20%20%20%3C/style%3E%0A%20%20%20%20%20%20%20%20%0A%3C/head%3E%0A%3Cbody%3E%20%20%20%20%0A%20%20%20%20%0A%20%20%20%20%20%20%20%20%20%20%20%20%3Cdiv%20class%3D%22folium-map%22%20id%3D%22map_5c0e8c1285834e4f8656bbb06ace69ff%22%20%3E%3C/div%3E%0A%20%20%20%20%20%20%20%20%0A%3C/body%3E%0A%3Cscript%3E%20%20%20%20%0A%20%20%20%20%0A%20%20%20%20%20%20%20%20%20%20%20%20var%20map_5c0e8c1285834e4f8656bbb06ace69ff%20%3D%20L.map%28%0A%20%20%20%20%20%20%20%20%20%20%20%20%20%20%20%20%22map_5c0e8c1285834e4f8656bbb06ace69ff%22%2C%0A%20%20%20%20%20%20%20%20%20%20%20%20%20%20%20%20%7B%0A%20%20%20%20%20%20%20%20%20%20%20%20%20%20%20%20%20%20%20%20center%3A%20%5B44.0%2C%20-121.0%5D%2C%0A%20%20%20%20%20%20%20%20%20%20%20%20%20%20%20%20%20%20%20%20crs%3A%20L.CRS.EPSG3857%2C%0A%20%20%20%20%20%20%20%20%20%20%20%20%20%20%20%20%20%20%20%20zoom%3A%207%2C%0A%20%20%20%20%20%20%20%20%20%20%20%20%20%20%20%20%20%20%20%20zoomControl%3A%20true%2C%0A%20%20%20%20%20%20%20%20%20%20%20%20%20%20%20%20%20%20%20%20preferCanvas%3A%20false%2C%0A%20%20%20%20%20%20%20%20%20%20%20%20%20%20%20%20%7D%0A%20%20%20%20%20%20%20%20%20%20%20%20%29%3B%0A%0A%20%20%20%20%20%20%20%20%20%20%20%20%0A%0A%20%20%20%20%20%20%20%20%0A%20%20%20%20%0A%20%20%20%20%20%20%20%20%20%20%20%20var%20tile_layer_0efec6fddda84b748fbf18de731a800b%20%3D%20L.tileLayer%28%0A%20%20%20%20%20%20%20%20%20%20%20%20%20%20%20%20%22https%3A//%7Bs%7D.tile.openstreetmap.org/%7Bz%7D/%7Bx%7D/%7By%7D.png%22%2C%0A%20%20%20%20%20%20%20%20%20%20%20%20%20%20%20%20%7B%22attribution%22%3A%20%22Data%20by%20%5Cu0026copy%3B%20%5Cu003ca%20href%3D%5C%22http%3A//openstreetmap.org%5C%22%5Cu003eOpenStreetMap%5Cu003c/a%5Cu003e%2C%20under%20%5Cu003ca%20href%3D%5C%22http%3A//www.openstreetmap.org/copyright%5C%22%5Cu003eODbL%5Cu003c/a%5Cu003e.%22%2C%20%22detectRetina%22%3A%20false%2C%20%22maxNativeZoom%22%3A%2018%2C%20%22maxZoom%22%3A%2018%2C%20%22minZoom%22%3A%200%2C%20%22noWrap%22%3A%20false%2C%20%22opacity%22%3A%201%2C%20%22subdomains%22%3A%20%22abc%22%2C%20%22tms%22%3A%20false%7D%0A%20%20%20%20%20%20%20%20%20%20%20%20%29.addTo%28map_5c0e8c1285834e4f8656bbb06ace69ff%29%3B%0A%20%20%20%20%20%20%20%20%0A%20%20%20%20%0A%20%20%20%20%20%20%20%20%20%20%20%20var%20marker_ab7c0b7ce17d447b8c053e468b957ddb%20%3D%20L.marker%28%0A%20%20%20%20%20%20%20%20%20%20%20%20%20%20%20%20%5B45.3735%2C%20-121.6959%5D%2C%0A%20%20%20%20%20%20%20%20%20%20%20%20%20%20%20%20%7B%7D%0A%20%20%20%20%20%20%20%20%20%20%20%20%29.addTo%28map_5c0e8c1285834e4f8656bbb06ace69ff%29%3B%0A%20%20%20%20%20%20%20%20%0A%20%20%20%20%0A%20%20%20%20%20%20%20%20var%20popup_fe0c798e99204625830603f36c30910b%20%3D%20L.popup%28%7B%22maxWidth%22%3A%20%22100%25%22%7D%29%3B%0A%0A%20%20%20%20%20%20%20%20%0A%20%20%20%20%20%20%20%20%20%20%20%20var%20html_855cf0f5429e4e3e87043b15d6c148d6%20%3D%20%24%28%60%3Cdiv%20id%3D%22html_855cf0f5429e4e3e87043b15d6c148d6%22%20style%3D%22width%3A%20100.0%25%3B%20height%3A%20100.0%25%3B%22%3EIsolation%3A%2092.2%3C/div%3E%60%29%5B0%5D%3B%0A%20%20%20%20%20%20%20%20%20%20%20%20popup_fe0c798e99204625830603f36c30910b.setContent%28html_855cf0f5429e4e3e87043b15d6c148d6%29%3B%0A%20%20%20%20%20%20%20%20%0A%0A%20%20%20%20%20%20%20%20marker_ab7c0b7ce17d447b8c053e468b957ddb.bindPopup%28popup_fe0c798e99204625830603f36c30910b%29%0A%20%20%20%20%20%20%20%20%3B%0A%0A%20%20%20%20%20%20%20%20%0A%20%20%20%20%0A%20%20%20%20%0A%20%20%20%20%20%20%20%20%20%20%20%20var%20marker_eb2d5eb22874417f98c9f300fe95ccf6%20%3D%20L.marker%28%0A%20%20%20%20%20%20%20%20%20%20%20%20%20%20%20%20%5B44.6743%2C%20-121.7996%5D%2C%0A%20%20%20%20%20%20%20%20%20%20%20%20%20%20%20%20%7B%7D%0A%20%20%20%20%20%20%20%20%20%20%20%20%29.addTo%28map_5c0e8c1285834e4f8656bbb06ace69ff%29%3B%0A%20%20%20%20%20%20%20%20%0A%20%20%20%20%0A%20%20%20%20%20%20%20%20var%20popup_642cc64eb1bd4e8db8ec8aa25bdf9af7%20%3D%20L.popup%28%7B%22maxWidth%22%3A%20%22100%25%22%7D%29%3B%0A%0A%20%20%20%20%20%20%20%20%0A%20%20%20%20%20%20%20%20%20%20%20%20var%20html_6191b5e1323c4a4282cf20118898972f%20%3D%20%24%28%60%3Cdiv%20id%3D%22html_6191b5e1323c4a4282cf20118898972f%22%20style%3D%22width%3A%20100.0%25%3B%20height%3A%20100.0%25%3B%22%3EIsolation%3A%2077.5%3C/div%3E%60%29%5B0%5D%3B%0A%20%20%20%20%20%20%20%20%20%20%20%20popup_642cc64eb1bd4e8db8ec8aa25bdf9af7.setContent%28html_6191b5e1323c4a4282cf20118898972f%29%3B%0A%20%20%20%20%20%20%20%20%0A%0A%20%20%20%20%20%20%20%20marker_eb2d5eb22874417f98c9f300fe95ccf6.bindPopup%28popup_642cc64eb1bd4e8db8ec8aa25bdf9af7%29%0A%20%20%20%20%20%20%20%20%3B%0A%0A%20%20%20%20%20%20%20%20%0A%20%20%20%20%0A%20%20%20%20%0A%20%20%20%20%20%20%20%20%20%20%20%20var%20marker_df3844974aa14a38b0e0ad5d34d14af2%20%3D%20L.marker%28%0A%20%20%20%20%20%20%20%20%20%20%20%20%20%20%20%20%5B44.1035%2C%20-121.7693%5D%2C%0A%20%20%20%20%20%20%20%20%20%20%20%20%20%20%20%20%7B%7D%0A%20%20%20%20%20%20%20%20%20%20%20%20%29.addTo%28map_5c0e8c1285834e4f8656bbb06ace69ff%29%3B%0A%20%20%20%20%20%20%20%20%0A%20%20%20%20%0A%20%20%20%20%20%20%20%20var%20popup_e8cfab29fab045c3bf6cee7672ee2328%20%3D%20L.popup%28%7B%22maxWidth%22%3A%20%22100%25%22%7D%29%3B%0A%0A%20%20%20%20%20%20%20%20%0A%20%20%20%20%20%20%20%20%20%20%20%20var%20html_4188328f90844199a951d065b645dc59%20%3D%20%24%28%60%3Cdiv%20id%3D%22html_4188328f90844199a951d065b645dc59%22%20style%3D%22width%3A%20100.0%25%3B%20height%3A%20100.0%25%3B%22%3EIsolation%3A%2063.4%3C/div%3E%60%29%5B0%5D%3B%0A%20%20%20%20%20%20%20%20%20%20%20%20popup_e8cfab29fab045c3bf6cee7672ee2328.setContent%28html_4188328f90844199a951d065b645dc59%29%3B%0A%20%20%20%20%20%20%20%20%0A%0A%20%20%20%20%20%20%20%20marker_df3844974aa14a38b0e0ad5d34d14af2.bindPopup%28popup_e8cfab29fab045c3bf6cee7672ee2328%29%0A%20%20%20%20%20%20%20%20%3B%0A%0A%20%20%20%20%20%20%20%20%0A%20%20%20%20%0A%20%20%20%20%0A%20%20%20%20%20%20%20%20%20%20%20%20var%20marker_26a9bcee40f247a39b4f496c6f9084ec%20%3D%20L.marker%28%0A%20%20%20%20%20%20%20%20%20%20%20%20%20%20%20%20%5B44.1666%2C%20-121.7723%5D%2C%0A%20%20%20%20%20%20%20%20%20%20%20%20%20%20%20%20%7B%7D%0A%20%20%20%20%20%20%20%20%20%20%20%20%29.addTo%28map_5c0e8c1285834e4f8656bbb06ace69ff%29%3B%0A%20%20%20%20%20%20%20%20%0A%20%20%20%20%0A%20%20%20%20%20%20%20%20var%20popup_7cf6fb183f1b48bcb65d6f9763d36249%20%3D%20L.popup%28%7B%22maxWidth%22%3A%20%22100%25%22%7D%29%3B%0A%0A%20%20%20%20%20%20%20%20%0A%20%20%20%20%20%20%20%20%20%20%20%20var%20html_3f8bde2d1d3949ad9692528ae50b9793%20%3D%20%24%28%60%3Cdiv%20id%3D%22html_3f8bde2d1d3949ad9692528ae50b9793%22%20style%3D%22width%3A%20100.0%25%3B%20height%3A%20100.0%25%3B%22%3EIsolation%3A%207.0%3C/div%3E%60%29%5B0%5D%3B%0A%20%20%20%20%20%20%20%20%20%20%20%20popup_7cf6fb183f1b48bcb65d6f9763d36249.setContent%28html_3f8bde2d1d3949ad9692528ae50b9793%29%3B%0A%20%20%20%20%20%20%20%20%0A%0A%20%20%20%20%20%20%20%20marker_26a9bcee40f247a39b4f496c6f9084ec.bindPopup%28popup_7cf6fb183f1b48bcb65d6f9763d36249%29%0A%20%20%20%20%20%20%20%20%3B%0A%0A%20%20%20%20%20%20%20%20%0A%20%20%20%20%0A%20%20%20%20%0A%20%20%20%20%20%20%20%20%20%20%20%20var%20marker_cba04cab609e4b01bcd253fbb5b95309%20%3D%20L.marker%28%0A%20%20%20%20%20%20%20%20%20%20%20%20%20%20%20%20%5B44.1483%2C%20-121.784%5D%2C%0A%20%20%20%20%20%20%20%20%20%20%20%20%20%20%20%20%7B%7D%0A%20%20%20%20%20%20%20%20%20%20%20%20%29.addTo%28map_5c0e8c1285834e4f8656bbb06ace69ff%29%3B%0A%20%20%20%20%20%20%20%20%0A%20%20%20%20%0A%20%20%20%20%20%20%20%20var%20popup_c067f96f4021436ea5f1f91a0e17cfec%20%3D%20L.popup%28%7B%22maxWidth%22%3A%20%22100%25%22%7D%29%3B%0A%0A%20%20%20%20%20%20%20%20%0A%20%20%20%20%20%20%20%20%20%20%20%20var%20html_6946317536a143c69e22df180d16478f%20%3D%20%24%28%60%3Cdiv%20id%3D%22html_6946317536a143c69e22df180d16478f%22%20style%3D%22width%3A%20100.0%25%3B%20height%3A%20100.0%25%3B%22%3EIsolation%3A%201.8%3C/div%3E%60%29%5B0%5D%3B%0A%20%20%20%20%20%20%20%20%20%20%20%20popup_c067f96f4021436ea5f1f91a0e17cfec.setContent%28html_6946317536a143c69e22df180d16478f%29%3B%0A%20%20%20%20%20%20%20%20%0A%0A%20%20%20%20%20%20%20%20marker_cba04cab609e4b01bcd253fbb5b95309.bindPopup%28popup_c067f96f4021436ea5f1f91a0e17cfec%29%0A%20%20%20%20%20%20%20%20%3B%0A%0A%20%20%20%20%20%20%20%20%0A%20%20%20%20%0A%20%20%20%20%0A%20%20%20%20%20%20%20%20%20%20%20%20var%20marker_206b8612d4ee498d9a35ff94065d8a26%20%3D%20L.marker%28%0A%20%20%20%20%20%20%20%20%20%20%20%20%20%20%20%20%5B45.245%2C%20-117.2929%5D%2C%0A%20%20%20%20%20%20%20%20%20%20%20%20%20%20%20%20%7B%7D%0A%20%20%20%20%20%20%20%20%20%20%20%20%29.addTo%28map_5c0e8c1285834e4f8656bbb06ace69ff%29%3B%0A%20%20%20%20%20%20%20%20%0A%20%20%20%20%0A%20%20%20%20%20%20%20%20var%20popup_c28aea6e19684919a81412cddc694c40%20%3D%20L.popup%28%7B%22maxWidth%22%3A%20%22100%25%22%7D%29%3B%0A%0A%20%20%20%20%20%20%20%20%0A%20%20%20%20%20%20%20%20%20%20%20%20var%20html_b95b8be35f1a4c3f81db68870388db6e%20%3D%20%24%28%60%3Cdiv%20id%3D%22html_b95b8be35f1a4c3f81db68870388db6e%22%20style%3D%22width%3A%20100.0%25%3B%20height%3A%20100.0%25%3B%22%3EIsolation%3A%20202.0%3C/div%3E%60%29%5B0%5D%3B%0A%20%20%20%20%20%20%20%20%20%20%20%20popup_c28aea6e19684919a81412cddc694c40.setContent%28html_b95b8be35f1a4c3f81db68870388db6e%29%3B%0A%20%20%20%20%20%20%20%20%0A%0A%20%20%20%20%20%20%20%20marker_206b8612d4ee498d9a35ff94065d8a26.bindPopup%28popup_c28aea6e19684919a81412cddc694c40%29%0A%20%20%20%20%20%20%20%20%3B%0A%0A%20%20%20%20%20%20%20%20%0A%20%20%20%20%0A%20%20%20%20%0A%20%20%20%20%20%20%20%20%20%20%20%20var%20marker_521c0ba576794687857b118cc8c685f9%20%3D%20L.marker%28%0A%20%20%20%20%20%20%20%20%20%20%20%20%20%20%20%20%5B42.6364%2C%20-118.5767%5D%2C%0A%20%20%20%20%20%20%20%20%20%20%20%20%20%20%20%20%7B%7D%0A%20%20%20%20%20%20%20%20%20%20%20%20%29.addTo%28map_5c0e8c1285834e4f8656bbb06ace69ff%29%3B%0A%20%20%20%20%20%20%20%20%0A%20%20%20%20%0A%20%20%20%20%20%20%20%20var%20popup_37dab842cebe436495538edbd1890f5b%20%3D%20L.popup%28%7B%22maxWidth%22%3A%20%22100%25%22%7D%29%3B%0A%0A%20%20%20%20%20%20%20%20%0A%20%20%20%20%20%20%20%20%20%20%20%20var%20html_42d5ad1f5df2402ab6d92989c61e5c82%20%3D%20%24%28%60%3Cdiv%20id%3D%22html_42d5ad1f5df2402ab6d92989c61e5c82%22%20style%3D%22width%3A%20100.0%25%3B%20height%3A%20100.0%25%3B%22%3EIsolation%3A%20201.0%3C/div%3E%60%29%5B0%5D%3B%0A%20%20%20%20%20%20%20%20%20%20%20%20popup_37dab842cebe436495538edbd1890f5b.setContent%28html_42d5ad1f5df2402ab6d92989c61e5c82%29%3B%0A%20%20%20%20%20%20%20%20%0A%0A%20%20%20%20%20%20%20%20marker_521c0ba576794687857b118cc8c685f9.bindPopup%28popup_37dab842cebe436495538edbd1890f5b%29%0A%20%20%20%20%20%20%20%20%3B%0A%0A%20%20%20%20%20%20%20%20%0A%20%20%20%20%0A%20%20%20%20%0A%20%20%20%20%20%20%20%20%20%20%20%20var%20marker_9d4d000610f34f789982174501d2c215%20%3D%20L.marker%28%0A%20%20%20%20%20%20%20%20%20%20%20%20%20%20%20%20%5B45.203%2C%20-117.175%5D%2C%0A%20%20%20%20%20%20%20%20%20%20%20%20%20%20%20%20%7B%7D%0A%20%20%20%20%20%20%20%20%20%20%20%20%29.addTo%28map_5c0e8c1285834e4f8656bbb06ace69ff%29%3B%0A%20%20%20%20%20%20%20%20%0A%20%20%20%20%0A%20%20%20%20%20%20%20%20var%20popup_260e4cb4baf84bab8194b7f7b77c6002%20%3D%20L.popup%28%7B%22maxWidth%22%3A%20%22100%25%22%7D%29%3B%0A%0A%20%20%20%20%20%20%20%20%0A%20%20%20%20%20%20%20%20%20%20%20%20var%20html_04730bd985c94e379fdc8f39d70373d1%20%3D%20%24%28%60%3Cdiv%20id%3D%22html_04730bd985c94e379fdc8f39d70373d1%22%20style%3D%22width%3A%20100.0%25%3B%20height%3A%20100.0%25%3B%22%3EIsolation%3A%209.48%3C/div%3E%60%29%5B0%5D%3B%0A%20%20%20%20%20%20%20%20%20%20%20%20popup_260e4cb4baf84bab8194b7f7b77c6002.setContent%28html_04730bd985c94e379fdc8f39d70373d1%29%3B%0A%20%20%20%20%20%20%20%20%0A%0A%20%20%20%20%20%20%20%20marker_9d4d000610f34f789982174501d2c215.bindPopup%28popup_260e4cb4baf84bab8194b7f7b77c6002%29%0A%20%20%20%20%20%20%20%20%3B%0A%0A%20%20%20%20%20%20%20%20%0A%20%20%20%20%0A%20%20%20%20%0A%20%20%20%20%20%20%20%20%20%20%20%20var%20marker_1724dd02bb0a42c693a63488d2a8c0e3%20%3D%20L.marker%28%0A%20%20%20%20%20%20%20%20%20%20%20%20%20%20%20%20%5B45.3046%2C%20-117.3452%5D%2C%0A%20%20%20%20%20%20%20%20%20%20%20%20%20%20%20%20%7B%7D%0A%20%20%20%20%20%20%20%20%20%20%20%20%29.addTo%28map_5c0e8c1285834e4f8656bbb06ace69ff%29%3B%0A%20%20%20%20%20%20%20%20%0A%20%20%20%20%0A%20%20%20%20%20%20%20%20var%20popup_0165d8f6180c4d24b3dd11eec8048cd6%20%3D%20L.popup%28%7B%22maxWidth%22%3A%20%22100%25%22%7D%29%3B%0A%0A%20%20%20%20%20%20%20%20%0A%20%20%20%20%20%20%20%20%20%20%20%20var%20html_9e2990b400954a35a91eb763240f8c45%20%3D%20%24%28%60%3Cdiv%20id%3D%22html_9e2990b400954a35a91eb763240f8c45%22%20style%3D%22width%3A%20100.0%25%3B%20height%3A%20100.0%25%3B%22%3EIsolation%3A%207.79%3C/div%3E%60%29%5B0%5D%3B%0A%20%20%20%20%20%20%20%20%20%20%20%20popup_0165d8f6180c4d24b3dd11eec8048cd6.setContent%28html_9e2990b400954a35a91eb763240f8c45%29%3B%0A%20%20%20%20%20%20%20%20%0A%0A%20%20%20%20%20%20%20%20marker_1724dd02bb0a42c693a63488d2a8c0e3.bindPopup%28popup_0165d8f6180c4d24b3dd11eec8048cd6%29%0A%20%20%20%20%20%20%20%20%3B%0A%0A%20%20%20%20%20%20%20%20%0A%20%20%20%20%0A%20%20%20%20%0A%20%20%20%20%20%20%20%20%20%20%20%20var%20marker_9b5aa1b1388e481c90c6872d6f973a90%20%3D%20L.marker%28%0A%20%20%20%20%20%20%20%20%20%20%20%20%20%20%20%20%5B45.0644%2C%20-117.246%5D%2C%0A%20%20%20%20%20%20%20%20%20%20%20%20%20%20%20%20%7B%7D%0A%20%20%20%20%20%20%20%20%20%20%20%20%29.addTo%28map_5c0e8c1285834e4f8656bbb06ace69ff%29%3B%0A%20%20%20%20%20%20%20%20%0A%20%20%20%20%0A%20%20%20%20%20%20%20%20var%20popup_2e34efe2c1f64a49a714fb356edda234%20%3D%20L.popup%28%7B%22maxWidth%22%3A%20%22100%25%22%7D%29%3B%0A%0A%20%20%20%20%20%20%20%20%0A%20%20%20%20%20%20%20%20%20%20%20%20var%20html_a8459cd8c0ad407f901af636e2d04a5c%20%3D%20%24%28%60%3Cdiv%20id%3D%22html_a8459cd8c0ad407f901af636e2d04a5c%22%20style%3D%22width%3A%20100.0%25%3B%20height%3A%20100.0%25%3B%22%3EIsolation%3A%2011.84%3C/div%3E%60%29%5B0%5D%3B%0A%20%20%20%20%20%20%20%20%20%20%20%20popup_2e34efe2c1f64a49a714fb356edda234.setContent%28html_a8459cd8c0ad407f901af636e2d04a5c%29%3B%0A%20%20%20%20%20%20%20%20%0A%0A%20%20%20%20%20%20%20%20marker_9b5aa1b1388e481c90c6872d6f973a90.bindPopup%28popup_2e34efe2c1f64a49a714fb356edda234%29%0A%20%20%20%20%20%20%20%20%3B%0A%0A%20%20%20%20%20%20%20%20%0A%20%20%20%20%0A%20%20%20%20%0A%20%20%20%20%20%20%20%20%20%20%20%20var%20marker_7a37ea4c62bd4bac9704816492736557%20%3D%20L.marker%28%0A%20%20%20%20%20%20%20%20%20%20%20%20%20%20%20%20%5B42.4445%2C%20-122.3156%5D%2C%0A%20%20%20%20%20%20%20%20%20%20%20%20%20%20%20%20%7B%7D%0A%20%20%20%20%20%20%20%20%20%20%20%20%29.addTo%28map_5c0e8c1285834e4f8656bbb06ace69ff%29%3B%0A%20%20%20%20%20%20%20%20%0A%20%20%20%20%0A%20%20%20%20%20%20%20%20var%20popup_d006c9397bfc45168222d63852750a34%20%3D%20L.popup%28%7B%22maxWidth%22%3A%20%22100%25%22%7D%29%3B%0A%0A%20%20%20%20%20%20%20%20%0A%20%20%20%20%20%20%20%20%20%20%20%20var%20html_264a5aeb57304e47a1a22398c0400c9b%20%3D%20%24%28%60%3Cdiv%20id%3D%22html_264a5aeb57304e47a1a22398c0400c9b%22%20style%3D%22width%3A%20100.0%25%3B%20height%3A%20100.0%25%3B%22%3EIsolation%3A%20111.8%3C/div%3E%60%29%5B0%5D%3B%0A%20%20%20%20%20%20%20%20%20%20%20%20popup_d006c9397bfc45168222d63852750a34.setContent%28html_264a5aeb57304e47a1a22398c0400c9b%29%3B%0A%20%20%20%20%20%20%20%20%0A%0A%20%20%20%20%20%20%20%20marker_7a37ea4c62bd4bac9704816492736557.bindPopup%28popup_d006c9397bfc45168222d63852750a34%29%0A%20%20%20%20%20%20%20%20%3B%0A%0A%20%20%20%20%20%20%20%20%0A%20%20%20%20%0A%20%20%20%20%0A%20%20%20%20%20%20%20%20%20%20%20%20var%20marker_9a76909193204545bbfc23783cb06d0e%20%3D%20L.marker%28%0A%20%20%20%20%20%20%20%20%20%20%20%20%20%20%20%20%5B45.2223%2C%20-117.3968%5D%2C%0A%20%20%20%20%20%20%20%20%20%20%20%20%20%20%20%20%7B%7D%0A%20%20%20%20%20%20%20%20%20%20%20%20%29.addTo%28map_5c0e8c1285834e4f8656bbb06ace69ff%29%3B%0A%20%20%20%20%20%20%20%20%0A%20%20%20%20%0A%20%20%20%20%20%20%20%20var%20popup_a106e25ad8f74ef19105d01110a77fa1%20%3D%20L.popup%28%7B%22maxWidth%22%3A%20%22100%25%22%7D%29%3B%0A%0A%20%20%20%20%20%20%20%20%0A%20%20%20%20%20%20%20%20%20%20%20%20var%20html_dbb1e9c8f8a348e89c8e2cd814e87b04%20%3D%20%24%28%60%3Cdiv%20id%3D%22html_dbb1e9c8f8a348e89c8e2cd814e87b04%22%20style%3D%22width%3A%20100.0%25%3B%20height%3A%20100.0%25%3B%22%3EIsolation%3A%205.32%3C/div%3E%60%29%5B0%5D%3B%0A%20%20%20%20%20%20%20%20%20%20%20%20popup_a106e25ad8f74ef19105d01110a77fa1.setContent%28html_dbb1e9c8f8a348e89c8e2cd814e87b04%29%3B%0A%20%20%20%20%20%20%20%20%0A%0A%20%20%20%20%20%20%20%20marker_9a76909193204545bbfc23783cb06d0e.bindPopup%28popup_a106e25ad8f74ef19105d01110a77fa1%29%0A%20%20%20%20%20%20%20%20%3B%0A%0A%20%20%20%20%20%20%20%20%0A%20%20%20%20%0A%20%20%20%20%0A%20%20%20%20%20%20%20%20%20%20%20%20var%20marker_f38ed3f8e0074428a9892cb239e9f0dd%20%3D%20L.marker%28%0A%20%20%20%20%20%20%20%20%20%20%20%20%20%20%20%20%5B43.1528%2C%20-122.0665%5D%2C%0A%20%20%20%20%20%20%20%20%20%20%20%20%20%20%20%20%7B%7D%0A%20%20%20%20%20%20%20%20%20%20%20%20%29.addTo%28map_5c0e8c1285834e4f8656bbb06ace69ff%29%3B%0A%20%20%20%20%20%20%20%20%0A%20%20%20%20%0A%20%20%20%20%20%20%20%20var%20popup_e313bf7a84bf479fa6e7bcd37e25367b%20%3D%20L.popup%28%7B%22maxWidth%22%3A%20%22100%25%22%7D%29%3B%0A%0A%20%20%20%20%20%20%20%20%0A%20%20%20%20%20%20%20%20%20%20%20%20var%20html_e5293e85d6414a2491e98aba237918ff%20%3D%20%24%28%60%3Cdiv%20id%3D%22html_e5293e85d6414a2491e98aba237918ff%22%20style%3D%22width%3A%20100.0%25%3B%20height%3A%20100.0%25%3B%22%3EIsolation%3A%2081.1%3C/div%3E%60%29%5B0%5D%3B%0A%20%20%20%20%20%20%20%20%20%20%20%20popup_e313bf7a84bf479fa6e7bcd37e25367b.setContent%28html_e5293e85d6414a2491e98aba237918ff%29%3B%0A%20%20%20%20%20%20%20%20%0A%0A%20%20%20%20%20%20%20%20marker_f38ed3f8e0074428a9892cb239e9f0dd.bindPopup%28popup_e313bf7a84bf479fa6e7bcd37e25367b%29%0A%20%20%20%20%20%20%20%20%3B%0A%0A%20%20%20%20%20%20%20%20%0A%20%20%20%20%0A%20%20%20%20%0A%20%20%20%20%20%20%20%20%20%20%20%20var%20marker_4de132362b8d4f81aedf4f10f2c3c1fa%20%3D%20L.marker%28%0A%20%20%20%20%20%20%20%20%20%20%20%20%20%20%20%20%5B44.083%2C%20-121.6994%5D%2C%0A%20%20%20%20%20%20%20%20%20%20%20%20%20%20%20%20%7B%7D%0A%20%20%20%20%20%20%20%20%20%20%20%20%29.addTo%28map_5c0e8c1285834e4f8656bbb06ace69ff%29%3B%0A%20%20%20%20%20%20%20%20%0A%20%20%20%20%0A%20%20%20%20%20%20%20%20var%20popup_f92dd37e52504995bb25529d8b88f8c1%20%3D%20L.popup%28%7B%22maxWidth%22%3A%20%22100%25%22%7D%29%3B%0A%0A%20%20%20%20%20%20%20%20%0A%20%20%20%20%20%20%20%20%20%20%20%20var%20html_119de3a4374142728d75f7ca0fddbcfe%20%3D%20%24%28%60%3Cdiv%20id%3D%22html_119de3a4374142728d75f7ca0fddbcfe%22%20style%3D%22width%3A%20100.0%25%3B%20height%3A%20100.0%25%3B%22%3EIsolation%3A%205.52%3C/div%3E%60%29%5B0%5D%3B%0A%20%20%20%20%20%20%20%20%20%20%20%20popup_f92dd37e52504995bb25529d8b88f8c1.setContent%28html_119de3a4374142728d75f7ca0fddbcfe%29%3B%0A%20%20%20%20%20%20%20%20%0A%0A%20%20%20%20%20%20%20%20marker_4de132362b8d4f81aedf4f10f2c3c1fa.bindPopup%28popup_f92dd37e52504995bb25529d8b88f8c1%29%0A%20%20%20%20%20%20%20%20%3B%0A%0A%20%20%20%20%20%20%20%20%0A%20%20%20%20%0A%20%20%20%20%0A%20%20%20%20%20%20%20%20%20%20%20%20var%20marker_b4b96f6e8f4c401194282252070a9b20%20%3D%20L.marker%28%0A%20%20%20%20%20%20%20%20%20%20%20%20%20%20%20%20%5B44.8168%2C%20-118.1039%5D%2C%0A%20%20%20%20%20%20%20%20%20%20%20%20%20%20%20%20%7B%7D%0A%20%20%20%20%20%20%20%20%20%20%20%20%29.addTo%28map_5c0e8c1285834e4f8656bbb06ace69ff%29%3B%0A%20%20%20%20%20%20%20%20%0A%20%20%20%20%0A%20%20%20%20%20%20%20%20var%20popup_3b6eb1796990445cba06845a03aa9e74%20%3D%20L.popup%28%7B%22maxWidth%22%3A%20%22100%25%22%7D%29%3B%0A%0A%20%20%20%20%20%20%20%20%0A%20%20%20%20%20%20%20%20%20%20%20%20var%20html_008586f9d57145588495cad1dc359d1e%20%3D%20%24%28%60%3Cdiv%20id%3D%22html_008586f9d57145588495cad1dc359d1e%22%20style%3D%22width%3A%20100.0%25%3B%20height%3A%20100.0%25%3B%22%3EIsolation%3A%2069.9%3C/div%3E%60%29%5B0%5D%3B%0A%20%20%20%20%20%20%20%20%20%20%20%20popup_3b6eb1796990445cba06845a03aa9e74.setContent%28html_008586f9d57145588495cad1dc359d1e%29%3B%0A%20%20%20%20%20%20%20%20%0A%0A%20%20%20%20%20%20%20%20marker_b4b96f6e8f4c401194282252070a9b20.bindPopup%28popup_3b6eb1796990445cba06845a03aa9e74%29%0A%20%20%20%20%20%20%20%20%3B%0A%0A%20%20%20%20%20%20%20%20%0A%20%20%20%20%0A%20%20%20%20%0A%20%20%20%20%20%20%20%20%20%20%20%20var%20marker_4ef3ab1cec9c4cd6a72b6a20519adddb%20%3D%20L.marker%28%0A%20%20%20%20%20%20%20%20%20%20%20%20%20%20%20%20%5B43.9794%2C%20-121.6885%5D%2C%0A%20%20%20%20%20%20%20%20%20%20%20%20%20%20%20%20%7B%7D%0A%20%20%20%20%20%20%20%20%20%20%20%20%29.addTo%28map_5c0e8c1285834e4f8656bbb06ace69ff%29%3B%0A%20%20%20%20%20%20%20%20%0A%20%20%20%20%0A%20%20%20%20%20%20%20%20var%20popup_db77ead8af334ca9a5f3b8585267d71d%20%3D%20L.popup%28%7B%22maxWidth%22%3A%20%22100%25%22%7D%29%3B%0A%0A%20%20%20%20%20%20%20%20%0A%20%20%20%20%20%20%20%20%20%20%20%20var%20html_746493331de9407d816a7ccf7c2add27%20%3D%20%24%28%60%3Cdiv%20id%3D%22html_746493331de9407d816a7ccf7c2add27%22%20style%3D%22width%3A%20100.0%25%3B%20height%3A%20100.0%25%3B%22%3EIsolation%3A%2011.02%3C/div%3E%60%29%5B0%5D%3B%0A%20%20%20%20%20%20%20%20%20%20%20%20popup_db77ead8af334ca9a5f3b8585267d71d.setContent%28html_746493331de9407d816a7ccf7c2add27%29%3B%0A%20%20%20%20%20%20%20%20%0A%0A%20%20%20%20%20%20%20%20marker_4ef3ab1cec9c4cd6a72b6a20519adddb.bindPopup%28popup_db77ead8af334ca9a5f3b8585267d71d%29%0A%20%20%20%20%20%20%20%20%3B%0A%0A%20%20%20%20%20%20%20%20%0A%20%20%20%20%0A%20%20%20%20%0A%20%20%20%20%20%20%20%20%20%20%20%20var%20marker_9816084e15364d35a96bd1c7c85f2df6%20%3D%20L.marker%28%0A%20%20%20%20%20%20%20%20%20%20%20%20%20%20%20%20%5B44.3123%2C%20-118.7166%5D%2C%0A%20%20%20%20%20%20%20%20%20%20%20%20%20%20%20%20%7B%7D%0A%20%20%20%20%20%20%20%20%20%20%20%20%29.addTo%28map_5c0e8c1285834e4f8656bbb06ace69ff%29%3B%0A%20%20%20%20%20%20%20%20%0A%20%20%20%20%0A%20%20%20%20%20%20%20%20var%20popup_f3f803ee973948d8b3a3387d8c733281%20%3D%20L.popup%28%7B%22maxWidth%22%3A%20%22100%25%22%7D%29%3B%0A%0A%20%20%20%20%20%20%20%20%0A%20%20%20%20%20%20%20%20%20%20%20%20var%20html_185e67e0651b4dbfa7ab663021eeb4a8%20%3D%20%24%28%60%3Cdiv%20id%3D%22html_185e67e0651b4dbfa7ab663021eeb4a8%22%20style%3D%22width%3A%20100.0%25%3B%20height%3A%20100.0%25%3B%22%3EIsolation%3A%2074.2%3C/div%3E%60%29%5B0%5D%3B%0A%20%20%20%20%20%20%20%20%20%20%20%20popup_f3f803ee973948d8b3a3387d8c733281.setContent%28html_185e67e0651b4dbfa7ab663021eeb4a8%29%3B%0A%20%20%20%20%20%20%20%20%0A%0A%20%20%20%20%20%20%20%20marker_9816084e15364d35a96bd1c7c85f2df6.bindPopup%28popup_f3f803ee973948d8b3a3387d8c733281%29%0A%20%20%20%20%20%20%20%20%3B%0A%0A%20%20%20%20%20%20%20%20%0A%20%20%20%20%0A%20%20%20%20%0A%20%20%20%20%20%20%20%20%20%20%20%20var%20marker_67efe47a0ecb4bafb323bd123da86901%20%3D%20L.marker%28%0A%20%20%20%20%20%20%20%20%20%20%20%20%20%20%20%20%5B42.9229%2C%20-122.0162%5D%2C%0A%20%20%20%20%20%20%20%20%20%20%20%20%20%20%20%20%7B%7D%0A%20%20%20%20%20%20%20%20%20%20%20%20%29.addTo%28map_5c0e8c1285834e4f8656bbb06ace69ff%29%3B%0A%20%20%20%20%20%20%20%20%0A%20%20%20%20%0A%20%20%20%20%20%20%20%20var%20popup_f2467ea6f33c438fb9dc8eba9a20183b%20%3D%20L.popup%28%7B%22maxWidth%22%3A%20%22100%25%22%7D%29%3B%0A%0A%20%20%20%20%20%20%20%20%0A%20%20%20%20%20%20%20%20%20%20%20%20var%20html_583f5588b3fe45019b12a5181e1d1c4e%20%3D%20%24%28%60%3Cdiv%20id%3D%22html_583f5588b3fe45019b12a5181e1d1c4e%22%20style%3D%22width%3A%20100.0%25%3B%20height%3A%20100.0%25%3B%22%3EIsolation%3A%2025.9%3C/div%3E%60%29%5B0%5D%3B%0A%20%20%20%20%20%20%20%20%20%20%20%20popup_f2467ea6f33c438fb9dc8eba9a20183b.setContent%28html_583f5588b3fe45019b12a5181e1d1c4e%29%3B%0A%20%20%20%20%20%20%20%20%0A%0A%20%20%20%20%20%20%20%20marker_67efe47a0ecb4bafb323bd123da86901.bindPopup%28popup_f2467ea6f33c438fb9dc8eba9a20183b%29%0A%20%20%20%20%20%20%20%20%3B%0A%0A%20%20%20%20%20%20%20%20%0A%20%20%20%20%0A%20%20%20%20%0A%20%20%20%20%20%20%20%20%20%20%20%20var%20marker_086ca3e7537e491cb3951b1ea894fe3b%20%3D%20L.marker%28%0A%20%20%20%20%20%20%20%20%20%20%20%20%20%20%20%20%5B43.5207%2C%20-122.1496%5D%2C%0A%20%20%20%20%20%20%20%20%20%20%20%20%20%20%20%20%7B%7D%0A%20%20%20%20%20%20%20%20%20%20%20%20%29.addTo%28map_5c0e8c1285834e4f8656bbb06ace69ff%29%3B%0A%20%20%20%20%20%20%20%20%0A%20%20%20%20%0A%20%20%20%20%20%20%20%20var%20popup_fd4c9eda43924e518d9c39d086c5f419%20%3D%20L.popup%28%7B%22maxWidth%22%3A%20%22100%25%22%7D%29%3B%0A%0A%20%20%20%20%20%20%20%20%0A%20%20%20%20%20%20%20%20%20%20%20%20var%20html_a47fdb20581c4054bcba12cb78aeddd9%20%3D%20%24%28%60%3Cdiv%20id%3D%22html_a47fdb20581c4054bcba12cb78aeddd9%22%20style%3D%22width%3A%20100.0%25%3B%20height%3A%20100.0%25%3B%22%3EIsolation%3A%2041.4%3C/div%3E%60%29%5B0%5D%3B%0A%20%20%20%20%20%20%20%20%20%20%20%20popup_fd4c9eda43924e518d9c39d086c5f419.setContent%28html_a47fdb20581c4054bcba12cb78aeddd9%29%3B%0A%20%20%20%20%20%20%20%20%0A%0A%20%20%20%20%20%20%20%20marker_086ca3e7537e491cb3951b1ea894fe3b.bindPopup%28popup_fd4c9eda43924e518d9c39d086c5f419%29%0A%20%20%20%20%20%20%20%20%3B%0A%0A%20%20%20%20%20%20%20%20%0A%20%20%20%20%0A%20%20%20%20%0A%20%20%20%20%20%20%20%20%20%20%20%20var%20marker_38386c87303a46c183d3bb306a25af57%20%3D%20L.marker%28%0A%20%20%20%20%20%20%20%20%20%20%20%20%20%20%20%20%5B42.0995%2C%20-118.6506%5D%2C%0A%20%20%20%20%20%20%20%20%20%20%20%20%20%20%20%20%7B%7D%0A%20%20%20%20%20%20%20%20%20%20%20%20%29.addTo%28map_5c0e8c1285834e4f8656bbb06ace69ff%29%3B%0A%20%20%20%20%20%20%20%20%0A%20%20%20%20%0A%20%20%20%20%20%20%20%20var%20popup_659ee0a6f69a4f6096097f89169fcd32%20%3D%20L.popup%28%7B%22maxWidth%22%3A%20%22100%25%22%7D%29%3B%0A%0A%20%20%20%20%20%20%20%20%0A%20%20%20%20%20%20%20%20%20%20%20%20var%20html_6260f94e4e2a48caa6397781b0b1b434%20%3D%20%24%28%60%3Cdiv%20id%3D%22html_6260f94e4e2a48caa6397781b0b1b434%22%20style%3D%22width%3A%20100.0%25%3B%20height%3A%20100.0%25%3B%22%3EIsolation%3A%2045.5%3C/div%3E%60%29%5B0%5D%3B%0A%20%20%20%20%20%20%20%20%20%20%20%20popup_659ee0a6f69a4f6096097f89169fcd32.setContent%28html_6260f94e4e2a48caa6397781b0b1b434%29%3B%0A%20%20%20%20%20%20%20%20%0A%0A%20%20%20%20%20%20%20%20marker_38386c87303a46c183d3bb306a25af57.bindPopup%28popup_659ee0a6f69a4f6096097f89169fcd32%29%0A%20%20%20%20%20%20%20%20%3B%0A%0A%20%20%20%20%20%20%20%20%0A%20%20%20%20%0A%20%20%20%20%0A%20%20%20%20%20%20%20%20%20%20%20%20var%20marker_c99f78845e7f4f2cbce7ba71617eb1b7%20%3D%20L.marker%28%0A%20%20%20%20%20%20%20%20%20%20%20%20%20%20%20%20%5B42.0628%2C%20-120.2408%5D%2C%0A%20%20%20%20%20%20%20%20%20%20%20%20%20%20%20%20%7B%7D%0A%20%20%20%20%20%20%20%20%20%20%20%20%29.addTo%28map_5c0e8c1285834e4f8656bbb06ace69ff%29%3B%0A%20%20%20%20%20%20%20%20%0A%20%20%20%20%0A%20%20%20%20%20%20%20%20var%20popup_d30c26dde1414468a26704b0ae847064%20%3D%20L.popup%28%7B%22maxWidth%22%3A%20%22100%25%22%7D%29%3B%0A%0A%20%20%20%20%20%20%20%20%0A%20%20%20%20%20%20%20%20%20%20%20%20var%20html_ef9e2f2643244cc4978f66c25028beea%20%3D%20%24%28%60%3Cdiv%20id%3D%22html_ef9e2f2643244cc4978f66c25028beea%22%20style%3D%22width%3A%20100.0%25%3B%20height%3A%20100.0%25%3B%22%3EIsolation%3A%2071.4%3C/div%3E%60%29%5B0%5D%3B%0A%20%20%20%20%20%20%20%20%20%20%20%20popup_d30c26dde1414468a26704b0ae847064.setContent%28html_ef9e2f2643244cc4978f66c25028beea%29%3B%0A%20%20%20%20%20%20%20%20%0A%0A%20%20%20%20%20%20%20%20marker_c99f78845e7f4f2cbce7ba71617eb1b7.bindPopup%28popup_d30c26dde1414468a26704b0ae847064%29%0A%20%20%20%20%20%20%20%20%3B%0A%0A%20%20%20%20%20%20%20%20%0A%20%20%20%20%0A%20%20%20%20%0A%20%20%20%20%20%20%20%20%20%20%20%20var%20marker_2efa0cb44025428887b9ca3e1800ed63%20%3D%20L.marker%28%0A%20%20%20%20%20%20%20%20%20%20%20%20%20%20%20%20%5B42.3001%2C%20-120.1238%5D%2C%0A%20%20%20%20%20%20%20%20%20%20%20%20%20%20%20%20%7B%7D%0A%20%20%20%20%20%20%20%20%20%20%20%20%29.addTo%28map_5c0e8c1285834e4f8656bbb06ace69ff%29%3B%0A%20%20%20%20%20%20%20%20%0A%20%20%20%20%0A%20%20%20%20%20%20%20%20var%20popup_19d2df6a1d0c47d492ec79b72f1a6458%20%3D%20L.popup%28%7B%22maxWidth%22%3A%20%22100%25%22%7D%29%3B%0A%0A%20%20%20%20%20%20%20%20%0A%20%20%20%20%20%20%20%20%20%20%20%20var%20html_b880d5a72b1d45afb6985693237450e3%20%3D%20%24%28%60%3Cdiv%20id%3D%22html_b880d5a72b1d45afb6985693237450e3%22%20style%3D%22width%3A%20100.0%25%3B%20height%3A%20100.0%25%3B%22%3EIsolation%3A%2028.1%3C/div%3E%60%29%5B0%5D%3B%0A%20%20%20%20%20%20%20%20%20%20%20%20popup_19d2df6a1d0c47d492ec79b72f1a6458.setContent%28html_b880d5a72b1d45afb6985693237450e3%29%3B%0A%20%20%20%20%20%20%20%20%0A%0A%20%20%20%20%20%20%20%20marker_2efa0cb44025428887b9ca3e1800ed63.bindPopup%28popup_19d2df6a1d0c47d492ec79b72f1a6458%29%0A%20%20%20%20%20%20%20%20%3B%0A%0A%20%20%20%20%20%20%20%20%0A%20%20%20%20%0A%20%20%20%20%0A%20%20%20%20%20%20%20%20%20%20%20%20var%20marker_e96423a00a9e43a6a935725225e389f1%20%3D%20L.marker%28%0A%20%20%20%20%20%20%20%20%20%20%20%20%20%20%20%20%5B43.1551%2C%20-122.22%5D%2C%0A%20%20%20%20%20%20%20%20%20%20%20%20%20%20%20%20%7B%7D%0A%20%20%20%20%20%20%20%20%20%20%20%20%29.addTo%28map_5c0e8c1285834e4f8656bbb06ace69ff%29%3B%0A%20%20%20%20%20%20%20%20%0A%20%20%20%20%0A%20%20%20%20%20%20%20%20var%20popup_befa6978e7cf4e038a31ec691867ad66%20%3D%20L.popup%28%7B%22maxWidth%22%3A%20%22100%25%22%7D%29%3B%0A%0A%20%20%20%20%20%20%20%20%0A%20%20%20%20%20%20%20%20%20%20%20%20var%20html_54fe2665beaa4821a6611c0128e8a749%20%3D%20%24%28%60%3Cdiv%20id%3D%22html_54fe2665beaa4821a6611c0128e8a749%22%20style%3D%22width%3A%20100.0%25%3B%20height%3A%20100.0%25%3B%22%3EIsolation%3A%2012.49%3C/div%3E%60%29%5B0%5D%3B%0A%20%20%20%20%20%20%20%20%20%20%20%20popup_befa6978e7cf4e038a31ec691867ad66.setContent%28html_54fe2665beaa4821a6611c0128e8a749%29%3B%0A%20%20%20%20%20%20%20%20%0A%0A%20%20%20%20%20%20%20%20marker_e96423a00a9e43a6a935725225e389f1.bindPopup%28popup_befa6978e7cf4e038a31ec691867ad66%29%0A%20%20%20%20%20%20%20%20%3B%0A%0A%20%20%20%20%20%20%20%20%0A%20%20%20%20%0A%20%20%20%20%0A%20%20%20%20%20%20%20%20%20%20%20%20var%20marker_b8e180975e0a47478beb4c26590a65a1%20%3D%20L.marker%28%0A%20%20%20%20%20%20%20%20%20%20%20%20%20%20%20%20%5B42.496%2C%20-120.8773%5D%2C%0A%20%20%20%20%20%20%20%20%20%20%20%20%20%20%20%20%7B%7D%0A%20%20%20%20%20%20%20%20%20%20%20%20%29.addTo%28map_5c0e8c1285834e4f8656bbb06ace69ff%29%3B%0A%20%20%20%20%20%20%20%20%0A%20%20%20%20%0A%20%20%20%20%20%20%20%20var%20popup_5a58b9b78b1745029eb3aa03e30896aa%20%3D%20L.popup%28%7B%22maxWidth%22%3A%20%22100%25%22%7D%29%3B%0A%0A%20%20%20%20%20%20%20%20%0A%20%20%20%20%20%20%20%20%20%20%20%20var%20html_6c0a85ad24ec495bad5353821c0c7482%20%3D%20%24%28%60%3Cdiv%20id%3D%22html_6c0a85ad24ec495bad5353821c0c7482%22%20style%3D%22width%3A%20100.0%25%3B%20height%3A%20100.0%25%3B%22%3EIsolation%3A%2065.7%3C/div%3E%60%29%5B0%5D%3B%0A%20%20%20%20%20%20%20%20%20%20%20%20popup_5a58b9b78b1745029eb3aa03e30896aa.setContent%28html_6c0a85ad24ec495bad5353821c0c7482%29%3B%0A%20%20%20%20%20%20%20%20%0A%0A%20%20%20%20%20%20%20%20marker_b8e180975e0a47478beb4c26590a65a1.bindPopup%28popup_5a58b9b78b1745029eb3aa03e30896aa%29%0A%20%20%20%20%20%20%20%20%3B%0A%0A%20%20%20%20%20%20%20%20%0A%20%20%20%20%0A%20%20%20%20%0A%20%20%20%20%20%20%20%20%20%20%20%20var%20marker_5eb4958bfc16416faeeeb4cdd0ca2cd5%20%3D%20L.marker%28%0A%20%20%20%20%20%20%20%20%20%20%20%20%20%20%20%20%5B42.3155%2C%20-122.0876%5D%2C%0A%20%20%20%20%20%20%20%20%20%20%20%20%20%20%20%20%7B%7D%0A%20%20%20%20%20%20%20%20%20%20%20%20%29.addTo%28map_5c0e8c1285834e4f8656bbb06ace69ff%29%3B%0A%20%20%20%20%20%20%20%20%0A%20%20%20%20%0A%20%20%20%20%20%20%20%20var%20popup_a4ffabf09d594e099c6466b5a8f74e6d%20%3D%20L.popup%28%7B%22maxWidth%22%3A%20%22100%25%22%7D%29%3B%0A%0A%20%20%20%20%20%20%20%20%0A%20%20%20%20%20%20%20%20%20%20%20%20var%20html_815a6a1ae4a74e1c84a47d24e30e937e%20%3D%20%24%28%60%3Cdiv%20id%3D%22html_815a6a1ae4a74e1c84a47d24e30e937e%22%20style%3D%22width%3A%20100.0%25%3B%20height%3A%20100.0%25%3B%22%3EIsolation%3A%2023.7%3C/div%3E%60%29%5B0%5D%3B%0A%20%20%20%20%20%20%20%20%20%20%20%20popup_a4ffabf09d594e099c6466b5a8f74e6d.setContent%28html_815a6a1ae4a74e1c84a47d24e30e937e%29%3B%0A%20%20%20%20%20%20%20%20%0A%0A%20%20%20%20%20%20%20%20marker_5eb4958bfc16416faeeeb4cdd0ca2cd5.bindPopup%28popup_a4ffabf09d594e099c6466b5a8f74e6d%29%0A%20%20%20%20%20%20%20%20%3B%0A%0A%20%20%20%20%20%20%20%20%0A%20%20%20%20%0A%20%20%20%20%0A%20%20%20%20%20%20%20%20%20%20%20%20var%20marker_b8084a1c758e4581872fb6f816f7cbe9%20%3D%20L.marker%28%0A%20%20%20%20%20%20%20%20%20%20%20%20%20%20%20%20%5B42.9306%2C%20-121.3607%5D%2C%0A%20%20%20%20%20%20%20%20%20%20%20%20%20%20%20%20%7B%7D%0A%20%20%20%20%20%20%20%20%20%20%20%20%29.addTo%28map_5c0e8c1285834e4f8656bbb06ace69ff%29%3B%0A%20%20%20%20%20%20%20%20%0A%20%20%20%20%0A%20%20%20%20%20%20%20%20var%20popup_d9a57819881d42c8a4d192394294eb86%20%3D%20L.popup%28%7B%22maxWidth%22%3A%20%22100%25%22%7D%29%3B%0A%0A%20%20%20%20%20%20%20%20%0A%20%20%20%20%20%20%20%20%20%20%20%20var%20html_490c4b0011df410cb70fcc31dc6b35ff%20%3D%20%24%28%60%3Cdiv%20id%3D%22html_490c4b0011df410cb70fcc31dc6b35ff%22%20style%3D%22width%3A%20100.0%25%3B%20height%3A%20100.0%25%3B%22%3EIsolation%3A%2053.1%3C/div%3E%60%29%5B0%5D%3B%0A%20%20%20%20%20%20%20%20%20%20%20%20popup_d9a57819881d42c8a4d192394294eb86.setContent%28html_490c4b0011df410cb70fcc31dc6b35ff%29%3B%0A%20%20%20%20%20%20%20%20%0A%0A%20%20%20%20%20%20%20%20marker_b8084a1c758e4581872fb6f816f7cbe9.bindPopup%28popup_d9a57819881d42c8a4d192394294eb86%29%0A%20%20%20%20%20%20%20%20%3B%0A%0A%20%20%20%20%20%20%20%20%0A%20%20%20%20%0A%20%20%20%20%0A%20%20%20%20%20%20%20%20%20%20%20%20var%20marker_eac9a3d28800429ab48e4976a9213e27%20%3D%20L.marker%28%0A%20%20%20%20%20%20%20%20%20%20%20%20%20%20%20%20%5B44.7138%2C%20-118.5617%5D%2C%0A%20%20%20%20%20%20%20%20%20%20%20%20%20%20%20%20%7B%7D%0A%20%20%20%20%20%20%20%20%20%20%20%20%29.addTo%28map_5c0e8c1285834e4f8656bbb06ace69ff%29%3B%0A%20%20%20%20%20%20%20%20%0A%20%20%20%20%0A%20%20%20%20%20%20%20%20var%20popup_d6b1d099ab9345799f16e79a2ed9861a%20%3D%20L.popup%28%7B%22maxWidth%22%3A%20%22100%25%22%7D%29%3B%0A%0A%20%20%20%20%20%20%20%20%0A%20%20%20%20%20%20%20%20%20%20%20%20var%20html_ae604d98dce54ad781fa6a9f967be2a9%20%3D%20%24%28%60%3Cdiv%20id%3D%22html_ae604d98dce54ad781fa6a9f967be2a9%22%20style%3D%22width%3A%20100.0%25%3B%20height%3A%20100.0%25%3B%22%3EIsolation%3A%2023.5%3C/div%3E%60%29%5B0%5D%3B%0A%20%20%20%20%20%20%20%20%20%20%20%20popup_d6b1d099ab9345799f16e79a2ed9861a.setContent%28html_ae604d98dce54ad781fa6a9f967be2a9%29%3B%0A%20%20%20%20%20%20%20%20%0A%0A%20%20%20%20%20%20%20%20marker_eac9a3d28800429ab48e4976a9213e27.bindPopup%28popup_d6b1d099ab9345799f16e79a2ed9861a%29%0A%20%20%20%20%20%20%20%20%3B%0A%0A%20%20%20%20%20%20%20%20%0A%20%20%20%20%0A%20%20%20%20%0A%20%20%20%20%20%20%20%20%20%20%20%20var%20marker_dd634ff747234eadab0e9deedbd76dd8%20%3D%20L.marker%28%0A%20%20%20%20%20%20%20%20%20%20%20%20%20%20%20%20%5B42.5134%2C%20-122.1453%5D%2C%0A%20%20%20%20%20%20%20%20%20%20%20%20%20%20%20%20%7B%7D%0A%20%20%20%20%20%20%20%20%20%20%20%20%29.addTo%28map_5c0e8c1285834e4f8656bbb06ace69ff%29%3B%0A%20%20%20%20%20%20%20%20%0A%20%20%20%20%0A%20%20%20%20%20%20%20%20var%20popup_34201917de044f9883d8f0a251dbd97a%20%3D%20L.popup%28%7B%22maxWidth%22%3A%20%22100%25%22%7D%29%3B%0A%0A%20%20%20%20%20%20%20%20%0A%20%20%20%20%20%20%20%20%20%20%20%20var%20html_ecf3de7900fe479fb4d2dda03aa19873%20%3D%20%24%28%60%3Cdiv%20id%3D%22html_ecf3de7900fe479fb4d2dda03aa19873%22%20style%3D%22width%3A%20100.0%25%3B%20height%3A%20100.0%25%3B%22%3EIsolation%3A%2015.98%3C/div%3E%60%29%5B0%5D%3B%0A%20%20%20%20%20%20%20%20%20%20%20%20popup_34201917de044f9883d8f0a251dbd97a.setContent%28html_ecf3de7900fe479fb4d2dda03aa19873%29%3B%0A%20%20%20%20%20%20%20%20%0A%0A%20%20%20%20%20%20%20%20marker_dd634ff747234eadab0e9deedbd76dd8.bindPopup%28popup_34201917de044f9883d8f0a251dbd97a%29%0A%20%20%20%20%20%20%20%20%3B%0A%0A%20%20%20%20%20%20%20%20%0A%20%20%20%20%0A%20%20%20%20%0A%20%20%20%20%20%20%20%20%20%20%20%20var%20marker_59aecb3eecf44a9eb3ecdb70d3852907%20%3D%20L.marker%28%0A%20%20%20%20%20%20%20%20%20%20%20%20%20%20%20%20%5B44.2889%2C%20-118.4954%5D%2C%0A%20%20%20%20%20%20%20%20%20%20%20%20%20%20%20%20%7B%7D%0A%20%20%20%20%20%20%20%20%20%20%20%20%29.addTo%28map_5c0e8c1285834e4f8656bbb06ace69ff%29%3B%0A%20%20%20%20%20%20%20%20%0A%20%20%20%20%0A%20%20%20%20%20%20%20%20var%20popup_3ef80d4afb1e46aaa09e30b59bc1b7f9%20%3D%20L.popup%28%7B%22maxWidth%22%3A%20%22100%25%22%7D%29%3B%0A%0A%20%20%20%20%20%20%20%20%0A%20%20%20%20%20%20%20%20%20%20%20%20var%20html_4d2a5bdce46747bc85d1f9691854d441%20%3D%20%24%28%60%3Cdiv%20id%3D%22html_4d2a5bdce46747bc85d1f9691854d441%22%20style%3D%22width%3A%20100.0%25%3B%20height%3A%20100.0%25%3B%22%3EIsolation%3A%2010.73%3C/div%3E%60%29%5B0%5D%3B%0A%20%20%20%20%20%20%20%20%20%20%20%20popup_3ef80d4afb1e46aaa09e30b59bc1b7f9.setContent%28html_4d2a5bdce46747bc85d1f9691854d441%29%3B%0A%20%20%20%20%20%20%20%20%0A%0A%20%20%20%20%20%20%20%20marker_59aecb3eecf44a9eb3ecdb70d3852907.bindPopup%28popup_3ef80d4afb1e46aaa09e30b59bc1b7f9%29%0A%20%20%20%20%20%20%20%20%3B%0A%0A%20%20%20%20%20%20%20%20%0A%20%20%20%20%0A%20%20%20%20%0A%20%20%20%20%20%20%20%20%20%20%20%20var%20marker_77137fd91e0544c9b847b8a172bd3aae%20%3D%20L.marker%28%0A%20%20%20%20%20%20%20%20%20%20%20%20%20%20%20%20%5B42.4597%2C%20-119.7414%5D%2C%0A%20%20%20%20%20%20%20%20%20%20%20%20%20%20%20%20%7B%7D%0A%20%20%20%20%20%20%20%20%20%20%20%20%29.addTo%28map_5c0e8c1285834e4f8656bbb06ace69ff%29%3B%0A%20%20%20%20%20%20%20%20%0A%20%20%20%20%0A%20%20%20%20%20%20%20%20var%20popup_a9909b4b6f424575a6d75a77d4916c7e%20%3D%20L.popup%28%7B%22maxWidth%22%3A%20%22100%25%22%7D%29%3B%0A%0A%20%20%20%20%20%20%20%20%0A%20%20%20%20%20%20%20%20%20%20%20%20var%20html_cbd3c16fb36a4c00a7fc1cfba27ede15%20%3D%20%24%28%60%3Cdiv%20id%3D%22html_cbd3c16fb36a4c00a7fc1cfba27ede15%22%20style%3D%22width%3A%20100.0%25%3B%20height%3A%20100.0%25%3B%22%3EIsolation%3A%2035.6%3C/div%3E%60%29%5B0%5D%3B%0A%20%20%20%20%20%20%20%20%20%20%20%20popup_a9909b4b6f424575a6d75a77d4916c7e.setContent%28html_cbd3c16fb36a4c00a7fc1cfba27ede15%29%3B%0A%20%20%20%20%20%20%20%20%0A%0A%20%20%20%20%20%20%20%20marker_77137fd91e0544c9b847b8a172bd3aae.bindPopup%28popup_a9909b4b6f424575a6d75a77d4916c7e%29%0A%20%20%20%20%20%20%20%20%3B%0A%0A%20%20%20%20%20%20%20%20%0A%20%20%20%20%0A%20%20%20%20%0A%20%20%20%20%20%20%20%20%20%20%20%20var%20marker_edfaaa80a5274b0db6e3dd2945d1f021%20%3D%20L.marker%28%0A%20%20%20%20%20%20%20%20%20%20%20%20%20%20%20%20%5B43.6892%2C%20-121.2549%5D%2C%0A%20%20%20%20%20%20%20%20%20%20%20%20%20%20%20%20%7B%7D%0A%20%20%20%20%20%20%20%20%20%20%20%20%29.addTo%28map_5c0e8c1285834e4f8656bbb06ace69ff%29%3B%0A%20%20%20%20%20%20%20%20%0A%20%20%20%20%0A%20%20%20%20%20%20%20%20var%20popup_cbf74140e1ad45f6877780c23c80cc9d%20%3D%20L.popup%28%7B%22maxWidth%22%3A%20%22100%25%22%7D%29%3B%0A%0A%20%20%20%20%20%20%20%20%0A%20%20%20%20%20%20%20%20%20%20%20%20var%20html_1b5d6e6d15634d95b52583499dd55f29%20%3D%20%24%28%60%3Cdiv%20id%3D%22html_1b5d6e6d15634d95b52583499dd55f29%22%20style%3D%22width%3A%20100.0%25%3B%20height%3A%20100.0%25%3B%22%3EIsolation%3A%2046.5%3C/div%3E%60%29%5B0%5D%3B%0A%20%20%20%20%20%20%20%20%20%20%20%20popup_cbf74140e1ad45f6877780c23c80cc9d.setContent%28html_1b5d6e6d15634d95b52583499dd55f29%29%3B%0A%20%20%20%20%20%20%20%20%0A%0A%20%20%20%20%20%20%20%20marker_edfaaa80a5274b0db6e3dd2945d1f021.bindPopup%28popup_cbf74140e1ad45f6877780c23c80cc9d%29%0A%20%20%20%20%20%20%20%20%3B%0A%0A%20%20%20%20%20%20%20%20%0A%20%20%20%20%0A%3C/script%3E onload=\"this.contentDocument.open();this.contentDocument.write(    decodeURIComponent(this.getAttribute('data-html')));this.contentDocument.close();\" allowfullscreen webkitallowfullscreen mozallowfullscreen></iframe></div></div>"
      ],
      "text/plain": [
       "<folium.folium.Map at 0x21f1d5e7010>"
      ]
     },
     "execution_count": 16,
     "metadata": {},
     "output_type": "execute_result"
    }
   ],
   "source": [
    "map = folium.Map(location=[44, -121], zoom_start=7)\n",
    "for i in range(0, len(coords)):\n",
    "    folium.Marker(coords[i], popup='Isolation: ' + str(isolation[i])).add_to(map)\n",
    "map"
   ]
  },
  {
   "cell_type": "markdown",
   "id": "a6956e00",
   "metadata": {},
   "source": [
    "**Extra Credit:** Add name of mountain to map"
   ]
  },
  {
   "cell_type": "code",
   "execution_count": 17,
   "id": "85e8670d",
   "metadata": {},
   "outputs": [
    {
     "data": {
      "text/plain": [
       "['Mount Hood',\n",
       " 'Mount Jefferson',\n",
       " 'South Sister',\n",
       " 'North Sister',\n",
       " 'Middle Sister',\n",
       " 'Sacajawea Peak',\n",
       " 'Steens Mountain',\n",
       " 'Aneroid Mountain',\n",
       " 'Twin Peaks',\n",
       " 'Red Mountain',\n",
       " 'Mount McLoughlin',\n",
       " 'Elkhorn Peak',\n",
       " 'Mount Thielsen',\n",
       " 'Broken Top',\n",
       " 'Rock Creek Butte',\n",
       " 'Mount Bachelor',\n",
       " 'Strawberry Mountain',\n",
       " 'Mount Scott',\n",
       " 'Diamond Peak',\n",
       " 'Pueblo Mountain',\n",
       " 'Crane Mountain',\n",
       " 'Drake Peak',\n",
       " 'Mount Bailey',\n",
       " 'Gearhart Mountain',\n",
       " 'Aspen Butte',\n",
       " 'Yamsay Mountain',\n",
       " 'Vinegar Hill',\n",
       " 'Pelican Butte',\n",
       " 'Lookout Mountain',\n",
       " 'Warner Peak',\n",
       " 'Paulina Peak']"
      ]
     },
     "execution_count": 17,
     "metadata": {},
     "output_type": "execute_result"
    }
   ],
   "source": [
    "import re # Regular expression module to format strings \n",
    "\n",
    "# Get mountian name without brackets\n",
    "names = []\n",
    "for i in range(len(mountain_stats)):\n",
    "    name = mountain_stats['Mountain peak'].iloc[i]\n",
    "    name = re.sub(\"[\\(\\[].*?[\\)\\]]\", \"\", name) # remove brackets and characters within\n",
    "    names.append(name)\n",
    "names"
   ]
  },
  {
   "cell_type": "code",
   "execution_count": 18,
   "id": "1d3643d2",
   "metadata": {},
   "outputs": [
    {
     "data": {
      "text/html": [
       "<div style=\"width:100%;\"><div style=\"position:relative;width:100%;height:0;padding-bottom:60%;\"><span style=\"color:#565656\">Make this Notebook Trusted to load map: File -> Trust Notebook</span><iframe src=\"about:blank\" style=\"position:absolute;width:100%;height:100%;left:0;top:0;border:none !important;\" data-html=%3C%21DOCTYPE%20html%3E%0A%3Chead%3E%20%20%20%20%0A%20%20%20%20%3Cmeta%20http-equiv%3D%22content-type%22%20content%3D%22text/html%3B%20charset%3DUTF-8%22%20/%3E%0A%20%20%20%20%0A%20%20%20%20%20%20%20%20%3Cscript%3E%0A%20%20%20%20%20%20%20%20%20%20%20%20L_NO_TOUCH%20%3D%20false%3B%0A%20%20%20%20%20%20%20%20%20%20%20%20L_DISABLE_3D%20%3D%20false%3B%0A%20%20%20%20%20%20%20%20%3C/script%3E%0A%20%20%20%20%0A%20%20%20%20%3Cstyle%3Ehtml%2C%20body%20%7Bwidth%3A%20100%25%3Bheight%3A%20100%25%3Bmargin%3A%200%3Bpadding%3A%200%3B%7D%3C/style%3E%0A%20%20%20%20%3Cstyle%3E%23map%20%7Bposition%3Aabsolute%3Btop%3A0%3Bbottom%3A0%3Bright%3A0%3Bleft%3A0%3B%7D%3C/style%3E%0A%20%20%20%20%3Cscript%20src%3D%22https%3A//cdn.jsdelivr.net/npm/leaflet%401.6.0/dist/leaflet.js%22%3E%3C/script%3E%0A%20%20%20%20%3Cscript%20src%3D%22https%3A//code.jquery.com/jquery-1.12.4.min.js%22%3E%3C/script%3E%0A%20%20%20%20%3Cscript%20src%3D%22https%3A//maxcdn.bootstrapcdn.com/bootstrap/3.2.0/js/bootstrap.min.js%22%3E%3C/script%3E%0A%20%20%20%20%3Cscript%20src%3D%22https%3A//cdnjs.cloudflare.com/ajax/libs/Leaflet.awesome-markers/2.0.2/leaflet.awesome-markers.js%22%3E%3C/script%3E%0A%20%20%20%20%3Clink%20rel%3D%22stylesheet%22%20href%3D%22https%3A//cdn.jsdelivr.net/npm/leaflet%401.6.0/dist/leaflet.css%22/%3E%0A%20%20%20%20%3Clink%20rel%3D%22stylesheet%22%20href%3D%22https%3A//maxcdn.bootstrapcdn.com/bootstrap/3.2.0/css/bootstrap.min.css%22/%3E%0A%20%20%20%20%3Clink%20rel%3D%22stylesheet%22%20href%3D%22https%3A//maxcdn.bootstrapcdn.com/bootstrap/3.2.0/css/bootstrap-theme.min.css%22/%3E%0A%20%20%20%20%3Clink%20rel%3D%22stylesheet%22%20href%3D%22https%3A//maxcdn.bootstrapcdn.com/font-awesome/4.6.3/css/font-awesome.min.css%22/%3E%0A%20%20%20%20%3Clink%20rel%3D%22stylesheet%22%20href%3D%22https%3A//cdnjs.cloudflare.com/ajax/libs/Leaflet.awesome-markers/2.0.2/leaflet.awesome-markers.css%22/%3E%0A%20%20%20%20%3Clink%20rel%3D%22stylesheet%22%20href%3D%22https%3A//cdn.jsdelivr.net/gh/python-visualization/folium/folium/templates/leaflet.awesome.rotate.min.css%22/%3E%0A%20%20%20%20%0A%20%20%20%20%20%20%20%20%20%20%20%20%3Cmeta%20name%3D%22viewport%22%20content%3D%22width%3Ddevice-width%2C%0A%20%20%20%20%20%20%20%20%20%20%20%20%20%20%20%20initial-scale%3D1.0%2C%20maximum-scale%3D1.0%2C%20user-scalable%3Dno%22%20/%3E%0A%20%20%20%20%20%20%20%20%20%20%20%20%3Cstyle%3E%0A%20%20%20%20%20%20%20%20%20%20%20%20%20%20%20%20%23map_73b700705dbd4a259f662d8a0eb031f3%20%7B%0A%20%20%20%20%20%20%20%20%20%20%20%20%20%20%20%20%20%20%20%20position%3A%20relative%3B%0A%20%20%20%20%20%20%20%20%20%20%20%20%20%20%20%20%20%20%20%20width%3A%20100.0%25%3B%0A%20%20%20%20%20%20%20%20%20%20%20%20%20%20%20%20%20%20%20%20height%3A%20100.0%25%3B%0A%20%20%20%20%20%20%20%20%20%20%20%20%20%20%20%20%20%20%20%20left%3A%200.0%25%3B%0A%20%20%20%20%20%20%20%20%20%20%20%20%20%20%20%20%20%20%20%20top%3A%200.0%25%3B%0A%20%20%20%20%20%20%20%20%20%20%20%20%20%20%20%20%7D%0A%20%20%20%20%20%20%20%20%20%20%20%20%3C/style%3E%0A%20%20%20%20%20%20%20%20%0A%3C/head%3E%0A%3Cbody%3E%20%20%20%20%0A%20%20%20%20%0A%20%20%20%20%20%20%20%20%20%20%20%20%3Cdiv%20class%3D%22folium-map%22%20id%3D%22map_73b700705dbd4a259f662d8a0eb031f3%22%20%3E%3C/div%3E%0A%20%20%20%20%20%20%20%20%0A%3C/body%3E%0A%3Cscript%3E%20%20%20%20%0A%20%20%20%20%0A%20%20%20%20%20%20%20%20%20%20%20%20var%20map_73b700705dbd4a259f662d8a0eb031f3%20%3D%20L.map%28%0A%20%20%20%20%20%20%20%20%20%20%20%20%20%20%20%20%22map_73b700705dbd4a259f662d8a0eb031f3%22%2C%0A%20%20%20%20%20%20%20%20%20%20%20%20%20%20%20%20%7B%0A%20%20%20%20%20%20%20%20%20%20%20%20%20%20%20%20%20%20%20%20center%3A%20%5B44.0%2C%20-121.0%5D%2C%0A%20%20%20%20%20%20%20%20%20%20%20%20%20%20%20%20%20%20%20%20crs%3A%20L.CRS.EPSG3857%2C%0A%20%20%20%20%20%20%20%20%20%20%20%20%20%20%20%20%20%20%20%20zoom%3A%207%2C%0A%20%20%20%20%20%20%20%20%20%20%20%20%20%20%20%20%20%20%20%20zoomControl%3A%20true%2C%0A%20%20%20%20%20%20%20%20%20%20%20%20%20%20%20%20%20%20%20%20preferCanvas%3A%20false%2C%0A%20%20%20%20%20%20%20%20%20%20%20%20%20%20%20%20%7D%0A%20%20%20%20%20%20%20%20%20%20%20%20%29%3B%0A%0A%20%20%20%20%20%20%20%20%20%20%20%20%0A%0A%20%20%20%20%20%20%20%20%0A%20%20%20%20%0A%20%20%20%20%20%20%20%20%20%20%20%20var%20tile_layer_74a433b0e623445e8294fba07655c390%20%3D%20L.tileLayer%28%0A%20%20%20%20%20%20%20%20%20%20%20%20%20%20%20%20%22https%3A//%7Bs%7D.tile.openstreetmap.org/%7Bz%7D/%7Bx%7D/%7By%7D.png%22%2C%0A%20%20%20%20%20%20%20%20%20%20%20%20%20%20%20%20%7B%22attribution%22%3A%20%22Data%20by%20%5Cu0026copy%3B%20%5Cu003ca%20href%3D%5C%22http%3A//openstreetmap.org%5C%22%5Cu003eOpenStreetMap%5Cu003c/a%5Cu003e%2C%20under%20%5Cu003ca%20href%3D%5C%22http%3A//www.openstreetmap.org/copyright%5C%22%5Cu003eODbL%5Cu003c/a%5Cu003e.%22%2C%20%22detectRetina%22%3A%20false%2C%20%22maxNativeZoom%22%3A%2018%2C%20%22maxZoom%22%3A%2018%2C%20%22minZoom%22%3A%200%2C%20%22noWrap%22%3A%20false%2C%20%22opacity%22%3A%201%2C%20%22subdomains%22%3A%20%22abc%22%2C%20%22tms%22%3A%20false%7D%0A%20%20%20%20%20%20%20%20%20%20%20%20%29.addTo%28map_73b700705dbd4a259f662d8a0eb031f3%29%3B%0A%20%20%20%20%20%20%20%20%0A%20%20%20%20%0A%20%20%20%20%20%20%20%20%20%20%20%20var%20marker_f1e4e11e2a5c4e2eb53352d1dbd856ec%20%3D%20L.marker%28%0A%20%20%20%20%20%20%20%20%20%20%20%20%20%20%20%20%5B45.3735%2C%20-121.6959%5D%2C%0A%20%20%20%20%20%20%20%20%20%20%20%20%20%20%20%20%7B%7D%0A%20%20%20%20%20%20%20%20%20%20%20%20%29.addTo%28map_73b700705dbd4a259f662d8a0eb031f3%29%3B%0A%20%20%20%20%20%20%20%20%0A%20%20%20%20%0A%20%20%20%20%20%20%20%20var%20popup_da188d257d5d4fd4bf097546b9abf8d1%20%3D%20L.popup%28%7B%22maxWidth%22%3A%20%22100%25%22%7D%29%3B%0A%0A%20%20%20%20%20%20%20%20%0A%20%20%20%20%20%20%20%20%20%20%20%20var%20html_7be32ba759f14af98db0ba2609e19d2e%20%3D%20%24%28%60%3Cdiv%20id%3D%22html_7be32ba759f14af98db0ba2609e19d2e%22%20style%3D%22width%3A%20100.0%25%3B%20height%3A%20100.0%25%3B%22%3EName%3A%20Mount%20Hood%20Isolation%3A%2092.2%3C/div%3E%60%29%5B0%5D%3B%0A%20%20%20%20%20%20%20%20%20%20%20%20popup_da188d257d5d4fd4bf097546b9abf8d1.setContent%28html_7be32ba759f14af98db0ba2609e19d2e%29%3B%0A%20%20%20%20%20%20%20%20%0A%0A%20%20%20%20%20%20%20%20marker_f1e4e11e2a5c4e2eb53352d1dbd856ec.bindPopup%28popup_da188d257d5d4fd4bf097546b9abf8d1%29%0A%20%20%20%20%20%20%20%20%3B%0A%0A%20%20%20%20%20%20%20%20%0A%20%20%20%20%0A%20%20%20%20%0A%20%20%20%20%20%20%20%20%20%20%20%20var%20marker_729d19c2f5274eeb87bb075806edee41%20%3D%20L.marker%28%0A%20%20%20%20%20%20%20%20%20%20%20%20%20%20%20%20%5B44.6743%2C%20-121.7996%5D%2C%0A%20%20%20%20%20%20%20%20%20%20%20%20%20%20%20%20%7B%7D%0A%20%20%20%20%20%20%20%20%20%20%20%20%29.addTo%28map_73b700705dbd4a259f662d8a0eb031f3%29%3B%0A%20%20%20%20%20%20%20%20%0A%20%20%20%20%0A%20%20%20%20%20%20%20%20var%20popup_1aeb8cb0d11b4380a4041b2779e8077a%20%3D%20L.popup%28%7B%22maxWidth%22%3A%20%22100%25%22%7D%29%3B%0A%0A%20%20%20%20%20%20%20%20%0A%20%20%20%20%20%20%20%20%20%20%20%20var%20html_26f6fad763354abd905667b66a2909ef%20%3D%20%24%28%60%3Cdiv%20id%3D%22html_26f6fad763354abd905667b66a2909ef%22%20style%3D%22width%3A%20100.0%25%3B%20height%3A%20100.0%25%3B%22%3EName%3A%20Mount%20Jefferson%20Isolation%3A%2077.5%3C/div%3E%60%29%5B0%5D%3B%0A%20%20%20%20%20%20%20%20%20%20%20%20popup_1aeb8cb0d11b4380a4041b2779e8077a.setContent%28html_26f6fad763354abd905667b66a2909ef%29%3B%0A%20%20%20%20%20%20%20%20%0A%0A%20%20%20%20%20%20%20%20marker_729d19c2f5274eeb87bb075806edee41.bindPopup%28popup_1aeb8cb0d11b4380a4041b2779e8077a%29%0A%20%20%20%20%20%20%20%20%3B%0A%0A%20%20%20%20%20%20%20%20%0A%20%20%20%20%0A%20%20%20%20%0A%20%20%20%20%20%20%20%20%20%20%20%20var%20marker_9a07e748eae34408815f6cdaee4c62b5%20%3D%20L.marker%28%0A%20%20%20%20%20%20%20%20%20%20%20%20%20%20%20%20%5B44.1035%2C%20-121.7693%5D%2C%0A%20%20%20%20%20%20%20%20%20%20%20%20%20%20%20%20%7B%7D%0A%20%20%20%20%20%20%20%20%20%20%20%20%29.addTo%28map_73b700705dbd4a259f662d8a0eb031f3%29%3B%0A%20%20%20%20%20%20%20%20%0A%20%20%20%20%0A%20%20%20%20%20%20%20%20var%20popup_86dc56fb9e5141488133f66b449729fe%20%3D%20L.popup%28%7B%22maxWidth%22%3A%20%22100%25%22%7D%29%3B%0A%0A%20%20%20%20%20%20%20%20%0A%20%20%20%20%20%20%20%20%20%20%20%20var%20html_603162ae53be4e3f9d664b1a8249484b%20%3D%20%24%28%60%3Cdiv%20id%3D%22html_603162ae53be4e3f9d664b1a8249484b%22%20style%3D%22width%3A%20100.0%25%3B%20height%3A%20100.0%25%3B%22%3EName%3A%20South%20Sister%20Isolation%3A%2063.4%3C/div%3E%60%29%5B0%5D%3B%0A%20%20%20%20%20%20%20%20%20%20%20%20popup_86dc56fb9e5141488133f66b449729fe.setContent%28html_603162ae53be4e3f9d664b1a8249484b%29%3B%0A%20%20%20%20%20%20%20%20%0A%0A%20%20%20%20%20%20%20%20marker_9a07e748eae34408815f6cdaee4c62b5.bindPopup%28popup_86dc56fb9e5141488133f66b449729fe%29%0A%20%20%20%20%20%20%20%20%3B%0A%0A%20%20%20%20%20%20%20%20%0A%20%20%20%20%0A%20%20%20%20%0A%20%20%20%20%20%20%20%20%20%20%20%20var%20marker_7fd9b5da45ee426fa9d71f9df80f89bc%20%3D%20L.marker%28%0A%20%20%20%20%20%20%20%20%20%20%20%20%20%20%20%20%5B44.1666%2C%20-121.7723%5D%2C%0A%20%20%20%20%20%20%20%20%20%20%20%20%20%20%20%20%7B%7D%0A%20%20%20%20%20%20%20%20%20%20%20%20%29.addTo%28map_73b700705dbd4a259f662d8a0eb031f3%29%3B%0A%20%20%20%20%20%20%20%20%0A%20%20%20%20%0A%20%20%20%20%20%20%20%20var%20popup_651db233a68c4d83a1c2db5678ff1f04%20%3D%20L.popup%28%7B%22maxWidth%22%3A%20%22100%25%22%7D%29%3B%0A%0A%20%20%20%20%20%20%20%20%0A%20%20%20%20%20%20%20%20%20%20%20%20var%20html_47ff01bd78db4c9ab7956a2840af2681%20%3D%20%24%28%60%3Cdiv%20id%3D%22html_47ff01bd78db4c9ab7956a2840af2681%22%20style%3D%22width%3A%20100.0%25%3B%20height%3A%20100.0%25%3B%22%3EName%3A%20North%20Sister%20Isolation%3A%207.0%3C/div%3E%60%29%5B0%5D%3B%0A%20%20%20%20%20%20%20%20%20%20%20%20popup_651db233a68c4d83a1c2db5678ff1f04.setContent%28html_47ff01bd78db4c9ab7956a2840af2681%29%3B%0A%20%20%20%20%20%20%20%20%0A%0A%20%20%20%20%20%20%20%20marker_7fd9b5da45ee426fa9d71f9df80f89bc.bindPopup%28popup_651db233a68c4d83a1c2db5678ff1f04%29%0A%20%20%20%20%20%20%20%20%3B%0A%0A%20%20%20%20%20%20%20%20%0A%20%20%20%20%0A%20%20%20%20%0A%20%20%20%20%20%20%20%20%20%20%20%20var%20marker_fd70fbc8e26e424b9ad10bf92846c9d7%20%3D%20L.marker%28%0A%20%20%20%20%20%20%20%20%20%20%20%20%20%20%20%20%5B44.1483%2C%20-121.784%5D%2C%0A%20%20%20%20%20%20%20%20%20%20%20%20%20%20%20%20%7B%7D%0A%20%20%20%20%20%20%20%20%20%20%20%20%29.addTo%28map_73b700705dbd4a259f662d8a0eb031f3%29%3B%0A%20%20%20%20%20%20%20%20%0A%20%20%20%20%0A%20%20%20%20%20%20%20%20var%20popup_b0d624cad9ff41cfb647fdef1fb95920%20%3D%20L.popup%28%7B%22maxWidth%22%3A%20%22100%25%22%7D%29%3B%0A%0A%20%20%20%20%20%20%20%20%0A%20%20%20%20%20%20%20%20%20%20%20%20var%20html_9a8dbad043f04399b7ce64eef77b6bad%20%3D%20%24%28%60%3Cdiv%20id%3D%22html_9a8dbad043f04399b7ce64eef77b6bad%22%20style%3D%22width%3A%20100.0%25%3B%20height%3A%20100.0%25%3B%22%3EName%3A%20Middle%20Sister%20Isolation%3A%201.8%3C/div%3E%60%29%5B0%5D%3B%0A%20%20%20%20%20%20%20%20%20%20%20%20popup_b0d624cad9ff41cfb647fdef1fb95920.setContent%28html_9a8dbad043f04399b7ce64eef77b6bad%29%3B%0A%20%20%20%20%20%20%20%20%0A%0A%20%20%20%20%20%20%20%20marker_fd70fbc8e26e424b9ad10bf92846c9d7.bindPopup%28popup_b0d624cad9ff41cfb647fdef1fb95920%29%0A%20%20%20%20%20%20%20%20%3B%0A%0A%20%20%20%20%20%20%20%20%0A%20%20%20%20%0A%20%20%20%20%0A%20%20%20%20%20%20%20%20%20%20%20%20var%20marker_ab92b18c7af748fd82dc150674d70b21%20%3D%20L.marker%28%0A%20%20%20%20%20%20%20%20%20%20%20%20%20%20%20%20%5B45.245%2C%20-117.2929%5D%2C%0A%20%20%20%20%20%20%20%20%20%20%20%20%20%20%20%20%7B%7D%0A%20%20%20%20%20%20%20%20%20%20%20%20%29.addTo%28map_73b700705dbd4a259f662d8a0eb031f3%29%3B%0A%20%20%20%20%20%20%20%20%0A%20%20%20%20%0A%20%20%20%20%20%20%20%20var%20popup_a35f147d42554c5da4f38da04dc7c1ed%20%3D%20L.popup%28%7B%22maxWidth%22%3A%20%22100%25%22%7D%29%3B%0A%0A%20%20%20%20%20%20%20%20%0A%20%20%20%20%20%20%20%20%20%20%20%20var%20html_d3240b176ae24a3b87ae7d62e26b6b54%20%3D%20%24%28%60%3Cdiv%20id%3D%22html_d3240b176ae24a3b87ae7d62e26b6b54%22%20style%3D%22width%3A%20100.0%25%3B%20height%3A%20100.0%25%3B%22%3EName%3A%20Sacajawea%20Peak%20Isolation%3A%20202.0%3C/div%3E%60%29%5B0%5D%3B%0A%20%20%20%20%20%20%20%20%20%20%20%20popup_a35f147d42554c5da4f38da04dc7c1ed.setContent%28html_d3240b176ae24a3b87ae7d62e26b6b54%29%3B%0A%20%20%20%20%20%20%20%20%0A%0A%20%20%20%20%20%20%20%20marker_ab92b18c7af748fd82dc150674d70b21.bindPopup%28popup_a35f147d42554c5da4f38da04dc7c1ed%29%0A%20%20%20%20%20%20%20%20%3B%0A%0A%20%20%20%20%20%20%20%20%0A%20%20%20%20%0A%20%20%20%20%0A%20%20%20%20%20%20%20%20%20%20%20%20var%20marker_c9dc22eb037346189f27c6e04e9c2463%20%3D%20L.marker%28%0A%20%20%20%20%20%20%20%20%20%20%20%20%20%20%20%20%5B42.6364%2C%20-118.5767%5D%2C%0A%20%20%20%20%20%20%20%20%20%20%20%20%20%20%20%20%7B%7D%0A%20%20%20%20%20%20%20%20%20%20%20%20%29.addTo%28map_73b700705dbd4a259f662d8a0eb031f3%29%3B%0A%20%20%20%20%20%20%20%20%0A%20%20%20%20%0A%20%20%20%20%20%20%20%20var%20popup_438469789dff4472bff23fd57cb8c449%20%3D%20L.popup%28%7B%22maxWidth%22%3A%20%22100%25%22%7D%29%3B%0A%0A%20%20%20%20%20%20%20%20%0A%20%20%20%20%20%20%20%20%20%20%20%20var%20html_d431a58c86194a09ad137e6e462b942a%20%3D%20%24%28%60%3Cdiv%20id%3D%22html_d431a58c86194a09ad137e6e462b942a%22%20style%3D%22width%3A%20100.0%25%3B%20height%3A%20100.0%25%3B%22%3EName%3A%20Steens%20Mountain%20Isolation%3A%20201.0%3C/div%3E%60%29%5B0%5D%3B%0A%20%20%20%20%20%20%20%20%20%20%20%20popup_438469789dff4472bff23fd57cb8c449.setContent%28html_d431a58c86194a09ad137e6e462b942a%29%3B%0A%20%20%20%20%20%20%20%20%0A%0A%20%20%20%20%20%20%20%20marker_c9dc22eb037346189f27c6e04e9c2463.bindPopup%28popup_438469789dff4472bff23fd57cb8c449%29%0A%20%20%20%20%20%20%20%20%3B%0A%0A%20%20%20%20%20%20%20%20%0A%20%20%20%20%0A%20%20%20%20%0A%20%20%20%20%20%20%20%20%20%20%20%20var%20marker_3e2a6459390643bd963b4d01ea964601%20%3D%20L.marker%28%0A%20%20%20%20%20%20%20%20%20%20%20%20%20%20%20%20%5B45.203%2C%20-117.175%5D%2C%0A%20%20%20%20%20%20%20%20%20%20%20%20%20%20%20%20%7B%7D%0A%20%20%20%20%20%20%20%20%20%20%20%20%29.addTo%28map_73b700705dbd4a259f662d8a0eb031f3%29%3B%0A%20%20%20%20%20%20%20%20%0A%20%20%20%20%0A%20%20%20%20%20%20%20%20var%20popup_18cb5d0c5ea249d0ae5d65792ad89777%20%3D%20L.popup%28%7B%22maxWidth%22%3A%20%22100%25%22%7D%29%3B%0A%0A%20%20%20%20%20%20%20%20%0A%20%20%20%20%20%20%20%20%20%20%20%20var%20html_9fba93abcd434b5cbea26dd11ad52fd6%20%3D%20%24%28%60%3Cdiv%20id%3D%22html_9fba93abcd434b5cbea26dd11ad52fd6%22%20style%3D%22width%3A%20100.0%25%3B%20height%3A%20100.0%25%3B%22%3EName%3A%20Aneroid%20Mountain%20Isolation%3A%209.48%3C/div%3E%60%29%5B0%5D%3B%0A%20%20%20%20%20%20%20%20%20%20%20%20popup_18cb5d0c5ea249d0ae5d65792ad89777.setContent%28html_9fba93abcd434b5cbea26dd11ad52fd6%29%3B%0A%20%20%20%20%20%20%20%20%0A%0A%20%20%20%20%20%20%20%20marker_3e2a6459390643bd963b4d01ea964601.bindPopup%28popup_18cb5d0c5ea249d0ae5d65792ad89777%29%0A%20%20%20%20%20%20%20%20%3B%0A%0A%20%20%20%20%20%20%20%20%0A%20%20%20%20%0A%20%20%20%20%0A%20%20%20%20%20%20%20%20%20%20%20%20var%20marker_6a069b7201ce4aa8bdc3750b3004ce25%20%3D%20L.marker%28%0A%20%20%20%20%20%20%20%20%20%20%20%20%20%20%20%20%5B45.3046%2C%20-117.3452%5D%2C%0A%20%20%20%20%20%20%20%20%20%20%20%20%20%20%20%20%7B%7D%0A%20%20%20%20%20%20%20%20%20%20%20%20%29.addTo%28map_73b700705dbd4a259f662d8a0eb031f3%29%3B%0A%20%20%20%20%20%20%20%20%0A%20%20%20%20%0A%20%20%20%20%20%20%20%20var%20popup_ba037bf261c446d3891246779226d05f%20%3D%20L.popup%28%7B%22maxWidth%22%3A%20%22100%25%22%7D%29%3B%0A%0A%20%20%20%20%20%20%20%20%0A%20%20%20%20%20%20%20%20%20%20%20%20var%20html_6531ba1496c645aeb354b76c5a2ea9b8%20%3D%20%24%28%60%3Cdiv%20id%3D%22html_6531ba1496c645aeb354b76c5a2ea9b8%22%20style%3D%22width%3A%20100.0%25%3B%20height%3A%20100.0%25%3B%22%3EName%3A%20Twin%20Peaks%20Isolation%3A%207.79%3C/div%3E%60%29%5B0%5D%3B%0A%20%20%20%20%20%20%20%20%20%20%20%20popup_ba037bf261c446d3891246779226d05f.setContent%28html_6531ba1496c645aeb354b76c5a2ea9b8%29%3B%0A%20%20%20%20%20%20%20%20%0A%0A%20%20%20%20%20%20%20%20marker_6a069b7201ce4aa8bdc3750b3004ce25.bindPopup%28popup_ba037bf261c446d3891246779226d05f%29%0A%20%20%20%20%20%20%20%20%3B%0A%0A%20%20%20%20%20%20%20%20%0A%20%20%20%20%0A%20%20%20%20%0A%20%20%20%20%20%20%20%20%20%20%20%20var%20marker_c7134aad7b5f4161bf50610f698d0e22%20%3D%20L.marker%28%0A%20%20%20%20%20%20%20%20%20%20%20%20%20%20%20%20%5B45.0644%2C%20-117.246%5D%2C%0A%20%20%20%20%20%20%20%20%20%20%20%20%20%20%20%20%7B%7D%0A%20%20%20%20%20%20%20%20%20%20%20%20%29.addTo%28map_73b700705dbd4a259f662d8a0eb031f3%29%3B%0A%20%20%20%20%20%20%20%20%0A%20%20%20%20%0A%20%20%20%20%20%20%20%20var%20popup_b3560cd169154e5792b0691bfa316008%20%3D%20L.popup%28%7B%22maxWidth%22%3A%20%22100%25%22%7D%29%3B%0A%0A%20%20%20%20%20%20%20%20%0A%20%20%20%20%20%20%20%20%20%20%20%20var%20html_916d7d2ac7ef435681420a0c40dc3477%20%3D%20%24%28%60%3Cdiv%20id%3D%22html_916d7d2ac7ef435681420a0c40dc3477%22%20style%3D%22width%3A%20100.0%25%3B%20height%3A%20100.0%25%3B%22%3EName%3A%20Red%20Mountain%20Isolation%3A%2011.84%3C/div%3E%60%29%5B0%5D%3B%0A%20%20%20%20%20%20%20%20%20%20%20%20popup_b3560cd169154e5792b0691bfa316008.setContent%28html_916d7d2ac7ef435681420a0c40dc3477%29%3B%0A%20%20%20%20%20%20%20%20%0A%0A%20%20%20%20%20%20%20%20marker_c7134aad7b5f4161bf50610f698d0e22.bindPopup%28popup_b3560cd169154e5792b0691bfa316008%29%0A%20%20%20%20%20%20%20%20%3B%0A%0A%20%20%20%20%20%20%20%20%0A%20%20%20%20%0A%20%20%20%20%0A%20%20%20%20%20%20%20%20%20%20%20%20var%20marker_57c7a7fb47e642b0aa5017c465757af4%20%3D%20L.marker%28%0A%20%20%20%20%20%20%20%20%20%20%20%20%20%20%20%20%5B42.4445%2C%20-122.3156%5D%2C%0A%20%20%20%20%20%20%20%20%20%20%20%20%20%20%20%20%7B%7D%0A%20%20%20%20%20%20%20%20%20%20%20%20%29.addTo%28map_73b700705dbd4a259f662d8a0eb031f3%29%3B%0A%20%20%20%20%20%20%20%20%0A%20%20%20%20%0A%20%20%20%20%20%20%20%20var%20popup_2fb9bad7a2614fdc85f251dd828c883e%20%3D%20L.popup%28%7B%22maxWidth%22%3A%20%22100%25%22%7D%29%3B%0A%0A%20%20%20%20%20%20%20%20%0A%20%20%20%20%20%20%20%20%20%20%20%20var%20html_c9ad39f3d19a4ac68d55c36c1f2407c7%20%3D%20%24%28%60%3Cdiv%20id%3D%22html_c9ad39f3d19a4ac68d55c36c1f2407c7%22%20style%3D%22width%3A%20100.0%25%3B%20height%3A%20100.0%25%3B%22%3EName%3A%20Mount%20McLoughlin%20Isolation%3A%20111.8%3C/div%3E%60%29%5B0%5D%3B%0A%20%20%20%20%20%20%20%20%20%20%20%20popup_2fb9bad7a2614fdc85f251dd828c883e.setContent%28html_c9ad39f3d19a4ac68d55c36c1f2407c7%29%3B%0A%20%20%20%20%20%20%20%20%0A%0A%20%20%20%20%20%20%20%20marker_57c7a7fb47e642b0aa5017c465757af4.bindPopup%28popup_2fb9bad7a2614fdc85f251dd828c883e%29%0A%20%20%20%20%20%20%20%20%3B%0A%0A%20%20%20%20%20%20%20%20%0A%20%20%20%20%0A%20%20%20%20%0A%20%20%20%20%20%20%20%20%20%20%20%20var%20marker_c3134f1151b64ea7be18b6e403b504f5%20%3D%20L.marker%28%0A%20%20%20%20%20%20%20%20%20%20%20%20%20%20%20%20%5B45.2223%2C%20-117.3968%5D%2C%0A%20%20%20%20%20%20%20%20%20%20%20%20%20%20%20%20%7B%7D%0A%20%20%20%20%20%20%20%20%20%20%20%20%29.addTo%28map_73b700705dbd4a259f662d8a0eb031f3%29%3B%0A%20%20%20%20%20%20%20%20%0A%20%20%20%20%0A%20%20%20%20%20%20%20%20var%20popup_381241a2dc2f40618f8556397866299e%20%3D%20L.popup%28%7B%22maxWidth%22%3A%20%22100%25%22%7D%29%3B%0A%0A%20%20%20%20%20%20%20%20%0A%20%20%20%20%20%20%20%20%20%20%20%20var%20html_6e54945e3a854020b625363766f61e93%20%3D%20%24%28%60%3Cdiv%20id%3D%22html_6e54945e3a854020b625363766f61e93%22%20style%3D%22width%3A%20100.0%25%3B%20height%3A%20100.0%25%3B%22%3EName%3A%20Elkhorn%20Peak%20Isolation%3A%205.32%3C/div%3E%60%29%5B0%5D%3B%0A%20%20%20%20%20%20%20%20%20%20%20%20popup_381241a2dc2f40618f8556397866299e.setContent%28html_6e54945e3a854020b625363766f61e93%29%3B%0A%20%20%20%20%20%20%20%20%0A%0A%20%20%20%20%20%20%20%20marker_c3134f1151b64ea7be18b6e403b504f5.bindPopup%28popup_381241a2dc2f40618f8556397866299e%29%0A%20%20%20%20%20%20%20%20%3B%0A%0A%20%20%20%20%20%20%20%20%0A%20%20%20%20%0A%20%20%20%20%0A%20%20%20%20%20%20%20%20%20%20%20%20var%20marker_0d2baaa96d1146f98e56a6c44287fa00%20%3D%20L.marker%28%0A%20%20%20%20%20%20%20%20%20%20%20%20%20%20%20%20%5B43.1528%2C%20-122.0665%5D%2C%0A%20%20%20%20%20%20%20%20%20%20%20%20%20%20%20%20%7B%7D%0A%20%20%20%20%20%20%20%20%20%20%20%20%29.addTo%28map_73b700705dbd4a259f662d8a0eb031f3%29%3B%0A%20%20%20%20%20%20%20%20%0A%20%20%20%20%0A%20%20%20%20%20%20%20%20var%20popup_e18e2626d7964a378b2289578f8a5684%20%3D%20L.popup%28%7B%22maxWidth%22%3A%20%22100%25%22%7D%29%3B%0A%0A%20%20%20%20%20%20%20%20%0A%20%20%20%20%20%20%20%20%20%20%20%20var%20html_dcfed74f33ce4f0a9d90850db03e2c19%20%3D%20%24%28%60%3Cdiv%20id%3D%22html_dcfed74f33ce4f0a9d90850db03e2c19%22%20style%3D%22width%3A%20100.0%25%3B%20height%3A%20100.0%25%3B%22%3EName%3A%20Mount%20Thielsen%20Isolation%3A%2081.1%3C/div%3E%60%29%5B0%5D%3B%0A%20%20%20%20%20%20%20%20%20%20%20%20popup_e18e2626d7964a378b2289578f8a5684.setContent%28html_dcfed74f33ce4f0a9d90850db03e2c19%29%3B%0A%20%20%20%20%20%20%20%20%0A%0A%20%20%20%20%20%20%20%20marker_0d2baaa96d1146f98e56a6c44287fa00.bindPopup%28popup_e18e2626d7964a378b2289578f8a5684%29%0A%20%20%20%20%20%20%20%20%3B%0A%0A%20%20%20%20%20%20%20%20%0A%20%20%20%20%0A%20%20%20%20%0A%20%20%20%20%20%20%20%20%20%20%20%20var%20marker_175e96b8fff74cb0b59e36ccc6b328a2%20%3D%20L.marker%28%0A%20%20%20%20%20%20%20%20%20%20%20%20%20%20%20%20%5B44.083%2C%20-121.6994%5D%2C%0A%20%20%20%20%20%20%20%20%20%20%20%20%20%20%20%20%7B%7D%0A%20%20%20%20%20%20%20%20%20%20%20%20%29.addTo%28map_73b700705dbd4a259f662d8a0eb031f3%29%3B%0A%20%20%20%20%20%20%20%20%0A%20%20%20%20%0A%20%20%20%20%20%20%20%20var%20popup_e385eab0587d48f1bbf2913b1d2db2cb%20%3D%20L.popup%28%7B%22maxWidth%22%3A%20%22100%25%22%7D%29%3B%0A%0A%20%20%20%20%20%20%20%20%0A%20%20%20%20%20%20%20%20%20%20%20%20var%20html_a1a714343c544a2a85c6c195ea63ecf5%20%3D%20%24%28%60%3Cdiv%20id%3D%22html_a1a714343c544a2a85c6c195ea63ecf5%22%20style%3D%22width%3A%20100.0%25%3B%20height%3A%20100.0%25%3B%22%3EName%3A%20Broken%20Top%20Isolation%3A%205.52%3C/div%3E%60%29%5B0%5D%3B%0A%20%20%20%20%20%20%20%20%20%20%20%20popup_e385eab0587d48f1bbf2913b1d2db2cb.setContent%28html_a1a714343c544a2a85c6c195ea63ecf5%29%3B%0A%20%20%20%20%20%20%20%20%0A%0A%20%20%20%20%20%20%20%20marker_175e96b8fff74cb0b59e36ccc6b328a2.bindPopup%28popup_e385eab0587d48f1bbf2913b1d2db2cb%29%0A%20%20%20%20%20%20%20%20%3B%0A%0A%20%20%20%20%20%20%20%20%0A%20%20%20%20%0A%20%20%20%20%0A%20%20%20%20%20%20%20%20%20%20%20%20var%20marker_ad62500ddf5e470ab8c0aecb969c9df2%20%3D%20L.marker%28%0A%20%20%20%20%20%20%20%20%20%20%20%20%20%20%20%20%5B44.8168%2C%20-118.1039%5D%2C%0A%20%20%20%20%20%20%20%20%20%20%20%20%20%20%20%20%7B%7D%0A%20%20%20%20%20%20%20%20%20%20%20%20%29.addTo%28map_73b700705dbd4a259f662d8a0eb031f3%29%3B%0A%20%20%20%20%20%20%20%20%0A%20%20%20%20%0A%20%20%20%20%20%20%20%20var%20popup_a5e76586325840b289c75f1956dd3f5c%20%3D%20L.popup%28%7B%22maxWidth%22%3A%20%22100%25%22%7D%29%3B%0A%0A%20%20%20%20%20%20%20%20%0A%20%20%20%20%20%20%20%20%20%20%20%20var%20html_2fca8dbed3654a638a0a10350ec230e5%20%3D%20%24%28%60%3Cdiv%20id%3D%22html_2fca8dbed3654a638a0a10350ec230e5%22%20style%3D%22width%3A%20100.0%25%3B%20height%3A%20100.0%25%3B%22%3EName%3A%20Rock%20Creek%20Butte%20Isolation%3A%2069.9%3C/div%3E%60%29%5B0%5D%3B%0A%20%20%20%20%20%20%20%20%20%20%20%20popup_a5e76586325840b289c75f1956dd3f5c.setContent%28html_2fca8dbed3654a638a0a10350ec230e5%29%3B%0A%20%20%20%20%20%20%20%20%0A%0A%20%20%20%20%20%20%20%20marker_ad62500ddf5e470ab8c0aecb969c9df2.bindPopup%28popup_a5e76586325840b289c75f1956dd3f5c%29%0A%20%20%20%20%20%20%20%20%3B%0A%0A%20%20%20%20%20%20%20%20%0A%20%20%20%20%0A%20%20%20%20%0A%20%20%20%20%20%20%20%20%20%20%20%20var%20marker_442ff2ba92c44313b17659e6a45255ef%20%3D%20L.marker%28%0A%20%20%20%20%20%20%20%20%20%20%20%20%20%20%20%20%5B43.9794%2C%20-121.6885%5D%2C%0A%20%20%20%20%20%20%20%20%20%20%20%20%20%20%20%20%7B%7D%0A%20%20%20%20%20%20%20%20%20%20%20%20%29.addTo%28map_73b700705dbd4a259f662d8a0eb031f3%29%3B%0A%20%20%20%20%20%20%20%20%0A%20%20%20%20%0A%20%20%20%20%20%20%20%20var%20popup_24624d1c12b947b58120b56bd8d5f01a%20%3D%20L.popup%28%7B%22maxWidth%22%3A%20%22100%25%22%7D%29%3B%0A%0A%20%20%20%20%20%20%20%20%0A%20%20%20%20%20%20%20%20%20%20%20%20var%20html_9ae5b361fcd749f7989ab13c894dfae2%20%3D%20%24%28%60%3Cdiv%20id%3D%22html_9ae5b361fcd749f7989ab13c894dfae2%22%20style%3D%22width%3A%20100.0%25%3B%20height%3A%20100.0%25%3B%22%3EName%3A%20Mount%20Bachelor%20Isolation%3A%2011.02%3C/div%3E%60%29%5B0%5D%3B%0A%20%20%20%20%20%20%20%20%20%20%20%20popup_24624d1c12b947b58120b56bd8d5f01a.setContent%28html_9ae5b361fcd749f7989ab13c894dfae2%29%3B%0A%20%20%20%20%20%20%20%20%0A%0A%20%20%20%20%20%20%20%20marker_442ff2ba92c44313b17659e6a45255ef.bindPopup%28popup_24624d1c12b947b58120b56bd8d5f01a%29%0A%20%20%20%20%20%20%20%20%3B%0A%0A%20%20%20%20%20%20%20%20%0A%20%20%20%20%0A%20%20%20%20%0A%20%20%20%20%20%20%20%20%20%20%20%20var%20marker_76a4443d03b5491398895f799829540f%20%3D%20L.marker%28%0A%20%20%20%20%20%20%20%20%20%20%20%20%20%20%20%20%5B44.3123%2C%20-118.7166%5D%2C%0A%20%20%20%20%20%20%20%20%20%20%20%20%20%20%20%20%7B%7D%0A%20%20%20%20%20%20%20%20%20%20%20%20%29.addTo%28map_73b700705dbd4a259f662d8a0eb031f3%29%3B%0A%20%20%20%20%20%20%20%20%0A%20%20%20%20%0A%20%20%20%20%20%20%20%20var%20popup_14db5aee5b7a4febb545b7d8eaaa3821%20%3D%20L.popup%28%7B%22maxWidth%22%3A%20%22100%25%22%7D%29%3B%0A%0A%20%20%20%20%20%20%20%20%0A%20%20%20%20%20%20%20%20%20%20%20%20var%20html_da86f21a5f8a49ef93285e713300b714%20%3D%20%24%28%60%3Cdiv%20id%3D%22html_da86f21a5f8a49ef93285e713300b714%22%20style%3D%22width%3A%20100.0%25%3B%20height%3A%20100.0%25%3B%22%3EName%3A%20Strawberry%20Mountain%20Isolation%3A%2074.2%3C/div%3E%60%29%5B0%5D%3B%0A%20%20%20%20%20%20%20%20%20%20%20%20popup_14db5aee5b7a4febb545b7d8eaaa3821.setContent%28html_da86f21a5f8a49ef93285e713300b714%29%3B%0A%20%20%20%20%20%20%20%20%0A%0A%20%20%20%20%20%20%20%20marker_76a4443d03b5491398895f799829540f.bindPopup%28popup_14db5aee5b7a4febb545b7d8eaaa3821%29%0A%20%20%20%20%20%20%20%20%3B%0A%0A%20%20%20%20%20%20%20%20%0A%20%20%20%20%0A%20%20%20%20%0A%20%20%20%20%20%20%20%20%20%20%20%20var%20marker_dff0f37480e34cf59b2b6b1d28b1e761%20%3D%20L.marker%28%0A%20%20%20%20%20%20%20%20%20%20%20%20%20%20%20%20%5B42.9229%2C%20-122.0162%5D%2C%0A%20%20%20%20%20%20%20%20%20%20%20%20%20%20%20%20%7B%7D%0A%20%20%20%20%20%20%20%20%20%20%20%20%29.addTo%28map_73b700705dbd4a259f662d8a0eb031f3%29%3B%0A%20%20%20%20%20%20%20%20%0A%20%20%20%20%0A%20%20%20%20%20%20%20%20var%20popup_7cd136ed138e4d88986b5ab79b4efcb5%20%3D%20L.popup%28%7B%22maxWidth%22%3A%20%22100%25%22%7D%29%3B%0A%0A%20%20%20%20%20%20%20%20%0A%20%20%20%20%20%20%20%20%20%20%20%20var%20html_7d73381057b543a1a384657c68a9f27c%20%3D%20%24%28%60%3Cdiv%20id%3D%22html_7d73381057b543a1a384657c68a9f27c%22%20style%3D%22width%3A%20100.0%25%3B%20height%3A%20100.0%25%3B%22%3EName%3A%20Mount%20Scott%20Isolation%3A%2025.9%3C/div%3E%60%29%5B0%5D%3B%0A%20%20%20%20%20%20%20%20%20%20%20%20popup_7cd136ed138e4d88986b5ab79b4efcb5.setContent%28html_7d73381057b543a1a384657c68a9f27c%29%3B%0A%20%20%20%20%20%20%20%20%0A%0A%20%20%20%20%20%20%20%20marker_dff0f37480e34cf59b2b6b1d28b1e761.bindPopup%28popup_7cd136ed138e4d88986b5ab79b4efcb5%29%0A%20%20%20%20%20%20%20%20%3B%0A%0A%20%20%20%20%20%20%20%20%0A%20%20%20%20%0A%20%20%20%20%0A%20%20%20%20%20%20%20%20%20%20%20%20var%20marker_80d9e76d4ce143d8a93835c59d0f4e06%20%3D%20L.marker%28%0A%20%20%20%20%20%20%20%20%20%20%20%20%20%20%20%20%5B43.5207%2C%20-122.1496%5D%2C%0A%20%20%20%20%20%20%20%20%20%20%20%20%20%20%20%20%7B%7D%0A%20%20%20%20%20%20%20%20%20%20%20%20%29.addTo%28map_73b700705dbd4a259f662d8a0eb031f3%29%3B%0A%20%20%20%20%20%20%20%20%0A%20%20%20%20%0A%20%20%20%20%20%20%20%20var%20popup_d68dcf58bc44426785f31760d9f1ee76%20%3D%20L.popup%28%7B%22maxWidth%22%3A%20%22100%25%22%7D%29%3B%0A%0A%20%20%20%20%20%20%20%20%0A%20%20%20%20%20%20%20%20%20%20%20%20var%20html_26d5410a7c984cd18a5d847930c564b7%20%3D%20%24%28%60%3Cdiv%20id%3D%22html_26d5410a7c984cd18a5d847930c564b7%22%20style%3D%22width%3A%20100.0%25%3B%20height%3A%20100.0%25%3B%22%3EName%3A%20Diamond%20Peak%20Isolation%3A%2041.4%3C/div%3E%60%29%5B0%5D%3B%0A%20%20%20%20%20%20%20%20%20%20%20%20popup_d68dcf58bc44426785f31760d9f1ee76.setContent%28html_26d5410a7c984cd18a5d847930c564b7%29%3B%0A%20%20%20%20%20%20%20%20%0A%0A%20%20%20%20%20%20%20%20marker_80d9e76d4ce143d8a93835c59d0f4e06.bindPopup%28popup_d68dcf58bc44426785f31760d9f1ee76%29%0A%20%20%20%20%20%20%20%20%3B%0A%0A%20%20%20%20%20%20%20%20%0A%20%20%20%20%0A%20%20%20%20%0A%20%20%20%20%20%20%20%20%20%20%20%20var%20marker_8c09dd1ee1904c08b44768d0cc4f6b88%20%3D%20L.marker%28%0A%20%20%20%20%20%20%20%20%20%20%20%20%20%20%20%20%5B42.0995%2C%20-118.6506%5D%2C%0A%20%20%20%20%20%20%20%20%20%20%20%20%20%20%20%20%7B%7D%0A%20%20%20%20%20%20%20%20%20%20%20%20%29.addTo%28map_73b700705dbd4a259f662d8a0eb031f3%29%3B%0A%20%20%20%20%20%20%20%20%0A%20%20%20%20%0A%20%20%20%20%20%20%20%20var%20popup_9366c8de8fe6414287b790dcb3022527%20%3D%20L.popup%28%7B%22maxWidth%22%3A%20%22100%25%22%7D%29%3B%0A%0A%20%20%20%20%20%20%20%20%0A%20%20%20%20%20%20%20%20%20%20%20%20var%20html_e678d8a8bd0b4da5819da871a149ea55%20%3D%20%24%28%60%3Cdiv%20id%3D%22html_e678d8a8bd0b4da5819da871a149ea55%22%20style%3D%22width%3A%20100.0%25%3B%20height%3A%20100.0%25%3B%22%3EName%3A%20Pueblo%20Mountain%20Isolation%3A%2045.5%3C/div%3E%60%29%5B0%5D%3B%0A%20%20%20%20%20%20%20%20%20%20%20%20popup_9366c8de8fe6414287b790dcb3022527.setContent%28html_e678d8a8bd0b4da5819da871a149ea55%29%3B%0A%20%20%20%20%20%20%20%20%0A%0A%20%20%20%20%20%20%20%20marker_8c09dd1ee1904c08b44768d0cc4f6b88.bindPopup%28popup_9366c8de8fe6414287b790dcb3022527%29%0A%20%20%20%20%20%20%20%20%3B%0A%0A%20%20%20%20%20%20%20%20%0A%20%20%20%20%0A%20%20%20%20%0A%20%20%20%20%20%20%20%20%20%20%20%20var%20marker_2898fb14c59b4e93bc90b03c2c70b658%20%3D%20L.marker%28%0A%20%20%20%20%20%20%20%20%20%20%20%20%20%20%20%20%5B42.0628%2C%20-120.2408%5D%2C%0A%20%20%20%20%20%20%20%20%20%20%20%20%20%20%20%20%7B%7D%0A%20%20%20%20%20%20%20%20%20%20%20%20%29.addTo%28map_73b700705dbd4a259f662d8a0eb031f3%29%3B%0A%20%20%20%20%20%20%20%20%0A%20%20%20%20%0A%20%20%20%20%20%20%20%20var%20popup_838ccdd27e51410b8f9a1abf808ae694%20%3D%20L.popup%28%7B%22maxWidth%22%3A%20%22100%25%22%7D%29%3B%0A%0A%20%20%20%20%20%20%20%20%0A%20%20%20%20%20%20%20%20%20%20%20%20var%20html_528a23239d7b4023a38c8ca4a09a7000%20%3D%20%24%28%60%3Cdiv%20id%3D%22html_528a23239d7b4023a38c8ca4a09a7000%22%20style%3D%22width%3A%20100.0%25%3B%20height%3A%20100.0%25%3B%22%3EName%3A%20Crane%20Mountain%20Isolation%3A%2071.4%3C/div%3E%60%29%5B0%5D%3B%0A%20%20%20%20%20%20%20%20%20%20%20%20popup_838ccdd27e51410b8f9a1abf808ae694.setContent%28html_528a23239d7b4023a38c8ca4a09a7000%29%3B%0A%20%20%20%20%20%20%20%20%0A%0A%20%20%20%20%20%20%20%20marker_2898fb14c59b4e93bc90b03c2c70b658.bindPopup%28popup_838ccdd27e51410b8f9a1abf808ae694%29%0A%20%20%20%20%20%20%20%20%3B%0A%0A%20%20%20%20%20%20%20%20%0A%20%20%20%20%0A%20%20%20%20%0A%20%20%20%20%20%20%20%20%20%20%20%20var%20marker_e7c8732901fc4fd89d06d02e5badd139%20%3D%20L.marker%28%0A%20%20%20%20%20%20%20%20%20%20%20%20%20%20%20%20%5B42.3001%2C%20-120.1238%5D%2C%0A%20%20%20%20%20%20%20%20%20%20%20%20%20%20%20%20%7B%7D%0A%20%20%20%20%20%20%20%20%20%20%20%20%29.addTo%28map_73b700705dbd4a259f662d8a0eb031f3%29%3B%0A%20%20%20%20%20%20%20%20%0A%20%20%20%20%0A%20%20%20%20%20%20%20%20var%20popup_064a6edbe6aa418e8335943870273e97%20%3D%20L.popup%28%7B%22maxWidth%22%3A%20%22100%25%22%7D%29%3B%0A%0A%20%20%20%20%20%20%20%20%0A%20%20%20%20%20%20%20%20%20%20%20%20var%20html_d6eebb04632c44258edd20a3362227b0%20%3D%20%24%28%60%3Cdiv%20id%3D%22html_d6eebb04632c44258edd20a3362227b0%22%20style%3D%22width%3A%20100.0%25%3B%20height%3A%20100.0%25%3B%22%3EName%3A%20Drake%20Peak%20Isolation%3A%2028.1%3C/div%3E%60%29%5B0%5D%3B%0A%20%20%20%20%20%20%20%20%20%20%20%20popup_064a6edbe6aa418e8335943870273e97.setContent%28html_d6eebb04632c44258edd20a3362227b0%29%3B%0A%20%20%20%20%20%20%20%20%0A%0A%20%20%20%20%20%20%20%20marker_e7c8732901fc4fd89d06d02e5badd139.bindPopup%28popup_064a6edbe6aa418e8335943870273e97%29%0A%20%20%20%20%20%20%20%20%3B%0A%0A%20%20%20%20%20%20%20%20%0A%20%20%20%20%0A%20%20%20%20%0A%20%20%20%20%20%20%20%20%20%20%20%20var%20marker_72cd7d226b204702bc046e1ea9c41f8d%20%3D%20L.marker%28%0A%20%20%20%20%20%20%20%20%20%20%20%20%20%20%20%20%5B43.1551%2C%20-122.22%5D%2C%0A%20%20%20%20%20%20%20%20%20%20%20%20%20%20%20%20%7B%7D%0A%20%20%20%20%20%20%20%20%20%20%20%20%29.addTo%28map_73b700705dbd4a259f662d8a0eb031f3%29%3B%0A%20%20%20%20%20%20%20%20%0A%20%20%20%20%0A%20%20%20%20%20%20%20%20var%20popup_2565a4b072d444e99ef6b8cd3eb793b9%20%3D%20L.popup%28%7B%22maxWidth%22%3A%20%22100%25%22%7D%29%3B%0A%0A%20%20%20%20%20%20%20%20%0A%20%20%20%20%20%20%20%20%20%20%20%20var%20html_85c9694272fa4ad99dcf8af6866c34e3%20%3D%20%24%28%60%3Cdiv%20id%3D%22html_85c9694272fa4ad99dcf8af6866c34e3%22%20style%3D%22width%3A%20100.0%25%3B%20height%3A%20100.0%25%3B%22%3EName%3A%20Mount%20Bailey%20Isolation%3A%2012.49%3C/div%3E%60%29%5B0%5D%3B%0A%20%20%20%20%20%20%20%20%20%20%20%20popup_2565a4b072d444e99ef6b8cd3eb793b9.setContent%28html_85c9694272fa4ad99dcf8af6866c34e3%29%3B%0A%20%20%20%20%20%20%20%20%0A%0A%20%20%20%20%20%20%20%20marker_72cd7d226b204702bc046e1ea9c41f8d.bindPopup%28popup_2565a4b072d444e99ef6b8cd3eb793b9%29%0A%20%20%20%20%20%20%20%20%3B%0A%0A%20%20%20%20%20%20%20%20%0A%20%20%20%20%0A%20%20%20%20%0A%20%20%20%20%20%20%20%20%20%20%20%20var%20marker_1d6f6911b6b1430189fbbab0348ab784%20%3D%20L.marker%28%0A%20%20%20%20%20%20%20%20%20%20%20%20%20%20%20%20%5B42.496%2C%20-120.8773%5D%2C%0A%20%20%20%20%20%20%20%20%20%20%20%20%20%20%20%20%7B%7D%0A%20%20%20%20%20%20%20%20%20%20%20%20%29.addTo%28map_73b700705dbd4a259f662d8a0eb031f3%29%3B%0A%20%20%20%20%20%20%20%20%0A%20%20%20%20%0A%20%20%20%20%20%20%20%20var%20popup_910fb54ad54d43c18d97826bfc4b21d9%20%3D%20L.popup%28%7B%22maxWidth%22%3A%20%22100%25%22%7D%29%3B%0A%0A%20%20%20%20%20%20%20%20%0A%20%20%20%20%20%20%20%20%20%20%20%20var%20html_0fadb18309664b62b6bb548c49d2ac7a%20%3D%20%24%28%60%3Cdiv%20id%3D%22html_0fadb18309664b62b6bb548c49d2ac7a%22%20style%3D%22width%3A%20100.0%25%3B%20height%3A%20100.0%25%3B%22%3EName%3A%20Gearhart%20Mountain%20Isolation%3A%2065.7%3C/div%3E%60%29%5B0%5D%3B%0A%20%20%20%20%20%20%20%20%20%20%20%20popup_910fb54ad54d43c18d97826bfc4b21d9.setContent%28html_0fadb18309664b62b6bb548c49d2ac7a%29%3B%0A%20%20%20%20%20%20%20%20%0A%0A%20%20%20%20%20%20%20%20marker_1d6f6911b6b1430189fbbab0348ab784.bindPopup%28popup_910fb54ad54d43c18d97826bfc4b21d9%29%0A%20%20%20%20%20%20%20%20%3B%0A%0A%20%20%20%20%20%20%20%20%0A%20%20%20%20%0A%20%20%20%20%0A%20%20%20%20%20%20%20%20%20%20%20%20var%20marker_74cb55ecbdd847f78ed2470b8f55006b%20%3D%20L.marker%28%0A%20%20%20%20%20%20%20%20%20%20%20%20%20%20%20%20%5B42.3155%2C%20-122.0876%5D%2C%0A%20%20%20%20%20%20%20%20%20%20%20%20%20%20%20%20%7B%7D%0A%20%20%20%20%20%20%20%20%20%20%20%20%29.addTo%28map_73b700705dbd4a259f662d8a0eb031f3%29%3B%0A%20%20%20%20%20%20%20%20%0A%20%20%20%20%0A%20%20%20%20%20%20%20%20var%20popup_18b8e0f027f046689c9731247e913d5f%20%3D%20L.popup%28%7B%22maxWidth%22%3A%20%22100%25%22%7D%29%3B%0A%0A%20%20%20%20%20%20%20%20%0A%20%20%20%20%20%20%20%20%20%20%20%20var%20html_ff090b32f14842d58b597ae2112833fd%20%3D%20%24%28%60%3Cdiv%20id%3D%22html_ff090b32f14842d58b597ae2112833fd%22%20style%3D%22width%3A%20100.0%25%3B%20height%3A%20100.0%25%3B%22%3EName%3A%20Aspen%20Butte%20Isolation%3A%2023.7%3C/div%3E%60%29%5B0%5D%3B%0A%20%20%20%20%20%20%20%20%20%20%20%20popup_18b8e0f027f046689c9731247e913d5f.setContent%28html_ff090b32f14842d58b597ae2112833fd%29%3B%0A%20%20%20%20%20%20%20%20%0A%0A%20%20%20%20%20%20%20%20marker_74cb55ecbdd847f78ed2470b8f55006b.bindPopup%28popup_18b8e0f027f046689c9731247e913d5f%29%0A%20%20%20%20%20%20%20%20%3B%0A%0A%20%20%20%20%20%20%20%20%0A%20%20%20%20%0A%20%20%20%20%0A%20%20%20%20%20%20%20%20%20%20%20%20var%20marker_843febbbbc404d87915512b56c3952c0%20%3D%20L.marker%28%0A%20%20%20%20%20%20%20%20%20%20%20%20%20%20%20%20%5B42.9306%2C%20-121.3607%5D%2C%0A%20%20%20%20%20%20%20%20%20%20%20%20%20%20%20%20%7B%7D%0A%20%20%20%20%20%20%20%20%20%20%20%20%29.addTo%28map_73b700705dbd4a259f662d8a0eb031f3%29%3B%0A%20%20%20%20%20%20%20%20%0A%20%20%20%20%0A%20%20%20%20%20%20%20%20var%20popup_5a6a5942702148a2a37376f1dbff4492%20%3D%20L.popup%28%7B%22maxWidth%22%3A%20%22100%25%22%7D%29%3B%0A%0A%20%20%20%20%20%20%20%20%0A%20%20%20%20%20%20%20%20%20%20%20%20var%20html_130e4f98686349a4bd36c07e73247ce2%20%3D%20%24%28%60%3Cdiv%20id%3D%22html_130e4f98686349a4bd36c07e73247ce2%22%20style%3D%22width%3A%20100.0%25%3B%20height%3A%20100.0%25%3B%22%3EName%3A%20Yamsay%20Mountain%20Isolation%3A%2053.1%3C/div%3E%60%29%5B0%5D%3B%0A%20%20%20%20%20%20%20%20%20%20%20%20popup_5a6a5942702148a2a37376f1dbff4492.setContent%28html_130e4f98686349a4bd36c07e73247ce2%29%3B%0A%20%20%20%20%20%20%20%20%0A%0A%20%20%20%20%20%20%20%20marker_843febbbbc404d87915512b56c3952c0.bindPopup%28popup_5a6a5942702148a2a37376f1dbff4492%29%0A%20%20%20%20%20%20%20%20%3B%0A%0A%20%20%20%20%20%20%20%20%0A%20%20%20%20%0A%20%20%20%20%0A%20%20%20%20%20%20%20%20%20%20%20%20var%20marker_35cc766158124a468bc64657997aeaef%20%3D%20L.marker%28%0A%20%20%20%20%20%20%20%20%20%20%20%20%20%20%20%20%5B44.7138%2C%20-118.5617%5D%2C%0A%20%20%20%20%20%20%20%20%20%20%20%20%20%20%20%20%7B%7D%0A%20%20%20%20%20%20%20%20%20%20%20%20%29.addTo%28map_73b700705dbd4a259f662d8a0eb031f3%29%3B%0A%20%20%20%20%20%20%20%20%0A%20%20%20%20%0A%20%20%20%20%20%20%20%20var%20popup_bed0fe2ee86a4a978a84a0485b2c4192%20%3D%20L.popup%28%7B%22maxWidth%22%3A%20%22100%25%22%7D%29%3B%0A%0A%20%20%20%20%20%20%20%20%0A%20%20%20%20%20%20%20%20%20%20%20%20var%20html_23bd113838dc44d7ace610a17d784b6a%20%3D%20%24%28%60%3Cdiv%20id%3D%22html_23bd113838dc44d7ace610a17d784b6a%22%20style%3D%22width%3A%20100.0%25%3B%20height%3A%20100.0%25%3B%22%3EName%3A%20Vinegar%20Hill%20Isolation%3A%2023.5%3C/div%3E%60%29%5B0%5D%3B%0A%20%20%20%20%20%20%20%20%20%20%20%20popup_bed0fe2ee86a4a978a84a0485b2c4192.setContent%28html_23bd113838dc44d7ace610a17d784b6a%29%3B%0A%20%20%20%20%20%20%20%20%0A%0A%20%20%20%20%20%20%20%20marker_35cc766158124a468bc64657997aeaef.bindPopup%28popup_bed0fe2ee86a4a978a84a0485b2c4192%29%0A%20%20%20%20%20%20%20%20%3B%0A%0A%20%20%20%20%20%20%20%20%0A%20%20%20%20%0A%20%20%20%20%0A%20%20%20%20%20%20%20%20%20%20%20%20var%20marker_e4c29ba173bc45c7aa6a7b8d90959ca6%20%3D%20L.marker%28%0A%20%20%20%20%20%20%20%20%20%20%20%20%20%20%20%20%5B42.5134%2C%20-122.1453%5D%2C%0A%20%20%20%20%20%20%20%20%20%20%20%20%20%20%20%20%7B%7D%0A%20%20%20%20%20%20%20%20%20%20%20%20%29.addTo%28map_73b700705dbd4a259f662d8a0eb031f3%29%3B%0A%20%20%20%20%20%20%20%20%0A%20%20%20%20%0A%20%20%20%20%20%20%20%20var%20popup_6479bba0e7b14a16bb06be60623a79a3%20%3D%20L.popup%28%7B%22maxWidth%22%3A%20%22100%25%22%7D%29%3B%0A%0A%20%20%20%20%20%20%20%20%0A%20%20%20%20%20%20%20%20%20%20%20%20var%20html_5e7f3271b3c7417081a2fd76a78d7fbd%20%3D%20%24%28%60%3Cdiv%20id%3D%22html_5e7f3271b3c7417081a2fd76a78d7fbd%22%20style%3D%22width%3A%20100.0%25%3B%20height%3A%20100.0%25%3B%22%3EName%3A%20Pelican%20Butte%20Isolation%3A%2015.98%3C/div%3E%60%29%5B0%5D%3B%0A%20%20%20%20%20%20%20%20%20%20%20%20popup_6479bba0e7b14a16bb06be60623a79a3.setContent%28html_5e7f3271b3c7417081a2fd76a78d7fbd%29%3B%0A%20%20%20%20%20%20%20%20%0A%0A%20%20%20%20%20%20%20%20marker_e4c29ba173bc45c7aa6a7b8d90959ca6.bindPopup%28popup_6479bba0e7b14a16bb06be60623a79a3%29%0A%20%20%20%20%20%20%20%20%3B%0A%0A%20%20%20%20%20%20%20%20%0A%20%20%20%20%0A%20%20%20%20%0A%20%20%20%20%20%20%20%20%20%20%20%20var%20marker_5702aa4769374da29440cdfa91e5c4c1%20%3D%20L.marker%28%0A%20%20%20%20%20%20%20%20%20%20%20%20%20%20%20%20%5B44.2889%2C%20-118.4954%5D%2C%0A%20%20%20%20%20%20%20%20%20%20%20%20%20%20%20%20%7B%7D%0A%20%20%20%20%20%20%20%20%20%20%20%20%29.addTo%28map_73b700705dbd4a259f662d8a0eb031f3%29%3B%0A%20%20%20%20%20%20%20%20%0A%20%20%20%20%0A%20%20%20%20%20%20%20%20var%20popup_042bc76e13204a1593dfa5bd8e7962ed%20%3D%20L.popup%28%7B%22maxWidth%22%3A%20%22100%25%22%7D%29%3B%0A%0A%20%20%20%20%20%20%20%20%0A%20%20%20%20%20%20%20%20%20%20%20%20var%20html_6d4cb55d71114fd5aad85bd0e1fd34ab%20%3D%20%24%28%60%3Cdiv%20id%3D%22html_6d4cb55d71114fd5aad85bd0e1fd34ab%22%20style%3D%22width%3A%20100.0%25%3B%20height%3A%20100.0%25%3B%22%3EName%3A%20Lookout%20Mountain%20Isolation%3A%2010.73%3C/div%3E%60%29%5B0%5D%3B%0A%20%20%20%20%20%20%20%20%20%20%20%20popup_042bc76e13204a1593dfa5bd8e7962ed.setContent%28html_6d4cb55d71114fd5aad85bd0e1fd34ab%29%3B%0A%20%20%20%20%20%20%20%20%0A%0A%20%20%20%20%20%20%20%20marker_5702aa4769374da29440cdfa91e5c4c1.bindPopup%28popup_042bc76e13204a1593dfa5bd8e7962ed%29%0A%20%20%20%20%20%20%20%20%3B%0A%0A%20%20%20%20%20%20%20%20%0A%20%20%20%20%0A%20%20%20%20%0A%20%20%20%20%20%20%20%20%20%20%20%20var%20marker_db3713956d5a4f6191f9da368ce62293%20%3D%20L.marker%28%0A%20%20%20%20%20%20%20%20%20%20%20%20%20%20%20%20%5B42.4597%2C%20-119.7414%5D%2C%0A%20%20%20%20%20%20%20%20%20%20%20%20%20%20%20%20%7B%7D%0A%20%20%20%20%20%20%20%20%20%20%20%20%29.addTo%28map_73b700705dbd4a259f662d8a0eb031f3%29%3B%0A%20%20%20%20%20%20%20%20%0A%20%20%20%20%0A%20%20%20%20%20%20%20%20var%20popup_3a2270b0dcda463497a24e687b82367e%20%3D%20L.popup%28%7B%22maxWidth%22%3A%20%22100%25%22%7D%29%3B%0A%0A%20%20%20%20%20%20%20%20%0A%20%20%20%20%20%20%20%20%20%20%20%20var%20html_637c46adb47f42ef8bdee7c6fbd9b25a%20%3D%20%24%28%60%3Cdiv%20id%3D%22html_637c46adb47f42ef8bdee7c6fbd9b25a%22%20style%3D%22width%3A%20100.0%25%3B%20height%3A%20100.0%25%3B%22%3EName%3A%20Warner%20Peak%20Isolation%3A%2035.6%3C/div%3E%60%29%5B0%5D%3B%0A%20%20%20%20%20%20%20%20%20%20%20%20popup_3a2270b0dcda463497a24e687b82367e.setContent%28html_637c46adb47f42ef8bdee7c6fbd9b25a%29%3B%0A%20%20%20%20%20%20%20%20%0A%0A%20%20%20%20%20%20%20%20marker_db3713956d5a4f6191f9da368ce62293.bindPopup%28popup_3a2270b0dcda463497a24e687b82367e%29%0A%20%20%20%20%20%20%20%20%3B%0A%0A%20%20%20%20%20%20%20%20%0A%20%20%20%20%0A%20%20%20%20%0A%20%20%20%20%20%20%20%20%20%20%20%20var%20marker_aa41ad3344de4eb99c1bf50c88345d61%20%3D%20L.marker%28%0A%20%20%20%20%20%20%20%20%20%20%20%20%20%20%20%20%5B43.6892%2C%20-121.2549%5D%2C%0A%20%20%20%20%20%20%20%20%20%20%20%20%20%20%20%20%7B%7D%0A%20%20%20%20%20%20%20%20%20%20%20%20%29.addTo%28map_73b700705dbd4a259f662d8a0eb031f3%29%3B%0A%20%20%20%20%20%20%20%20%0A%20%20%20%20%0A%20%20%20%20%20%20%20%20var%20popup_1c3f93904f314c279a60a7d19a767ff3%20%3D%20L.popup%28%7B%22maxWidth%22%3A%20%22100%25%22%7D%29%3B%0A%0A%20%20%20%20%20%20%20%20%0A%20%20%20%20%20%20%20%20%20%20%20%20var%20html_31e696df3fcc487db9a7b7b9e639bce7%20%3D%20%24%28%60%3Cdiv%20id%3D%22html_31e696df3fcc487db9a7b7b9e639bce7%22%20style%3D%22width%3A%20100.0%25%3B%20height%3A%20100.0%25%3B%22%3EName%3A%20Paulina%20Peak%20Isolation%3A%2046.5%3C/div%3E%60%29%5B0%5D%3B%0A%20%20%20%20%20%20%20%20%20%20%20%20popup_1c3f93904f314c279a60a7d19a767ff3.setContent%28html_31e696df3fcc487db9a7b7b9e639bce7%29%3B%0A%20%20%20%20%20%20%20%20%0A%0A%20%20%20%20%20%20%20%20marker_aa41ad3344de4eb99c1bf50c88345d61.bindPopup%28popup_1c3f93904f314c279a60a7d19a767ff3%29%0A%20%20%20%20%20%20%20%20%3B%0A%0A%20%20%20%20%20%20%20%20%0A%20%20%20%20%0A%3C/script%3E onload=\"this.contentDocument.open();this.contentDocument.write(    decodeURIComponent(this.getAttribute('data-html')));this.contentDocument.close();\" allowfullscreen webkitallowfullscreen mozallowfullscreen></iframe></div></div>"
      ],
      "text/plain": [
       "<folium.folium.Map at 0x21f1d5e61a0>"
      ]
     },
     "execution_count": 18,
     "metadata": {},
     "output_type": "execute_result"
    }
   ],
   "source": [
    "map = folium.Map(location=[44, -121], zoom_start=7)\n",
    "for i in range(0, len(coords)):\n",
    "    folium.Marker(coords[i], popup='Name: ' + names[i] + ' Isolation: ' + str(isolation[i])).add_to(map)\n",
    "map"
   ]
  },
  {
   "cell_type": "markdown",
   "id": "1fbd891c",
   "metadata": {},
   "source": [
    "## Question 4"
   ]
  },
  {
   "cell_type": "markdown",
   "id": "d3465c17",
   "metadata": {},
   "source": [
    "* Write a script to automatically derive the geographic coordinates for the following addresses:\n",
    "\n",
    "    * 1844 SW Morrison St, Portland, OR 97205\n",
    "    \n",
    "    * 800 Occidental Ave S, Seattle, WA 98134\n",
    "    \n",
    "    * 1001 Stadium Dr, Inglewood, CA 90301\n",
    "    \n",
    "    * 2700 Martin Luther King Jr Blvd, Eugene, OR 97401"
   ]
  },
  {
   "cell_type": "code",
   "execution_count": 19,
   "id": "6ce24f22",
   "metadata": {},
   "outputs": [
    {
     "name": "stdout",
     "output_type": "stream",
     "text": [
      "Requirement already satisfied: webdriver_manager in c:\\users\\theoh\\anaconda3\\envs\\lab7\\lib\\site-packages (3.5.2)\n",
      "Requirement already satisfied: configparser in c:\\users\\theoh\\anaconda3\\envs\\lab7\\lib\\site-packages (from webdriver_manager) (5.2.0)\n",
      "Requirement already satisfied: crayons in c:\\users\\theoh\\anaconda3\\envs\\lab7\\lib\\site-packages (from webdriver_manager) (0.4.0)\n",
      "Requirement already satisfied: requests in c:\\users\\theoh\\anaconda3\\envs\\lab7\\lib\\site-packages (from webdriver_manager) (2.27.1)\n",
      "Requirement already satisfied: colorama in c:\\users\\theoh\\anaconda3\\envs\\lab7\\lib\\site-packages (from crayons->webdriver_manager) (0.4.4)\n",
      "Requirement already satisfied: urllib3<1.27,>=1.21.1 in c:\\users\\theoh\\anaconda3\\envs\\lab7\\lib\\site-packages (from requests->webdriver_manager) (1.26.8)\n",
      "Requirement already satisfied: certifi>=2017.4.17 in c:\\users\\theoh\\anaconda3\\envs\\lab7\\lib\\site-packages (from requests->webdriver_manager) (2021.10.8)\n",
      "Requirement already satisfied: idna<4,>=2.5 in c:\\users\\theoh\\anaconda3\\envs\\lab7\\lib\\site-packages (from requests->webdriver_manager) (3.3)\n",
      "Requirement already satisfied: charset-normalizer~=2.0.0 in c:\\users\\theoh\\anaconda3\\envs\\lab7\\lib\\site-packages (from requests->webdriver_manager) (2.0.12)\n"
     ]
    }
   ],
   "source": [
    "# Install webdriver_manager: https://github.com/SergeyPirogov/webdriver_manager\n",
    "!pip3 install webdriver_manager"
   ]
  },
  {
   "cell_type": "code",
   "execution_count": 20,
   "id": "c349a657",
   "metadata": {},
   "outputs": [],
   "source": [
    "# Import packages\n",
    "from selenium import webdriver\n",
    "from selenium.webdriver.chrome.service import Service\n",
    "from selenium.webdriver.common.by import By\n",
    "from selenium.webdriver.support.ui import WebDriverWait \n",
    "from selenium.webdriver.support import expected_conditions as EC\n",
    "from webdriver_manager.chrome import ChromeDriverManager"
   ]
  },
  {
   "cell_type": "code",
   "execution_count": 21,
   "id": "3132f6f0",
   "metadata": {},
   "outputs": [],
   "source": [
    "addresses = ['1844 SW Morrison St, Portland, OR 97205', \\\n",
    "             '800 Occidental Ave S, Seattle, WA 98134', \\\n",
    "             '1001 Stadium Dr, Inglewood, CA 90301', \\\n",
    "            '2700 Martin Luther King Jr Blvd, Eugene, OR 97401']"
   ]
  },
  {
   "cell_type": "code",
   "execution_count": 22,
   "id": "56111a8c",
   "metadata": {},
   "outputs": [
    {
     "name": "stderr",
     "output_type": "stream",
     "text": [
      "\n",
      "\n",
      "====== WebDriver manager ======\n",
      "Current google-chrome version is 98.0.4758\n",
      "Get LATEST chromedriver version for 98.0.4758 google-chrome\n",
      "Driver [C:\\Users\\theoh\\.wdm\\drivers\\chromedriver\\win32\\98.0.4758.102\\chromedriver.exe] found in cache\n",
      "\n",
      "\n",
      "====== WebDriver manager ======\n",
      "Current google-chrome version is 98.0.4758\n",
      "Get LATEST chromedriver version for 98.0.4758 google-chrome\n",
      "Driver [C:\\Users\\theoh\\.wdm\\drivers\\chromedriver\\win32\\98.0.4758.102\\chromedriver.exe] found in cache\n",
      "\n",
      "\n",
      "====== WebDriver manager ======\n",
      "Current google-chrome version is 98.0.4758\n",
      "Get LATEST chromedriver version for 98.0.4758 google-chrome\n",
      "Driver [C:\\Users\\theoh\\.wdm\\drivers\\chromedriver\\win32\\98.0.4758.102\\chromedriver.exe] found in cache\n",
      "\n",
      "\n",
      "====== WebDriver manager ======\n",
      "Current google-chrome version is 98.0.4758\n",
      "Get LATEST chromedriver version for 98.0.4758 google-chrome\n",
      "Driver [C:\\Users\\theoh\\.wdm\\drivers\\chromedriver\\win32\\98.0.4758.102\\chromedriver.exe] found in cache\n"
     ]
    }
   ],
   "source": [
    "address_coords = []\n",
    "# Loop through every ski resort to find it's coordinates\n",
    "for address in addresses:\n",
    "       \n",
    "    # Define URL to search in Google Maps\n",
    "    url = 'https://www.google.com/maps/place/' + address\n",
    "    \n",
    "    # Import web driver and search for ski resorts\n",
    "    driver = webdriver.Chrome(service=Service(ChromeDriverManager().install()))\n",
    "    driver.get(url)\n",
    "      \n",
    "    # Click search\n",
    "    element = WebDriverWait(driver, 20).until(EC.element_to_be_clickable((By.ID, \"searchbox-searchbutton\")))\n",
    "    element.click()\n",
    "    \n",
    "    # Make the web driver wait until the URL updates (i.e. contains the @ sign we're looking for)\n",
    "    WebDriverWait(driver, 20).until(EC.url_contains(\"@\"))\n",
    "    \n",
    "    # Retrieve the URL\n",
    "    link = driver.current_url\n",
    "    \n",
    "    # Split string\n",
    "    lat, lon = link.rsplit('@', 1)[1].rsplit(',', 1)[0].rsplit(',', 1)\n",
    "    \n",
    "    # Append to list\n",
    "    address_coords.append((lat, lon))\n",
    "    \n",
    "    # Close driver\n",
    "    driver.close()"
   ]
  },
  {
   "cell_type": "code",
   "execution_count": 23,
   "id": "27b705bf",
   "metadata": {},
   "outputs": [
    {
     "data": {
      "text/plain": [
       "[('45.5216776', '-122.693017'),\n",
       " ('47.5933101', '-122.3344609'),\n",
       " ('33.9530049', '-118.3407129'),\n",
       " ('44.0594287', '-123.0710918')]"
      ]
     },
     "execution_count": 23,
     "metadata": {},
     "output_type": "execute_result"
    }
   ],
   "source": [
    "address_coords"
   ]
  },
  {
   "cell_type": "code",
   "execution_count": 24,
   "id": "b37eeff7",
   "metadata": {
    "scrolled": true
   },
   "outputs": [
    {
     "data": {
      "text/html": [
       "<div style=\"width:100%;\"><div style=\"position:relative;width:100%;height:0;padding-bottom:60%;\"><span style=\"color:#565656\">Make this Notebook Trusted to load map: File -> Trust Notebook</span><iframe src=\"about:blank\" style=\"position:absolute;width:100%;height:100%;left:0;top:0;border:none !important;\" data-html=%3C%21DOCTYPE%20html%3E%0A%3Chead%3E%20%20%20%20%0A%20%20%20%20%3Cmeta%20http-equiv%3D%22content-type%22%20content%3D%22text/html%3B%20charset%3DUTF-8%22%20/%3E%0A%20%20%20%20%0A%20%20%20%20%20%20%20%20%3Cscript%3E%0A%20%20%20%20%20%20%20%20%20%20%20%20L_NO_TOUCH%20%3D%20false%3B%0A%20%20%20%20%20%20%20%20%20%20%20%20L_DISABLE_3D%20%3D%20false%3B%0A%20%20%20%20%20%20%20%20%3C/script%3E%0A%20%20%20%20%0A%20%20%20%20%3Cstyle%3Ehtml%2C%20body%20%7Bwidth%3A%20100%25%3Bheight%3A%20100%25%3Bmargin%3A%200%3Bpadding%3A%200%3B%7D%3C/style%3E%0A%20%20%20%20%3Cstyle%3E%23map%20%7Bposition%3Aabsolute%3Btop%3A0%3Bbottom%3A0%3Bright%3A0%3Bleft%3A0%3B%7D%3C/style%3E%0A%20%20%20%20%3Cscript%20src%3D%22https%3A//cdn.jsdelivr.net/npm/leaflet%401.6.0/dist/leaflet.js%22%3E%3C/script%3E%0A%20%20%20%20%3Cscript%20src%3D%22https%3A//code.jquery.com/jquery-1.12.4.min.js%22%3E%3C/script%3E%0A%20%20%20%20%3Cscript%20src%3D%22https%3A//maxcdn.bootstrapcdn.com/bootstrap/3.2.0/js/bootstrap.min.js%22%3E%3C/script%3E%0A%20%20%20%20%3Cscript%20src%3D%22https%3A//cdnjs.cloudflare.com/ajax/libs/Leaflet.awesome-markers/2.0.2/leaflet.awesome-markers.js%22%3E%3C/script%3E%0A%20%20%20%20%3Clink%20rel%3D%22stylesheet%22%20href%3D%22https%3A//cdn.jsdelivr.net/npm/leaflet%401.6.0/dist/leaflet.css%22/%3E%0A%20%20%20%20%3Clink%20rel%3D%22stylesheet%22%20href%3D%22https%3A//maxcdn.bootstrapcdn.com/bootstrap/3.2.0/css/bootstrap.min.css%22/%3E%0A%20%20%20%20%3Clink%20rel%3D%22stylesheet%22%20href%3D%22https%3A//maxcdn.bootstrapcdn.com/bootstrap/3.2.0/css/bootstrap-theme.min.css%22/%3E%0A%20%20%20%20%3Clink%20rel%3D%22stylesheet%22%20href%3D%22https%3A//maxcdn.bootstrapcdn.com/font-awesome/4.6.3/css/font-awesome.min.css%22/%3E%0A%20%20%20%20%3Clink%20rel%3D%22stylesheet%22%20href%3D%22https%3A//cdnjs.cloudflare.com/ajax/libs/Leaflet.awesome-markers/2.0.2/leaflet.awesome-markers.css%22/%3E%0A%20%20%20%20%3Clink%20rel%3D%22stylesheet%22%20href%3D%22https%3A//cdn.jsdelivr.net/gh/python-visualization/folium/folium/templates/leaflet.awesome.rotate.min.css%22/%3E%0A%20%20%20%20%0A%20%20%20%20%20%20%20%20%20%20%20%20%3Cmeta%20name%3D%22viewport%22%20content%3D%22width%3Ddevice-width%2C%0A%20%20%20%20%20%20%20%20%20%20%20%20%20%20%20%20initial-scale%3D1.0%2C%20maximum-scale%3D1.0%2C%20user-scalable%3Dno%22%20/%3E%0A%20%20%20%20%20%20%20%20%20%20%20%20%3Cstyle%3E%0A%20%20%20%20%20%20%20%20%20%20%20%20%20%20%20%20%23map_9bbfc57352a14d74bf9ca2bd90ed53bf%20%7B%0A%20%20%20%20%20%20%20%20%20%20%20%20%20%20%20%20%20%20%20%20position%3A%20relative%3B%0A%20%20%20%20%20%20%20%20%20%20%20%20%20%20%20%20%20%20%20%20width%3A%20100.0%25%3B%0A%20%20%20%20%20%20%20%20%20%20%20%20%20%20%20%20%20%20%20%20height%3A%20100.0%25%3B%0A%20%20%20%20%20%20%20%20%20%20%20%20%20%20%20%20%20%20%20%20left%3A%200.0%25%3B%0A%20%20%20%20%20%20%20%20%20%20%20%20%20%20%20%20%20%20%20%20top%3A%200.0%25%3B%0A%20%20%20%20%20%20%20%20%20%20%20%20%20%20%20%20%7D%0A%20%20%20%20%20%20%20%20%20%20%20%20%3C/style%3E%0A%20%20%20%20%20%20%20%20%0A%3C/head%3E%0A%3Cbody%3E%20%20%20%20%0A%20%20%20%20%0A%20%20%20%20%20%20%20%20%20%20%20%20%3Cdiv%20class%3D%22folium-map%22%20id%3D%22map_9bbfc57352a14d74bf9ca2bd90ed53bf%22%20%3E%3C/div%3E%0A%20%20%20%20%20%20%20%20%0A%3C/body%3E%0A%3Cscript%3E%20%20%20%20%0A%20%20%20%20%0A%20%20%20%20%20%20%20%20%20%20%20%20var%20map_9bbfc57352a14d74bf9ca2bd90ed53bf%20%3D%20L.map%28%0A%20%20%20%20%20%20%20%20%20%20%20%20%20%20%20%20%22map_9bbfc57352a14d74bf9ca2bd90ed53bf%22%2C%0A%20%20%20%20%20%20%20%20%20%20%20%20%20%20%20%20%7B%0A%20%20%20%20%20%20%20%20%20%20%20%20%20%20%20%20%20%20%20%20center%3A%20%5B35.0%2C%20-121.0%5D%2C%0A%20%20%20%20%20%20%20%20%20%20%20%20%20%20%20%20%20%20%20%20crs%3A%20L.CRS.EPSG3857%2C%0A%20%20%20%20%20%20%20%20%20%20%20%20%20%20%20%20%20%20%20%20zoom%3A%204%2C%0A%20%20%20%20%20%20%20%20%20%20%20%20%20%20%20%20%20%20%20%20zoomControl%3A%20true%2C%0A%20%20%20%20%20%20%20%20%20%20%20%20%20%20%20%20%20%20%20%20preferCanvas%3A%20false%2C%0A%20%20%20%20%20%20%20%20%20%20%20%20%20%20%20%20%7D%0A%20%20%20%20%20%20%20%20%20%20%20%20%29%3B%0A%0A%20%20%20%20%20%20%20%20%20%20%20%20%0A%0A%20%20%20%20%20%20%20%20%0A%20%20%20%20%0A%20%20%20%20%20%20%20%20%20%20%20%20var%20tile_layer_70318a783dbf46f2b05f0f2d4061b411%20%3D%20L.tileLayer%28%0A%20%20%20%20%20%20%20%20%20%20%20%20%20%20%20%20%22https%3A//%7Bs%7D.tile.openstreetmap.org/%7Bz%7D/%7Bx%7D/%7By%7D.png%22%2C%0A%20%20%20%20%20%20%20%20%20%20%20%20%20%20%20%20%7B%22attribution%22%3A%20%22Data%20by%20%5Cu0026copy%3B%20%5Cu003ca%20href%3D%5C%22http%3A//openstreetmap.org%5C%22%5Cu003eOpenStreetMap%5Cu003c/a%5Cu003e%2C%20under%20%5Cu003ca%20href%3D%5C%22http%3A//www.openstreetmap.org/copyright%5C%22%5Cu003eODbL%5Cu003c/a%5Cu003e.%22%2C%20%22detectRetina%22%3A%20false%2C%20%22maxNativeZoom%22%3A%2018%2C%20%22maxZoom%22%3A%2018%2C%20%22minZoom%22%3A%200%2C%20%22noWrap%22%3A%20false%2C%20%22opacity%22%3A%201%2C%20%22subdomains%22%3A%20%22abc%22%2C%20%22tms%22%3A%20false%7D%0A%20%20%20%20%20%20%20%20%20%20%20%20%29.addTo%28map_9bbfc57352a14d74bf9ca2bd90ed53bf%29%3B%0A%20%20%20%20%20%20%20%20%0A%20%20%20%20%0A%20%20%20%20%20%20%20%20%20%20%20%20var%20marker_3724b49cd6194941aa430e370e3baf1d%20%3D%20L.marker%28%0A%20%20%20%20%20%20%20%20%20%20%20%20%20%20%20%20%5B45.5216776%2C%20-122.693017%5D%2C%0A%20%20%20%20%20%20%20%20%20%20%20%20%20%20%20%20%7B%7D%0A%20%20%20%20%20%20%20%20%20%20%20%20%29.addTo%28map_9bbfc57352a14d74bf9ca2bd90ed53bf%29%3B%0A%20%20%20%20%20%20%20%20%0A%20%20%20%20%0A%20%20%20%20%20%20%20%20var%20popup_84ee6359c12f41a9a835d4dbcf535ec3%20%3D%20L.popup%28%7B%22maxWidth%22%3A%20%22100%25%22%7D%29%3B%0A%0A%20%20%20%20%20%20%20%20%0A%20%20%20%20%20%20%20%20%20%20%20%20var%20html_c595b4c5b7494019953ece3babb26eb1%20%3D%20%24%28%60%3Cdiv%20id%3D%22html_c595b4c5b7494019953ece3babb26eb1%22%20style%3D%22width%3A%20100.0%25%3B%20height%3A%20100.0%25%3B%22%3E1844%20SW%20Morrison%20St%2C%20Portland%2C%20OR%2097205%3C/div%3E%60%29%5B0%5D%3B%0A%20%20%20%20%20%20%20%20%20%20%20%20popup_84ee6359c12f41a9a835d4dbcf535ec3.setContent%28html_c595b4c5b7494019953ece3babb26eb1%29%3B%0A%20%20%20%20%20%20%20%20%0A%0A%20%20%20%20%20%20%20%20marker_3724b49cd6194941aa430e370e3baf1d.bindPopup%28popup_84ee6359c12f41a9a835d4dbcf535ec3%29%0A%20%20%20%20%20%20%20%20%3B%0A%0A%20%20%20%20%20%20%20%20%0A%20%20%20%20%0A%20%20%20%20%0A%20%20%20%20%20%20%20%20%20%20%20%20var%20marker_ceccefc7296c45e18fd34efd07fd6ad8%20%3D%20L.marker%28%0A%20%20%20%20%20%20%20%20%20%20%20%20%20%20%20%20%5B47.5933101%2C%20-122.3344609%5D%2C%0A%20%20%20%20%20%20%20%20%20%20%20%20%20%20%20%20%7B%7D%0A%20%20%20%20%20%20%20%20%20%20%20%20%29.addTo%28map_9bbfc57352a14d74bf9ca2bd90ed53bf%29%3B%0A%20%20%20%20%20%20%20%20%0A%20%20%20%20%0A%20%20%20%20%20%20%20%20var%20popup_f9081ba25caf45caa200552432a54d9c%20%3D%20L.popup%28%7B%22maxWidth%22%3A%20%22100%25%22%7D%29%3B%0A%0A%20%20%20%20%20%20%20%20%0A%20%20%20%20%20%20%20%20%20%20%20%20var%20html_239fb5ea7d2446d9b2d64324dfa34dcf%20%3D%20%24%28%60%3Cdiv%20id%3D%22html_239fb5ea7d2446d9b2d64324dfa34dcf%22%20style%3D%22width%3A%20100.0%25%3B%20height%3A%20100.0%25%3B%22%3E800%20Occidental%20Ave%20S%2C%20Seattle%2C%20WA%2098134%3C/div%3E%60%29%5B0%5D%3B%0A%20%20%20%20%20%20%20%20%20%20%20%20popup_f9081ba25caf45caa200552432a54d9c.setContent%28html_239fb5ea7d2446d9b2d64324dfa34dcf%29%3B%0A%20%20%20%20%20%20%20%20%0A%0A%20%20%20%20%20%20%20%20marker_ceccefc7296c45e18fd34efd07fd6ad8.bindPopup%28popup_f9081ba25caf45caa200552432a54d9c%29%0A%20%20%20%20%20%20%20%20%3B%0A%0A%20%20%20%20%20%20%20%20%0A%20%20%20%20%0A%20%20%20%20%0A%20%20%20%20%20%20%20%20%20%20%20%20var%20marker_83b5f9fa114947c5898685079f412da1%20%3D%20L.marker%28%0A%20%20%20%20%20%20%20%20%20%20%20%20%20%20%20%20%5B33.9530049%2C%20-118.3407129%5D%2C%0A%20%20%20%20%20%20%20%20%20%20%20%20%20%20%20%20%7B%7D%0A%20%20%20%20%20%20%20%20%20%20%20%20%29.addTo%28map_9bbfc57352a14d74bf9ca2bd90ed53bf%29%3B%0A%20%20%20%20%20%20%20%20%0A%20%20%20%20%0A%20%20%20%20%20%20%20%20var%20popup_3ffc8b8a6c254ec185280f17193e81dc%20%3D%20L.popup%28%7B%22maxWidth%22%3A%20%22100%25%22%7D%29%3B%0A%0A%20%20%20%20%20%20%20%20%0A%20%20%20%20%20%20%20%20%20%20%20%20var%20html_5481801e4e2a4577952e216e7b89c078%20%3D%20%24%28%60%3Cdiv%20id%3D%22html_5481801e4e2a4577952e216e7b89c078%22%20style%3D%22width%3A%20100.0%25%3B%20height%3A%20100.0%25%3B%22%3E1001%20Stadium%20Dr%2C%20Inglewood%2C%20CA%2090301%3C/div%3E%60%29%5B0%5D%3B%0A%20%20%20%20%20%20%20%20%20%20%20%20popup_3ffc8b8a6c254ec185280f17193e81dc.setContent%28html_5481801e4e2a4577952e216e7b89c078%29%3B%0A%20%20%20%20%20%20%20%20%0A%0A%20%20%20%20%20%20%20%20marker_83b5f9fa114947c5898685079f412da1.bindPopup%28popup_3ffc8b8a6c254ec185280f17193e81dc%29%0A%20%20%20%20%20%20%20%20%3B%0A%0A%20%20%20%20%20%20%20%20%0A%20%20%20%20%0A%20%20%20%20%0A%20%20%20%20%20%20%20%20%20%20%20%20var%20marker_cbb5c811b81a4268bc19437ff5e7763f%20%3D%20L.marker%28%0A%20%20%20%20%20%20%20%20%20%20%20%20%20%20%20%20%5B44.0594287%2C%20-123.0710918%5D%2C%0A%20%20%20%20%20%20%20%20%20%20%20%20%20%20%20%20%7B%7D%0A%20%20%20%20%20%20%20%20%20%20%20%20%29.addTo%28map_9bbfc57352a14d74bf9ca2bd90ed53bf%29%3B%0A%20%20%20%20%20%20%20%20%0A%20%20%20%20%0A%20%20%20%20%20%20%20%20var%20popup_e18f3c0b499c49fe8cd972a6f56939d5%20%3D%20L.popup%28%7B%22maxWidth%22%3A%20%22100%25%22%7D%29%3B%0A%0A%20%20%20%20%20%20%20%20%0A%20%20%20%20%20%20%20%20%20%20%20%20var%20html_c5d76254374543b8931ada5019ce44d4%20%3D%20%24%28%60%3Cdiv%20id%3D%22html_c5d76254374543b8931ada5019ce44d4%22%20style%3D%22width%3A%20100.0%25%3B%20height%3A%20100.0%25%3B%22%3E2700%20Martin%20Luther%20King%20Jr%20Blvd%2C%20Eugene%2C%20OR%2097401%3C/div%3E%60%29%5B0%5D%3B%0A%20%20%20%20%20%20%20%20%20%20%20%20popup_e18f3c0b499c49fe8cd972a6f56939d5.setContent%28html_c5d76254374543b8931ada5019ce44d4%29%3B%0A%20%20%20%20%20%20%20%20%0A%0A%20%20%20%20%20%20%20%20marker_cbb5c811b81a4268bc19437ff5e7763f.bindPopup%28popup_e18f3c0b499c49fe8cd972a6f56939d5%29%0A%20%20%20%20%20%20%20%20%3B%0A%0A%20%20%20%20%20%20%20%20%0A%20%20%20%20%0A%3C/script%3E onload=\"this.contentDocument.open();this.contentDocument.write(    decodeURIComponent(this.getAttribute('data-html')));this.contentDocument.close();\" allowfullscreen webkitallowfullscreen mozallowfullscreen></iframe></div></div>"
      ],
      "text/plain": [
       "<folium.folium.Map at 0x21f1d913610>"
      ]
     },
     "execution_count": 24,
     "metadata": {},
     "output_type": "execute_result"
    }
   ],
   "source": [
    "map = folium.Map(location=[35, -121], zoom_start=4)\n",
    "for i in range(0, len(address_coords)):\n",
    "    folium.Marker(address_coords[i], popup=addresses[i]).add_to(map)\n",
    "map"
   ]
  },
  {
   "cell_type": "markdown",
   "id": "dd366c56",
   "metadata": {},
   "source": [
    "## Question 5"
   ]
  },
  {
   "cell_type": "code",
   "execution_count": 25,
   "id": "c21c09b6",
   "metadata": {},
   "outputs": [],
   "source": [
    "# Import package\n",
    "import xarray as xr\n",
    "\n",
    "# Define filepath\n",
    "fp = 'C:/Users/theoh/Downloads/lab7/era_monthly_snowfall_2020.nc'\n",
    "\n",
    "# Read data\n",
    "xds = xr.open_dataset(fp, decode_coords='all')"
   ]
  },
  {
   "cell_type": "code",
   "execution_count": 26,
   "id": "617eebb1",
   "metadata": {},
   "outputs": [],
   "source": [
    "# Find closest pixel to Willammette Pass   \n",
    "willammette_pass = xds.sel(latitude=43.6000579, longitude=-122.0387233, method='nearest')"
   ]
  },
  {
   "cell_type": "code",
   "execution_count": 27,
   "id": "e791092a",
   "metadata": {},
   "outputs": [],
   "source": [
    "# Find closest pixel to Hoodoo\n",
    "hoodoo = xds.sel(latitude=44.4086477, longitude=-121.8735991, method='nearest')"
   ]
  },
  {
   "cell_type": "code",
   "execution_count": 28,
   "id": "fa0e7c03",
   "metadata": {},
   "outputs": [
    {
     "data": {
      "text/plain": [
       "1.9636936485767365"
      ]
     },
     "execution_count": 28,
     "metadata": {},
     "output_type": "execute_result"
    }
   ],
   "source": [
    "wil_snow = willammette_pass['sf'].values.sum()*100\n",
    "wil_snow"
   ]
  },
  {
   "cell_type": "code",
   "execution_count": 29,
   "id": "20adb07f",
   "metadata": {},
   "outputs": [
    {
     "data": {
      "text/plain": [
       "1.859692856669426"
      ]
     },
     "execution_count": 29,
     "metadata": {},
     "output_type": "execute_result"
    }
   ],
   "source": [
    "hoo_snow = hoodoo['sf'].values.sum()*100\n",
    "hoo_snow"
   ]
  },
  {
   "cell_type": "code",
   "execution_count": 30,
   "id": "aa9b48ea",
   "metadata": {},
   "outputs": [
    {
     "name": "stdout",
     "output_type": "stream",
     "text": [
      "Willammette Pass recieved slighty more snowfall in 2020, 1.96 m compared to 1.86 m\n"
     ]
    }
   ],
   "source": [
    "print(f'Willammette Pass recieved slighty more snowfall in 2020, {round(wil_snow, 2)} m compared to {round(hoo_snow, 2)} m')"
   ]
  },
  {
   "cell_type": "markdown",
   "id": "82a99975",
   "metadata": {},
   "source": [
    "**Extra credit part 1:**"
   ]
  },
  {
   "cell_type": "code",
   "execution_count": 31,
   "id": "85fd4f0d",
   "metadata": {},
   "outputs": [
    {
     "name": "stderr",
     "output_type": "stream",
     "text": [
      "\n",
      "\n",
      "====== WebDriver manager ======\n",
      "Current google-chrome version is 98.0.4758\n",
      "Get LATEST chromedriver version for 98.0.4758 google-chrome\n",
      "Driver [C:\\Users\\theoh\\.wdm\\drivers\\chromedriver\\win32\\98.0.4758.102\\chromedriver.exe] found in cache\n"
     ]
    }
   ],
   "source": [
    "# Install Chrome webdriver\n",
    "driver = webdriver.Chrome(service=Service(ChromeDriverManager().install()))\n",
    "\n",
    "# Open a web browser at the following page\n",
    "driver.get(\"https://en.wikipedia.org/wiki/Category:Ski_areas_and_resorts_in_Oregon\")"
   ]
  },
  {
   "cell_type": "code",
   "execution_count": 32,
   "id": "321f7a88",
   "metadata": {},
   "outputs": [],
   "source": [
    "# Retrieve ski resort names\n",
    "html_list = driver.find_element(By.ID, \"mw-pages\")\n",
    "items = html_list.find_elements(By.TAG_NAME, \"li\")"
   ]
  },
  {
   "cell_type": "code",
   "execution_count": 33,
   "id": "81dabf52",
   "metadata": {
    "scrolled": true
   },
   "outputs": [
    {
     "name": "stdout",
     "output_type": "stream",
     "text": [
      "Anthony Lakes (ski area)\n",
      "Mount Ashland Ski Area\n",
      "Cooper Spur ski area\n",
      "Ferguson Ridge Ski Area\n",
      "Hoodoo (ski area)\n",
      "Mount Ashland Ski Area Expansion\n",
      "Mount Bachelor ski area\n",
      "Mount Hood Meadows\n",
      "Mount Hood Skibowl\n",
      "Snow Bunny\n",
      "Spout Springs Ski Area\n",
      "Summit Pass (Oregon)\n",
      "Timberline Lodge ski area\n",
      "Warner Canyon\n",
      "Willamette Pass Resort\n"
     ]
    }
   ],
   "source": [
    "ski_resort_names = []\n",
    "for item in items:\n",
    "    text = item.text\n",
    "    print(text)\n",
    "    ski_resort_names.append(text)\n",
    "driver.close()"
   ]
  },
  {
   "cell_type": "code",
   "execution_count": 34,
   "id": "d2d5d07f",
   "metadata": {},
   "outputs": [],
   "source": [
    "ski_resort_coords = \\\n",
    "[('44.9629273', '-118.2357075'),\n",
    " ('42.081689', '-122.7069373'),\n",
    " ('45.4188609', '-121.6064311'),\n",
    " ('45.2816889', '-117.1148251'),\n",
    " ('44.4086477', '-121.8735991'),\n",
    " ('42.081689', '-122.7069373'),\n",
    " ('44.0028975', '-121.6812547'),\n",
    " ('45.331759', '-121.6673681'),\n",
    " ('45.2943906', '-121.80705'),\n",
    " ('45.2871456', '-121.7312248'),\n",
    " ('45.7552462', '-118.0536043'),\n",
    " ('43.9688848', '-125.7230331'),\n",
    " ('45.3233604', '-121.7891084'),\n",
    " ('42.237378', '-120.2968217'),\n",
    " ('43.6000579', '-122.0387233')]"
   ]
  },
  {
   "cell_type": "code",
   "execution_count": 35,
   "id": "b51aecf2",
   "metadata": {},
   "outputs": [],
   "source": [
    "# Define filepath\n",
    "fp = 'C:/Users/theoh/Downloads/lab7/era_monthly_snowfall_1979_2020.nc'\n",
    "\n",
    "# Read data\n",
    "xds = xr.open_dataset(fp, decode_coords='all')"
   ]
  },
  {
   "cell_type": "code",
   "execution_count": 36,
   "id": "d136a269",
   "metadata": {
    "scrolled": true
   },
   "outputs": [
    {
     "data": {
      "text/plain": [
       "[('Anthony Lakes (ski area)', ('44.9629273', '-118.2357075')),\n",
       " ('Mount Ashland Ski Area', ('42.081689', '-122.7069373')),\n",
       " ('Cooper Spur ski area', ('45.4188609', '-121.6064311')),\n",
       " ('Ferguson Ridge Ski Area', ('45.2816889', '-117.1148251')),\n",
       " ('Hoodoo (ski area)', ('44.4086477', '-121.8735991')),\n",
       " ('Mount Ashland Ski Area Expansion', ('42.081689', '-122.7069373')),\n",
       " ('Mount Bachelor ski area', ('44.0028975', '-121.6812547')),\n",
       " ('Mount Hood Meadows', ('45.331759', '-121.6673681')),\n",
       " ('Mount Hood Skibowl', ('45.2943906', '-121.80705')),\n",
       " ('Snow Bunny', ('45.2871456', '-121.7312248')),\n",
       " ('Spout Springs Ski Area', ('45.7552462', '-118.0536043')),\n",
       " ('Summit Pass (Oregon)', ('43.9688848', '-125.7230331')),\n",
       " ('Timberline Lodge ski area', ('45.3233604', '-121.7891084')),\n",
       " ('Warner Canyon', ('42.237378', '-120.2968217')),\n",
       " ('Willamette Pass Resort', ('43.6000579', '-122.0387233'))]"
      ]
     },
     "execution_count": 36,
     "metadata": {},
     "output_type": "execute_result"
    }
   ],
   "source": [
    "ski_name_loc = []\n",
    "\n",
    "for i in range(len(ski_resort_names)):\n",
    "    name = ski_resort_names[i]\n",
    "    lat, lon = ski_resort_coords[i]\n",
    "    ski_name_loc.append((name, (lat, lon)))\n",
    "\n",
    "ski_name_loc"
   ]
  },
  {
   "cell_type": "code",
   "execution_count": 37,
   "id": "c07405c3",
   "metadata": {
    "scrolled": true
   },
   "outputs": [
    {
     "data": {
      "text/html": [
       "<div>\n",
       "<style scoped>\n",
       "    .dataframe tbody tr th:only-of-type {\n",
       "        vertical-align: middle;\n",
       "    }\n",
       "\n",
       "    .dataframe tbody tr th {\n",
       "        vertical-align: top;\n",
       "    }\n",
       "\n",
       "    .dataframe thead th {\n",
       "        text-align: right;\n",
       "    }\n",
       "</style>\n",
       "<table border=\"1\" class=\"dataframe\">\n",
       "  <thead>\n",
       "    <tr style=\"text-align: right;\">\n",
       "      <th></th>\n",
       "      <th>name</th>\n",
       "      <th>avg_nov_snowfall</th>\n",
       "    </tr>\n",
       "  </thead>\n",
       "  <tbody>\n",
       "    <tr>\n",
       "      <th>8</th>\n",
       "      <td>Mount Bachelor ski area</td>\n",
       "      <td>0.325813</td>\n",
       "    </tr>\n",
       "    <tr>\n",
       "      <th>0</th>\n",
       "      <td>Willamette Pass Resort</td>\n",
       "      <td>0.286094</td>\n",
       "    </tr>\n",
       "    <tr>\n",
       "      <th>10</th>\n",
       "      <td>Hoodoo (ski area)</td>\n",
       "      <td>0.251084</td>\n",
       "    </tr>\n",
       "    <tr>\n",
       "      <th>11</th>\n",
       "      <td>Ferguson Ridge Ski Area</td>\n",
       "      <td>0.224436</td>\n",
       "    </tr>\n",
       "    <tr>\n",
       "      <th>2</th>\n",
       "      <td>Timberline Lodge ski area</td>\n",
       "      <td>0.220338</td>\n",
       "    </tr>\n",
       "    <tr>\n",
       "      <th>5</th>\n",
       "      <td>Snow Bunny</td>\n",
       "      <td>0.220338</td>\n",
       "    </tr>\n",
       "    <tr>\n",
       "      <th>6</th>\n",
       "      <td>Mount Hood Skibowl</td>\n",
       "      <td>0.220338</td>\n",
       "    </tr>\n",
       "    <tr>\n",
       "      <th>7</th>\n",
       "      <td>Mount Hood Meadows</td>\n",
       "      <td>0.220338</td>\n",
       "    </tr>\n",
       "    <tr>\n",
       "      <th>14</th>\n",
       "      <td>Anthony Lakes (ski area)</td>\n",
       "      <td>0.186159</td>\n",
       "    </tr>\n",
       "    <tr>\n",
       "      <th>12</th>\n",
       "      <td>Cooper Spur ski area</td>\n",
       "      <td>0.162620</td>\n",
       "    </tr>\n",
       "    <tr>\n",
       "      <th>9</th>\n",
       "      <td>Mount Ashland Ski Area Expansion</td>\n",
       "      <td>0.161920</td>\n",
       "    </tr>\n",
       "    <tr>\n",
       "      <th>13</th>\n",
       "      <td>Mount Ashland Ski Area</td>\n",
       "      <td>0.161920</td>\n",
       "    </tr>\n",
       "    <tr>\n",
       "      <th>4</th>\n",
       "      <td>Spout Springs Ski Area</td>\n",
       "      <td>0.156591</td>\n",
       "    </tr>\n",
       "    <tr>\n",
       "      <th>1</th>\n",
       "      <td>Warner Canyon</td>\n",
       "      <td>0.130316</td>\n",
       "    </tr>\n",
       "    <tr>\n",
       "      <th>3</th>\n",
       "      <td>Summit Pass (Oregon)</td>\n",
       "      <td>0.000018</td>\n",
       "    </tr>\n",
       "  </tbody>\n",
       "</table>\n",
       "</div>"
      ],
      "text/plain": [
       "                                name  avg_nov_snowfall\n",
       "8            Mount Bachelor ski area          0.325813\n",
       "0             Willamette Pass Resort          0.286094\n",
       "10                 Hoodoo (ski area)          0.251084\n",
       "11           Ferguson Ridge Ski Area          0.224436\n",
       "2          Timberline Lodge ski area          0.220338\n",
       "5                         Snow Bunny          0.220338\n",
       "6                 Mount Hood Skibowl          0.220338\n",
       "7                 Mount Hood Meadows          0.220338\n",
       "14          Anthony Lakes (ski area)          0.186159\n",
       "12              Cooper Spur ski area          0.162620\n",
       "9   Mount Ashland Ski Area Expansion          0.161920\n",
       "13            Mount Ashland Ski Area          0.161920\n",
       "4             Spout Springs Ski Area          0.156591\n",
       "1                      Warner Canyon          0.130316\n",
       "3               Summit Pass (Oregon)          0.000018"
      ]
     },
     "execution_count": 37,
     "metadata": {},
     "output_type": "execute_result"
    }
   ],
   "source": [
    "avg_nov_snowfalls = pd.DataFrame()\n",
    "avg_nov_snowfalls_dict = {}\n",
    "for ski_area in ski_name_loc:\n",
    "    november_snowfall = []\n",
    "    cell = xds.sel(latitude=float(ski_area[1][0]), longitude=float(ski_area[1][1]), method='nearest')\n",
    "    month_counter = 0\n",
    "    for month in cell['time']:\n",
    "        month_str = str(month['time'].values)\n",
    "\n",
    "        if month_str[5:7] == '11':\n",
    "            november_snowfall.append(cell['sf'][month_counter].values)\n",
    "        month_counter += 1\n",
    "    \n",
    "    total_nov_snowfall = sum(november_snowfall)\n",
    "    avg_nov_snowfall = total_nov_snowfall/len(november_snowfall)*100\n",
    "    \n",
    "    avg_nov_snowfalls_dict['name'] = [ski_area[0]]\n",
    "    avg_nov_snowfalls_dict['avg_nov_snowfall'] = avg_nov_snowfall\n",
    "\n",
    "\n",
    "    avg_nov_snowfalls= pd.concat([pd.DataFrame(avg_nov_snowfalls_dict), avg_nov_snowfalls], ignore_index = True, axis =0)\n",
    "\n",
    "avg_nov_snowfalls.sort_values(by=['avg_nov_snowfall'],ascending=False)"
   ]
  },
  {
   "cell_type": "code",
   "execution_count": null,
   "id": "f2f7fe9e",
   "metadata": {},
   "outputs": [],
   "source": []
  }
 ],
 "metadata": {
  "kernelspec": {
   "display_name": "Python 3 (ipykernel)",
   "language": "python",
   "name": "python3"
  },
  "language_info": {
   "codemirror_mode": {
    "name": "ipython",
    "version": 3
   },
   "file_extension": ".py",
   "mimetype": "text/x-python",
   "name": "python",
   "nbconvert_exporter": "python",
   "pygments_lexer": "ipython3",
   "version": "3.10.2"
  }
 },
 "nbformat": 4,
 "nbformat_minor": 5
}
