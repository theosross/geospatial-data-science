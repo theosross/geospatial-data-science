{
 "cells": [
  {
   "cell_type": "markdown",
   "id": "07476300",
   "metadata": {
    "slideshow": {
     "slide_type": "slide"
    }
   },
   "source": [
    "<CENTER>\n",
    "    <h1> Geospatial Data Science Applications: GEOG 4/590</h1>\n",
    "    <h3>Feb 7, 2022</h3>\n",
    "    <h2>Lecture 6: Code management</h2>\n",
    "    <img src=\"images/coding-computer-programming.jpeg\" width=\"300\"/>\n",
    "    <h3>Johnny Ryan: jryan4@uoregon.edu</h3>\n",
    "</CENTER>"
   ]
  },
  {
   "cell_type": "markdown",
   "id": "0f9e7503",
   "metadata": {
    "slideshow": {
     "slide_type": "slide"
    }
   },
   "source": [
    "## Content of this lecture\n",
    "\n",
    "* Version control systems\n",
    "<br>\n",
    "<br>\n",
    "* Some basic version control terminology\n",
    "<br>\n",
    "<br>\n",
    "* Different workflows used for collaborating on `GitHub`\n",
    "<br>\n",
    "<br>\n",
    "* Background for this week's lab"
   ]
  },
  {
   "cell_type": "markdown",
   "id": "0479dc9a",
   "metadata": {
    "slideshow": {
     "slide_type": "slide"
    }
   },
   "source": [
    "<img src=\"images/version_control.png\" alt=\"https://phdcomics.com/comics/archive_print.php?comicid=1531\" width=\"400\"/>\n"
   ]
  },
  {
   "cell_type": "markdown",
   "id": "75b8a8eb",
   "metadata": {
    "slideshow": {
     "slide_type": "notes"
    }
   },
   "source": [
    "We've all been in this situation before: it seems unnecessary to have multiple nearly-identical versions of the same document. \n",
    "\n",
    "The danger of losing good versions often leads to the problematic workflow illustrated in the PhD Comics cartoon at the top of this page.\n",
    "\n",
    "Collaborative writing with traditional word processors is cumbersome. Either every collaborator has to work on a document sequentially (slowing down the process of writing), or you have to send out a version to all collaborators and manually merge their comments into your document. The 'track changes' option can highlight changes for you and simplifies merging, but as soon as you accept changes you will lose their history. You will then no longer know who suggested that change, why it was suggested, or when it was merged into the rest of the document.\n"
   ]
  },
  {
   "cell_type": "markdown",
   "id": "3af4bf90",
   "metadata": {
    "slideshow": {
     "slide_type": "slide"
    }
   },
   "source": [
    "## Version control\n",
    "\n",
    "\n",
    "* **Version control systems** (VCS) start with a **base version** of the document and then **keeps track of changes** you make each step of the way\n",
    "\n",
    "\n",
    "* VCS are essential for **developing software** and **carrying out projects** with a lot of code\n",
    "\n",
    "\n",
    "* VCS does not care about file names, intead records **who, what, when, and why** changes were made to files\n",
    "\n",
    "\n",
    "\n",
    "<img src=\"images/branch.svg\" width=\"600\"/>"
   ]
  },
  {
   "cell_type": "markdown",
   "id": "0514382b",
   "metadata": {
    "slideshow": {
     "slide_type": "slide"
    }
   },
   "source": [
    "## Git\n",
    "\n",
    "* One of the most popular VCS tools in use today is called `git`\n",
    "\n",
    "\n",
    "* It is a command-line tool that is installed locally \n",
    "\n",
    "\n",
    "* It is free and open-source software\n",
    "\n",
    "\n",
    "<img src=\"images/git.svg\" width=\"600\"/>\n"
   ]
  },
  {
   "cell_type": "markdown",
   "id": "0fb71530",
   "metadata": {
    "slideshow": {
     "slide_type": "slide"
    }
   },
   "source": [
    "## GitHub\n",
    "\n",
    "* **GitHub** is a web-based hosting service for `git`\n",
    "<br>\n",
    "<br>\n",
    "* Provides a graphical user interface\n",
    "<br>\n",
    "<br>\n",
    "* Maintained by Microsoft\n",
    "<br>\n",
    "<br>\n",
    "* There are other web-based hosting services (e.g. GitLab and Bitbucket)\n",
    "\n",
    "<img src=\"images/github.png\" width=\"200\"/>"
   ]
  },
  {
   "cell_type": "markdown",
   "id": "43675156",
   "metadata": {
    "slideshow": {
     "slide_type": "slide"
    }
   },
   "source": [
    "## Why do we use version control systems?\n"
   ]
  },
  {
   "cell_type": "markdown",
   "id": "3c2a856d",
   "metadata": {
    "slideshow": {
     "slide_type": "subslide"
    }
   },
   "source": [
    "### Security\n",
    "\n",
    "\n",
    "* VCS acts like an unlimited **'undo'** thereby **protecting source code** from yourself **and** others \n",
    "    \n",
    "    \n",
    "* e.g. catastrophe, human error, and unintended consequences\n",
    "\n",
    "\n",
    "<img src=\"images/hero.svg\" width=\"600\"/>"
   ]
  },
  {
   "cell_type": "markdown",
   "id": "94e8a0a6",
   "metadata": {
    "slideshow": {
     "slide_type": "subslide"
    }
   },
   "source": [
    "### Collaboration\n",
    "\n",
    "* VCS enables **many people** to work on the same project at the same time\n",
    "\n",
    "\n",
    "* Teams working in parallel accelerates project development\n",
    "\n",
    "<img src=\"images/colab.svg\" width=\"500\"/>"
   ]
  },
  {
   "cell_type": "markdown",
   "id": "2bdb1110",
   "metadata": {
    "slideshow": {
     "slide_type": "subslide"
    }
   },
   "source": [
    "### Community\n",
    "\n",
    "* Impossible for junior developer to mess up a big project \n",
    "\n",
    "\n",
    "* Since it is so robust this encourages open-source **experimentation** and **development**\n",
    "\n",
    "\n",
    "* `GitHub` has really emerged as the industry standard\n",
    "\n",
    "\n",
    "<img src=\"images/pull.svg\" width=\"500\"/>\n"
   ]
  },
  {
   "cell_type": "markdown",
   "id": "e823c6b4",
   "metadata": {
    "slideshow": {
     "slide_type": "slide"
    }
   },
   "source": [
    "## Drawbacks of version control\n",
    "\n",
    "* Difficult to learn\n",
    "\n",
    "<img src=\"images/meme.jpeg\" width=\"600\"/>\n"
   ]
  },
  {
   "cell_type": "markdown",
   "id": "98aee8be",
   "metadata": {
    "slideshow": {
     "slide_type": "slide"
    }
   },
   "source": [
    "## What have we been doing so far?\n",
    "\n",
    "<img src=\"images/gds_page.png\" width=\"1000\"/>"
   ]
  },
  {
   "cell_type": "markdown",
   "id": "47996fc4",
   "metadata": {
    "slideshow": {
     "slide_type": "slide"
    }
   },
   "source": [
    "<img src=\"images/git-fork-clone-flow.png\" width=\"400\"/>"
   ]
  },
  {
   "cell_type": "markdown",
   "id": "ebdb159b",
   "metadata": {
    "slideshow": {
     "slide_type": "slide"
    }
   },
   "source": [
    "## Some basic terms"
   ]
  },
  {
   "cell_type": "markdown",
   "id": "afc07561",
   "metadata": {
    "slideshow": {
     "slide_type": "subslide"
    }
   },
   "source": [
    "### Fork\n",
    "\n",
    "* **Copy** a repository to your GitHub.com account\n",
    "\n",
    "\n",
    "### Clone\n",
    "\n",
    "* Retrieve a repository from **GitHub.com** to **local machine**"
   ]
  },
  {
   "cell_type": "markdown",
   "id": "d8598b07",
   "metadata": {
    "slideshow": {
     "slide_type": "subslide"
    }
   },
   "source": [
    "### Commit\n",
    "\n",
    "* Create a **snapshot** of the contents of your file tree\n",
    "\n",
    "\n",
    "### Push\n",
    "\n",
    "* **Upload** your local changes to the central repository, along with necessary commits and objects\n",
    "\n",
    "\n",
    "### Pull \n",
    "\n",
    "* **Fetch** the contents of the central repository and immediately **merge** to your local copy"
   ]
  },
  {
   "cell_type": "markdown",
   "id": "1c551833",
   "metadata": {
    "slideshow": {
     "slide_type": "slide"
    }
   },
   "source": [
    "## Collaborating with GitHub\n",
    "\n",
    "\n",
    "* Centralized workflow\n",
    "<br>\n",
    "<br>\n",
    "* Feature branch workflow\n",
    "<br>\n",
    "<br>\n",
    "* Forking workflow\n",
    "<br>\n",
    "<br>\n",
    "* Others (e.g. Gitflow workflow)"
   ]
  },
  {
   "cell_type": "markdown",
   "id": "92206d99",
   "metadata": {
    "slideshow": {
     "slide_type": "slide"
    }
   },
   "source": [
    "### Centralized workflow\n",
    "\n",
    "* All team members **clone** a **single, central repository** to their local machine\n",
    "\n",
    "\n",
    "<img src=\"images/colab.svg\" width=\"600\"/>"
   ]
  },
  {
   "cell_type": "markdown",
   "id": "318e3bd6",
   "metadata": {
    "slideshow": {
     "slide_type": "subslide"
    }
   },
   "source": [
    "### Centralized workflow\n",
    "\n",
    "* One team member makes changes (e.g. add, modify, delete) to files on their local machine\n",
    "\n",
    "\n",
    "* Periodically, they should **commit** these changes (i.e. take a snapshot) with a short message saying what they did\n",
    "\n",
    "\n",
    "* When they are finished working, they can **push** their changes back to the central repository \n",
    "\n",
    "\n",
    "\n",
    "<img src=\"images/john_push.svg\" width=\"600\"/>"
   ]
  },
  {
   "cell_type": "markdown",
   "id": "27a1c8f1",
   "metadata": {
    "slideshow": {
     "slide_type": "subslide"
    }
   },
   "source": [
    "### Centralized workflow\n",
    "\n",
    "* But now when **another team member** (who has also been working on the project) tries to **push** their changes, Git will **refuse the request** because the their local history has **diverged** from the central repository\n",
    "\n",
    "<img src=\"images/mary_push.svg\" width=\"600\"/>"
   ]
  },
  {
   "cell_type": "markdown",
   "id": "7faa62a8",
   "metadata": {
    "slideshow": {
     "slide_type": "subslide"
    }
   },
   "source": [
    "### Centralized workflow\n",
    "\n",
    "* The team member must first **pull** the most recent changes in the central reposistory into their local repository\n",
    "\n",
    "<img src=\"images/mary_pull.svg\" width=\"600\"/>"
   ]
  },
  {
   "cell_type": "markdown",
   "id": "afbd5512",
   "metadata": {
    "slideshow": {
     "slide_type": "subslide"
    }
   },
   "source": [
    "### Centralized workflow\n",
    "\n",
    "* Team member then resolves any conflicts between their local version and the central repository.\n",
    "\n",
    "\n",
    "* Once finished, team member can then **commit** and **push** their changes to the central repo  \n",
    "\n",
    "\n",
    "<img src=\"images/mary_successful_push.svg\" width=\"600\"/>"
   ]
  },
  {
   "cell_type": "markdown",
   "id": "4dfe943f",
   "metadata": {
    "slideshow": {
     "slide_type": "subslide"
    }
   },
   "source": [
    "### Advantages of centralized workflow\n",
    "\n",
    "* Simplest workflow\n",
    "<br>\n",
    "<br>\n",
    "* Works well for small teams\n",
    "\n",
    "\n",
    "### Disadvantages\n",
    "\n",
    "* If someone breaks the central repo, it breaks for everyone\n",
    "\n",
    "\n",
    "* Potential for a lot of conflicts\n",
    "\n",
    "\n",
    "* One solution is to avoid working on the same files\n",
    "\n",
    "\n",
    "* But this does not scale well as teams increase in size\n",
    "\n",
    "\n"
   ]
  },
  {
   "cell_type": "markdown",
   "id": "9bbca0a1",
   "metadata": {
    "slideshow": {
     "slide_type": "slide"
    }
   },
   "source": [
    "### Feature branch workflow\n",
    "\n",
    "* The logical extension of the centralized workflow is to use **branches**\n",
    "\n",
    "\n",
    "* In this workflow, all feature development takes place in a dedicated branch instead of the main branch\n",
    "\n",
    "\n",
    "* This means that main branch never contains broken code - a huge advantage for continuous integration environments"
   ]
  },
  {
   "cell_type": "markdown",
   "id": "930574da",
   "metadata": {
    "slideshow": {
     "slide_type": "subslide"
    }
   },
   "source": [
    "### Feature branch workflow\n",
    "\n",
    "* All team members **clone** a **single, central repository** to their local machine\n",
    "\n",
    "<img src=\"images/colab.svg\" width=\"600\"/>"
   ]
  },
  {
   "cell_type": "markdown",
   "id": "7ad569e2",
   "metadata": {
    "slideshow": {
     "slide_type": "subslide"
    }
   },
   "source": [
    "### Feature branch workflow\n",
    "\n",
    "* Team members immediately create a new branch to make their changes\n",
    "\n",
    "<img src=\"images/big_branch.svg\" width=\"600\"/>"
   ]
  },
  {
   "cell_type": "markdown",
   "id": "90633423",
   "metadata": {
    "slideshow": {
     "slide_type": "subslide"
    }
   },
   "source": [
    "### Feature branch workflow\n",
    "\n",
    "\n",
    "* When team members finish their changes, they **push** their branch to the central repository. The central repository will now contain multiple branches.  \n",
    "\n",
    "\n",
    "* Therefore, unlike the centralized workflow, this **push** will never cause conflicts\n",
    "\n",
    "\n",
    "<img src=\"images/mary_successful_push.svg\" width=\"600\"/>"
   ]
  },
  {
   "cell_type": "markdown",
   "id": "f26830db",
   "metadata": {
    "slideshow": {
     "slide_type": "subslide"
    }
   },
   "source": [
    "### Feature branch workflow\n",
    "\n",
    "* Team members then submit a **pull request** on GitHub.com asking to **merge** their new feature (or branch) into the main codebase, all team members will be notified automatically\n",
    "\n",
    "\n",
    "<img src=\"images/git-pull-request.png\" width=\"300\"/>\n"
   ]
  },
  {
   "cell_type": "markdown",
   "id": "fc7564dc",
   "metadata": {
    "slideshow": {
     "slide_type": "subslide"
    }
   },
   "source": [
    "### Feature branch workflow\n",
    "\n",
    "* Team leader **reviews** pull request, discusses any changes with team members\n",
    "\n",
    "\n",
    "* Once everything looks good, team leader merges new feature into main codebase\n",
    "\n",
    "\n",
    "* Team member can then delete their branch\n",
    "\n",
    "\n",
    "<img src=\"images/merge.svg\" width=\"600\"/>"
   ]
  },
  {
   "cell_type": "markdown",
   "id": "e8a2406e",
   "metadata": {
    "slideshow": {
     "slide_type": "subslide"
    }
   },
   "source": [
    "<img src=\"images/pull-request.png\" width=\"800\"/>"
   ]
  },
  {
   "cell_type": "markdown",
   "id": "d13f1a12",
   "metadata": {
    "slideshow": {
     "slide_type": "subslide"
    }
   },
   "source": [
    "<img src=\"images/pr-changes.png\" width=\"1000\"/>"
   ]
  },
  {
   "cell_type": "markdown",
   "id": "4937c5d6",
   "metadata": {
    "slideshow": {
     "slide_type": "subslide"
    }
   },
   "source": [
    "<img src=\"images/create-pull-request.png\" width=\"1000\"/>"
   ]
  },
  {
   "cell_type": "markdown",
   "id": "eeafdcb6",
   "metadata": {
    "slideshow": {
     "slide_type": "subslide"
    }
   },
   "source": [
    "<img src=\"images/github-diff-file.png\" width=\"800\"/>"
   ]
  },
  {
   "cell_type": "markdown",
   "id": "0582e140",
   "metadata": {
    "slideshow": {
     "slide_type": "subslide"
    }
   },
   "source": [
    "### Advantages of feature branch workflow\n",
    "\n",
    "* Promotes collaboration with team members through **pull requests** and **merge reviews**\n",
    "\n",
    "\n",
    "* Teams can work in parallel on same files so good approach for larger teams\n",
    "\n",
    "\n",
    "* Main branch never contains broken code \n",
    "\n",
    "\n",
    "* Guiding framework for other, more complex worflows"
   ]
  },
  {
   "cell_type": "markdown",
   "id": "5b3c2ff3",
   "metadata": {
    "slideshow": {
     "slide_type": "slide"
    }
   },
   "source": [
    "### Forking workflows\n",
    "\n",
    "* Instead of using a single, central repository, forking workflows give every team member their **own central repository**\n",
    "\n",
    "\n",
    "\n",
    "* Team members can tinker with their forked repository as they wish without disturbing anyone else\n",
    "\n",
    "\n",
    "\n",
    "* When ready they can **push** to their private central repository and file **pull requests** if they think their changes are ready to be integrated to main codebase\n",
    "\n",
    "\n",
    "\n",
    "<img src=\"images/multiple_repos.svg\" width=\"600\"/>"
   ]
  },
  {
   "cell_type": "markdown",
   "id": "4e23692d",
   "metadata": {
    "slideshow": {
     "slide_type": "subslide"
    }
   },
   "source": [
    "### Advantages of forking workflows\n",
    "\n",
    "\n",
    "* Provides a little more **power** to the team leader because they are the only person that can push to the official repository\n",
    "\n",
    "\n",
    "\n",
    "* Allows the team leader to **accept/reject commits** from any developer without giving them write access to the main codebase\n",
    " \n",
    "\n",
    "\n",
    "* Often used for large open-source projects"
   ]
  },
  {
   "cell_type": "markdown",
   "id": "554137c9",
   "metadata": {
    "slideshow": {
     "slide_type": "slide"
    }
   },
   "source": [
    "### Gitflow workflow\n",
    "\n",
    "* Great for a release-based software workflow\n",
    "\n",
    "<img src=\"images/gitflow.svg\" width=\"500\"/>"
   ]
  },
  {
   "cell_type": "markdown",
   "id": "6b653c78",
   "metadata": {
    "slideshow": {
     "slide_type": "slide"
    }
   },
   "source": [
    "## Good practices"
   ]
  },
  {
   "cell_type": "markdown",
   "id": "9d3f7873",
   "metadata": {
    "slideshow": {
     "slide_type": "subslide"
    }
   },
   "source": [
    "### Agree on a workflow\n",
    "\n",
    "\n",
    "* It is important that teams establish shared patterns of collaboration\n",
    "\n",
    "\n",
    "* If a team doesn't agree on a shared workflow it can lead to inefficient communication when it comes time to merge branches"
   ]
  },
  {
   "cell_type": "markdown",
   "id": "19cff11f",
   "metadata": {
    "slideshow": {
     "slide_type": "subslide"
    }
   },
   "source": [
    "### Commit often\n",
    "\n",
    "\n",
    "* Commits are **easy to make** and provide opportunities to **revert** or **undo** work\n",
    "\n",
    "\n",
    "* They should be made **frequently** to capture updates to a code base"
   ]
  },
  {
   "cell_type": "markdown",
   "id": "099430a1",
   "metadata": {
    "slideshow": {
     "slide_type": "subslide"
    }
   },
   "source": [
    "### Ensure you're working from latest version\n",
    "\n",
    "\n",
    "* VCS enables rapid updates from multiple developers\n",
    "\n",
    "\n",
    "* It's easy to have a local copy of the codebase fall behind the global copy\n",
    "\n",
    "\n",
    "* Make sure to `git pull` or `fetch` the latest code before you start working on project"
   ]
  },
  {
   "cell_type": "markdown",
   "id": "bf1d2fab",
   "metadata": {
    "slideshow": {
     "slide_type": "subslide"
    }
   },
   "source": [
    "### Make detailed notes\n",
    "\n",
    "* It is important to leave descriptive explanatory commit log messages. These commit log messages should explain the \"why\" and \"what\" that encompass the commits content. \n",
    "\n",
    "\n",
    "* These log messages become the canonical history of the project's development and leave a trail for future contributors to review."
   ]
  },
  {
   "cell_type": "markdown",
   "id": "05afbf4d",
   "metadata": {
    "slideshow": {
     "slide_type": "subslide"
    }
   },
   "source": [
    "### Use branches\n",
    "\n",
    "\n",
    "* Branches enable multiple developers to work in parallel on **separate lines** of development\n",
    "\n",
    "\n",
    "* Branches should be used **frequently** as they are quick and inexpensive. \n",
    "\n",
    "\n",
    "* When development on a branch is complete it should be **merged** into the main line of development and then **deleted**"
   ]
  }
 ],
 "metadata": {
  "celltoolbar": "Slideshow",
  "kernelspec": {
   "display_name": "Python 3 (ipykernel)",
   "language": "python",
   "name": "python3"
  },
  "language_info": {
   "codemirror_mode": {
    "name": "ipython",
    "version": 3
   },
   "file_extension": ".py",
   "mimetype": "text/x-python",
   "name": "python",
   "nbconvert_exporter": "python",
   "pygments_lexer": "ipython3",
   "version": "3.8.12"
  }
 },
 "nbformat": 4,
 "nbformat_minor": 5
}
