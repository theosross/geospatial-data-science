{
 "cells": [
  {
   "cell_type": "markdown",
   "id": "ee7169bf",
   "metadata": {
    "slideshow": {
     "slide_type": "slide"
    }
   },
   "source": [
    "<CENTER>\n",
    "    <h1> Geospatial Data Science Applications: GEOG 4/590</h1>\n",
    "    <h3>Jan 10, 2022</h3>\n",
    "    <h2>Lecture 4: Gridded data</h2>\n",
    "    <img src=\"images/coding-computer-programming.jpeg\" width=\"300\"/>\n",
    "    <h3>Johnny Ryan: jryan4@uoregon.edu</h3>\n",
    "</CENTER>"
   ]
  },
  {
   "cell_type": "markdown",
   "id": "155f239e",
   "metadata": {
    "slideshow": {
     "slide_type": "slide"
    }
   },
   "source": [
    "## Content of this lecture\n",
    "\n",
    "* Quick review of raster data \n",
    "<br>\n",
    "<br>\n",
    "* Bit of history about handling raster data in Python\n",
    "<br>\n",
    "<br>\n",
    "* Introduce GDAL, rasterio, and xarray libararies\n",
    "<br>\n",
    "<br>\n",
    "* Learn how to read, inspect, manipulate, and write raster data using these libraries\n",
    "<br>\n",
    "<br>\n",
    "* Background for this week's lab"
   ]
  },
  {
   "cell_type": "markdown",
   "id": "1c6344fb",
   "metadata": {
    "slideshow": {
     "slide_type": "slide"
    }
   },
   "source": [
    "## Raster data\n",
    "\n",
    "* Raster data represent a matrix of cells (or pixels) organized into rows and columns (or a grid)\n",
    "\n",
    "<img src=\"images/raster_concept.png\" alt=\"https://www.neonscience.org/resources/learning-hub/tutorials/dc-raster-data-r\" width=\"500\"/>"
   ]
  },
  {
   "cell_type": "markdown",
<<<<<<< HEAD
   "id": "59b2f9fb",
=======
   "id": "bbc66462",
>>>>>>> origin/master
   "metadata": {
    "slideshow": {
     "slide_type": "slide"
    }
   },
   "source": [
    "### Examples: surface maps\n",
    "\n",
    "* Grid cells can represent data that changes **continuously** across a landscape (surface) such as elevation or air temperature.\n",
    "\n",
    "<img src=\"images/elevation.gif\" alt=\"https://desktop.arcgis.com/en/arcmap/10.3/manage-data/raster-and-images/what-is-raster-data.htm\" width=\"400\"/>"
   ]
  },
  {
   "cell_type": "markdown",
   "id": "8ce2230f",
   "metadata": {
    "slideshow": {
     "slide_type": "subslide"
    }
   },
   "source": [
    "### Examples: satellite imagery\n",
    "\n",
    "* Grid cells can represent from a satellite imagaing platforms such as reflectance.\n",
    "\n",
    "<img src=\"images/satellite.gif\" alt='https://desktop.arcgis.com/en/arcmap/10.3/manage-data/raster-and-images/what-is-raster-data.htm' width=\"400\"/>"
   ]
  },
  {
   "cell_type": "markdown",
   "id": "d43d6bf4",
   "metadata": {
    "slideshow": {
     "slide_type": "subslide"
    }
   },
   "source": [
    "### Examples: classification maps\n",
    "\n",
    "* Grid cells can also represent **discrete** data (e.g. vegetation type or land cover).\n",
    "\n",
    "<img src=\"images/classification.gif\" alt='https://desktop.arcgis.com/en/arcmap/10.3/manage-data/raster-and-images/what-is-raster-data.htm' width=\"600\"/>"
   ]
  },
  {
   "cell_type": "markdown",
<<<<<<< HEAD
   "id": "8bd5a137",
=======
   "id": "1b557ba5",
>>>>>>> origin/master
   "metadata": {
    "slideshow": {
     "slide_type": "slide"
    }
   },
   "source": [
    "## Libararies\n",
    "\n",
    "* Between 1998-2016, there was one Python library for accessing raster data:\n",
    "\n",
    "The **Geographic Raster Abstraction Library** or **GDAL**\n",
    "\n",
    "* GDAL is written in C++ and ships with a C API.\n",
    "\n",
    "* ArcGIS, QGIS, Google Earth etc. all use GDAL to read/write/analyze raster data under-the-hood\n",
    "\n",
    "<img src=\"images/gdal.png\" width=\"200\"/>\n"
   ]
  },
  {
   "cell_type": "markdown",
<<<<<<< HEAD
   "id": "0272be71",
=======
   "id": "f5fddba9",
>>>>>>> origin/master
   "metadata": {
    "slideshow": {
     "slide_type": "subslide"
    }
   },
   "source": [
    "## GDAL\n",
    "\n",
    "* Supports read/write access for over **160 raster formats** (e.g. GeoTIFF, NetCDF4)\n",
    "\n",
    "\n",
    "* Includes methods for:\n",
    "\n",
    "    * Finding dataset information\n",
    "    \n",
    "    * Reprojecting\n",
    "    \n",
    "    * Resampling\n",
    "    \n",
    "    * Format conversion\n",
    "    \n",
    "    * Mosaicking\n"
   ]
  },
  {
   "cell_type": "markdown",
<<<<<<< HEAD
   "id": "679e1fde",
=======
   "id": "ed68c4d9",
>>>>>>> origin/master
   "metadata": {
    "slideshow": {
     "slide_type": "subslide"
    }
   },
   "source": [
    "## Rasterio\n",
    "\n",
    "* Developed in 2016 with the goal of expressing GDAL's data model in a more Pythonic way\n",
    "\n",
    "\n",
    "* High performance, lower cognitive load, **more transparent code**\n",
    "\n",
    "## NumPy\n",
    "\n",
    "* Once we have read raster data in Python, we can apply **fast matrix operations** using `numpy`\n",
    "\n",
    "<img src=\"images/numpy.png\" width=\"300\"/>\n",
    "\n",
    "## xarray\n",
    "\n",
    "* Introduces labels in the form of **dimensions**, **coordinates** and **attributes** on top of raw NumPy-like arrays\n",
    "\n",
    "<img src=\"images/xarray.png\" width=\"300\"/>\n"
   ]
  },
  {
   "cell_type": "markdown",
<<<<<<< HEAD
   "id": "42461904",
=======
   "id": "60fc9c6c",
>>>>>>> origin/master
   "metadata": {
    "slideshow": {
     "slide_type": "slide"
    }
   },
   "source": [
    "## Let's get started..."
   ]
  },
  {
   "cell_type": "markdown",
<<<<<<< HEAD
   "id": "33c26143",
=======
   "id": "504b4d8f",
>>>>>>> origin/master
   "metadata": {
    "slideshow": {
     "slide_type": "slide"
    }
   },
   "source": [
    "### Import some libraries"
   ]
  },
  {
   "cell_type": "code",
   "execution_count": 7,
<<<<<<< HEAD
   "id": "1921c3b9",
=======
   "id": "14ae212c",
>>>>>>> origin/master
   "metadata": {
    "slideshow": {
     "slide_type": "-"
    }
   },
   "outputs": [],
   "source": [
    "# Import libraries\n",
    "import numpy as np\n",
    "import rasterio\n",
    "\n",
    "import matplotlib.pyplot as plt\n",
    "from mpl_toolkits.axes_grid1 import make_axes_locatable"
   ]
  },
  {
   "cell_type": "markdown",
<<<<<<< HEAD
   "id": "8e937d2e",
=======
   "id": "2de8b997",
>>>>>>> origin/master
   "metadata": {
    "slideshow": {
     "slide_type": "slide"
    }
   },
   "source": [
    "### Open dataset\n",
    "\n",
    "Rasterio's `open()` function takes a **path string** and returns an opened dataset **object**. The path may point to a file of any supported raster format. Rasterio will open it using the proper GDAL format driver. Dataset objects have some of the same attributes as Python file objects."
   ]
  },
  {
   "cell_type": "code",
   "execution_count": 8,
<<<<<<< HEAD
   "id": "b78b325d",
=======
   "id": "6777afdd",
>>>>>>> origin/master
   "metadata": {
    "slideshow": {
     "slide_type": "-"
    }
   },
   "outputs": [
    {
     "data": {
      "text/plain": [
       "<open DatasetReader name='data/N46W122.hgt' mode='r'>"
      ]
     },
     "execution_count": 8,
     "metadata": {},
     "output_type": "execute_result"
    }
   ],
   "source": [
    "# Open file and read\n",
    "src = rasterio.open('data/N46W122.hgt')\n",
    "src"
   ]
  },
  {
   "cell_type": "markdown",
<<<<<<< HEAD
   "id": "d6963102",
=======
   "id": "89c15de8",
>>>>>>> origin/master
   "metadata": {
    "slideshow": {
     "slide_type": "slide"
    }
   },
   "source": [
    "### Dataset attributes\n",
    "\n",
    "The dataset object contains a number of **attributes** which can be explored."
   ]
  },
  {
   "cell_type": "code",
   "execution_count": 10,
<<<<<<< HEAD
   "id": "542304c0",
=======
   "id": "db17fab7",
>>>>>>> origin/master
   "metadata": {
    "slideshow": {
     "slide_type": "-"
    }
   },
   "outputs": [
    {
     "name": "stdout",
     "output_type": "stream",
     "text": [
      "Number of bands: 1\n"
     ]
    }
   ],
   "source": [
    "print(\"Number of bands:\", src.count)"
   ]
  },
  {
   "cell_type": "markdown",
<<<<<<< HEAD
   "id": "e2db0bd2",
=======
   "id": "58f70b10",
>>>>>>> origin/master
   "metadata": {
    "slideshow": {
     "slide_type": "-"
    }
   },
   "source": [
    "A dataset band is an array of values representing the partial distribution of a single variable in 2-dimensional (2D) space. All band arrays of a dataset have the same number of rows and columns."
   ]
  },
  {
   "cell_type": "code",
   "execution_count": 11,
<<<<<<< HEAD
   "id": "f1e98bae",
=======
   "id": "80d117fd",
>>>>>>> origin/master
   "metadata": {
    "slideshow": {
     "slide_type": "-"
    }
   },
   "outputs": [
    {
     "name": "stdout",
     "output_type": "stream",
     "text": [
      "Width: 3601\n",
      "Height: 3601\n"
     ]
    }
   ],
   "source": [
    "print(\"Width:\", src.width)\n",
    "print(\"Height:\", src.height)"
   ]
  },
  {
   "cell_type": "markdown",
<<<<<<< HEAD
   "id": "a129fec0",
=======
   "id": "51e8bb36",
>>>>>>> origin/master
   "metadata": {
    "slideshow": {
     "slide_type": "slide"
    }
   },
   "source": [
    "### Dataset georeferencing\n",
    "\n",
    "Raster data is different from an ordinary image because the pixels can be mapped to regions on the Earth's surface. Every pixels of a dataset is contained within a spatial bounding box."
   ]
  },
  {
   "cell_type": "code",
   "execution_count": 13,
<<<<<<< HEAD
   "id": "f14f18f0",
=======
   "id": "63a2fe91",
>>>>>>> origin/master
   "metadata": {
    "slideshow": {
     "slide_type": "-"
    }
   },
   "outputs": [
    {
     "name": "stdout",
     "output_type": "stream",
     "text": [
      "BoundingBox(left=-122.00013888888888, bottom=45.999861111111116, right=-120.9998611111111, top=47.00013888888889)\n"
     ]
    }
   ],
   "source": [
    "print(src.bounds)"
   ]
  },
  {
   "cell_type": "markdown",
<<<<<<< HEAD
   "id": "73790681",
=======
   "id": "4a9d483d",
>>>>>>> origin/master
   "metadata": {
    "slideshow": {
     "slide_type": "-"
    }
   },
   "source": [
    "The value of bounds attribute is derived from a more fundamental attribute: the dataset's geospatial transform."
   ]
  },
  {
   "cell_type": "code",
   "execution_count": 14,
<<<<<<< HEAD
   "id": "6afabce5",
=======
   "id": "22a41da4",
>>>>>>> origin/master
   "metadata": {
    "slideshow": {
     "slide_type": "-"
    }
   },
   "outputs": [
    {
     "data": {
      "text/plain": [
       "Affine(0.0002777777777777778, 0.0, -122.00013888888888,\n",
       "       0.0, -0.0002777777777777778, 47.00013888888889)"
      ]
     },
     "execution_count": 14,
     "metadata": {},
     "output_type": "execute_result"
    }
   ],
   "source": [
    "src.transform"
   ]
  },
  {
   "cell_type": "markdown",
<<<<<<< HEAD
   "id": "c03d3734",
=======
   "id": "adac4cba",
>>>>>>> origin/master
   "metadata": {
    "slideshow": {
     "slide_type": "fragment"
    }
   },
   "source": [
    "But what do these values represent? These coordinate values are relative to the origin of the dataset’s coordinate reference system (CRS)."
   ]
  },
  {
   "cell_type": "code",
   "execution_count": 19,
<<<<<<< HEAD
   "id": "68d2c9bf",
=======
   "id": "8e4945e0",
>>>>>>> origin/master
   "metadata": {
    "slideshow": {
     "slide_type": "-"
    }
   },
   "outputs": [
    {
     "data": {
      "text/plain": [
       "CRS.from_epsg(4326)"
      ]
     },
     "execution_count": 19,
     "metadata": {},
     "output_type": "execute_result"
    }
   ],
   "source": [
    "src.crs"
   ]
  },
  {
   "cell_type": "markdown",
<<<<<<< HEAD
   "id": "bf347c8e",
=======
   "id": "9554c793",
>>>>>>> origin/master
   "metadata": {
    "slideshow": {
     "slide_type": "-"
    }
   },
   "source": [
    "Between the crs attribute and transform the georeferencing of a raster dataset is described and the dataset can compared to other geospatial datasets."
   ]
  },
  {
   "cell_type": "code",
   "execution_count": 5,
<<<<<<< HEAD
   "id": "871919f0",
=======
   "id": "4f302dfb",
>>>>>>> origin/master
   "metadata": {
    "slideshow": {
     "slide_type": "slide"
    }
   },
   "outputs": [
    {
     "data": {
      "text/plain": [
       "<matplotlib.image.AxesImage at 0x7fbf2842b9d0>"
      ]
     },
     "execution_count": 5,
     "metadata": {},
     "output_type": "execute_result"
    },
    {
     "data": {
      "image/png": "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\n",
      "text/plain": [
       "<Figure size 432x288 with 1 Axes>"
      ]
     },
     "metadata": {
      "needs_background": "light"
     },
     "output_type": "display_data"
    }
   ],
   "source": [
    "# Read data in file\n",
    "srtm = src.read(1)\n",
    "\n",
    "# Quickly plot data\n",
    "plt.imshow(srtm)"
   ]
  },
  {
   "cell_type": "markdown",
   "id": "ae83ef6a",
   "metadata": {
    "slideshow": {
     "slide_type": "slide"
    }
   },
   "source": [
    "* A raster cell can be referred to with a bi-dimensional index, indicating a <row,column> pair. These indices start from 0.\n",
    "\n",
    "\n",
    "* Each index location can be associated with a geo-location (for example, cell <12,796> might be corresponding to lon/lat <-0.34521,51.354656>).\n",
    "\n",
    "* Note that, when we work with raster data, we are frequently switching from the raster index to the geolocations and back.\n",
    "\n",
    "* If a raster dataset contains more than a matrix, we refer to the different matrices as bands. Bands are counted from 1. For example, a raster produced from a satellite can contain 3 bands representing the intensity of red, green, and blue."
   ]
  },
  {
   "cell_type": "markdown",
   "id": "06e047a3",
   "metadata": {},
   "source": []
  },
  {
   "cell_type": "markdown",
   "id": "53c45c7f",
   "metadata": {},
   "source": []
  }
 ],
 "metadata": {
  "celltoolbar": "Slideshow",
  "kernelspec": {
   "display_name": "Python 3 (ipykernel)",
   "language": "python",
   "name": "python3"
  },
  "language_info": {
   "codemirror_mode": {
    "name": "ipython",
    "version": 3
   },
   "file_extension": ".py",
   "mimetype": "text/x-python",
   "name": "python",
   "nbconvert_exporter": "python",
   "pygments_lexer": "ipython3",
   "version": "3.8.12"
  }
 },
 "nbformat": 4,
 "nbformat_minor": 5
}
