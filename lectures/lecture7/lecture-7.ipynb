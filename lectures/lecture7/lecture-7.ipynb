{
 "cells": [
  {
   "cell_type": "markdown",
   "id": "8eb35a9b",
   "metadata": {
    "slideshow": {
     "slide_type": "slide"
    }
   },
   "source": [
    "<CENTER>\n",
    "    <h1> Geospatial Data Science Applications: GEOG 4/590</h1>\n",
    "    <h3>Feb 14, 2022</h3>\n",
    "    <h2>Lecture 7: Data access</h2>\n",
    "    <img src=\"images/coding-computer-programming.jpeg\" width=\"300\"/>\n",
    "    <h3>Johnny Ryan: jryan4@uoregon.edu</h3>\n",
    "</CENTER>"
   ]
  },
  {
   "cell_type": "markdown",
   "id": "2dcf3075",
   "metadata": {
    "slideshow": {
     "slide_type": "slide"
    }
   },
   "source": [
    "## Content of this lecture\n",
    "\n",
    "* Web2.0\n",
    "<br>\n",
    "<br>\n",
    "* Standard data access using APIs\n",
    "<br>\n",
    "<br>\n",
    "* What to do when an API is unavailable or insufficient?\n",
    "<br>\n",
    "<br>\n",
    "* Background for this week's lab"
   ]
  },
  {
   "cell_type": "code",
   "execution_count": 1,
   "id": "fc353821",
   "metadata": {
    "slideshow": {
     "slide_type": "slide"
    }
   },
   "outputs": [
    {
     "name": "stderr",
     "output_type": "stream",
     "text": [
      "/opt/anaconda3/envs/clouds/lib/python3.8/site-packages/IPython/core/display.py:724: UserWarning: Consider using IPython.display.IFrame instead\n",
      "  warnings.warn(\"Consider using IPython.display.IFrame instead\")\n"
     ]
    },
    {
     "data": {
      "text/html": [
       "<iframe width=\"560\" height=\"315\" src=\"https://www.youtube.com/embed/BxV14h0kFs0\" title=\"YouTube video player\" frameborder=\"0\" allow=\"accelerometer; autoplay; clipboard-write; encrypted-media; gyroscope; picture-in-picture\" allowfullscreen></iframe>"
      ],
      "text/plain": [
       "<IPython.core.display.HTML object>"
      ]
     },
     "execution_count": 1,
     "metadata": {},
     "output_type": "execute_result"
    }
   ],
   "source": [
    "from IPython.display import HTML\n",
    "HTML('<iframe width=\"560\" height=\"315\" src=\"https://www.youtube.com/embed/BxV14h0kFs0\" title=\"YouTube video player\" frameborder=\"0\" allow=\"accelerometer; autoplay; clipboard-write; encrypted-media; gyroscope; picture-in-picture\" allowfullscreen></iframe>')"
   ]
  },
  {
   "cell_type": "markdown",
   "id": "342f1c02",
   "metadata": {
    "slideshow": {
     "slide_type": "slide"
    }
   },
   "source": [
    "## APIs\n",
    "\n",
    "\n",
    "* Application programming interface\n",
    "\n",
    "\n",
    "* A type of **software** that provides a **standard set of protocols/functions** so that our computer can **communicate** with other computers\n",
    "\n",
    "\n",
    "* In contrast, a **user interface** is a type of software that connects a **computer** to a **person**"
   ]
  },
  {
   "cell_type": "markdown",
   "id": "c1f6a26e",
   "metadata": {
    "slideshow": {
     "slide_type": "subslide"
    }
   },
   "source": [
    "## APIs\n",
    "\n",
    "* Many organizations have great APIs because they want people to use their data\n",
    "\n",
    "\n",
    "* We have used one..."
   ]
  },
  {
   "cell_type": "markdown",
   "id": "93aa0c27",
   "metadata": {
    "slideshow": {
     "slide_type": "fragment"
    }
   },
   "source": [
    "* `cenpy`"
   ]
  },
  {
   "cell_type": "markdown",
   "id": "313a8899",
   "metadata": {
    "slideshow": {
     "slide_type": "subslide"
    }
   },
   "source": [
    "<img src=\"images/usgs.png\" width=\"1000\"/>"
   ]
  },
  {
   "cell_type": "code",
   "execution_count": 2,
   "id": "a651a3b1",
   "metadata": {
    "slideshow": {
     "slide_type": "subslide"
    }
   },
   "outputs": [
    {
     "name": "stdout",
     "output_type": "stream",
     "text": [
      "Collecting dataretrieval\n",
      "  Downloading dataretrieval-0.7-py3-none-any.whl (16 kB)\n",
      "Requirement already satisfied: requests in /opt/anaconda3/envs/lab7/lib/python3.10/site-packages (from dataretrieval) (2.27.1)\n",
      "Requirement already satisfied: pandas in /opt/anaconda3/envs/lab7/lib/python3.10/site-packages (from dataretrieval) (1.4.0)\n",
      "Requirement already satisfied: python-dateutil>=2.8.1 in /opt/anaconda3/envs/lab7/lib/python3.10/site-packages (from pandas->dataretrieval) (2.8.2)\n",
      "Requirement already satisfied: pytz>=2020.1 in /opt/anaconda3/envs/lab7/lib/python3.10/site-packages (from pandas->dataretrieval) (2021.3)\n",
      "Requirement already satisfied: numpy>=1.21.0 in /opt/anaconda3/envs/lab7/lib/python3.10/site-packages (from pandas->dataretrieval) (1.22.1)\n",
      "Requirement already satisfied: idna<4,>=2.5 in /opt/anaconda3/envs/lab7/lib/python3.10/site-packages (from requests->dataretrieval) (3.3)\n",
      "Requirement already satisfied: charset-normalizer~=2.0.0 in /opt/anaconda3/envs/lab7/lib/python3.10/site-packages (from requests->dataretrieval) (2.0.11)\n",
      "Requirement already satisfied: certifi>=2017.4.17 in /opt/anaconda3/envs/lab7/lib/python3.10/site-packages (from requests->dataretrieval) (2021.10.8)\n",
      "Requirement already satisfied: urllib3<1.27,>=1.21.1 in /opt/anaconda3/envs/lab7/lib/python3.10/site-packages (from requests->dataretrieval) (1.26.8)\n",
      "Requirement already satisfied: six>=1.5 in /opt/anaconda3/envs/lab7/lib/python3.10/site-packages (from python-dateutil>=2.8.1->pandas->dataretrieval) (1.16.0)\n",
      "Installing collected packages: dataretrieval\n",
      "Successfully installed dataretrieval-0.7\n"
     ]
    }
   ],
   "source": [
    "# Install package\n",
    "!pip install -U dataretrieval"
   ]
  },
  {
   "cell_type": "markdown",
   "id": "7c1e3398",
   "metadata": {
    "slideshow": {
     "slide_type": "subslide"
    }
   },
   "source": [
    "<img src=\"images/usgs_example.png\" width=\"1000\"/>"
   ]
  },
  {
   "cell_type": "code",
   "execution_count": 3,
   "id": "763f3c4e",
   "metadata": {
    "slideshow": {
     "slide_type": "subslide"
    }
   },
   "outputs": [
    {
     "data": {
      "text/html": [
       "<div>\n",
       "<style scoped>\n",
       "    .dataframe tbody tr th:only-of-type {\n",
       "        vertical-align: middle;\n",
       "    }\n",
       "\n",
       "    .dataframe tbody tr th {\n",
       "        vertical-align: top;\n",
       "    }\n",
       "\n",
       "    .dataframe thead th {\n",
       "        text-align: right;\n",
       "    }\n",
       "</style>\n",
       "<table border=\"1\" class=\"dataframe\">\n",
       "  <thead>\n",
       "    <tr style=\"text-align: right;\">\n",
       "      <th></th>\n",
       "      <th>00010_Mean</th>\n",
       "      <th>00010_Mean_cd</th>\n",
       "      <th>site_no</th>\n",
       "      <th>00060_Mean</th>\n",
       "      <th>00060_Mean_cd</th>\n",
       "      <th>00065_Mean</th>\n",
       "      <th>00065_Mean_cd</th>\n",
       "      <th>00095_Mean</th>\n",
       "      <th>00095_Mean_cd</th>\n",
       "      <th>00300_Minimum</th>\n",
       "      <th>...</th>\n",
       "      <th>63680_ysi_Mean</th>\n",
       "      <th>63680_ysi_Mean_cd</th>\n",
       "      <th>91049_Mean</th>\n",
       "      <th>91049_Mean_cd</th>\n",
       "      <th>99133_Maximum</th>\n",
       "      <th>99133_Maximum_cd</th>\n",
       "      <th>99133_Minimum</th>\n",
       "      <th>99133_Minimum_cd</th>\n",
       "      <th>99133_Mean</th>\n",
       "      <th>99133_Mean_cd</th>\n",
       "    </tr>\n",
       "    <tr>\n",
       "      <th>datetime</th>\n",
       "      <th></th>\n",
       "      <th></th>\n",
       "      <th></th>\n",
       "      <th></th>\n",
       "      <th></th>\n",
       "      <th></th>\n",
       "      <th></th>\n",
       "      <th></th>\n",
       "      <th></th>\n",
       "      <th></th>\n",
       "      <th></th>\n",
       "      <th></th>\n",
       "      <th></th>\n",
       "      <th></th>\n",
       "      <th></th>\n",
       "      <th></th>\n",
       "      <th></th>\n",
       "      <th></th>\n",
       "      <th></th>\n",
       "      <th></th>\n",
       "      <th></th>\n",
       "    </tr>\n",
       "  </thead>\n",
       "  <tbody>\n",
       "    <tr>\n",
       "      <th>2020-10-01 00:00:00+00:00</th>\n",
       "      <td>14.9</td>\n",
       "      <td>A</td>\n",
       "      <td>03339000</td>\n",
       "      <td>75.7</td>\n",
       "      <td>A</td>\n",
       "      <td>2.04</td>\n",
       "      <td>A</td>\n",
       "      <td>672.0</td>\n",
       "      <td>A</td>\n",
       "      <td>8.9</td>\n",
       "      <td>...</td>\n",
       "      <td>3.7</td>\n",
       "      <td>A</td>\n",
       "      <td>1510.0</td>\n",
       "      <td>P</td>\n",
       "      <td>4.1</td>\n",
       "      <td>A</td>\n",
       "      <td>3.3</td>\n",
       "      <td>A</td>\n",
       "      <td>3.7</td>\n",
       "      <td>A</td>\n",
       "    </tr>\n",
       "    <tr>\n",
       "      <th>2020-10-02 00:00:00+00:00</th>\n",
       "      <td>14.5</td>\n",
       "      <td>A</td>\n",
       "      <td>03339000</td>\n",
       "      <td>66.0</td>\n",
       "      <td>A</td>\n",
       "      <td>1.99</td>\n",
       "      <td>A</td>\n",
       "      <td>678.0</td>\n",
       "      <td>A</td>\n",
       "      <td>9.2</td>\n",
       "      <td>...</td>\n",
       "      <td>3.6</td>\n",
       "      <td>A</td>\n",
       "      <td>1450.0</td>\n",
       "      <td>P</td>\n",
       "      <td>4.2</td>\n",
       "      <td>A</td>\n",
       "      <td>3.8</td>\n",
       "      <td>A</td>\n",
       "      <td>4.1</td>\n",
       "      <td>A</td>\n",
       "    </tr>\n",
       "    <tr>\n",
       "      <th>2020-10-03 00:00:00+00:00</th>\n",
       "      <td>14.2</td>\n",
       "      <td>A</td>\n",
       "      <td>03339000</td>\n",
       "      <td>60.2</td>\n",
       "      <td>A</td>\n",
       "      <td>1.96</td>\n",
       "      <td>A</td>\n",
       "      <td>678.0</td>\n",
       "      <td>A</td>\n",
       "      <td>9.4</td>\n",
       "      <td>...</td>\n",
       "      <td>3.2</td>\n",
       "      <td>A</td>\n",
       "      <td>1110.0</td>\n",
       "      <td>P</td>\n",
       "      <td>3.8</td>\n",
       "      <td>A</td>\n",
       "      <td>3.0</td>\n",
       "      <td>A</td>\n",
       "      <td>3.4</td>\n",
       "      <td>A</td>\n",
       "    </tr>\n",
       "    <tr>\n",
       "      <th>2020-10-04 00:00:00+00:00</th>\n",
       "      <td>14.4</td>\n",
       "      <td>A</td>\n",
       "      <td>03339000</td>\n",
       "      <td>68.8</td>\n",
       "      <td>A</td>\n",
       "      <td>2.01</td>\n",
       "      <td>A</td>\n",
       "      <td>705.0</td>\n",
       "      <td>A</td>\n",
       "      <td>9.1</td>\n",
       "      <td>...</td>\n",
       "      <td>3.3</td>\n",
       "      <td>A</td>\n",
       "      <td>1030.0</td>\n",
       "      <td>P</td>\n",
       "      <td>3.0</td>\n",
       "      <td>A</td>\n",
       "      <td>2.6</td>\n",
       "      <td>A</td>\n",
       "      <td>2.8</td>\n",
       "      <td>A</td>\n",
       "    </tr>\n",
       "    <tr>\n",
       "      <th>2020-10-05 00:00:00+00:00</th>\n",
       "      <td>13.4</td>\n",
       "      <td>A</td>\n",
       "      <td>03339000</td>\n",
       "      <td>66.8</td>\n",
       "      <td>A</td>\n",
       "      <td>1.99</td>\n",
       "      <td>A</td>\n",
       "      <td>718.0</td>\n",
       "      <td>A</td>\n",
       "      <td>9.6</td>\n",
       "      <td>...</td>\n",
       "      <td>3.1</td>\n",
       "      <td>A</td>\n",
       "      <td>1080.0</td>\n",
       "      <td>P</td>\n",
       "      <td>3.4</td>\n",
       "      <td>A</td>\n",
       "      <td>2.7</td>\n",
       "      <td>A</td>\n",
       "      <td>3.0</td>\n",
       "      <td>A</td>\n",
       "    </tr>\n",
       "    <tr>\n",
       "      <th>...</th>\n",
       "      <td>...</td>\n",
       "      <td>...</td>\n",
       "      <td>...</td>\n",
       "      <td>...</td>\n",
       "      <td>...</td>\n",
       "      <td>...</td>\n",
       "      <td>...</td>\n",
       "      <td>...</td>\n",
       "      <td>...</td>\n",
       "      <td>...</td>\n",
       "      <td>...</td>\n",
       "      <td>...</td>\n",
       "      <td>...</td>\n",
       "      <td>...</td>\n",
       "      <td>...</td>\n",
       "      <td>...</td>\n",
       "      <td>...</td>\n",
       "      <td>...</td>\n",
       "      <td>...</td>\n",
       "      <td>...</td>\n",
       "      <td>...</td>\n",
       "    </tr>\n",
       "    <tr>\n",
       "      <th>2021-09-26 00:00:00+00:00</th>\n",
       "      <td>18.7</td>\n",
       "      <td>A</td>\n",
       "      <td>03339000</td>\n",
       "      <td>174.0</td>\n",
       "      <td>A</td>\n",
       "      <td>2.52</td>\n",
       "      <td>A</td>\n",
       "      <td>571.0</td>\n",
       "      <td>A</td>\n",
       "      <td>NaN</td>\n",
       "      <td>...</td>\n",
       "      <td>12.6</td>\n",
       "      <td>A</td>\n",
       "      <td>2080.0</td>\n",
       "      <td>P</td>\n",
       "      <td>2.5</td>\n",
       "      <td>A</td>\n",
       "      <td>2.1</td>\n",
       "      <td>A</td>\n",
       "      <td>2.2</td>\n",
       "      <td>A</td>\n",
       "    </tr>\n",
       "    <tr>\n",
       "      <th>2021-09-27 00:00:00+00:00</th>\n",
       "      <td>20.2</td>\n",
       "      <td>A</td>\n",
       "      <td>03339000</td>\n",
       "      <td>155.0</td>\n",
       "      <td>A</td>\n",
       "      <td>2.46</td>\n",
       "      <td>A</td>\n",
       "      <td>578.0</td>\n",
       "      <td>A</td>\n",
       "      <td>NaN</td>\n",
       "      <td>...</td>\n",
       "      <td>11.7</td>\n",
       "      <td>A</td>\n",
       "      <td>2050.0</td>\n",
       "      <td>P</td>\n",
       "      <td>2.6</td>\n",
       "      <td>A</td>\n",
       "      <td>2.2</td>\n",
       "      <td>A</td>\n",
       "      <td>2.4</td>\n",
       "      <td>A</td>\n",
       "    </tr>\n",
       "    <tr>\n",
       "      <th>2021-09-28 00:00:00+00:00</th>\n",
       "      <td>21.6</td>\n",
       "      <td>A</td>\n",
       "      <td>03339000</td>\n",
       "      <td>132.0</td>\n",
       "      <td>P</td>\n",
       "      <td>2.37</td>\n",
       "      <td>P</td>\n",
       "      <td>587.0</td>\n",
       "      <td>A</td>\n",
       "      <td>NaN</td>\n",
       "      <td>...</td>\n",
       "      <td>10.7</td>\n",
       "      <td>A</td>\n",
       "      <td>1600.0</td>\n",
       "      <td>P</td>\n",
       "      <td>2.4</td>\n",
       "      <td>A</td>\n",
       "      <td>2.1</td>\n",
       "      <td>A</td>\n",
       "      <td>2.2</td>\n",
       "      <td>A</td>\n",
       "    </tr>\n",
       "    <tr>\n",
       "      <th>2021-09-29 00:00:00+00:00</th>\n",
       "      <td>22.3</td>\n",
       "      <td>A</td>\n",
       "      <td>03339000</td>\n",
       "      <td>117.0</td>\n",
       "      <td>P</td>\n",
       "      <td>2.31</td>\n",
       "      <td>P</td>\n",
       "      <td>614.0</td>\n",
       "      <td>A</td>\n",
       "      <td>NaN</td>\n",
       "      <td>...</td>\n",
       "      <td>9.8</td>\n",
       "      <td>A</td>\n",
       "      <td>1430.0</td>\n",
       "      <td>P</td>\n",
       "      <td>2.4</td>\n",
       "      <td>A</td>\n",
       "      <td>2.2</td>\n",
       "      <td>A</td>\n",
       "      <td>2.3</td>\n",
       "      <td>A</td>\n",
       "    </tr>\n",
       "    <tr>\n",
       "      <th>2021-09-30 00:00:00+00:00</th>\n",
       "      <td>22.6</td>\n",
       "      <td>A</td>\n",
       "      <td>03339000</td>\n",
       "      <td>111.0</td>\n",
       "      <td>P</td>\n",
       "      <td>2.28</td>\n",
       "      <td>P</td>\n",
       "      <td>628.0</td>\n",
       "      <td>A</td>\n",
       "      <td>NaN</td>\n",
       "      <td>...</td>\n",
       "      <td>8.6</td>\n",
       "      <td>A</td>\n",
       "      <td>1290.0</td>\n",
       "      <td>P</td>\n",
       "      <td>2.2</td>\n",
       "      <td>A</td>\n",
       "      <td>2.1</td>\n",
       "      <td>A</td>\n",
       "      <td>2.2</td>\n",
       "      <td>A</td>\n",
       "    </tr>\n",
       "  </tbody>\n",
       "</table>\n",
       "<p>365 rows × 41 columns</p>\n",
       "</div>"
      ],
      "text/plain": [
       "                           00010_Mean 00010_Mean_cd   site_no  00060_Mean  \\\n",
       "datetime                                                                    \n",
       "2020-10-01 00:00:00+00:00        14.9             A  03339000        75.7   \n",
       "2020-10-02 00:00:00+00:00        14.5             A  03339000        66.0   \n",
       "2020-10-03 00:00:00+00:00        14.2             A  03339000        60.2   \n",
       "2020-10-04 00:00:00+00:00        14.4             A  03339000        68.8   \n",
       "2020-10-05 00:00:00+00:00        13.4             A  03339000        66.8   \n",
       "...                               ...           ...       ...         ...   \n",
       "2021-09-26 00:00:00+00:00        18.7             A  03339000       174.0   \n",
       "2021-09-27 00:00:00+00:00        20.2             A  03339000       155.0   \n",
       "2021-09-28 00:00:00+00:00        21.6             A  03339000       132.0   \n",
       "2021-09-29 00:00:00+00:00        22.3             A  03339000       117.0   \n",
       "2021-09-30 00:00:00+00:00        22.6             A  03339000       111.0   \n",
       "\n",
       "                          00060_Mean_cd  00065_Mean 00065_Mean_cd  00095_Mean  \\\n",
       "datetime                                                                        \n",
       "2020-10-01 00:00:00+00:00             A        2.04             A       672.0   \n",
       "2020-10-02 00:00:00+00:00             A        1.99             A       678.0   \n",
       "2020-10-03 00:00:00+00:00             A        1.96             A       678.0   \n",
       "2020-10-04 00:00:00+00:00             A        2.01             A       705.0   \n",
       "2020-10-05 00:00:00+00:00             A        1.99             A       718.0   \n",
       "...                                 ...         ...           ...         ...   \n",
       "2021-09-26 00:00:00+00:00             A        2.52             A       571.0   \n",
       "2021-09-27 00:00:00+00:00             A        2.46             A       578.0   \n",
       "2021-09-28 00:00:00+00:00             P        2.37             P       587.0   \n",
       "2021-09-29 00:00:00+00:00             P        2.31             P       614.0   \n",
       "2021-09-30 00:00:00+00:00             P        2.28             P       628.0   \n",
       "\n",
       "                          00095_Mean_cd  00300_Minimum  ... 63680_ysi_Mean  \\\n",
       "datetime                                                ...                  \n",
       "2020-10-01 00:00:00+00:00             A            8.9  ...            3.7   \n",
       "2020-10-02 00:00:00+00:00             A            9.2  ...            3.6   \n",
       "2020-10-03 00:00:00+00:00             A            9.4  ...            3.2   \n",
       "2020-10-04 00:00:00+00:00             A            9.1  ...            3.3   \n",
       "2020-10-05 00:00:00+00:00             A            9.6  ...            3.1   \n",
       "...                                 ...            ...  ...            ...   \n",
       "2021-09-26 00:00:00+00:00             A            NaN  ...           12.6   \n",
       "2021-09-27 00:00:00+00:00             A            NaN  ...           11.7   \n",
       "2021-09-28 00:00:00+00:00             A            NaN  ...           10.7   \n",
       "2021-09-29 00:00:00+00:00             A            NaN  ...            9.8   \n",
       "2021-09-30 00:00:00+00:00             A            NaN  ...            8.6   \n",
       "\n",
       "                           63680_ysi_Mean_cd 91049_Mean  91049_Mean_cd  \\\n",
       "datetime                                                                 \n",
       "2020-10-01 00:00:00+00:00                  A     1510.0              P   \n",
       "2020-10-02 00:00:00+00:00                  A     1450.0              P   \n",
       "2020-10-03 00:00:00+00:00                  A     1110.0              P   \n",
       "2020-10-04 00:00:00+00:00                  A     1030.0              P   \n",
       "2020-10-05 00:00:00+00:00                  A     1080.0              P   \n",
       "...                                      ...        ...            ...   \n",
       "2021-09-26 00:00:00+00:00                  A     2080.0              P   \n",
       "2021-09-27 00:00:00+00:00                  A     2050.0              P   \n",
       "2021-09-28 00:00:00+00:00                  A     1600.0              P   \n",
       "2021-09-29 00:00:00+00:00                  A     1430.0              P   \n",
       "2021-09-30 00:00:00+00:00                  A     1290.0              P   \n",
       "\n",
       "                          99133_Maximum  99133_Maximum_cd 99133_Minimum  \\\n",
       "datetime                                                                  \n",
       "2020-10-01 00:00:00+00:00           4.1                 A           3.3   \n",
       "2020-10-02 00:00:00+00:00           4.2                 A           3.8   \n",
       "2020-10-03 00:00:00+00:00           3.8                 A           3.0   \n",
       "2020-10-04 00:00:00+00:00           3.0                 A           2.6   \n",
       "2020-10-05 00:00:00+00:00           3.4                 A           2.7   \n",
       "...                                 ...               ...           ...   \n",
       "2021-09-26 00:00:00+00:00           2.5                 A           2.1   \n",
       "2021-09-27 00:00:00+00:00           2.6                 A           2.2   \n",
       "2021-09-28 00:00:00+00:00           2.4                 A           2.1   \n",
       "2021-09-29 00:00:00+00:00           2.4                 A           2.2   \n",
       "2021-09-30 00:00:00+00:00           2.2                 A           2.1   \n",
       "\n",
       "                           99133_Minimum_cd 99133_Mean  99133_Mean_cd  \n",
       "datetime                                                               \n",
       "2020-10-01 00:00:00+00:00                 A        3.7              A  \n",
       "2020-10-02 00:00:00+00:00                 A        4.1              A  \n",
       "2020-10-03 00:00:00+00:00                 A        3.4              A  \n",
       "2020-10-04 00:00:00+00:00                 A        2.8              A  \n",
       "2020-10-05 00:00:00+00:00                 A        3.0              A  \n",
       "...                                     ...        ...            ...  \n",
       "2021-09-26 00:00:00+00:00                 A        2.2              A  \n",
       "2021-09-27 00:00:00+00:00                 A        2.4              A  \n",
       "2021-09-28 00:00:00+00:00                 A        2.2              A  \n",
       "2021-09-29 00:00:00+00:00                 A        2.3              A  \n",
       "2021-09-30 00:00:00+00:00                 A        2.2              A  \n",
       "\n",
       "[365 rows x 41 columns]"
      ]
     },
     "execution_count": 3,
     "metadata": {},
     "output_type": "execute_result"
    }
   ],
   "source": [
    "# Import the functions for downloading data from NWIS\n",
    "import dataretrieval.nwis as nwis\n",
    "\n",
    "# Specify the USGS site code\n",
    "site = '03339000'\n",
    "\n",
    "# Get instantaneous values (iv)\n",
    "df = nwis.get_record(sites=site, service='dv', start='2020-10-01', end='2021-09-30')\n",
    "df"
   ]
  },
  {
   "cell_type": "code",
   "execution_count": 4,
   "id": "403bc607",
   "metadata": {
    "slideshow": {
     "slide_type": "subslide"
    }
   },
   "outputs": [
    {
     "data": {
      "text/plain": [
       "<AxesSubplot:xlabel='datetime'>"
      ]
     },
     "execution_count": 4,
     "metadata": {},
     "output_type": "execute_result"
    },
    {
     "data": {
      "image/png": "[encoded data removed]",
      "text/plain": [
       "<Figure size 432x288 with 1 Axes>"
      ]
     },
     "metadata": {
      "needs_background": "light"
     },
     "output_type": "display_data"
    }
   ],
   "source": [
    "# Simple plot\n",
    "df['00060_Mean'].plot()"
   ]
  },
  {
   "cell_type": "markdown",
   "id": "76fd0a76",
   "metadata": {
    "slideshow": {
     "slide_type": "subslide"
    }
   },
   "source": [
    "## Tips for APIs\n",
    "\n",
    "* Take a minute to make sure that package is used (e.g. lots of forks, stars) and up-to-date (e.g. last commit)\n",
    "\n",
    "\n",
    "* Read the `docs`, `demos`, `examples` and hope we find what we're looking for (sometimes they are not that comprehensive)\n",
    "\n",
    "\n",
    "* If you can't find what you're looking for, inspect the source code (`.py` files)"
   ]
  },
  {
   "cell_type": "markdown",
   "id": "82cfcbcb",
   "metadata": {
    "slideshow": {
     "slide_type": "slide"
    }
   },
   "source": [
    "## APIs are sometimes not available or have limitations"
   ]
  },
  {
   "cell_type": "markdown",
   "id": "fcc43b60",
   "metadata": {
    "slideshow": {
     "slide_type": "subslide"
    }
   },
   "source": [
    "<img src=\"images/zillow.png\" width=\"1000\"/>"
   ]
  },
  {
   "cell_type": "markdown",
   "id": "e901f5e7",
   "metadata": {
    "slideshow": {
     "slide_type": "subslide"
    }
   },
   "source": [
    "<img src=\"images/zillow2.png\" width=\"1000\"/>"
   ]
  },
  {
   "cell_type": "markdown",
   "id": "168a96f9",
   "metadata": {
    "slideshow": {
     "slide_type": "subslide"
    }
   },
   "source": [
    "<img src=\"images/airbnb.png\" width=\"1000\"/>"
   ]
  },
  {
   "cell_type": "markdown",
   "id": "28aa4bc1",
   "metadata": {
    "slideshow": {
     "slide_type": "slide"
    }
   },
   "source": [
    "* These companies hoard data to secure market dominance\n",
    "\n",
    "\n",
    "* Without access to their data it is difficult to tell whether they are in compliance\n",
    "\n",
    "\n",
    "* By guarding data, they are also preventing it being used for good (maybe bad) causes "
   ]
  },
  {
   "cell_type": "markdown",
   "id": "43c30376",
   "metadata": {
    "slideshow": {
     "slide_type": "slide"
    }
   },
   "source": [
    "<img src=\"images/cambridge.png\" width=\"1000\"/>"
   ]
  },
  {
   "cell_type": "markdown",
   "id": "cda5036a",
   "metadata": {
    "slideshow": {
     "slide_type": "notes"
    }
   },
   "source": [
    "Facebook loophole that allowed third-party apps to access not only user profile data but profile data of all friends. Kogan copied someone else's idea and made \"thisisyourdigitallife\". Only 270K used it but collected data from all friends of users (50+ million FB profiles)."
   ]
  },
  {
   "cell_type": "markdown",
   "id": "f3a52f03",
   "metadata": {
    "slideshow": {
     "slide_type": "slide"
    }
   },
   "source": [
    "## Web scraping\n",
    "\n",
    "* Also known as crawling or harvesting is the practice of **automatically** gathering data from the internet without the use of an **API**\n",
    "\n",
    "\n",
    "* Most commonly accomplished by writing a program that **queries** a web server, **requests** data (usually in the form of HTML), and **parses** that data to extract information"
   ]
  },
  {
   "cell_type": "markdown",
   "id": "1e73bfce",
   "metadata": {
    "slideshow": {
     "slide_type": "subslide"
    }
   },
   "source": [
    "<img src=\"images/scrape_hero.png\" width=\"1000\"/>"
   ]
  },
  {
   "cell_type": "markdown",
   "id": "febe8c0a",
   "metadata": {
    "slideshow": {
     "slide_type": "subslide"
    }
   },
   "source": [
    "<img src=\"images/inside_airbnb.png\" width=\"1000\"/>"
   ]
  },
  {
   "cell_type": "markdown",
   "id": "6df2f7a2",
   "metadata": {
    "slideshow": {
     "slide_type": "slide"
    }
   },
   "source": [
    "## Suppose a friend wanted to do this?\n"
   ]
  },
  {
   "cell_type": "markdown",
   "id": "6448f379",
   "metadata": {
    "slideshow": {
     "slide_type": "fragment"
    }
   },
   "source": [
    "* Some HTML basics\n",
    "\n",
    "\n",
    "* `requests`: standard Python library for requesting data from the web\n",
    "\n",
    "\n",
    "* `BeautifulSoup`: a library for pulling data out of HTML and XML files\n",
    "\n",
    "\n",
    "* `selenium`: is a library for performing **web browser automation**"
   ]
  },
  {
   "cell_type": "markdown",
   "id": "456b34ee",
   "metadata": {
    "slideshow": {
     "slide_type": "subslide"
    }
   },
   "source": [
    "<img src=\"images/html.png\" width=\"800\"/>"
   ]
  },
  {
   "cell_type": "markdown",
   "id": "c1695f1e",
   "metadata": {
    "slideshow": {
     "slide_type": "fragment"
    }
   },
   "source": [
    "<html>\n",
    "    <h1>Geospatial Data Science Applications: GEOG 4/590</h1>\n",
    "    <h3>Feb 14, 2022</h3>\n",
    "    <h2>Lecture 7: Data access</h2>\n",
    "    <img src=\"images/coding-computer-programming.jpeg\" width=\"150\"/>\n",
    "    <h3>Johnny Ryan: jryan4@uoregon.edu</h3>\n",
    "</html>"
   ]
  },
  {
   "cell_type": "markdown",
   "id": "07ea8eee",
   "metadata": {
    "slideshow": {
     "slide_type": "slide"
    }
   },
   "source": [
    "### `requests`"
   ]
  },
  {
   "cell_type": "code",
   "execution_count": 2,
   "id": "4bab7f39",
   "metadata": {
    "slideshow": {
     "slide_type": "fragment"
    }
   },
   "outputs": [],
   "source": [
    "# Import packages\n",
    "import requests "
   ]
  },
  {
   "cell_type": "code",
   "execution_count": 7,
   "id": "0e473efe",
   "metadata": {
    "slideshow": {
     "slide_type": "fragment"
    }
   },
   "outputs": [
    {
     "data": {
      "text/plain": [
       "<Response [200]>"
      ]
     },
     "execution_count": 7,
     "metadata": {},
     "output_type": "execute_result"
    }
   ],
   "source": [
    "# Open a webpage\n",
    "html = requests.get('https://en.wikipedia.org/wiki/Climate_of_Oregon')\n",
    "\n",
    "# HTML\n",
    "html"
   ]
  },
  {
   "cell_type": "markdown",
   "id": "69a823b5",
   "metadata": {
    "slideshow": {
     "slide_type": "subslide"
    }
   },
   "source": [
    "<img src=\"images/climate_wiki.png\" width=\"1000\"/>"
   ]
  },
  {
   "cell_type": "markdown",
   "id": "e8f8f911",
   "metadata": {
    "slideshow": {
     "slide_type": "subslide"
    }
   },
   "source": [
    "<img src=\"images/more_html.png\" width=\"1000\"/>"
   ]
  },
  {
   "cell_type": "markdown",
   "id": "3927ea93",
   "metadata": {
    "slideshow": {
     "slide_type": "slide"
    }
   },
   "source": [
    "## BeautifulSoup4\n",
    "\n",
    "* Now we could write a program to **parse** this HTML code (i.e. split into useful blocks)... \n",
    "\n",
    "\n",
    "* ...or we could use another package called `BeautifulSoup` (also known as `bs4`) a Python library for parsing data out of HTML and XML files\n",
    "\n",
    "<img src=\"images/bs4.jpg\" width=\"200\"/>"
   ]
  },
  {
   "cell_type": "markdown",
   "id": "aa1f76f0",
   "metadata": {
    "slideshow": {
     "slide_type": "subslide"
    }
   },
   "source": [
    "### Import packages"
   ]
  },
  {
   "cell_type": "code",
   "execution_count": 9,
   "id": "f5ba032c",
   "metadata": {
    "slideshow": {
     "slide_type": "fragment"
    }
   },
   "outputs": [],
   "source": [
    "# Import package\n",
    "from bs4 import BeautifulSoup, SoupStrainer"
   ]
  },
  {
   "cell_type": "code",
   "execution_count": 20,
   "id": "85c4967c",
   "metadata": {
    "slideshow": {
     "slide_type": "fragment"
    }
   },
   "outputs": [],
   "source": [
    "# Read HTML content as \"soup object\" and define default parser\n",
    "soup = BeautifulSoup(html.text, 'html.parser')"
   ]
  },
  {
   "cell_type": "markdown",
   "id": "bf376a8c",
   "metadata": {
    "slideshow": {
     "slide_type": "subslide"
    }
   },
   "source": [
    "### Parse HTML using \n",
    "\n",
    "The `.find` and `.find_all` are the most common methods we will use. They can be used to filter HTML code to find a list of tags or tags with specific attributes.  "
   ]
  },
  {
   "cell_type": "code",
   "execution_count": 24,
   "id": "ee77656d",
   "metadata": {
    "slideshow": {
     "slide_type": "fragment"
    }
   },
   "outputs": [
    {
     "name": "stdout",
     "output_type": "stream",
     "text": [
      "h1 -> Climate of Oregon\n",
      "h2 -> Contents\n",
      "h2 -> Precipitation[edit]\n",
      "h2 -> Temperature[edit]\n",
      "h2 -> Selected climate charts[edit]\n",
      "h2 -> See also[edit]\n",
      "h2 -> References[edit]\n",
      "h2 -> Navigation menu\n"
     ]
    }
   ],
   "source": [
    "# Define heading tags\n",
    "heading_tags = [\"h1\", \"h2\"]\n",
    "\n",
    "# Find heading tags in HTML code\n",
    "headings = soup.find_all(heading_tags)\n",
    "\n",
    "# Loop over every heading and print text\n",
    "for tags in headings:\n",
    "    print(tags.name + ' -> ' + tags.text.strip())"
   ]
  },
  {
   "cell_type": "code",
   "execution_count": 31,
   "id": "3ba9c6d8",
   "metadata": {
    "slideshow": {
     "slide_type": "subslide"
    }
   },
   "outputs": [
    {
     "name": "stdout",
     "output_type": "stream",
     "text": [
      "None\n",
      "#mw-head\n",
      "#searchInput\n",
      "/wiki/File:Oregon_K%C3%B6ppen.svg\n",
      "/wiki/File:Oregon_K%C3%B6ppen.svg\n",
      "/wiki/K%C3%B6ppen_climate_classification\n",
      "/wiki/Oregon\n",
      "/wiki/File:OR_trewartha.svg\n",
      "/wiki/File:OR_trewartha.svg\n",
      "/wiki/Trewartha_climate_classification\n",
      "/wiki/K%C3%B6ppen_climate_classification\n",
      "/wiki/Western_Oregon\n",
      "/wiki/Warm-summer_mediterranean_climate\n",
      "/wiki/Eastern_Oregon\n",
      "/wiki/Cold_semi-arid_climate\n",
      "/wiki/Cascade_Range\n",
      "/wiki/Arctic\n",
      "/wiki/Cold_waves\n",
      "#cite_note-1\n",
      "#Precipitation\n",
      "#Snow\n",
      "#Temperature\n",
      "#Selected_climate_charts\n",
      "#See_also\n",
      "#References\n",
      "#Works_cited\n",
      "/w/index.php?title=Climate_of_Oregon&action=edit&section=1\n",
      "/wiki/File:Oregon_Average_Annual_Precipitation_(1961-1990)_Map.png\n",
      "/wiki/File:Oregon_Average_Annual_Precipitation_(1961-1990)_Map.png\n",
      "/wiki/Precipitation_(meteorology)\n",
      "/wiki/Alvord_Desert\n",
      "/wiki/Rain_shadow\n",
      "/wiki/Steens_Mountain\n",
      "#cite_note-FOOTNOTEAllanBuckleyMeacham2001154–55-2\n",
      "#cite_note-WRCC-3\n",
      "/wiki/Oregon_Coast_Range\n",
      "/wiki/Condensation\n",
      "/wiki/Orographic_precipitation\n",
      "#cite_note-FOOTNOTEAllanBuckleyMeacham2001154–55-2\n",
      "/wiki/Willamette_Valley\n",
      "/wiki/Cascade_Range\n",
      "#cite_note-FOOTNOTEAllanBuckleyMeacham2001154–55-2\n",
      "/wiki/Mount_Hood\n",
      "#cite_note-FOOTNOTEAllanBuckleyMeacham2001130–31-4\n",
      "#cite_note-FOOTNOTEAllanBuckleyMeacham2001154–55-2\n",
      "/wiki/Semi-arid_climate\n",
      "/wiki/Blue_Mountains_(Pacific_Northwest)\n",
      "/wiki/Wallowa_Mountains\n",
      "#cite_note-FOOTNOTEAllanBuckleyMeacham2001154–55-2\n",
      "/wiki/Jet_stream\n",
      "#cite_note-FOOTNOTEAllanBuckleyMeacham2001156–57-5\n",
      "/w/index.php?title=Climate_of_Oregon&action=edit&section=2\n",
      "/wiki/File:Wintersports_terrain_park_P1391.jpeg\n",
      "/wiki/File:Wintersports_terrain_park_P1391.jpeg\n",
      "/wiki/Cascade_Range\n",
      "/wiki/Snowfall\n",
      "#cite_note-WRCC-3\n",
      "/wiki/Crater_Lake\n",
      "#cite_note-FOOTNOTETaylorHannan1999xii-6\n",
      "#cite_note-WRCC-3\n",
      "/wiki/Glacier\n",
      "#cite_note-WRCC-3\n",
      "/wiki/Snake_River\n",
      "#cite_note-WRCC-3\n",
      "/w/index.php?title=Climate_of_Oregon&action=edit&section=3\n",
      "/wiki/File:Oregon_High_Desert.jpg\n",
      "/wiki/File:Oregon_High_Desert.jpg\n",
      "/wiki/High_Desert_(Oregon)\n",
      "/wiki/Columbia_Gorge\n",
      "#cite_note-FOOTNOTEAllanBuckleyMeacham2001158–59-7\n",
      "#cite_note-WRCC-3\n",
      "/wiki/Hermiston,_Oregon\n",
      "/wiki/Redmond,_Oregon\n",
      "#cite_note-FOOTNOTETaylorHannan1999xii-6\n",
      "/wiki/Ukiah,_Oregon\n",
      "/wiki/Seneca,_Oregon\n",
      "#cite_note-FOOTNOTETaylorHannan1999xii-6\n",
      "/wiki/Willamette_Valley\n",
      "#cite_note-8\n",
      "/wiki/Jackson_County,_Oregon\n",
      "#cite_note-9\n",
      "/w/index.php?title=Climate_of_Oregon&action=edit&section=4\n",
      "/wiki/File:USA_Oregon_relief_location_map.svg\n",
      "/wiki/Astoria,_Oregon\n",
      "/wiki/Bend,_Oregon\n",
      "/wiki/Brookings,_Oregon\n",
      "/wiki/Burns,_Oregon\n",
      "/wiki/Eugene,_Oregon\n",
      "/wiki/Medford,_Oregon\n",
      "/wiki/Newport,_Oregon\n",
      "/wiki/Ontario,_Oregon\n",
      "/wiki/Pendleton,_Oregon\n",
      "/wiki/Portland,_Oregon\n",
      "/wiki/File:USA_Oregon_relief_location_map.svg\n",
      "/wiki/Astoria,_Oregon\n",
      "/wiki/Template:Climate_chart/How_to_read_a_climate_chart\n",
      "/wiki/Bend,_Oregon\n",
      "/wiki/Template:Climate_chart/How_to_read_a_climate_chart\n",
      "/wiki/Brookings,_Oregon\n",
      "/wiki/Template:Climate_chart/How_to_read_a_climate_chart\n",
      "/wiki/Burns,_Oregon\n",
      "/wiki/Template:Climate_chart/How_to_read_a_climate_chart\n",
      "/wiki/Eugene,_Oregon\n",
      "/wiki/Template:Climate_chart/How_to_read_a_climate_chart\n",
      "/wiki/Medford,_Oregon\n",
      "/wiki/Template:Climate_chart/How_to_read_a_climate_chart\n",
      "/wiki/Newport,_Oregon\n",
      "/wiki/Template:Climate_chart/How_to_read_a_climate_chart\n",
      "/wiki/Ontario,_Oregon\n",
      "/wiki/Template:Climate_chart/How_to_read_a_climate_chart\n",
      "/wiki/Pendleton,_Oregon\n",
      "/wiki/Template:Climate_chart/How_to_read_a_climate_chart\n",
      "/wiki/Portland,_Oregon\n",
      "/wiki/Template:Climate_chart/How_to_read_a_climate_chart\n",
      "/w/index.php?title=Climate_of_Oregon&action=edit&section=5\n",
      "/wiki/Climate_of_the_United_States\n",
      "/wiki/Climate_change_in_Oregon\n",
      "/w/index.php?title=Climate_of_Oregon&action=edit&section=6\n",
      "#cite_ref-1\n",
      "https://web.archive.org/web/20090531012223/http://www.geog.nau.edu/courses/alew/ggr346/text/chapters/ch10.html\n",
      "/wiki/Northern_Arizona_University\n",
      "http://www.geog.nau.edu/courses/alew/ggr346/text/chapters/ch10.html\n",
      "#cite_ref-FOOTNOTEAllanBuckleyMeacham2001154–55_2-0\n",
      "#cite_ref-FOOTNOTEAllanBuckleyMeacham2001154–55_2-1\n",
      "#cite_ref-FOOTNOTEAllanBuckleyMeacham2001154–55_2-2\n",
      "#cite_ref-FOOTNOTEAllanBuckleyMeacham2001154–55_2-3\n",
      "#cite_ref-FOOTNOTEAllanBuckleyMeacham2001154–55_2-4\n",
      "#CITEREFAllanBuckleyMeacham2001\n",
      "#cite_ref-WRCC_3-0\n",
      "#cite_ref-WRCC_3-1\n",
      "#cite_ref-WRCC_3-2\n",
      "#cite_ref-WRCC_3-3\n",
      "#cite_ref-WRCC_3-4\n",
      "#cite_ref-WRCC_3-5\n",
      "http://www.wrcc.dri.edu/narratives/OREGON.htm\n",
      "/wiki/Desert_Research_Institute\n",
      "#cite_ref-FOOTNOTEAllanBuckleyMeacham2001130–31_4-0\n",
      "#CITEREFAllanBuckleyMeacham2001\n",
      "#cite_ref-FOOTNOTEAllanBuckleyMeacham2001156–57_5-0\n",
      "#CITEREFAllanBuckleyMeacham2001\n",
      "#cite_ref-FOOTNOTETaylorHannan1999xii_6-0\n",
      "#cite_ref-FOOTNOTETaylorHannan1999xii_6-1\n",
      "#cite_ref-FOOTNOTETaylorHannan1999xii_6-2\n",
      "#CITEREFTaylorHannan1999\n",
      "#cite_ref-FOOTNOTEAllanBuckleyMeacham2001158–59_7-0\n",
      "#CITEREFAllanBuckleyMeacham2001\n",
      "#cite_ref-8\n",
      "https://web.archive.org/web/20100624153919/http://www.ocs.orst.edu/county_climate/Multnomah_files/Multnomah.html\n",
      "/wiki/Oregon_State_University\n",
      "http://www.ocs.orst.edu/county_climate/Multnomah_files/Multnomah.html\n",
      "/wiki/Template:Cite_web\n",
      "/wiki/Category:CS1_maint:_multiple_names:_authors_list\n",
      "#cite_ref-9\n",
      "https://web.archive.org/web/20100304143656/http://www.ocs.oregonstate.edu/county_climate/Jackson_files/Jackson.html\n",
      "/wiki/Oregon_State_University\n",
      "http://ocs.oregonstate.edu/county_climate/Jackson_files/Jackson.html\n",
      "/wiki/Template:Cite_web\n",
      "/wiki/Category:CS1_maint:_multiple_names:_authors_list\n",
      "/w/index.php?title=Climate_of_Oregon&action=edit&section=7\n",
      "/wiki/ISBN_(identifier)\n",
      "/wiki/Special:BookSources/0-87114-101-9\n",
      "/wiki/ISBN_(identifier)\n",
      "/wiki/Special:BookSources/978-0-87071-468-9\n",
      "/wiki/Template:Oregon\n",
      "/wiki/Template_talk:Oregon\n",
      "https://en.wikipedia.org/w/index.php?title=Template:Oregon&action=edit\n",
      "/wiki/U.S._state\n",
      "/wiki/Oregon\n",
      "/wiki/Salem,_Oregon\n",
      "/wiki/Lists_of_Oregon-related_topics\n",
      "/wiki/Index_of_Oregon-related_articles\n",
      "/wiki/Outline_of_Oregon\n",
      "None\n",
      "/wiki/Oregon#Geography\n",
      "/wiki/Fauna_of_Oregon\n",
      "/wiki/List_of_beaches_in_Oregon\n",
      "/wiki/List_of_lakes_of_Oregon\n",
      "/wiki/List_of_rivers_of_Oregon\n",
      "/wiki/Government_of_Oregon\n",
      "/wiki/Constitution_of_Oregon\n",
      "/wiki/United_States_congressional_delegations_from_Oregon\n",
      "/wiki/List_of_Oregon_ballot_measures\n",
      "/wiki/Elections_in_Oregon\n",
      "/wiki/Governor_of_Oregon\n",
      "/wiki/List_of_governors_of_Oregon\n",
      "/wiki/History_of_Oregon\n",
      "/wiki/Bibliography_of_Oregon_history\n",
      "/wiki/Oregon_Trail\n",
      "/wiki/List_of_Oregon_state_parks\n",
      "/wiki/List_of_people_from_Oregon\n",
      "/wiki/Oregon_pioneer_history\n",
      "/wiki/Oregon_State_Fair\n",
      "/wiki/List_of_Oregon_state_symbols\n",
      "/wiki/Culture_of_Oregon\n",
      "/wiki/Crime_in_Oregon\n",
      "/wiki/Oregon#Demographics\n",
      "/wiki/Economy_of_Oregon\n",
      "/wiki/Oregon#Education\n",
      "/wiki/Gambling_in_Oregon\n",
      "/wiki/Politics_of_Oregon\n",
      "/wiki/List_of_regions_of_Oregon\n",
      "/wiki/Western_Oregon\n",
      "/wiki/Northwest_Oregon\n",
      "/wiki/Oregon_Coast\n",
      "/wiki/Portland_metropolitan_area,_Oregon\n",
      "/wiki/Tualatin_Valley\n",
      "/wiki/Willamette_Valley\n",
      "/wiki/Eastern_Oregon\n",
      "/wiki/Harney_Basin\n",
      "/wiki/High_Desert_(Oregon)\n",
      "/wiki/Palouse\n",
      "/wiki/Treasure_Valley\n",
      "/wiki/Central_Oregon\n",
      "/wiki/Southern_Oregon\n",
      "/wiki/Rogue_Valley\n",
      "/wiki/Cascade_Range\n",
      "/wiki/Columbia_River_Gorge\n",
      "/wiki/Columbia_River\n",
      "/wiki/Columbia_Plateau\n",
      "/wiki/Great_Basin\n",
      "/wiki/Mount_Hood_Corridor\n",
      "/wiki/Trout_Creek_Mountains\n",
      "/wiki/Oregon_statistical_areas\n",
      "/wiki/Albany%E2%80%93Corvallis%E2%80%93Lebanon_combined_statistical_area\n",
      "/wiki/Bend%E2%80%93Prineville_combined_statistical_area\n",
      "/wiki/Eugene,_Oregon\n",
      "/wiki/Springfield,_Oregon\n",
      "/wiki/Medford,_Oregon\n",
      "/wiki/Ashland,_Oregon\n",
      "/wiki/Portland_metropolitan_area,_Oregon\n",
      "/wiki/Salem_Metropolitan_Statistical_Area\n",
      "/wiki/List_of_cities_in_Oregon\n",
      "/wiki/Portland,_Oregon\n",
      "/wiki/Salem,_Oregon\n",
      "/wiki/Eugene,_Oregon\n",
      "/wiki/Gresham,_Oregon\n",
      "/wiki/Hillsboro,_Oregon\n",
      "/wiki/Beaverton,_Oregon\n",
      "/wiki/Bend,_Oregon\n",
      "/wiki/Medford,_Oregon\n",
      "/wiki/Springfield,_Oregon\n",
      "/wiki/Corvallis,_Oregon\n",
      "/wiki/Albany,_Oregon\n",
      "/wiki/Tigard,_Oregon\n",
      "/wiki/Lake_Oswego,_Oregon\n",
      "/wiki/Keizer,_Oregon\n",
      "/wiki/Grants_Pass,_Oregon\n",
      "/wiki/Oregon_City,_Oregon\n",
      "/wiki/McMinnville,_Oregon\n",
      "/wiki/Redmond,_Oregon\n",
      "/wiki/Tualatin,_Oregon\n",
      "/wiki/West_Linn,_Oregon\n",
      "/wiki/Woodburn,_Oregon\n",
      "/wiki/Forest_Grove,_Oregon\n",
      "/wiki/Newberg,_Oregon\n",
      "/wiki/Wilsonville,_Oregon\n",
      "/wiki/Roseburg,_Oregon\n",
      "/wiki/Klamath_Falls,_Oregon\n",
      "/wiki/Ashland,_Oregon\n",
      "/wiki/Milwaukie,_Oregon\n",
      "/wiki/Sherwood,_Oregon\n",
      "/wiki/Happy_Valley,_Oregon\n",
      "/wiki/Central_Point,_Oregon\n",
      "/wiki/Canby,_Oregon\n",
      "/wiki/Hermiston,_Oregon\n",
      "/wiki/Pendleton,_Oregon\n",
      "/wiki/List_of_counties_in_Oregon\n",
      "/wiki/Baker_County,_Oregon\n",
      "/wiki/Benton_County,_Oregon\n",
      "/wiki/Clackamas_County,_Oregon\n",
      "/wiki/Clatsop_County,_Oregon\n",
      "/wiki/Columbia_County,_Oregon\n",
      "/wiki/Coos_County,_Oregon\n",
      "/wiki/Crook_County,_Oregon\n",
      "/wiki/Curry_County,_Oregon\n",
      "/wiki/Deschutes_County,_Oregon\n",
      "/wiki/Douglas_County,_Oregon\n",
      "/wiki/Gilliam_County,_Oregon\n",
      "/wiki/Grant_County,_Oregon\n",
      "/wiki/Harney_County,_Oregon\n",
      "/wiki/Hood_River_County,_Oregon\n",
      "/wiki/Jackson_County,_Oregon\n",
      "/wiki/Jefferson_County,_Oregon\n",
      "/wiki/Josephine_County,_Oregon\n",
      "/wiki/Klamath_County,_Oregon\n",
      "/wiki/Lake_County,_Oregon\n",
      "/wiki/Lane_County,_Oregon\n",
      "/wiki/Lincoln_County,_Oregon\n",
      "/wiki/Linn_County,_Oregon\n",
      "/wiki/Malheur_County,_Oregon\n",
      "/wiki/Marion_County,_Oregon\n",
      "/wiki/Morrow_County,_Oregon\n",
      "/wiki/Multnomah_County,_Oregon\n",
      "/wiki/Polk_County,_Oregon\n",
      "/wiki/Sherman_County,_Oregon\n",
      "/wiki/Tillamook_County,_Oregon\n",
      "/wiki/Umatilla_County,_Oregon\n",
      "/wiki/Union_County,_Oregon\n",
      "/wiki/Wallowa_County,_Oregon\n",
      "/wiki/Wasco_County,_Oregon\n",
      "/wiki/Washington_County,_Oregon\n",
      "/wiki/Wheeler_County,_Oregon\n",
      "/wiki/Yamhill_County,_Oregon\n",
      "/wiki/File:Flag_of_Oregon.svg\n",
      "/wiki/Portal:Oregon\n",
      "/wiki/File:Abies_lasiocarpa_0775.JPG\n",
      "/wiki/Portal:Pacific_Northwest\n",
      "/wiki/Template:ClimateUS\n",
      "/wiki/Template_talk:ClimateUS\n",
      "https://en.wikipedia.org/w/index.php?title=Template:ClimateUS&action=edit\n",
      "/wiki/Climate_of_the_United_States\n",
      "/wiki/Climate_of_Alabama\n",
      "/wiki/Climate_of_Alaska\n",
      "/wiki/Climate_of_Arizona\n",
      "/wiki/Climate_of_Arkansas\n",
      "/wiki/Climate_of_California\n",
      "/wiki/Climate_of_Colorado\n",
      "/wiki/Climate_of_Connecticut\n",
      "/wiki/Climate_of_Delaware\n",
      "/wiki/Climate_of_Florida\n",
      "/wiki/Climate_of_Georgia_(U.S._state)\n",
      "/wiki/Climate_of_Hawaii\n",
      "/wiki/Climate_of_Idaho\n",
      "/wiki/Climate_of_Illinois\n",
      "/wiki/Climate_of_Indiana\n",
      "/wiki/Climate_of_Iowa\n",
      "/wiki/Climate_of_Kansas\n",
      "/wiki/Climate_of_Kentucky\n",
      "/wiki/Climate_of_Louisiana\n",
      "/wiki/Climate_of_Maine\n",
      "/wiki/Climate_of_Maryland\n",
      "/wiki/Climate_of_Massachusetts\n",
      "/wiki/Climate_of_Michigan\n",
      "/wiki/Climate_of_Minnesota\n",
      "/wiki/Climate_of_Mississippi\n",
      "/wiki/Climate_of_Missouri\n",
      "/wiki/Climate_of_Montana\n",
      "/wiki/Climate_of_Nebraska\n",
      "/wiki/Climate_of_Nevada\n",
      "/wiki/Climate_of_New_Hampshire\n",
      "/wiki/Climate_of_New_Jersey\n",
      "/wiki/Climate_of_New_Mexico\n",
      "/wiki/Climate_of_New_York\n",
      "/wiki/Climate_of_North_Carolina\n",
      "/wiki/Climate_of_North_Dakota\n",
      "/wiki/Climate_of_Ohio\n",
      "/wiki/Climate_of_Oklahoma\n",
      "None\n",
      "/wiki/Climate_of_Pennsylvania\n",
      "/wiki/Climate_of_Rhode_Island\n",
      "/wiki/Climate_of_South_Carolina\n",
      "/wiki/Climate_of_South_Dakota\n",
      "/wiki/Climate_of_Tennessee\n",
      "/wiki/Climate_of_Texas\n",
      "/wiki/Climate_of_Utah\n",
      "/wiki/Climate_of_Vermont\n",
      "/wiki/Climate_of_Virginia\n",
      "/wiki/Climate_of_Washington_(state)\n",
      "/wiki/Climate_of_West_Virginia\n",
      "/wiki/Climate_of_Wisconsin\n",
      "/wiki/Climate_of_Wyoming\n",
      "/wiki/Federal_district\n",
      "/wiki/Climate_of_Washington,_D.C.\n",
      "/wiki/Insular_area\n",
      "/wiki/Climate_of_American_Samoa\n",
      "/wiki/Climate_of_Guam\n",
      "/wiki/Climate_of_the_Northern_Mariana_Islands\n",
      "/wiki/Climate_of_Puerto_Rico\n",
      "/wiki/Climate_of_the_United_States_Virgin_Islands\n",
      "/wiki/Climate_of_Allentown,_Pennsylvania\n",
      "/wiki/Climate_of_Anchorage\n",
      "/wiki/Climate_of_Beaumont,_Texas\n",
      "/wiki/Climate_of_Bismarck,_North_Dakota\n",
      "/wiki/Climate_of_Chicago\n",
      "/wiki/Climate_of_Columbus,_Ohio\n",
      "/wiki/Climate_of_Dallas\n",
      "/wiki/Climate_of_Door_County,_Wisconsin\n",
      "/wiki/Climate_of_Grand_Forks,_North_Dakota\n",
      "/wiki/Climate_of_Houston\n",
      "/wiki/Climate_of_Little_Rock,_Arkansas\n",
      "/wiki/Climate_of_Los_Angeles\n",
      "/wiki/Climate_of_New_England\n",
      "/wiki/Climate_of_Miami\n",
      "/wiki/Climate_of_Milwaukee\n",
      "/wiki/Climate_of_Minneapolis%E2%80%93Saint_Paul\n",
      "/wiki/Climate_of_New_York_City\n",
      "/wiki/Climate_of_Oklahoma_City\n",
      "/wiki/Climate_of_Salt_Lake_City\n",
      "/wiki/Climate_of_San_Diego\n",
      "/wiki/Climate_of_Seattle\n",
      "/wiki/Climate_of_the_Tampa_Bay_area\n",
      "/wiki/List_of_cities_by_sunshine_duration#North_America\n",
      "/wiki/Climate_change_in_the_United_States\n",
      "/wiki/List_of_derecho_events#North_America\n",
      "/wiki/List_of_Storm_Prediction_Center_extremely_critical_days\n",
      "/wiki/Drought_in_the_United_States\n",
      "/wiki/Lists_of_floods_in_the_United_States\n",
      "/wiki/List_of_Storm_Prediction_Center_high_risk_days\n",
      "/wiki/List_of_costly_or_deadly_hailstorms#North_America\n",
      "/wiki/List_of_United_States_hurricanes\n",
      "/wiki/List_of_major_snow_and_ice_events_in_the_United_States\n",
      "/wiki/Snow_in_Florida\n",
      "/wiki/Snow_in_Louisiana\n",
      "/wiki/List_of_snowiest_places_in_the_United_States_by_state\n",
      "/wiki/Tornadoes_in_the_United_States\n",
      "/wiki/Template:WeatherRecordsByState\n",
      "/wiki/Weather-related_fatalities_in_the_United_States\n",
      "https://en.wikipedia.org/w/index.php?title=Climate_of_Oregon&oldid=1030296200\n",
      "/wiki/Help:Category\n",
      "/wiki/Category:Climate_of_Oregon\n",
      "/wiki/Category:Climate_of_the_United_States_by_state\n",
      "/wiki/Category:CS1_maint:_multiple_names:_authors_list\n",
      "/wiki/Special:MyTalk\n",
      "/wiki/Special:MyContributions\n",
      "/w/index.php?title=Special:CreateAccount&returnto=Climate+of+Oregon\n",
      "/w/index.php?title=Special:UserLogin&returnto=Climate+of+Oregon\n",
      "/wiki/Climate_of_Oregon\n",
      "/wiki/Talk:Climate_of_Oregon\n",
      "/wiki/Climate_of_Oregon\n",
      "/w/index.php?title=Climate_of_Oregon&action=edit\n",
      "/w/index.php?title=Climate_of_Oregon&action=history\n",
      "/wiki/Main_Page\n",
      "/wiki/Main_Page\n",
      "/wiki/Wikipedia:Contents\n",
      "/wiki/Portal:Current_events\n",
      "/wiki/Special:Random\n",
      "/wiki/Wikipedia:About\n",
      "//en.wikipedia.org/wiki/Wikipedia:Contact_us\n",
      "https://donate.wikimedia.org/wiki/Special:FundraiserRedirector?utm_source=donate&utm_medium=sidebar&utm_campaign=C13_en.wikipedia.org&uselang=en\n",
      "/wiki/Help:Contents\n",
      "/wiki/Help:Introduction\n",
      "/wiki/Wikipedia:Community_portal\n",
      "/wiki/Special:RecentChanges\n",
      "/wiki/Wikipedia:File_Upload_Wizard\n",
      "/wiki/Special:WhatLinksHere/Climate_of_Oregon\n",
      "/wiki/Special:RecentChangesLinked/Climate_of_Oregon\n",
      "/wiki/Wikipedia:File_Upload_Wizard\n",
      "/wiki/Special:SpecialPages\n",
      "/w/index.php?title=Climate_of_Oregon&oldid=1030296200\n",
      "/w/index.php?title=Climate_of_Oregon&action=info\n",
      "/w/index.php?title=Special:CiteThisPage&page=Climate_of_Oregon&id=1030296200&wpFormIdentifier=titleform\n",
      "https://www.wikidata.org/wiki/Special:EntityPage/Q5133582\n",
      "/w/index.php?title=Special:DownloadAsPdf&page=Climate_of_Oregon&action=show-download-screen\n",
      "/w/index.php?title=Climate_of_Oregon&printable=yes\n",
      "https://commons.wikimedia.org/wiki/Category:Climate_of_Oregon\n",
      "https://www.wikidata.org/wiki/Special:EntityPage/Q5133582#sitelinks-wikipedia\n",
      "//en.wikipedia.org/wiki/Wikipedia:Text_of_Creative_Commons_Attribution-ShareAlike_3.0_Unported_License\n",
      "//creativecommons.org/licenses/by-sa/3.0/\n",
      "//foundation.wikimedia.org/wiki/Terms_of_Use\n",
      "//foundation.wikimedia.org/wiki/Privacy_policy\n",
      "//www.wikimediafoundation.org/\n",
      "https://foundation.wikimedia.org/wiki/Privacy_policy\n",
      "/wiki/Wikipedia:About\n",
      "/wiki/Wikipedia:General_disclaimer\n",
      "//en.wikipedia.org/wiki/Wikipedia:Contact_us\n",
      "//en.m.wikipedia.org/w/index.php?title=Climate_of_Oregon&mobileaction=toggle_view_mobile\n",
      "https://www.mediawiki.org/wiki/Special:MyLanguage/How_to_contribute\n",
      "https://stats.wikimedia.org/#/en.wikipedia.org\n",
      "https://foundation.wikimedia.org/wiki/Cookie_statement\n",
      "https://wikimediafoundation.org/\n",
      "https://www.mediawiki.org/\n"
     ]
    }
   ],
   "source": [
    "# Find every hyperlink\n",
    "links = soup.find_all('a')\n",
    "\n",
    "# Loop over every link and print hyperlink\n",
    "for link in links:\n",
    "    print(link.get('href'))"
   ]
  },
  {
   "cell_type": "code",
   "execution_count": 98,
   "id": "102642a6",
   "metadata": {
    "slideshow": {
     "slide_type": "subslide"
    }
   },
   "outputs": [
    {
     "data": {
      "text/plain": [
       "23"
      ]
     },
     "execution_count": 98,
     "metadata": {},
     "output_type": "execute_result"
    }
   ],
   "source": [
    "# Find number of images on page\n",
    "len(soup.find_all('img'))"
   ]
  },
  {
   "cell_type": "code",
   "execution_count": 104,
   "id": "e5b00709",
   "metadata": {
    "slideshow": {
     "slide_type": "fragment"
    }
   },
   "outputs": [
    {
     "name": "stdout",
     "output_type": "stream",
     "text": [
      "<img alt=\"\" class=\"thumbimage\" data-file-height=\"1359\" data-file-width=\"1260\" decoding=\"async\" height=\"270\" src=\"//upload.wikimedia.org/wikipedia/commons/thumb/c/c5/Oregon_K%C3%B6ppen.svg/250px-Oregon_K%C3%B6ppen.svg.png\" srcset=\"//upload.wikimedia.org/wikipedia/commons/thumb/c/c5/Oregon_K%C3%B6ppen.svg/375px-Oregon_K%C3%B6ppen.svg.png 1.5x, //upload.wikimedia.org/wikipedia/commons/thumb/c/c5/Oregon_K%C3%B6ppen.svg/500px-Oregon_K%C3%B6ppen.svg.png 2x\" width=\"250\"/>\n"
     ]
    }
   ],
   "source": [
    "# Print details of first image\n",
    "print(soup.find_all('img')[0])"
   ]
  },
  {
   "cell_type": "code",
   "execution_count": 103,
   "id": "9db5bf95",
   "metadata": {
    "slideshow": {
     "slide_type": "fragment"
    }
   },
   "outputs": [
    {
     "name": "stdout",
     "output_type": "stream",
     "text": [
      "//upload.wikimedia.org/wikipedia/commons/thumb/c/c5/Oregon_K%C3%B6ppen.svg/250px-Oregon_K%C3%B6ppen.svg.png\n"
     ]
    }
   ],
   "source": [
    "# Find attributes of first image\n",
    "print(soup.find_all('img')[0].attrs['src'])"
   ]
  },
  {
   "cell_type": "code",
   "execution_count": 97,
   "id": "c91d5847",
   "metadata": {
    "slideshow": {
     "slide_type": "subslide"
    }
   },
   "outputs": [],
   "source": [
    "# Download image\n",
    "url = 'https://' + soup.find_all('img')[0].attrs['src'][2:]\n",
    "response = requests.get(url)\n",
    "if response.status_code == 200:\n",
    "    with open(\"images/test_image.jpg\", 'wb') as f:\n",
    "        f.write(response.content)"
   ]
  },
  {
   "cell_type": "code",
   "execution_count": 99,
   "id": "c0b34afb",
   "metadata": {
    "slideshow": {
     "slide_type": "fragment"
    }
   },
   "outputs": [
    {
     "data": {
      "text/plain": [
       "<matplotlib.image.AxesImage at 0x1a1794d60>"
      ]
     },
     "execution_count": 99,
     "metadata": {},
     "output_type": "execute_result"
    },
    {
     "data": {
      "image/png": "[encoded data removed]",
      "text/plain": [
       "<Figure size 432x288 with 1 Axes>"
      ]
     },
     "metadata": {
      "needs_background": "light"
     },
     "output_type": "display_data"
    }
   ],
   "source": [
    "# Import packages\n",
    "import matplotlib.pyplot as plt\n",
    "import matplotlib.image as mpimg\n",
    "\n",
    "# Read image\n",
    "img = mpimg.imread('images/test_image.jpg')\n",
    "\n",
    "# Plot image\n",
    "plt.imshow(img)"
   ]
  },
  {
   "cell_type": "markdown",
   "id": "b4b5d723",
   "metadata": {
    "slideshow": {
     "slide_type": "slide"
    }
   },
   "source": [
    "## Selenium\n",
    "\n",
    "* Sometimes we want even more control...\n",
    "\n",
    "\n",
    "* Selenium is a package for performing **web browser automation**\n",
    "\n",
    "\n",
    "* We can use Selenium to enter text in search boxes, click buttons etc. \n",
    "\n",
    "<img src=\"images/selenium.png\" width=\"200\"/>"
   ]
  },
  {
   "cell_type": "code",
   "execution_count": 1,
   "id": "0b10e9f2",
   "metadata": {
    "slideshow": {
     "slide_type": "skip"
    }
   },
   "outputs": [
    {
     "name": "stdout",
     "output_type": "stream",
     "text": [
      "Requirement already satisfied: webdriver_manager in /opt/anaconda3/envs/lab7/lib/python3.10/site-packages (3.5.2)\n",
      "Requirement already satisfied: crayons in /opt/anaconda3/envs/lab7/lib/python3.10/site-packages (from webdriver_manager) (0.4.0)\n",
      "Requirement already satisfied: requests in /opt/anaconda3/envs/lab7/lib/python3.10/site-packages (from webdriver_manager) (2.27.1)\n",
      "Requirement already satisfied: configparser in /opt/anaconda3/envs/lab7/lib/python3.10/site-packages (from webdriver_manager) (5.2.0)\n",
      "Requirement already satisfied: colorama in /opt/anaconda3/envs/lab7/lib/python3.10/site-packages (from crayons->webdriver_manager) (0.4.4)\n",
      "Requirement already satisfied: certifi>=2017.4.17 in /opt/anaconda3/envs/lab7/lib/python3.10/site-packages (from requests->webdriver_manager) (2021.10.8)\n",
      "Requirement already satisfied: charset-normalizer~=2.0.0 in /opt/anaconda3/envs/lab7/lib/python3.10/site-packages (from requests->webdriver_manager) (2.0.11)\n",
      "Requirement already satisfied: idna<4,>=2.5 in /opt/anaconda3/envs/lab7/lib/python3.10/site-packages (from requests->webdriver_manager) (3.3)\n",
      "Requirement already satisfied: urllib3<1.27,>=1.21.1 in /opt/anaconda3/envs/lab7/lib/python3.10/site-packages (from requests->webdriver_manager) (1.26.8)\n"
     ]
    }
   ],
   "source": [
    "# Install webdriver_manager: https://github.com/SergeyPirogov/webdriver_manager\n",
    "!pip3 install webdriver_manager"
   ]
  },
  {
   "cell_type": "code",
   "execution_count": 2,
   "id": "9fcf7512",
   "metadata": {
    "slideshow": {
     "slide_type": "subslide"
    }
   },
   "outputs": [],
   "source": [
    "# Import packages\n",
    "from selenium import webdriver\n",
    "from selenium.webdriver.chrome.service import Service\n",
    "from selenium.webdriver.common.by import By\n",
    "from webdriver_manager.chrome import ChromeDriverManager"
   ]
  },
  {
   "cell_type": "code",
   "execution_count": 3,
   "id": "8cf1d5dd",
   "metadata": {
    "slideshow": {
     "slide_type": "subslide"
    }
   },
   "outputs": [
    {
     "name": "stderr",
     "output_type": "stream",
     "text": [
      "\n",
      "\n",
      "====== WebDriver manager ======\n",
      "Current google-chrome version is 97.0.4692\n",
      "Get LATEST chromedriver version for 97.0.4692 google-chrome\n",
      "Driver [/Users/jryan4/.wdm/drivers/chromedriver/mac64/97.0.4692.71/chromedriver] found in cache\n"
     ]
    }
   ],
   "source": [
    "# Install Chrome webdriver\n",
    "driver = webdriver.Chrome(service=Service(ChromeDriverManager().install()))\n",
    "\n",
    "# Open a web browser at the following page\n",
    "driver.get(\"https://www.google.com/maps\")"
   ]
  },
  {
   "cell_type": "markdown",
   "id": "8e2cf8d4",
   "metadata": {
    "slideshow": {
     "slide_type": "subslide"
    }
   },
   "source": [
    "<img src=\"images/google_maps.png\" width=\"1000\"/>"
   ]
  },
  {
   "cell_type": "markdown",
   "id": "d804d956",
   "metadata": {
    "slideshow": {
     "slide_type": "subslide"
    }
   },
   "source": [
    "<img src=\"images/inspect.png\" width=\"1000\"/>"
   ]
  },
  {
   "cell_type": "code",
   "execution_count": 4,
   "id": "2bf0ced3",
   "metadata": {
    "slideshow": {
     "slide_type": "subslide"
    }
   },
   "outputs": [],
   "source": [
    "# Enter some text in the search box\n",
    "inputElement = driver.find_element(By.ID, \"searchboxinput\")\n",
    "inputElement.send_keys('South Sister Oregon')"
   ]
  },
  {
   "cell_type": "markdown",
   "id": "89ce62cd",
   "metadata": {
    "slideshow": {
     "slide_type": "subslide"
    }
   },
   "source": [
    "<img src=\"images/enter_text.png\" width=\"1000\"/>"
   ]
  },
  {
   "cell_type": "code",
   "execution_count": 5,
   "id": "3092fad8",
   "metadata": {
    "slideshow": {
     "slide_type": "subslide"
    }
   },
   "outputs": [],
   "source": [
    "# Click search button\n",
    "element = driver.find_element(By.ID, \"searchbox-searchbutton\")\n",
    "element.click()"
   ]
  },
  {
   "cell_type": "markdown",
   "id": "b28c9438",
   "metadata": {
    "slideshow": {
     "slide_type": "subslide"
    }
   },
   "source": [
    "<img src=\"images/search.png\" width=\"1000\"/>"
   ]
  }
 ],
 "metadata": {
  "celltoolbar": "Slideshow",
  "kernelspec": {
   "display_name": "Python 3 (ipykernel)",
   "language": "python",
   "name": "python3"
  },
  "language_info": {
   "codemirror_mode": {
    "name": "ipython",
    "version": 3
   },
   "file_extension": ".py",
   "mimetype": "text/x-python",
   "name": "python",
   "nbconvert_exporter": "python",
   "pygments_lexer": "ipython3",
   "version": "3.8.12"
  }
 },
 "nbformat": 4,
 "nbformat_minor": 5
}
